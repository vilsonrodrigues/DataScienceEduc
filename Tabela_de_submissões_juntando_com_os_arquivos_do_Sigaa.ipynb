{
  "nbformat": 4,
  "nbformat_minor": 0,
  "metadata": {
    "colab": {
      "name": "Tabela de submissões juntando com os arquivos do Sigaa",
      "provenance": [],
      "collapsed_sections": [
        "ZVm7jSfqTM93",
        "DHbgDw_gSs4z",
        "26XC7FfodEqC",
        "Nkw-DF5Hhw0l",
        "gxP2KGAudJNN",
        "mrfXiXBRyZ6z",
        "0ulQI_4H12t2",
        "Hv3C8bi4KGNm",
        "KXIc-ujTFkjI",
        "bnO9gLVoISAG",
        "TaJJrtUbwSZU",
        "UAcc6x_B1GyA",
        "unwOVywT-Qg_",
        "78eXhkQoC0ER",
        "yzgJoe10h8YH"
      ],
      "include_colab_link": true
    },
    "kernelspec": {
      "name": "python3",
      "display_name": "Python 3"
    }
  },
  "cells": [
    {
      "cell_type": "markdown",
      "metadata": {
        "id": "view-in-github",
        "colab_type": "text"
      },
      "source": [
        "<a href=\"https://colab.research.google.com/github/vilsonrodrigues/DataScienceEduc/blob/master/Tabela_de_submiss%C3%B5es_juntando_com_os_arquivos_do_Sigaa.ipynb\" target=\"_parent\"><img src=\"https://colab.research.google.com/assets/colab-badge.svg\" alt=\"Open In Colab\"/></a>"
      ]
    },
    {
      "cell_type": "markdown",
      "metadata": {
        "id": "1_wZMHcNbN-t",
        "colab_type": "text"
      },
      "source": [
        "Total de submissões com ruídos: 37758\n",
        "Total de submissões com os dados limpos: 36702\n",
        "\n",
        "Critério de exclusão: se a próxima submissão tiver um intervalo de tempo de 3s de diferença da anterior\n",
        "\n",
        "Ano turma != ano sigaa então exclua"
      ]
    },
    {
      "cell_type": "markdown",
      "metadata": {
        "id": "MmPf00-u6hkA",
        "colab_type": "text"
      },
      "source": [
        "# Modelagem de dados"
      ]
    },
    {
      "cell_type": "code",
      "metadata": {
        "id": "KKn0_m9Xx6d8",
        "colab_type": "code",
        "colab": {}
      },
      "source": [
        "import matplotlib.pyplot as plt\n",
        "import seaborn as sns\n",
        "import numpy as np\n",
        "import pandas as pd\n",
        "import datetime as dt"
      ],
      "execution_count": 0,
      "outputs": []
    },
    {
      "cell_type": "markdown",
      "metadata": {
        "id": "Yd-u9NlCdDXc",
        "colab_type": "text"
      },
      "source": [
        "Lendo CSV's"
      ]
    },
    {
      "cell_type": "code",
      "metadata": {
        "id": "pjTQ7waEcJBu",
        "colab_type": "code",
        "outputId": "077bc8ed-11df-421b-8cc7-4e264cc5babe",
        "colab": {
          "base_uri": "https://localhost:8080/",
          "height": 195
        }
      },
      "source": [
        "sub = pd.read_csv(\"https://raw.githubusercontent.com/repitta/CienciaDeDadosEducacionais/master/arquivosCSV/lop_db_2019_09_csv_tratados/lopSubLista%20(1).csv\")\n",
        "sub = sub.iloc[:,[1,2,4,6]]\n",
        "sub.head()"
      ],
      "execution_count": 2,
      "outputs": [
        {
          "output_type": "execute_result",
          "data": {
            "text/html": [
              "<div>\n",
              "<style scoped>\n",
              "    .dataframe tbody tr th:only-of-type {\n",
              "        vertical-align: middle;\n",
              "    }\n",
              "\n",
              "    .dataframe tbody tr th {\n",
              "        vertical-align: top;\n",
              "    }\n",
              "\n",
              "    .dataframe thead th {\n",
              "        text-align: right;\n",
              "    }\n",
              "</style>\n",
              "<table border=\"1\" class=\"dataframe\">\n",
              "  <thead>\n",
              "    <tr style=\"text-align: right;\">\n",
              "      <th></th>\n",
              "      <th>data</th>\n",
              "      <th>idAluno</th>\n",
              "      <th>porcentagemAcerto</th>\n",
              "      <th>questao</th>\n",
              "    </tr>\n",
              "  </thead>\n",
              "  <tbody>\n",
              "    <tr>\n",
              "      <th>0</th>\n",
              "      <td>2017-08-14 07:56:26.083</td>\n",
              "      <td>598cd5453bc48946977dcf66</td>\n",
              "      <td>50.0</td>\n",
              "      <td>59887c83684f4a3f78163c02</td>\n",
              "    </tr>\n",
              "    <tr>\n",
              "      <th>1</th>\n",
              "      <td>2017-08-14 11:47:22.534</td>\n",
              "      <td>598cd5453bc48946977dcf66</td>\n",
              "      <td>100.0</td>\n",
              "      <td>59888ea5d2f43b3f548ef057</td>\n",
              "    </tr>\n",
              "    <tr>\n",
              "      <th>2</th>\n",
              "      <td>2017-08-16 18:02:39.088</td>\n",
              "      <td>598cd5453bc48946977dcf66</td>\n",
              "      <td>100.0</td>\n",
              "      <td>5994485a487ae0183f7dbffa</td>\n",
              "    </tr>\n",
              "    <tr>\n",
              "      <th>3</th>\n",
              "      <td>2017-08-16 18:11:55.199</td>\n",
              "      <td>598cd5453bc48946977dcf66</td>\n",
              "      <td>100.0</td>\n",
              "      <td>5994498d0875c31866aa6922</td>\n",
              "    </tr>\n",
              "    <tr>\n",
              "      <th>4</th>\n",
              "      <td>2017-08-16 18:36:53.398</td>\n",
              "      <td>598cd5453bc48946977dcf66</td>\n",
              "      <td>100.0</td>\n",
              "      <td>5994434aa76e28186bdf5672</td>\n",
              "    </tr>\n",
              "  </tbody>\n",
              "</table>\n",
              "</div>"
            ],
            "text/plain": [
              "                      data  ...                   questao\n",
              "0  2017-08-14 07:56:26.083  ...  59887c83684f4a3f78163c02\n",
              "1  2017-08-14 11:47:22.534  ...  59888ea5d2f43b3f548ef057\n",
              "2  2017-08-16 18:02:39.088  ...  5994485a487ae0183f7dbffa\n",
              "3  2017-08-16 18:11:55.199  ...  5994498d0875c31866aa6922\n",
              "4  2017-08-16 18:36:53.398  ...  5994434aa76e28186bdf5672\n",
              "\n",
              "[5 rows x 4 columns]"
            ]
          },
          "metadata": {
            "tags": []
          },
          "execution_count": 2
        }
      ]
    },
    {
      "cell_type": "code",
      "metadata": {
        "id": "I5hdsHiHdPae",
        "colab_type": "code",
        "outputId": "174e883c-af41-4132-81da-07b4e9417686",
        "colab": {
          "base_uri": "https://localhost:8080/",
          "height": 168
        }
      },
      "source": [
        "sub.info()"
      ],
      "execution_count": 3,
      "outputs": [
        {
          "output_type": "stream",
          "text": [
            "<class 'pandas.core.frame.DataFrame'>\n",
            "RangeIndex: 47639 entries, 0 to 47638\n",
            "Data columns (total 4 columns):\n",
            "data                 47639 non-null object\n",
            "idAluno              47639 non-null object\n",
            "porcentagemAcerto    47639 non-null float64\n",
            "questao              47639 non-null object\n",
            "dtypes: float64(1), object(3)\n",
            "memory usage: 1.5+ MB\n"
          ],
          "name": "stdout"
        }
      ]
    },
    {
      "cell_type": "markdown",
      "metadata": {
        "id": "Z56gW60SOnCT",
        "colab_type": "text"
      },
      "source": [
        "Passando as datas para datetime"
      ]
    },
    {
      "cell_type": "code",
      "metadata": {
        "id": "F5RqMbc4hPov",
        "colab_type": "code",
        "outputId": "2f5e34be-222d-4a0c-b3ed-a38d02cb5491",
        "colab": {
          "base_uri": "https://localhost:8080/",
          "height": 118
        }
      },
      "source": [
        "sub[\"data\"] = pd.to_datetime(sub[\"data\"])\n",
        "sub[\"data\"] = sub[\"data\"].dt.tz_localize(None)\n",
        "#sub[\"dia\"] = sub[\"data\"].dt.day\n",
        "sub[\"data\"].head()"
      ],
      "execution_count": 4,
      "outputs": [
        {
          "output_type": "execute_result",
          "data": {
            "text/plain": [
              "0   2017-08-14 07:56:26.083\n",
              "1   2017-08-14 11:47:22.534\n",
              "2   2017-08-16 18:02:39.088\n",
              "3   2017-08-16 18:11:55.199\n",
              "4   2017-08-16 18:36:53.398\n",
              "Name: data, dtype: datetime64[ns]"
            ]
          },
          "metadata": {
            "tags": []
          },
          "execution_count": 4
        }
      ]
    },
    {
      "cell_type": "code",
      "metadata": {
        "id": "Lxk-KOo4bmwq",
        "colab_type": "code",
        "outputId": "cb1f9556-2e2e-4486-da9c-45b43eee8fec",
        "colab": {
          "base_uri": "https://localhost:8080/",
          "height": 106
        }
      },
      "source": [
        "turmas = pd.read_csv(\"https://raw.githubusercontent.com/repitta/CienciaDeDadosEducacionais/master/arquivosCSV/lop_db_2019_09_csv_tratados/lopUsuarioTurma%20(1).csv\")\n",
        "turmas.head(2)"
      ],
      "execution_count": 5,
      "outputs": [
        {
          "output_type": "execute_result",
          "data": {
            "text/html": [
              "<div>\n",
              "<style scoped>\n",
              "    .dataframe tbody tr th:only-of-type {\n",
              "        vertical-align: middle;\n",
              "    }\n",
              "\n",
              "    .dataframe tbody tr th {\n",
              "        vertical-align: top;\n",
              "    }\n",
              "\n",
              "    .dataframe thead th {\n",
              "        text-align: right;\n",
              "    }\n",
              "</style>\n",
              "<table border=\"1\" class=\"dataframe\">\n",
              "  <thead>\n",
              "    <tr style=\"text-align: right;\">\n",
              "      <th></th>\n",
              "      <th>Unnamed: 0</th>\n",
              "      <th>idTurma</th>\n",
              "      <th>ano</th>\n",
              "      <th>descricaoTurma</th>\n",
              "      <th>matricula</th>\n",
              "      <th>idAluno</th>\n",
              "      <th>nome</th>\n",
              "    </tr>\n",
              "  </thead>\n",
              "  <tbody>\n",
              "    <tr>\n",
              "      <th>0</th>\n",
              "      <td>0</td>\n",
              "      <td>598e15296d8650eb27d52e3d</td>\n",
              "      <td>2017.2</td>\n",
              "      <td>LÓGICA DE PROGRAMAÇÃO - Turma 01A</td>\n",
              "      <td>20170106538</td>\n",
              "      <td>599b051d495fac076a06d3f5</td>\n",
              "      <td>Aleff Ramon da Silva Costa</td>\n",
              "    </tr>\n",
              "    <tr>\n",
              "      <th>1</th>\n",
              "      <td>1</td>\n",
              "      <td>598e15296d8650eb27d52e3d</td>\n",
              "      <td>2017.2</td>\n",
              "      <td>LÓGICA DE PROGRAMAÇÃO - Turma 01A</td>\n",
              "      <td>20170039453</td>\n",
              "      <td>5991cb910be9d42f2f68b906</td>\n",
              "      <td>Amanda</td>\n",
              "    </tr>\n",
              "  </tbody>\n",
              "</table>\n",
              "</div>"
            ],
            "text/plain": [
              "   Unnamed: 0  ...                        nome\n",
              "0           0  ...  Aleff Ramon da Silva Costa\n",
              "1           1  ...                      Amanda\n",
              "\n",
              "[2 rows x 7 columns]"
            ]
          },
          "metadata": {
            "tags": []
          },
          "execution_count": 5
        }
      ]
    },
    {
      "cell_type": "code",
      "metadata": {
        "id": "6Q8y7CMMyVPd",
        "colab_type": "code",
        "outputId": "882b42d1-84d8-48f3-fa25-0225ccaa4933",
        "colab": {
          "base_uri": "https://localhost:8080/",
          "height": 106
        }
      },
      "source": [
        "turmas = turmas.iloc[:,1:]\n",
        "turmas.rename(columns={\"ano\":\"anoTurma\"},inplace=True)\n",
        "turmas.head(2)"
      ],
      "execution_count": 6,
      "outputs": [
        {
          "output_type": "execute_result",
          "data": {
            "text/html": [
              "<div>\n",
              "<style scoped>\n",
              "    .dataframe tbody tr th:only-of-type {\n",
              "        vertical-align: middle;\n",
              "    }\n",
              "\n",
              "    .dataframe tbody tr th {\n",
              "        vertical-align: top;\n",
              "    }\n",
              "\n",
              "    .dataframe thead th {\n",
              "        text-align: right;\n",
              "    }\n",
              "</style>\n",
              "<table border=\"1\" class=\"dataframe\">\n",
              "  <thead>\n",
              "    <tr style=\"text-align: right;\">\n",
              "      <th></th>\n",
              "      <th>idTurma</th>\n",
              "      <th>anoTurma</th>\n",
              "      <th>descricaoTurma</th>\n",
              "      <th>matricula</th>\n",
              "      <th>idAluno</th>\n",
              "      <th>nome</th>\n",
              "    </tr>\n",
              "  </thead>\n",
              "  <tbody>\n",
              "    <tr>\n",
              "      <th>0</th>\n",
              "      <td>598e15296d8650eb27d52e3d</td>\n",
              "      <td>2017.2</td>\n",
              "      <td>LÓGICA DE PROGRAMAÇÃO - Turma 01A</td>\n",
              "      <td>20170106538</td>\n",
              "      <td>599b051d495fac076a06d3f5</td>\n",
              "      <td>Aleff Ramon da Silva Costa</td>\n",
              "    </tr>\n",
              "    <tr>\n",
              "      <th>1</th>\n",
              "      <td>598e15296d8650eb27d52e3d</td>\n",
              "      <td>2017.2</td>\n",
              "      <td>LÓGICA DE PROGRAMAÇÃO - Turma 01A</td>\n",
              "      <td>20170039453</td>\n",
              "      <td>5991cb910be9d42f2f68b906</td>\n",
              "      <td>Amanda</td>\n",
              "    </tr>\n",
              "  </tbody>\n",
              "</table>\n",
              "</div>"
            ],
            "text/plain": [
              "                    idTurma  ...                        nome\n",
              "0  598e15296d8650eb27d52e3d  ...  Aleff Ramon da Silva Costa\n",
              "1  598e15296d8650eb27d52e3d  ...                      Amanda\n",
              "\n",
              "[2 rows x 6 columns]"
            ]
          },
          "metadata": {
            "tags": []
          },
          "execution_count": 6
        }
      ]
    },
    {
      "cell_type": "markdown",
      "metadata": {
        "id": "0DvzfIZ38H6U",
        "colab_type": "text"
      },
      "source": [
        "Dias de início de cada semestre em datetime. Entre 2017.2 e 2019.2"
      ]
    },
    {
      "cell_type": "code",
      "metadata": {
        "id": "wli9lN6V-dDk",
        "colab_type": "code",
        "colab": {}
      },
      "source": [
        "d1 = pd.to_datetime(\"2017/07/24\")\n",
        "d2 = pd.to_datetime(\"2018/02/19\")\n",
        "d3 = pd.to_datetime(\"2018/07/30\")\n",
        "d4 = pd.to_datetime(\"2019/02/11\")\n",
        "d5 = pd.to_datetime(\"2019/07/22\")"
      ],
      "execution_count": 0,
      "outputs": []
    },
    {
      "cell_type": "markdown",
      "metadata": {
        "id": "YZWxVvkZ1OUw",
        "colab_type": "text"
      },
      "source": [
        "Essa função cria as colunas de semanas, conta a quantidade de submissões por semana, substitui os nan por 0 e por fim junta as tabelas"
      ]
    },
    {
      "cell_type": "code",
      "metadata": {
        "id": "PzimpWO0iSeP",
        "colab_type": "code",
        "colab": {}
      },
      "source": [
        "def trata(sub,table,turmas,d):\n",
        "  t = pd.Timedelta(\"7 days\")\n",
        "  table = pd.DataFrame(columns=[\"idAluno\",\"anoSubmissao\"])\n",
        "  table = criaColunaSemanas(table)\n",
        "  table = buscaSubmissoesEntreSemanas(sub,d,t,table)\n",
        "  table = somaConcatena(turmas, table) \n",
        "  return table  "
      ],
      "execution_count": 0,
      "outputs": []
    },
    {
      "cell_type": "markdown",
      "metadata": {
        "id": "BcEUWldVgeY1",
        "colab_type": "text"
      },
      "source": [
        "Função que cria as colunas das semanas"
      ]
    },
    {
      "cell_type": "code",
      "metadata": {
        "id": "WX67Grm2dtEt",
        "colab_type": "code",
        "colab": {}
      },
      "source": [
        "def criaColunaSemanas(table):\n",
        "  for i in range(1,22):\n",
        "    table[\"semana \"+str(i)] = 0\n",
        "  return table"
      ],
      "execution_count": 0,
      "outputs": []
    },
    {
      "cell_type": "markdown",
      "metadata": {
        "id": "Q37gevYngiYE",
        "colab_type": "text"
      },
      "source": [
        "Busca as submissões entre as semanas"
      ]
    },
    {
      "cell_type": "code",
      "metadata": {
        "id": "nmBk4ifLeIui",
        "colab_type": "code",
        "colab": {}
      },
      "source": [
        "def buscaSubmissoesEntreSemanas(sub,d,t,table):\n",
        "    for i in range(1,22):\n",
        "      a = sub.loc[(sub[\"data\"] >= d) & (sub[\"data\"] < (d+t)),:]  \n",
        "      b = a.groupby([\"idAluno\"])[\"questao\"].count().reset_index().sort_values(by=\"idAluno\")\n",
        "      b.rename(columns={\"questao\":\"semana \"+str(i)},inplace=True)\n",
        "      table = table.append(b,sort=False,ignore_index=True)\n",
        "      d+=t\n",
        "    return table"
      ],
      "execution_count": 0,
      "outputs": []
    },
    {
      "cell_type": "markdown",
      "metadata": {
        "id": "3Xa7_P1ehFBF",
        "colab_type": "text"
      },
      "source": [
        "Função para deixar as submissões dos alunos em uma só linha e depois dar merge com o Outer Join, ou seja, mesmo que não tenham ligação, ele vai concatenar "
      ]
    },
    {
      "cell_type": "code",
      "metadata": {
        "id": "BWXmhBGshEgh",
        "colab_type": "code",
        "colab": {}
      },
      "source": [
        "def somaConcatena(turmas,table):  \n",
        "  turmas.replace(np.nan, 0, inplace=True)       \n",
        "  table.replace(np.nan, 0, inplace=True)   \n",
        "  table = table.groupby([\"idAluno\"]).sum()\n",
        "  table = pd.merge(table,turmas,on=\"idAluno\",how=\"outer\")\n",
        "  return table"
      ],
      "execution_count": 0,
      "outputs": []
    },
    {
      "cell_type": "markdown",
      "metadata": {
        "id": "vqs8G-z91hQ9",
        "colab_type": "text"
      },
      "source": [
        "Criação de DataFrames provisórios para cada semestre"
      ]
    },
    {
      "cell_type": "code",
      "metadata": {
        "id": "jwFDqHb42ShH",
        "colab_type": "code",
        "colab": {}
      },
      "source": [
        "prov1 = pd.DataFrame()\n",
        "prov2 = pd.DataFrame()\n",
        "prov3 = pd.DataFrame()\n",
        "prov4 = pd.DataFrame()\n",
        "prov5 = pd.DataFrame()"
      ],
      "execution_count": 0,
      "outputs": []
    },
    {
      "cell_type": "markdown",
      "metadata": {
        "id": "jIZelmwX1q_D",
        "colab_type": "text"
      },
      "source": [
        "Chamada da função trata"
      ]
    },
    {
      "cell_type": "code",
      "metadata": {
        "id": "haVxOQAE2P6F",
        "colab_type": "code",
        "colab": {}
      },
      "source": [
        "prov1 = trata(sub,prov1,turmas,d1)\n",
        "prov2 = trata(sub,prov2,turmas,d2)\n",
        "prov3 = trata(sub,prov3,turmas,d3)\n",
        "prov4 = trata(sub,prov4,turmas,d4)\n",
        "prov5 = trata(sub,prov5,turmas,d5)"
      ],
      "execution_count": 0,
      "outputs": []
    },
    {
      "cell_type": "markdown",
      "metadata": {
        "id": "CbrUvs1o1txH",
        "colab_type": "text"
      },
      "source": [
        "Inserindo os semestres de cada DataFrame correspondente"
      ]
    },
    {
      "cell_type": "code",
      "metadata": {
        "id": "QeFdMFOP0U87",
        "colab_type": "code",
        "outputId": "e48cd720-d08b-4820-9376-a3e4a1e1e7d5",
        "colab": {
          "base_uri": "https://localhost:8080/",
          "height": 134
        }
      },
      "source": [
        "prov1.columns"
      ],
      "execution_count": 14,
      "outputs": [
        {
          "output_type": "execute_result",
          "data": {
            "text/plain": [
              "Index(['idAluno', 'anoSubmissao', 'semana 1', 'semana 2', 'semana 3',\n",
              "       'semana 4', 'semana 5', 'semana 6', 'semana 7', 'semana 8', 'semana 9',\n",
              "       'semana 10', 'semana 11', 'semana 12', 'semana 13', 'semana 14',\n",
              "       'semana 15', 'semana 16', 'semana 17', 'semana 18', 'semana 19',\n",
              "       'semana 20', 'semana 21', 'idTurma', 'anoTurma', 'descricaoTurma',\n",
              "       'matricula', 'nome'],\n",
              "      dtype='object')"
            ]
          },
          "metadata": {
            "tags": []
          },
          "execution_count": 14
        }
      ]
    },
    {
      "cell_type": "code",
      "metadata": {
        "id": "yXghIMNj3sMK",
        "colab_type": "code",
        "colab": {}
      },
      "source": [
        "prov1[\"anoSubmissao\"] = \"2017.2\"\n",
        "prov2[\"anoSubmissao\"] = \"2018.1\"\n",
        "prov3[\"anoSubmissao\"] = \"2018.2\"\n",
        "prov4[\"anoSubmissao\"] = \"2019.1\"\n",
        "prov5[\"anoSubmissao\"] = \"2019.2\""
      ],
      "execution_count": 0,
      "outputs": []
    },
    {
      "cell_type": "code",
      "metadata": {
        "id": "pexfkmtCoysA",
        "colab_type": "code",
        "colab": {}
      },
      "source": [
        "def imprimaTamanho(tabela1,tabela2,tabela3,tabela4,tabela5):\n",
        "  classes = [tabela1,tabela2,tabela3,tabela4,tabela5]\n",
        "  for i in range(5):\n",
        "    print(\"A quantidade de alunos é \" + str(len(classes[i])) + \" alunos\")"
      ],
      "execution_count": 0,
      "outputs": []
    },
    {
      "cell_type": "markdown",
      "metadata": {
        "id": "5zs5byctpWbQ",
        "colab_type": "text"
      },
      "source": [
        "Imprimindo o tamanho de cada DF"
      ]
    },
    {
      "cell_type": "code",
      "metadata": {
        "id": "XNCBp6B5pNy0",
        "colab_type": "code",
        "outputId": "0f376c81-afe1-467c-b23c-a9a388e834d7",
        "colab": {
          "base_uri": "https://localhost:8080/",
          "height": 101
        }
      },
      "source": [
        "imprimaTamanho(prov1,prov2,prov3,prov4,prov5)"
      ],
      "execution_count": 17,
      "outputs": [
        {
          "output_type": "stream",
          "text": [
            "A quantidade de alunos é 1678 alunos\n",
            "A quantidade de alunos é 1678 alunos\n",
            "A quantidade de alunos é 1678 alunos\n",
            "A quantidade de alunos é 1678 alunos\n",
            "A quantidade de alunos é 1679 alunos\n"
          ],
          "name": "stdout"
        }
      ]
    },
    {
      "cell_type": "markdown",
      "metadata": {
        "id": "7-XYundbJ6wg",
        "colab_type": "text"
      },
      "source": [
        "# Juntando com os 4 arquivos do Sigaa"
      ]
    },
    {
      "cell_type": "code",
      "metadata": {
        "id": "Xz69b2MvJ_lP",
        "colab_type": "code",
        "colab": {}
      },
      "source": [
        "arq1 = pd.read_csv(\"https://raw.githubusercontent.com/repitta/CienciaDeDadosEducacionais/master/arquivosCSV/lopSituacao2017.2.csv\")\n",
        "arq2 = pd.read_csv(\"https://raw.githubusercontent.com/repitta/CienciaDeDadosEducacionais/master/arquivosCSV/lopSituacao2018.1.csv\")\n",
        "arq3 = pd.read_csv(\"https://raw.githubusercontent.com/repitta/CienciaDeDadosEducacionais/master/arquivosCSV/lopSituacao2018.2.csv\")\n",
        "arq4 = pd.read_csv(\"https://raw.githubusercontent.com/repitta/CienciaDeDadosEducacionais/master/arquivosCSV/lopSituacao2019.1.csv\")\n",
        "arq5 = pd.read_csv(\"https://raw.githubusercontent.com/repitta/CienciaDeDadosEducacionais/master/arquivosCSV/lopSituacao2019.2.csv\")"
      ],
      "execution_count": 0,
      "outputs": []
    },
    {
      "cell_type": "markdown",
      "metadata": {
        "id": "KO14LJu0mVyQ",
        "colab_type": "text"
      },
      "source": [
        "Função que substitui NaN por 0"
      ]
    },
    {
      "cell_type": "code",
      "metadata": {
        "id": "Bb7qHMObSrHC",
        "colab_type": "code",
        "colab": {}
      },
      "source": [
        "def nanPorZero(table):\n",
        "  table.replace(np.nan, 0, inplace=True)\n",
        "  return table"
      ],
      "execution_count": 0,
      "outputs": []
    },
    {
      "cell_type": "code",
      "metadata": {
        "id": "6RbI_esroREV",
        "colab_type": "code",
        "colab": {}
      },
      "source": [
        "prov1 = nanPorZero(prov1)\n",
        "prov2 = nanPorZero(prov2)\n",
        "prov3 = nanPorZero(prov3)\n",
        "prov4 = nanPorZero(prov4)\n",
        "prov5 = nanPorZero(prov5)"
      ],
      "execution_count": 0,
      "outputs": []
    },
    {
      "cell_type": "code",
      "metadata": {
        "id": "UXA-xg_dqqWX",
        "colab_type": "code",
        "colab": {}
      },
      "source": [
        "arq1 = nanPorZero(arq1)\n",
        "arq2 = nanPorZero(arq2)\n",
        "arq3 = nanPorZero(arq3)\n",
        "arq4 = nanPorZero(arq4)\n",
        "arq5 = nanPorZero(arq5)"
      ],
      "execution_count": 0,
      "outputs": []
    },
    {
      "cell_type": "code",
      "metadata": {
        "id": "isRi0-Z8V5BI",
        "colab_type": "code",
        "outputId": "d39ba5c3-54bd-420c-cc56-2346ac049efe",
        "colab": {
          "base_uri": "https://localhost:8080/",
          "height": 185
        }
      },
      "source": [
        "imprimaTamanho(prov1,prov2,prov3,prov4,prov5)\n",
        "imprimaTamanho(arq1,arq2,arq3,arq4,arq5)"
      ],
      "execution_count": 22,
      "outputs": [
        {
          "output_type": "stream",
          "text": [
            "A quantidade de alunos é 1678 alunos\n",
            "A quantidade de alunos é 1678 alunos\n",
            "A quantidade de alunos é 1678 alunos\n",
            "A quantidade de alunos é 1678 alunos\n",
            "A quantidade de alunos é 1679 alunos\n",
            "A quantidade de alunos é 432 alunos\n",
            "A quantidade de alunos é 428 alunos\n",
            "A quantidade de alunos é 461 alunos\n",
            "A quantidade de alunos é 393 alunos\n",
            "A quantidade de alunos é 449 alunos\n"
          ],
          "name": "stdout"
        }
      ]
    },
    {
      "cell_type": "markdown",
      "metadata": {
        "id": "J4X4yyEYZv4u",
        "colab_type": "text"
      },
      "source": [
        "Função para converter matricula para string"
      ]
    },
    {
      "cell_type": "code",
      "metadata": {
        "id": "vPwm3Iw2ovst",
        "colab_type": "code",
        "colab": {}
      },
      "source": [
        "def transformaMatriculaParaString(table):\n",
        "  table[\"matricula\"] = table[\"matricula\"].astype(str)\n",
        "  return table"
      ],
      "execution_count": 0,
      "outputs": []
    },
    {
      "cell_type": "markdown",
      "metadata": {
        "id": "d__azXBFpVoj",
        "colab_type": "text"
      },
      "source": [
        "Transformando as matriculas do sigaa e das submissões para string"
      ]
    },
    {
      "cell_type": "code",
      "metadata": {
        "id": "DzLXvkvUph70",
        "colab_type": "code",
        "colab": {}
      },
      "source": [
        "arq1 = transformaMatriculaParaString(arq1)\n",
        "arq2 = transformaMatriculaParaString(arq2)\n",
        "arq3 = transformaMatriculaParaString(arq3)\n",
        "arq4 = transformaMatriculaParaString(arq4)\n",
        "arq5 = transformaMatriculaParaString(arq5)"
      ],
      "execution_count": 0,
      "outputs": []
    },
    {
      "cell_type": "code",
      "metadata": {
        "id": "QgY1yNbKrrHu",
        "colab_type": "code",
        "colab": {}
      },
      "source": [
        "prov1 = transformaMatriculaParaString(prov1)\n",
        "prov2 = transformaMatriculaParaString(prov2)\n",
        "prov3 = transformaMatriculaParaString(prov3)\n",
        "prov4 = transformaMatriculaParaString(prov4)\n",
        "prov5 = transformaMatriculaParaString(prov5)"
      ],
      "execution_count": 0,
      "outputs": []
    },
    {
      "cell_type": "markdown",
      "metadata": {
        "id": "I4os-TgyS6pW",
        "colab_type": "text"
      },
      "source": [
        "Renomeando o ano para criar uma destinção dos outros anos"
      ]
    },
    {
      "cell_type": "code",
      "metadata": {
        "id": "aD6QQdRsQY-g",
        "colab_type": "code",
        "colab": {}
      },
      "source": [
        "arq1.rename(columns={\"ano\":\"anoSigaa\"},inplace=True)\n",
        "arq2.rename(columns={\"ano\":\"anoSigaa\"},inplace=True)\n",
        "arq3.rename(columns={\"ano\":\"anoSigaa\"},inplace=True)\n",
        "arq4.rename(columns={\"ano\":\"anoSigaa\"},inplace=True)\n",
        "arq5.rename(columns={\"ano\":\"anoSigaa\"},inplace=True)"
      ],
      "execution_count": 0,
      "outputs": []
    },
    {
      "cell_type": "code",
      "metadata": {
        "id": "nZlWcqMIQPA3",
        "colab_type": "code",
        "outputId": "970ea130-8dc2-4dd7-d457-65d104c98ae1",
        "colab": {
          "base_uri": "https://localhost:8080/",
          "height": 77
        }
      },
      "source": [
        "arq1.head(1)"
      ],
      "execution_count": 27,
      "outputs": [
        {
          "output_type": "execute_result",
          "data": {
            "text/html": [
              "<div>\n",
              "<style scoped>\n",
              "    .dataframe tbody tr th:only-of-type {\n",
              "        vertical-align: middle;\n",
              "    }\n",
              "\n",
              "    .dataframe tbody tr th {\n",
              "        vertical-align: top;\n",
              "    }\n",
              "\n",
              "    .dataframe thead th {\n",
              "        text-align: right;\n",
              "    }\n",
              "</style>\n",
              "<table border=\"1\" class=\"dataframe\">\n",
              "  <thead>\n",
              "    <tr style=\"text-align: right;\">\n",
              "      <th></th>\n",
              "      <th>Unnamed: 0</th>\n",
              "      <th>matricula</th>\n",
              "      <th>situacao</th>\n",
              "      <th>anoSigaa</th>\n",
              "      <th>turma</th>\n",
              "    </tr>\n",
              "  </thead>\n",
              "  <tbody>\n",
              "    <tr>\n",
              "      <th>0</th>\n",
              "      <td>0</td>\n",
              "      <td>20170031910</td>\n",
              "      <td>REPROVADO</td>\n",
              "      <td>2017.2</td>\n",
              "      <td>04B</td>\n",
              "    </tr>\n",
              "  </tbody>\n",
              "</table>\n",
              "</div>"
            ],
            "text/plain": [
              "   Unnamed: 0    matricula   situacao  anoSigaa turma\n",
              "0           0  20170031910  REPROVADO    2017.2   04B"
            ]
          },
          "metadata": {
            "tags": []
          },
          "execution_count": 27
        }
      ]
    },
    {
      "cell_type": "code",
      "metadata": {
        "id": "PHHIAJq2R0dA",
        "colab_type": "code",
        "outputId": "a2ee9243-a3f9-4b83-a1e3-fea3770d195f",
        "colab": {
          "base_uri": "https://localhost:8080/",
          "height": 130
        }
      },
      "source": [
        "prov1.head(1)"
      ],
      "execution_count": 28,
      "outputs": [
        {
          "output_type": "execute_result",
          "data": {
            "text/html": [
              "<div>\n",
              "<style scoped>\n",
              "    .dataframe tbody tr th:only-of-type {\n",
              "        vertical-align: middle;\n",
              "    }\n",
              "\n",
              "    .dataframe tbody tr th {\n",
              "        vertical-align: top;\n",
              "    }\n",
              "\n",
              "    .dataframe thead th {\n",
              "        text-align: right;\n",
              "    }\n",
              "</style>\n",
              "<table border=\"1\" class=\"dataframe\">\n",
              "  <thead>\n",
              "    <tr style=\"text-align: right;\">\n",
              "      <th></th>\n",
              "      <th>idAluno</th>\n",
              "      <th>anoSubmissao</th>\n",
              "      <th>semana 1</th>\n",
              "      <th>semana 2</th>\n",
              "      <th>semana 3</th>\n",
              "      <th>semana 4</th>\n",
              "      <th>semana 5</th>\n",
              "      <th>semana 6</th>\n",
              "      <th>semana 7</th>\n",
              "      <th>semana 8</th>\n",
              "      <th>semana 9</th>\n",
              "      <th>semana 10</th>\n",
              "      <th>semana 11</th>\n",
              "      <th>semana 12</th>\n",
              "      <th>semana 13</th>\n",
              "      <th>semana 14</th>\n",
              "      <th>semana 15</th>\n",
              "      <th>semana 16</th>\n",
              "      <th>semana 17</th>\n",
              "      <th>semana 18</th>\n",
              "      <th>semana 19</th>\n",
              "      <th>semana 20</th>\n",
              "      <th>semana 21</th>\n",
              "      <th>idTurma</th>\n",
              "      <th>anoTurma</th>\n",
              "      <th>descricaoTurma</th>\n",
              "      <th>matricula</th>\n",
              "      <th>nome</th>\n",
              "    </tr>\n",
              "  </thead>\n",
              "  <tbody>\n",
              "    <tr>\n",
              "      <th>0</th>\n",
              "      <td>598cd5453bc48946977dcf66</td>\n",
              "      <td>2017.2</td>\n",
              "      <td>0.0</td>\n",
              "      <td>0.0</td>\n",
              "      <td>0.0</td>\n",
              "      <td>6.0</td>\n",
              "      <td>13.0</td>\n",
              "      <td>7.0</td>\n",
              "      <td>4.0</td>\n",
              "      <td>3.0</td>\n",
              "      <td>3.0</td>\n",
              "      <td>0.0</td>\n",
              "      <td>1.0</td>\n",
              "      <td>0.0</td>\n",
              "      <td>0.0</td>\n",
              "      <td>0.0</td>\n",
              "      <td>0.0</td>\n",
              "      <td>0.0</td>\n",
              "      <td>0.0</td>\n",
              "      <td>0.0</td>\n",
              "      <td>0.0</td>\n",
              "      <td>0.0</td>\n",
              "      <td>0.0</td>\n",
              "      <td>0</td>\n",
              "      <td>0.0</td>\n",
              "      <td>0</td>\n",
              "      <td>2013023070</td>\n",
              "      <td>Gabriel Tibúrcio</td>\n",
              "    </tr>\n",
              "  </tbody>\n",
              "</table>\n",
              "</div>"
            ],
            "text/plain": [
              "                    idAluno anoSubmissao  ...   matricula              nome\n",
              "0  598cd5453bc48946977dcf66       2017.2  ...  2013023070  Gabriel Tibúrcio\n",
              "\n",
              "[1 rows x 28 columns]"
            ]
          },
          "metadata": {
            "tags": []
          },
          "execution_count": 28
        }
      ]
    },
    {
      "cell_type": "markdown",
      "metadata": {
        "id": "dD4B0XxyOeD6",
        "colab_type": "text"
      },
      "source": [
        "Drop no unnamed"
      ]
    },
    {
      "cell_type": "code",
      "metadata": {
        "id": "qzQ6J2pkOs8G",
        "colab_type": "code",
        "colab": {}
      },
      "source": [
        "arq1 = arq1.drop(columns=[\"Unnamed: 0\"])\n",
        "arq2 = arq2.drop(columns=[\"Unnamed: 0\"])\n",
        "arq3 = arq3.drop(columns=[\"Unnamed: 0\"])\n",
        "arq4 = arq4.drop(columns=[\"Unnamed: 0\"])\n",
        "arq5 = arq5.drop(columns=[\"Unnamed: 0\"])"
      ],
      "execution_count": 0,
      "outputs": []
    },
    {
      "cell_type": "markdown",
      "metadata": {
        "id": "NTdkhVc6TEfY",
        "colab_type": "text"
      },
      "source": [
        "Merge da tabelas de por ano das submissões no LoP com a tabela vinda do Sigaa"
      ]
    },
    {
      "cell_type": "code",
      "metadata": {
        "id": "9gcPbCl2NSPh",
        "colab_type": "code",
        "outputId": "840d31c3-87c7-44da-e2ea-240d77953bba",
        "colab": {
          "base_uri": "https://localhost:8080/",
          "height": 143
        }
      },
      "source": [
        "table1 = pd.merge(prov1,arq1,on=\"matricula\",how=\"outer\")\n",
        "table2 = pd.merge(prov2,arq2,on=\"matricula\",how=\"outer\")\n",
        "table3 = pd.merge(prov3,arq3,on=\"matricula\",how=\"outer\")\n",
        "table4 = pd.merge(prov4,arq4,on=\"matricula\",how=\"outer\")\n",
        "table5 = pd.merge(prov5,arq5,on=\"matricula\",how=\"outer\")\n",
        "table5.head(2)"
      ],
      "execution_count": 30,
      "outputs": [
        {
          "output_type": "execute_result",
          "data": {
            "text/html": [
              "<div>\n",
              "<style scoped>\n",
              "    .dataframe tbody tr th:only-of-type {\n",
              "        vertical-align: middle;\n",
              "    }\n",
              "\n",
              "    .dataframe tbody tr th {\n",
              "        vertical-align: top;\n",
              "    }\n",
              "\n",
              "    .dataframe thead th {\n",
              "        text-align: right;\n",
              "    }\n",
              "</style>\n",
              "<table border=\"1\" class=\"dataframe\">\n",
              "  <thead>\n",
              "    <tr style=\"text-align: right;\">\n",
              "      <th></th>\n",
              "      <th>idAluno</th>\n",
              "      <th>anoSubmissao</th>\n",
              "      <th>semana 1</th>\n",
              "      <th>semana 2</th>\n",
              "      <th>semana 3</th>\n",
              "      <th>semana 4</th>\n",
              "      <th>semana 5</th>\n",
              "      <th>semana 6</th>\n",
              "      <th>semana 7</th>\n",
              "      <th>semana 8</th>\n",
              "      <th>semana 9</th>\n",
              "      <th>semana 10</th>\n",
              "      <th>semana 11</th>\n",
              "      <th>semana 12</th>\n",
              "      <th>semana 13</th>\n",
              "      <th>semana 14</th>\n",
              "      <th>semana 15</th>\n",
              "      <th>semana 16</th>\n",
              "      <th>semana 17</th>\n",
              "      <th>semana 18</th>\n",
              "      <th>semana 19</th>\n",
              "      <th>semana 20</th>\n",
              "      <th>semana 21</th>\n",
              "      <th>idTurma</th>\n",
              "      <th>anoTurma</th>\n",
              "      <th>descricaoTurma</th>\n",
              "      <th>matricula</th>\n",
              "      <th>nome</th>\n",
              "      <th>situacao</th>\n",
              "      <th>anoSigaa</th>\n",
              "      <th>turma</th>\n",
              "    </tr>\n",
              "  </thead>\n",
              "  <tbody>\n",
              "    <tr>\n",
              "      <th>0</th>\n",
              "      <td>598cd8b823daeb4b50a4b254</td>\n",
              "      <td>2019.2</td>\n",
              "      <td>0.0</td>\n",
              "      <td>0.0</td>\n",
              "      <td>0.0</td>\n",
              "      <td>1.0</td>\n",
              "      <td>2.0</td>\n",
              "      <td>0.0</td>\n",
              "      <td>0.0</td>\n",
              "      <td>0.0</td>\n",
              "      <td>0.0</td>\n",
              "      <td>0.0</td>\n",
              "      <td>0.0</td>\n",
              "      <td>0.0</td>\n",
              "      <td>0.0</td>\n",
              "      <td>0.0</td>\n",
              "      <td>0.0</td>\n",
              "      <td>0.0</td>\n",
              "      <td>0.0</td>\n",
              "      <td>0.0</td>\n",
              "      <td>0.0</td>\n",
              "      <td>0.0</td>\n",
              "      <td>0.0</td>\n",
              "      <td>0</td>\n",
              "      <td>0.0</td>\n",
              "      <td>0</td>\n",
              "      <td>1943220</td>\n",
              "      <td>Orivaldo</td>\n",
              "      <td>NaN</td>\n",
              "      <td>NaN</td>\n",
              "      <td>NaN</td>\n",
              "    </tr>\n",
              "    <tr>\n",
              "      <th>1</th>\n",
              "      <td>599246d441a16924126c3f31</td>\n",
              "      <td>2019.2</td>\n",
              "      <td>0.0</td>\n",
              "      <td>0.0</td>\n",
              "      <td>0.0</td>\n",
              "      <td>0.0</td>\n",
              "      <td>7.0</td>\n",
              "      <td>0.0</td>\n",
              "      <td>3.0</td>\n",
              "      <td>0.0</td>\n",
              "      <td>0.0</td>\n",
              "      <td>0.0</td>\n",
              "      <td>0.0</td>\n",
              "      <td>0.0</td>\n",
              "      <td>0.0</td>\n",
              "      <td>0.0</td>\n",
              "      <td>0.0</td>\n",
              "      <td>0.0</td>\n",
              "      <td>0.0</td>\n",
              "      <td>0.0</td>\n",
              "      <td>0.0</td>\n",
              "      <td>0.0</td>\n",
              "      <td>0.0</td>\n",
              "      <td>0</td>\n",
              "      <td>0.0</td>\n",
              "      <td>0</td>\n",
              "      <td>1980</td>\n",
              "      <td>Aquiles</td>\n",
              "      <td>NaN</td>\n",
              "      <td>NaN</td>\n",
              "      <td>NaN</td>\n",
              "    </tr>\n",
              "  </tbody>\n",
              "</table>\n",
              "</div>"
            ],
            "text/plain": [
              "                    idAluno anoSubmissao  semana 1  ...  situacao  anoSigaa  turma\n",
              "0  598cd8b823daeb4b50a4b254       2019.2       0.0  ...       NaN       NaN    NaN\n",
              "1  599246d441a16924126c3f31       2019.2       0.0  ...       NaN       NaN    NaN\n",
              "\n",
              "[2 rows x 31 columns]"
            ]
          },
          "metadata": {
            "tags": []
          },
          "execution_count": 30
        }
      ]
    },
    {
      "cell_type": "code",
      "metadata": {
        "id": "V1DabXwUT6ye",
        "colab_type": "code",
        "outputId": "57fa52b0-6588-4865-e514-4b6f65f0c323",
        "colab": {
          "base_uri": "https://localhost:8080/",
          "height": 101
        }
      },
      "source": [
        "imprimaTamanho(table1,table2,table3,table4,table5)"
      ],
      "execution_count": 31,
      "outputs": [
        {
          "output_type": "stream",
          "text": [
            "A quantidade de alunos é 1833 alunos\n",
            "A quantidade de alunos é 1851 alunos\n",
            "A quantidade de alunos é 1839 alunos\n",
            "A quantidade de alunos é 1722 alunos\n",
            "A quantidade de alunos é 1721 alunos\n"
          ],
          "name": "stdout"
        }
      ]
    },
    {
      "cell_type": "markdown",
      "metadata": {
        "id": "lC-x69Lz1CET",
        "colab_type": "text"
      },
      "source": [
        "Substituindo NaN por 0"
      ]
    },
    {
      "cell_type": "code",
      "metadata": {
        "id": "QiFuPa07tChg",
        "colab_type": "code",
        "colab": {}
      },
      "source": [
        "table1 = nanPorZero(table1)\n",
        "table1 = nanPorZero(table1)\n",
        "table1 = nanPorZero(table1)\n",
        "table1 = nanPorZero(table1)\n",
        "table1 = nanPorZero(table1)"
      ],
      "execution_count": 0,
      "outputs": []
    },
    {
      "cell_type": "markdown",
      "metadata": {
        "id": "8iiD3ngc1NSf",
        "colab_type": "text"
      },
      "source": [
        "Passando o ano submissão para flot para deixar igual aos outros anos"
      ]
    },
    {
      "cell_type": "code",
      "metadata": {
        "id": "vnQp6TNYtEdo",
        "colab_type": "code",
        "colab": {}
      },
      "source": [
        "table1[\"anoSubmissao\"] = table1[\"anoSubmissao\"].astype(float)\n",
        "table2[\"anoSubmissao\"] = table2[\"anoSubmissao\"].astype(float)\n",
        "table3[\"anoSubmissao\"] = table3[\"anoSubmissao\"].astype(float)\n",
        "table4[\"anoSubmissao\"] = table4[\"anoSubmissao\"].astype(float)\n",
        "table5[\"anoSubmissao\"] = table5[\"anoSubmissao\"].astype(float)"
      ],
      "execution_count": 0,
      "outputs": []
    },
    {
      "cell_type": "markdown",
      "metadata": {
        "id": "xHWJwT4o1T1w",
        "colab_type": "text"
      },
      "source": [
        "Passando o campo turma para string"
      ]
    },
    {
      "cell_type": "code",
      "metadata": {
        "id": "RYcFsf1u1TSp",
        "colab_type": "code",
        "colab": {}
      },
      "source": [
        "table1[\"turma\"] = table1[\"turma\"].astype(str)\n",
        "table2[\"turma\"] = table2[\"turma\"].astype(str)\n",
        "table3[\"turma\"] = table3[\"turma\"].astype(str)\n",
        "table4[\"turma\"] = table4[\"turma\"].astype(str)\n",
        "table5[\"turma\"] = table5[\"turma\"].astype(str)"
      ],
      "execution_count": 0,
      "outputs": []
    },
    {
      "cell_type": "markdown",
      "metadata": {
        "id": "nVwxDNxy1k1_",
        "colab_type": "text"
      },
      "source": [
        "Pegando os dados onde os anos do sigaa, turmas e submissão são iguais"
      ]
    },
    {
      "cell_type": "code",
      "metadata": {
        "id": "5_Hv9luArGT8",
        "colab_type": "code",
        "colab": {}
      },
      "source": [
        "def anosIguais(table):\n",
        "  table = table.loc[(table[\"anoSigaa\"]==table[\"anoTurma\"]) & (table[\"anoSubmissao\"]==table[\"anoSigaa\"]),:]\n",
        "  return table  "
      ],
      "execution_count": 0,
      "outputs": []
    },
    {
      "cell_type": "code",
      "metadata": {
        "id": "vZflIVieri4u",
        "colab_type": "code",
        "colab": {}
      },
      "source": [
        "table1 = anosIguais(table1)\n",
        "table2 = anosIguais(table2)\n",
        "table3 = anosIguais(table3)\n",
        "table4 = anosIguais(table4)\n",
        "table5 = anosIguais(table5)"
      ],
      "execution_count": 0,
      "outputs": []
    },
    {
      "cell_type": "code",
      "metadata": {
        "id": "YbS4wmzZs5pW",
        "colab_type": "code",
        "outputId": "51edc79f-6121-42c0-a01f-5afbde22ba93",
        "colab": {
          "base_uri": "https://localhost:8080/",
          "height": 101
        }
      },
      "source": [
        "imprimaTamanho(table1,table2,table3,table4,table5)"
      ],
      "execution_count": 37,
      "outputs": [
        {
          "output_type": "stream",
          "text": [
            "A quantidade de alunos é 261 alunos\n",
            "A quantidade de alunos é 212 alunos\n",
            "A quantidade de alunos é 248 alunos\n",
            "A quantidade de alunos é 227 alunos\n",
            "A quantidade de alunos é 221 alunos\n"
          ],
          "name": "stdout"
        }
      ]
    },
    {
      "cell_type": "markdown",
      "metadata": {
        "id": "24BUgrZq1BmG",
        "colab_type": "text"
      },
      "source": [
        "Implementação de funções"
      ]
    },
    {
      "cell_type": "markdown",
      "metadata": {
        "id": "v9bddR813BbB",
        "colab_type": "text"
      },
      "source": [
        "Função para imprimir a quantidade de alunos por ano"
      ]
    },
    {
      "cell_type": "code",
      "metadata": {
        "id": "Xav5dWm83Fpe",
        "colab_type": "code",
        "colab": {}
      },
      "source": [
        "def quantidadePorAno(table):\n",
        "  print(\"A quantidade total de alunos no semestre \" + str(table[\"anoSigaa\"].iloc[0]) + \" são de \" + str(table[\"idAluno\"].count()) + \" alunos\")\n",
        "  print(\"\")"
      ],
      "execution_count": 0,
      "outputs": []
    },
    {
      "cell_type": "markdown",
      "metadata": {
        "id": "xtHQDWIS4B_Z",
        "colab_type": "text"
      },
      "source": [
        "Alunos que estavam matriculados em uma turma e nunca logaram no sistema"
      ]
    },
    {
      "cell_type": "code",
      "metadata": {
        "id": "3PEDD3J-314C",
        "colab_type": "code",
        "colab": {}
      },
      "source": [
        "def nuncaLogaram(table):\n",
        "  b = table.loc[table[\"idAluno\"]==0,:]\n",
        "  print(\"A quantidade de alunos que estão matriculados em \" + str(b[\"anoSigaa\"].iloc[0]) + \" e que não logaram são de \" + str(b[\"idAluno\"].count()))\n",
        "  print(\"\")\n",
        "  print(\"As situações finais desses alunos são: \")\n",
        "  print(b[\"situacao\"].unique())"
      ],
      "execution_count": 0,
      "outputs": []
    },
    {
      "cell_type": "markdown",
      "metadata": {
        "id": "gEhhjXxS5A3f",
        "colab_type": "text"
      },
      "source": [
        "Alunos que nunca submeteram mas estão no sistema LoP"
      ]
    },
    {
      "cell_type": "code",
      "metadata": {
        "id": "srStA8kEx4EP",
        "colab_type": "code",
        "colab": {}
      },
      "source": [
        "def nuncaSubmeteram(table):\n",
        "  tam = table.iloc[:,2:23]\n",
        "  table[\"somas\"] = tam.sum(axis=1)\n",
        "  print(\"\")\n",
        "  print(\"A quantidade de alunos que nunca submeteram em \" + str (table[\"anoSigaa\"].iloc[0]) + \" são de \" + str(table.loc[table[\"somas\"]==0,\"idAluno\"].count()) + \" alunos\")\n",
        "  print(\"\")\n",
        "  print(\"------------------------------------------------------------------------------\")\n",
        "  print(\"\")"
      ],
      "execution_count": 0,
      "outputs": []
    },
    {
      "cell_type": "markdown",
      "metadata": {
        "id": "N4rRI5K11Uf0",
        "colab_type": "text"
      },
      "source": [
        "Função para chamar as outras funções"
      ]
    },
    {
      "cell_type": "code",
      "metadata": {
        "id": "B3JYM1Oe1UPl",
        "colab_type": "code",
        "colab": {}
      },
      "source": [
        "def chamaFuncoes(table):\n",
        "  quantidadePorAno(table)\n",
        "  nuncaLogaram(table)\n",
        "  nuncaSubmeteram(table)"
      ],
      "execution_count": 0,
      "outputs": []
    },
    {
      "cell_type": "code",
      "metadata": {
        "id": "jKLJ31MC1Hwr",
        "colab_type": "code",
        "colab": {
          "base_uri": "https://localhost:8080/",
          "height": 958
        },
        "outputId": "38c38050-e8fa-4ce6-848c-3ba794b8df25"
      },
      "source": [
        "chamaFuncoes(table1)\n",
        "chamaFuncoes(table2)\n",
        "chamaFuncoes(table3)\n",
        "chamaFuncoes(table4)\n",
        "chamaFuncoes(table5)"
      ],
      "execution_count": 43,
      "outputs": [
        {
          "output_type": "stream",
          "text": [
            "A quantidade total de alunos no semestre 2017.2 são de 261 alunos\n",
            "\n",
            "A quantidade de alunos que estão matriculados em 2017.2 e que não logaram são de 14\n",
            "\n",
            "As situações finais desses alunos são: \n",
            "['REPROVADO POR MÉDIA E POR FALTAS' 'REPROVADO']\n",
            "\n",
            "A quantidade de alunos que nunca submeteram em 2017.2 são de 46 alunos\n",
            "\n",
            "------------------------------------------------------------------------------\n",
            "\n",
            "A quantidade total de alunos no semestre 2018.1 são de 212 alunos\n",
            "\n",
            "A quantidade de alunos que estão matriculados em 2018.1 e que não logaram são de 15\n",
            "\n",
            "As situações finais desses alunos são: \n",
            "['REPROVADO POR MÉDIA E POR FALTAS' 'REPROVADO' 'APROVADO'\n",
            " 'APROVADO POR NOTA']\n",
            "\n",
            "A quantidade de alunos que nunca submeteram em 2018.1 são de 28 alunos\n",
            "\n",
            "------------------------------------------------------------------------------\n",
            "\n",
            "A quantidade total de alunos no semestre 2018.2 são de 248 alunos\n",
            "\n",
            "A quantidade de alunos que estão matriculados em 2018.2 e que não logaram são de 8\n",
            "\n",
            "As situações finais desses alunos são: \n",
            "['REPROVADO' 'REPROVADO POR MÉDIA E POR FALTAS' 'APROVADO']\n",
            "\n",
            "A quantidade de alunos que nunca submeteram em 2018.2 são de 21 alunos\n",
            "\n",
            "------------------------------------------------------------------------------\n",
            "\n",
            "A quantidade total de alunos no semestre 2019.1 são de 227 alunos\n",
            "\n",
            "A quantidade de alunos que estão matriculados em 2019.1 e que não logaram são de 10\n",
            "\n",
            "As situações finais desses alunos são: \n",
            "['REPROVADO POR MÉDIA E POR FALTAS' 'REPROVADO']\n",
            "\n",
            "A quantidade de alunos que nunca submeteram em 2019.1 são de 26 alunos\n",
            "\n",
            "------------------------------------------------------------------------------\n",
            "\n",
            "A quantidade total de alunos no semestre 2019.2 são de 221 alunos\n",
            "\n",
            "A quantidade de alunos que estão matriculados em 2019.2 e que não logaram são de 19\n",
            "\n",
            "As situações finais desses alunos são: \n",
            "['MATRICULADO']\n",
            "\n",
            "A quantidade de alunos que nunca submeteram em 2019.2 são de 29 alunos\n",
            "\n",
            "------------------------------------------------------------------------------\n",
            "\n"
          ],
          "name": "stdout"
        }
      ]
    },
    {
      "cell_type": "code",
      "metadata": {
        "id": "_ZY0n3ClwS-J",
        "colab_type": "code",
        "colab": {}
      },
      "source": [
        "def matriculaDosAlunosQueNuncaLogaram(table):\n",
        "  b = table.loc[table[\"idAluno\"]==0,:]\n",
        "  print(\"Os alunos que nunca logaram no semestre \" + str(table[\"anoSigaa\"].iloc[0]) + \" são:\")\n",
        "  print(str(b[\"matricula\"]))"
      ],
      "execution_count": 0,
      "outputs": []
    },
    {
      "cell_type": "code",
      "metadata": {
        "id": "M86O78tryOBb",
        "colab_type": "code",
        "colab": {}
      },
      "source": [
        "def nomeDosAlunosQueNuncaSubmeteram(table):\n",
        "  tam = table.iloc[:,2:23]\n",
        "  table[\"somas\"] = tam.sum(axis=1)\n",
        "  print(\"Alunos que estão no sistema mas nunca submeteram em \" + str (table[\"anoSigaa\"].iloc[0]))\n",
        "  print(str(table.loc[table[\"somas\"]==0,[\"nome\",\"matricula\",\"turma\"]]))"
      ],
      "execution_count": 0,
      "outputs": []
    },
    {
      "cell_type": "code",
      "metadata": {
        "id": "29AcBxIZwIJF",
        "colab_type": "code",
        "outputId": "53ad3abc-2773-4683-8b55-9221bab5e19f",
        "colab": {
          "base_uri": "https://localhost:8080/",
          "height": 370
        }
      },
      "source": [
        "matriculaDosAlunosQueNuncaLogaram(table5)"
      ],
      "execution_count": 46,
      "outputs": [
        {
          "output_type": "stream",
          "text": [
            "Os alunos que nunca logaram no semestre 2019.2 são:\n",
            "501    20180033954\n",
            "505    20180136399\n",
            "510    20180030415\n",
            "512    20180041295\n",
            "513    20180093550\n",
            "514    20180042659\n",
            "515    20180136684\n",
            "522    20190073318\n",
            "523    20190070352\n",
            "524    20190080930\n",
            "525    20190078978\n",
            "526    20190075831\n",
            "527    20190074914\n",
            "528    20180040313\n",
            "529    20180135444\n",
            "530    20190079699\n",
            "531    20190078154\n",
            "532    20180039072\n",
            "533    20180109589\n",
            "Name: matricula, dtype: object\n"
          ],
          "name": "stdout"
        }
      ]
    },
    {
      "cell_type": "code",
      "metadata": {
        "id": "8LzlU0rfvjVf",
        "colab_type": "code",
        "outputId": "44a71eaf-23eb-4132-d9a9-ce85872f98d7",
        "colab": {
          "base_uri": "https://localhost:8080/",
          "height": 538
        }
      },
      "source": [
        "nomeDosAlunosQueNuncaSubmeteram(table5)"
      ],
      "execution_count": 47,
      "outputs": [
        {
          "output_type": "stream",
          "text": [
            "Alunos que estão no sistema mas nunca submeteram em 2019.2\n",
            "                                   nome    matricula turma\n",
            "501                                   0  20180033954   02C\n",
            "505                                   0  20180136399   02B\n",
            "510                                   0  20180030415   03C\n",
            "512                                   0  20180041295   03B\n",
            "513                                   0  20180093550   03C\n",
            "514                                   0  20180042659   03D\n",
            "515                                   0  20180136684   03D\n",
            "522                                   0  20190073318   01D\n",
            "523                                   0  20190070352   02A\n",
            "524                                   0  20190080930   02A\n",
            "525                                   0  20190078978   02A\n",
            "526                                   0  20190075831   02B\n",
            "527                                   0  20190074914   02B\n",
            "528                                   0  20180040313   02B\n",
            "529                                   0  20180135444   02B\n",
            "530                                   0  20190079699   02B\n",
            "531                                   0  20190078154   02B\n",
            "532                                   0  20180039072   02B\n",
            "533                                   0  20180109589   02C\n",
            "1147                             Taynná  20180107065   01D\n",
            "1196      Fernando Deyvid Costa e Silva  20170032775   03B\n",
            "1296                      maria heloiza  20180135257   03D\n",
            "1330       Guilherme Gonçalves Palhares  20180032115   02B\n",
            "1349       Bianca Santos de Albuquerque  20180030578   01D\n",
            "1384        Hugo Rafael de Araujo Silva  20180135696   02B\n",
            "1451       Jordan Hugo da Silva Rosendo  20180156613   03C\n",
            "1454  Erika Dayanne de Oliveira Andrade  20180038191   03D\n",
            "1455                        João Victor  20180156909   03D\n",
            "1457        Kristiano Coutinho Carvalho  20180040233   02D\n"
          ],
          "name": "stdout"
        }
      ]
    },
    {
      "cell_type": "markdown",
      "metadata": {
        "id": "7cMguyiAaEjF",
        "colab_type": "text"
      },
      "source": [
        "Concatenando tabelas"
      ]
    },
    {
      "cell_type": "code",
      "metadata": {
        "id": "IT2pLxh_aGys",
        "colab_type": "code",
        "outputId": "df309176-8b2b-4e8a-f14f-ca9eb2ba8f25",
        "colab": {
          "base_uri": "https://localhost:8080/",
          "height": 400
        }
      },
      "source": [
        "tabfinal = pd.concat([table1,table2,table3,table4], ignore_index=True)\n",
        "tabfinal = tabfinal.drop(columns={\"idAluno\",\"matricula\",\"nome\"})\n",
        "tabfinal.head()"
      ],
      "execution_count": 48,
      "outputs": [
        {
          "output_type": "execute_result",
          "data": {
            "text/html": [
              "<div>\n",
              "<style scoped>\n",
              "    .dataframe tbody tr th:only-of-type {\n",
              "        vertical-align: middle;\n",
              "    }\n",
              "\n",
              "    .dataframe tbody tr th {\n",
              "        vertical-align: top;\n",
              "    }\n",
              "\n",
              "    .dataframe thead th {\n",
              "        text-align: right;\n",
              "    }\n",
              "</style>\n",
              "<table border=\"1\" class=\"dataframe\">\n",
              "  <thead>\n",
              "    <tr style=\"text-align: right;\">\n",
              "      <th></th>\n",
              "      <th>anoSubmissao</th>\n",
              "      <th>semana 1</th>\n",
              "      <th>semana 2</th>\n",
              "      <th>semana 3</th>\n",
              "      <th>semana 4</th>\n",
              "      <th>semana 5</th>\n",
              "      <th>semana 6</th>\n",
              "      <th>semana 7</th>\n",
              "      <th>semana 8</th>\n",
              "      <th>semana 9</th>\n",
              "      <th>semana 10</th>\n",
              "      <th>semana 11</th>\n",
              "      <th>semana 12</th>\n",
              "      <th>semana 13</th>\n",
              "      <th>semana 14</th>\n",
              "      <th>semana 15</th>\n",
              "      <th>semana 16</th>\n",
              "      <th>semana 17</th>\n",
              "      <th>semana 18</th>\n",
              "      <th>semana 19</th>\n",
              "      <th>semana 20</th>\n",
              "      <th>semana 21</th>\n",
              "      <th>idTurma</th>\n",
              "      <th>anoTurma</th>\n",
              "      <th>descricaoTurma</th>\n",
              "      <th>situacao</th>\n",
              "      <th>anoSigaa</th>\n",
              "      <th>turma</th>\n",
              "      <th>somas</th>\n",
              "    </tr>\n",
              "  </thead>\n",
              "  <tbody>\n",
              "    <tr>\n",
              "      <th>0</th>\n",
              "      <td>2017.2</td>\n",
              "      <td>0.0</td>\n",
              "      <td>0.0</td>\n",
              "      <td>0.0</td>\n",
              "      <td>5.0</td>\n",
              "      <td>12.0</td>\n",
              "      <td>5.0</td>\n",
              "      <td>0.0</td>\n",
              "      <td>15.0</td>\n",
              "      <td>10.0</td>\n",
              "      <td>0.0</td>\n",
              "      <td>0.0</td>\n",
              "      <td>16.0</td>\n",
              "      <td>3.0</td>\n",
              "      <td>0.0</td>\n",
              "      <td>0.0</td>\n",
              "      <td>20.0</td>\n",
              "      <td>0.0</td>\n",
              "      <td>7.0</td>\n",
              "      <td>0.0</td>\n",
              "      <td>0.0</td>\n",
              "      <td>0.0</td>\n",
              "      <td>598e15296d8650eb27d52e3d</td>\n",
              "      <td>2017.2</td>\n",
              "      <td>LÓGICA DE PROGRAMAÇÃO - Turma 01A</td>\n",
              "      <td>APROVADO</td>\n",
              "      <td>2017.2</td>\n",
              "      <td>01A</td>\n",
              "      <td>93.0</td>\n",
              "    </tr>\n",
              "    <tr>\n",
              "      <th>1</th>\n",
              "      <td>2017.2</td>\n",
              "      <td>0.0</td>\n",
              "      <td>0.0</td>\n",
              "      <td>0.0</td>\n",
              "      <td>5.0</td>\n",
              "      <td>0.0</td>\n",
              "      <td>6.0</td>\n",
              "      <td>0.0</td>\n",
              "      <td>3.0</td>\n",
              "      <td>0.0</td>\n",
              "      <td>0.0</td>\n",
              "      <td>0.0</td>\n",
              "      <td>0.0</td>\n",
              "      <td>0.0</td>\n",
              "      <td>0.0</td>\n",
              "      <td>0.0</td>\n",
              "      <td>0.0</td>\n",
              "      <td>0.0</td>\n",
              "      <td>0.0</td>\n",
              "      <td>0.0</td>\n",
              "      <td>4.0</td>\n",
              "      <td>0.0</td>\n",
              "      <td>598e15296d8650eb27d52e5f</td>\n",
              "      <td>2017.2</td>\n",
              "      <td>LÓGICA DE PROGRAMAÇÃO - Turma 01B</td>\n",
              "      <td>APROVADO POR NOTA</td>\n",
              "      <td>2017.2</td>\n",
              "      <td>01B</td>\n",
              "      <td>18.0</td>\n",
              "    </tr>\n",
              "    <tr>\n",
              "      <th>2</th>\n",
              "      <td>2017.2</td>\n",
              "      <td>0.0</td>\n",
              "      <td>0.0</td>\n",
              "      <td>0.0</td>\n",
              "      <td>5.0</td>\n",
              "      <td>0.0</td>\n",
              "      <td>5.0</td>\n",
              "      <td>0.0</td>\n",
              "      <td>14.0</td>\n",
              "      <td>2.0</td>\n",
              "      <td>0.0</td>\n",
              "      <td>0.0</td>\n",
              "      <td>4.0</td>\n",
              "      <td>0.0</td>\n",
              "      <td>5.0</td>\n",
              "      <td>6.0</td>\n",
              "      <td>2.0</td>\n",
              "      <td>1.0</td>\n",
              "      <td>0.0</td>\n",
              "      <td>0.0</td>\n",
              "      <td>0.0</td>\n",
              "      <td>0.0</td>\n",
              "      <td>598e15296d8650eb27d52e5f</td>\n",
              "      <td>2017.2</td>\n",
              "      <td>LÓGICA DE PROGRAMAÇÃO - Turma 01B</td>\n",
              "      <td>APROVADO</td>\n",
              "      <td>2017.2</td>\n",
              "      <td>01B</td>\n",
              "      <td>44.0</td>\n",
              "    </tr>\n",
              "    <tr>\n",
              "      <th>3</th>\n",
              "      <td>2017.2</td>\n",
              "      <td>0.0</td>\n",
              "      <td>0.0</td>\n",
              "      <td>0.0</td>\n",
              "      <td>3.0</td>\n",
              "      <td>0.0</td>\n",
              "      <td>6.0</td>\n",
              "      <td>0.0</td>\n",
              "      <td>8.0</td>\n",
              "      <td>3.0</td>\n",
              "      <td>0.0</td>\n",
              "      <td>0.0</td>\n",
              "      <td>5.0</td>\n",
              "      <td>0.0</td>\n",
              "      <td>2.0</td>\n",
              "      <td>2.0</td>\n",
              "      <td>2.0</td>\n",
              "      <td>0.0</td>\n",
              "      <td>0.0</td>\n",
              "      <td>0.0</td>\n",
              "      <td>0.0</td>\n",
              "      <td>0.0</td>\n",
              "      <td>598e15296d8650eb27d52e5f</td>\n",
              "      <td>2017.2</td>\n",
              "      <td>LÓGICA DE PROGRAMAÇÃO - Turma 01B</td>\n",
              "      <td>APROVADO</td>\n",
              "      <td>2017.2</td>\n",
              "      <td>01B</td>\n",
              "      <td>31.0</td>\n",
              "    </tr>\n",
              "    <tr>\n",
              "      <th>4</th>\n",
              "      <td>2017.2</td>\n",
              "      <td>0.0</td>\n",
              "      <td>0.0</td>\n",
              "      <td>0.0</td>\n",
              "      <td>3.0</td>\n",
              "      <td>0.0</td>\n",
              "      <td>6.0</td>\n",
              "      <td>0.0</td>\n",
              "      <td>0.0</td>\n",
              "      <td>3.0</td>\n",
              "      <td>0.0</td>\n",
              "      <td>0.0</td>\n",
              "      <td>0.0</td>\n",
              "      <td>0.0</td>\n",
              "      <td>0.0</td>\n",
              "      <td>0.0</td>\n",
              "      <td>0.0</td>\n",
              "      <td>4.0</td>\n",
              "      <td>0.0</td>\n",
              "      <td>0.0</td>\n",
              "      <td>0.0</td>\n",
              "      <td>0.0</td>\n",
              "      <td>598e15296d8650eb27d52e5f</td>\n",
              "      <td>2017.2</td>\n",
              "      <td>LÓGICA DE PROGRAMAÇÃO - Turma 01B</td>\n",
              "      <td>APROVADO POR NOTA</td>\n",
              "      <td>2017.2</td>\n",
              "      <td>01B</td>\n",
              "      <td>16.0</td>\n",
              "    </tr>\n",
              "  </tbody>\n",
              "</table>\n",
              "</div>"
            ],
            "text/plain": [
              "   anoSubmissao  semana 1  semana 2  ...  anoSigaa  turma  somas\n",
              "0        2017.2       0.0       0.0  ...    2017.2    01A   93.0\n",
              "1        2017.2       0.0       0.0  ...    2017.2    01B   18.0\n",
              "2        2017.2       0.0       0.0  ...    2017.2    01B   44.0\n",
              "3        2017.2       0.0       0.0  ...    2017.2    01B   31.0\n",
              "4        2017.2       0.0       0.0  ...    2017.2    01B   16.0\n",
              "\n",
              "[5 rows x 29 columns]"
            ]
          },
          "metadata": {
            "tags": []
          },
          "execution_count": 48
        }
      ]
    },
    {
      "cell_type": "code",
      "metadata": {
        "id": "0ujo1iHcdcu_",
        "colab_type": "code",
        "colab": {}
      },
      "source": [
        "tabfinal.to_csv(r\"table.csv\")"
      ],
      "execution_count": 0,
      "outputs": []
    },
    {
      "cell_type": "markdown",
      "metadata": {
        "id": "ZVm7jSfqTM93",
        "colab_type": "text"
      },
      "source": [
        "# Analisar os lixos"
      ]
    },
    {
      "cell_type": "markdown",
      "metadata": {
        "id": "kNnMGT1ZTyFj",
        "colab_type": "text"
      },
      "source": [
        "Excluindo as semanas"
      ]
    },
    {
      "cell_type": "code",
      "metadata": {
        "id": "P6F6SelQTMX9",
        "colab_type": "code",
        "colab": {}
      },
      "source": [
        "tb1 = table1.iloc[:,[0,1,-1,-2,-3,-4,-5,-6,-7]]\n",
        "tb2 = table2.iloc[:,[0,1,-1,-2,-3,-4,-5,-6,-7]]\n",
        "tb3 = table3.iloc[:,[0,1,-1,-2,-3,-4,-5,-6,-7]]\n",
        "tb4 = table4.iloc[:,[0,1,-1,-2,-3,-4,-5,-6,-7]]\n",
        "tb1.head(2)"
      ],
      "execution_count": 0,
      "outputs": []
    },
    {
      "cell_type": "code",
      "metadata": {
        "id": "J8vdZpD2T0me",
        "colab_type": "code",
        "colab": {}
      },
      "source": [
        "print(len(tb1))\n",
        "print(len(tb2))\n",
        "print(len(tb3))\n",
        "print(len(tb4))"
      ],
      "execution_count": 0,
      "outputs": []
    },
    {
      "cell_type": "code",
      "metadata": {
        "id": "3qZOwexNUFVa",
        "colab_type": "code",
        "colab": {}
      },
      "source": [
        "tb1.replace(np.nan, 0, inplace=True)   \n",
        "tb2.replace(np.nan, 0, inplace=True)   \n",
        "tb3.replace(np.nan, 0, inplace=True)   \n",
        "tb4.replace(np.nan, 0, inplace=True)   "
      ],
      "execution_count": 0,
      "outputs": []
    },
    {
      "cell_type": "code",
      "metadata": {
        "id": "FJReJLUUq_gM",
        "colab_type": "code",
        "colab": {}
      },
      "source": [
        "tb1.anoSubmissao = tb1.anoSubmissao.astype(float)\n",
        "tb2.anoSubmissao = tb2.anoSubmissao.astype(float)\n",
        "tb3.anoSubmissao = tb3.anoSubmissao.astype(float)\n",
        "tb4.anoSubmissao = tb4.anoSubmissao.astype(float)"
      ],
      "execution_count": 0,
      "outputs": []
    },
    {
      "cell_type": "markdown",
      "metadata": {
        "id": "ORSOq4p3oeav",
        "colab_type": "text"
      },
      "source": [
        "Ano turma != ano sigaa então exclua"
      ]
    },
    {
      "cell_type": "code",
      "metadata": {
        "id": "1PvRoXybofzB",
        "colab_type": "code",
        "colab": {}
      },
      "source": [
        "tb1 = tb1.loc[(tb1[\"anoSigaa\"]==tb1[\"anoTurma\"]),:]   # & (tb1[\"anoSubmissao\"]==tb1[\"anoSigaa\"]),:]\n",
        "#tb2 = tb2.loc[(tb2[\"anoSigaa\"]==tb2[\"anoTurma\"]) & (tb2[\"anoSubmissao\"]==tb2[\"anoSigaa\"]),:]\n",
        "#tb3 = tb3.loc[(tb3[\"anoSigaa\"]==tb3[\"anoTurma\"]) & (tb3[\"anoSubmissao\"]==tb3[\"anoSigaa\"]),:]\n",
        "#tb4 = tb4.loc[(tb4[\"anoSigaa\"]==tb4[\"anoTurma\"]) & (tb4[\"anoSubmissao\"]==tb4[\"anoSigaa\"]),:]\n",
        "tb1.head()"
      ],
      "execution_count": 0,
      "outputs": []
    },
    {
      "cell_type": "code",
      "metadata": {
        "id": "sAOAQWFvrQ1G",
        "colab_type": "code",
        "colab": {}
      },
      "source": [
        "b = tb1.loc[(~tb1[\"turma\"].str.contains(\"04\")) & (~tb1[\"turma\"].str.contains(\"05\")),:]\n",
        "b"
      ],
      "execution_count": 0,
      "outputs": []
    },
    {
      "cell_type": "code",
      "metadata": {
        "id": "hIo-orrJmWEQ",
        "colab_type": "code",
        "colab": {}
      },
      "source": [
        "a = tb1.loc[tb1[\"turma\"]==\"03A\",:]\n",
        "\n",
        "a.sort_values(by=\"matricula\")"
      ],
      "execution_count": 0,
      "outputs": []
    },
    {
      "cell_type": "markdown",
      "metadata": {
        "id": "-Vzll7Z4yufw",
        "colab_type": "text"
      },
      "source": [
        "# Resto"
      ]
    },
    {
      "cell_type": "markdown",
      "metadata": {
        "id": "_OwvAgy-KYog",
        "colab_type": "text"
      },
      "source": [
        "Função para os 4 semestres"
      ]
    },
    {
      "cell_type": "code",
      "metadata": {
        "id": "vDypqbjlKYCL",
        "colab_type": "code",
        "colab": {}
      },
      "source": [
        "def trata(sub,prov1,prov2,prov3,prov4,prov5,prov6,prov7,prov8,prov9,d):\n",
        "  \n",
        "  #Criando os intervalos de semanas a partir da data de início do semestre\n",
        "  t = pd.Timedelta(\"7 days\")\n",
        "  d11 = d+t\n",
        "  d12 = d11+t\n",
        "  d13 = d12+t\n",
        "  d14 = d13+t\n",
        "  d15 = d14+t\n",
        "  d16 = d15+t\n",
        "  d17 = d16+t\n",
        "  d18 = d17+t\n",
        "  d19 = d18+t\n",
        "  d20 = d19+t\n",
        "  d21 = d20+t\n",
        "  \n",
        "\n",
        "  #Buscando submissões entre os intervalos\n",
        "  v11 = sub.loc[(sub[\"data\"]>d11) & (sub[\"data\"]<=d12),:]\n",
        "  v12 = sub.loc[(sub[\"data\"]>d12) & (sub[\"data\"]<=d13),:]\n",
        "  v13 = sub.loc[(sub[\"data\"]>d13) & (sub[\"data\"]<=d14),:]\n",
        "  v14 = sub.loc[(sub[\"data\"]>d14) & (sub[\"data\"]<=d15),:]\n",
        "  v15 = sub.loc[(sub[\"data\"]>d15) & (sub[\"data\"]<=d16),:]\n",
        "  v16 = sub.loc[(sub[\"data\"]>d16) & (sub[\"data\"]<=d17),:]\n",
        "  v17 = sub.loc[(sub[\"data\"]>d17) & (sub[\"data\"]<=d18),:]\n",
        "  v18 = sub.loc[(sub[\"data\"]>d18) & (sub[\"data\"]<=d19),:]\n",
        "  \n",
        "  #Contando a quantidade de submissões dos alunos por semana\n",
        "  s11 = v11.groupby([\"idAluno\"])[\"questao\"].count().reset_index().sort_values(by=\"idAluno\")\n",
        "  s11.rename(columns={\"questao\":\"qsemana1\"},inplace=True)\n",
        "  s12 = v12.groupby([\"idAluno\"])[\"questao\"].count().reset_index().sort_values(by=\"idAluno\")\n",
        "  s12.rename(columns={\"questao\":\"qsemana2\"},inplace=True)\n",
        "  s13 = v13.groupby([\"idAluno\"])[\"questao\"].count().reset_index().sort_values(by=\"idAluno\")\n",
        "  s13.rename(columns={\"questao\":\"qsemana3\"},inplace=True)\n",
        "  s14 = v14.groupby([\"idAluno\"])[\"questao\"].count().reset_index().sort_values(by=\"idAluno\")\n",
        "  s14.rename(columns={\"questao\":\"qsemana4\"},inplace=True)\n",
        "  s15 = v15.groupby([\"idAluno\"])[\"questao\"].count().reset_index().sort_values(by=\"idAluno\")\n",
        "  s15.rename(columns={\"questao\":\"qsemana5\"},inplace=True)\n",
        "  s16 = v16.groupby([\"idAluno\"])[\"questao\"].count().reset_index().sort_values(by=\"idAluno\")\n",
        "  s16.rename(columns={\"questao\":\"qsemana6\"},inplace=True)\n",
        "  s17 = v17.groupby([\"idAluno\"])[\"questao\"].count().reset_index().sort_values(by=\"idAluno\")\n",
        "  s17.rename(columns={\"questao\":\"qsemana7\"},inplace=True)\n",
        "  s18 = v18.groupby([\"idAluno\"])[\"questao\"].count().reset_index().sort_values(by=\"idAluno\")\n",
        "  s18.rename(columns={\"questao\":\"qsemana8\"},inplace=True)\n",
        "  \n",
        "  #concatenação das tabelas\n",
        "  prov1 = prov1.append(s11,sort=False,ignore_index=True)\n",
        "  prov1 = prov1.append(s12,sort=False,ignore_index=True)\n",
        "  prov1 = prov1.append(s13,sort=False,ignore_index=True)\n",
        "  prov1 = prov1.append(s14,sort=False,ignore_index=True)\n",
        "  prov1 = prov1.append(s15,sort=False,ignore_index=True)\n",
        "  prov1 = prov1.append(s16,sort=False,ignore_index=True)\n",
        "  prov1 = prov1.append(s17,sort=False,ignore_index=True)\n",
        "  prov1 = prov1.append(s18,sort=False,ignore_index=True)\n",
        " \n",
        "  #Quantidade de dias diferentes que houve submissão\n",
        "  q11 = v11.groupby([\"idAluno\",\"dia\"])[\"questao\"].count().reset_index().sort_values(by=\"idAluno\")\n",
        "  q11 = q11.groupby([\"idAluno\"])[\"dia\"].count().reset_index().sort_values(by=\"idAluno\")\n",
        "  q11.rename(columns={\"dia\":\"submeteu1\"},inplace=True)\n",
        "  q12 = v12.groupby([\"idAluno\",\"dia\"])[\"questao\"].count().reset_index().sort_values(by=\"idAluno\")\n",
        "  q12 = q12.groupby([\"idAluno\"])[\"dia\"].count().reset_index().sort_values(by=\"idAluno\")\n",
        "  q12.rename(columns={\"dia\":\"submeteu2\"},inplace=True)\n",
        "  q13 = v13.groupby([\"idAluno\",\"dia\"])[\"questao\"].count().reset_index().sort_values(by=\"idAluno\")\n",
        "  q13 = q13.groupby([\"idAluno\"])[\"dia\"].count().reset_index().sort_values(by=\"idAluno\")\n",
        "  q13.rename(columns={\"dia\":\"submeteu3\"},inplace=True)\n",
        "  q14 = v14.groupby([\"idAluno\",\"dia\"])[\"questao\"].count().reset_index().sort_values(by=\"idAluno\")\n",
        "  q14 = q14.groupby([\"idAluno\"])[\"dia\"].count().reset_index().sort_values(by=\"idAluno\")\n",
        "  q14.rename(columns={\"dia\":\"submeteu4\"},inplace=True)\n",
        "  q15 = v15.groupby([\"idAluno\",\"dia\"])[\"questao\"].count().reset_index().sort_values(by=\"idAluno\")\n",
        "  q15 = q15.groupby([\"idAluno\"])[\"dia\"].count().reset_index().sort_values(by=\"idAluno\")\n",
        "  q15.rename(columns={\"dia\":\"submeteu5\"},inplace=True)\n",
        "  q16 = v16.groupby([\"idAluno\",\"dia\"])[\"questao\"].count().reset_index().sort_values(by=\"idAluno\")\n",
        "  q16 = q16.groupby([\"idAluno\"])[\"dia\"].count().reset_index().sort_values(by=\"idAluno\")\n",
        "  q16.rename(columns={\"dia\":\"submeteu6\"},inplace=True)\n",
        "  q17 = v17.groupby([\"idAluno\",\"dia\"])[\"questao\"].count().reset_index().sort_values(by=\"idAluno\")\n",
        "  q17 = q17.groupby([\"idAluno\"])[\"dia\"].count().reset_index().sort_values(by=\"idAluno\")\n",
        "  q17.rename(columns={\"dia\":\"submeteu7\"},inplace=True)\n",
        "  q18 = v18.groupby([\"idAluno\",\"dia\"])[\"questao\"].count().reset_index().sort_values(by=\"idAluno\")\n",
        "  q18 = q18.groupby([\"idAluno\"])[\"dia\"].count().reset_index().sort_values(by=\"idAluno\")\n",
        "  q18.rename(columns={\"dia\":\"submeteu8\"},inplace=True)\n",
        "  \n",
        "  #concatenação das tabelas  \n",
        "  prov2 = prov2.append(q11,sort=False,ignore_index=True)\n",
        "  prov2 = prov2.append(q12,sort=False,ignore_index=True)\n",
        "  prov2 = prov2.append(q13,sort=False,ignore_index=True)\n",
        "  prov2 = prov2.append(q14,sort=False,ignore_index=True)\n",
        "  prov2 = prov2.append(q15,sort=False,ignore_index=True)\n",
        "  prov2 = prov2.append(q16,sort=False,ignore_index=True)\n",
        "  prov2 = prov2.append(q17,sort=False,ignore_index=True)\n",
        "  prov2 = prov2.append(q18,sort=False,ignore_index=True)\n",
        "    \n",
        "  #Verificando os turnos e criando um label, em seguida agrupando\n",
        "  vf=sub.loc[(sub[\"data\"]>d11) & (sub[\"data\"]<=d19),:]\n",
        "  sub0 = vf.loc[sub[\"turno\"]==0,:]\n",
        "  sub1 = vf.loc[sub[\"turno\"]==1,:]\n",
        "  sub2 = vf.loc[sub[\"turno\"]==2,:]\n",
        "  sub3 = vf.loc[sub[\"turno\"]==3,:]\n",
        "  sub0 = sub0.groupby([\"idAluno\"])[\"questao\"].count().reset_index().sort_values(by=\"idAluno\")\n",
        "  sub1 = sub1.groupby([\"idAluno\"])[\"questao\"].count().reset_index().sort_values(by=\"idAluno\")\n",
        "  sub2 = sub2.groupby([\"idAluno\"])[\"questao\"].count().reset_index().sort_values(by=\"idAluno\")\n",
        "  sub3 = sub3.groupby([\"idAluno\"])[\"questao\"].count().reset_index().sort_values(by=\"idAluno\")\n",
        "  sub0.rename(columns={\"questao\":\"madrugada\"},inplace=True)\n",
        "  sub1.rename(columns={\"questao\":\"manha\"},inplace=True)\n",
        "  sub2.rename(columns={\"questao\":\"tarde\"},inplace=True)\n",
        "  sub3.rename(columns={\"questao\":\"noite\"},inplace=True)  \n",
        "  \n",
        "  #concatenação das tabelas  \n",
        "  prov3 = prov3.append(sub0,sort=False,ignore_index=True)\n",
        "  prov3 = prov3.append(sub1,sort=False,ignore_index=True)\n",
        "  prov3 = prov3.append(sub2,sort=False,ignore_index=True)\n",
        "  prov3 = prov3.append(sub3,sort=False,ignore_index=True)\n",
        "   \n",
        "  #Separando as semanas entre intervalos para os 5 labs\n",
        "  s1 = sub.loc[(sub[\"data\"]>d11) & (sub[\"data\"]<=d13) & (sub[\"titulo\"].str.contains(\"Lab\")),:]\n",
        "  s2 = sub.loc[(sub[\"data\"]>d13) & (sub[\"data\"]<=d15) & (sub[\"titulo\"].str.contains(\"Lab\")),:]\n",
        "  s3 = sub.loc[(sub[\"data\"]>d15) & (sub[\"data\"]<=d17) & (sub[\"titulo\"].str.contains(\"Lab\")),:]\n",
        "  s4 = sub.loc[(sub[\"data\"]>d17) & (sub[\"data\"]<=d19) & (sub[\"titulo\"].str.contains(\"Lab\")),:]\n",
        "  s5 = sub.loc[(sub[\"data\"]>d19) & (sub[\"data\"]<=d21) & (sub[\"titulo\"].str.contains(\"Lab\")),:]\n",
        "  \n",
        "  #Separando as semanas entre intervalos para contar os exercicios submetidos\n",
        "  h1 = sub.loc[(sub[\"data\"]>d11) & (sub[\"data\"]<=d13) & (sub[\"titulo\"].str.contains(\"Exer\")),:]\n",
        "  h2 = sub.loc[(sub[\"data\"]>d13) & (sub[\"data\"]<=d15) & (sub[\"titulo\"].str.contains(\"Exer\")),:]\n",
        "  h3 = sub.loc[(sub[\"data\"]>d15) & (sub[\"data\"]<=d17) & (sub[\"titulo\"].str.contains(\"Exer\")),:]\n",
        "  h4 = sub.loc[(sub[\"data\"]>d17) & (sub[\"data\"]<=d19) & (sub[\"titulo\"].str.contains(\"Exer\")),:]\n",
        "  h5 = sub.loc[(sub[\"data\"]>d19) & (sub[\"data\"]<=d21) & (sub[\"titulo\"].str.contains(\"Exer\")),:]\n",
        "  \n",
        "  #Contando as submissões dos alunos nas listas do lab a cada 2 semanas \n",
        "  ns1 = s1.groupby([\"idAluno\"])[\"questao\"].count().reset_index().sort_values(by=\"idAluno\")\n",
        "  ns1.rename(columns={\"questao\":\"subListaLab23\"},inplace=True)\n",
        "  ns2 = s2.groupby([\"idAluno\"])[\"questao\"].count().reset_index().sort_values(by=\"idAluno\")\n",
        "  ns2.rename(columns={\"questao\":\"subListaLab45\"},inplace=True)\n",
        "  ns3 = s3.groupby([\"idAluno\"])[\"questao\"].count().reset_index().sort_values(by=\"idAluno\")\n",
        "  ns3.rename(columns={\"questao\":\"subListaLab67\"},inplace=True)\n",
        "  ns4 = s4.groupby([\"idAluno\"])[\"questao\"].count().reset_index().sort_values(by=\"idAluno\")\n",
        "  ns4.rename(columns={\"questao\":\"subListaLab89\"},inplace=True)\n",
        "  ns5 = s5.groupby([\"idAluno\"])[\"questao\"].count().reset_index().sort_values(by=\"idAluno\")\n",
        "  ns5.rename(columns={\"questao\":\"subListaLab1011\"},inplace=True)\n",
        "  \n",
        "  #Contando as submissões dos alunos nas listas do lab a cada 2 semanas \n",
        "  ms1 = h1.groupby([\"idAluno\"])[\"questao\"].count().reset_index().sort_values(by=\"idAluno\")\n",
        "  ms1.rename(columns={\"questao\":\"subListaExer23\"},inplace=True)\n",
        "  ms2 = h2.groupby([\"idAluno\"])[\"questao\"].count().reset_index().sort_values(by=\"idAluno\")\n",
        "  ms2.rename(columns={\"questao\":\"subListaExer45\"},inplace=True)\n",
        "  ms3 = h3.groupby([\"idAluno\"])[\"questao\"].count().reset_index().sort_values(by=\"idAluno\")\n",
        "  ms3.rename(columns={\"questao\":\"subListaExer67\"},inplace=True)\n",
        "  ms4 = h4.groupby([\"idAluno\"])[\"questao\"].count().reset_index().sort_values(by=\"idAluno\")\n",
        "  ms4.rename(columns={\"questao\":\"subListaExer89\"},inplace=True)\n",
        "  ms5 = h5.groupby([\"idAluno\"])[\"questao\"].count().reset_index().sort_values(by=\"idAluno\")\n",
        "  ms5.rename(columns={\"questao\":\"subListaExer1011\"},inplace=True)\n",
        "  \n",
        "  #concatenação das tabelas\n",
        "  prov4 = prov4.append(ns1,sort=False,ignore_index=True)\n",
        "  prov4 = prov4.append(ns2,sort=False,ignore_index=True)\n",
        "  prov4 = prov4.append(ns3,sort=False,ignore_index=True)\n",
        "  prov4 = prov4.append(ns4,sort=False,ignore_index=True)\n",
        "  prov4 = prov4.append(ns5,sort=False,ignore_index=True)\n",
        "  \n",
        "  #concatenação das tabelas\n",
        "  prov7 = prov7.append(ms1,sort=False,ignore_index=True)\n",
        "  prov7 = prov7.append(ms2,sort=False,ignore_index=True)\n",
        "  prov7 = prov7.append(ms3,sort=False,ignore_index=True)\n",
        "  prov7 = prov7.append(ms4,sort=False,ignore_index=True)\n",
        "  prov7 = prov7.append(ms5,sort=False,ignore_index=True)\n",
        "    \n",
        "  #Agrupando por dia para saber a quantidade de questões submetidas de lab pelo aluno por semana\n",
        "  qs1 = s1.groupby([\"idAluno\",\"dia\"])[\"questao\"].count().reset_index().sort_values(by=\"idAluno\")\n",
        "  qs1 = qs1.groupby([\"idAluno\"])[\"dia\"].count().reset_index().sort_values(by=\"idAluno\")\n",
        "  qs1.rename(columns={\"dia\":\"subDistintasLab23\"},inplace=True)\n",
        "  qs2 = s2.groupby([\"idAluno\",\"dia\"])[\"questao\"].count().reset_index().sort_values(by=\"idAluno\")\n",
        "  qs2 = qs2.groupby([\"idAluno\"])[\"dia\"].count().reset_index().sort_values(by=\"idAluno\")\n",
        "  qs2.rename(columns={\"dia\":\"subDistintasLab45\"},inplace=True)\n",
        "  qs3 = s3.groupby([\"idAluno\",\"dia\"])[\"questao\"].count().reset_index().sort_values(by=\"idAluno\")\n",
        "  qs3 = qs3.groupby([\"idAluno\"])[\"dia\"].count().reset_index().sort_values(by=\"idAluno\")\n",
        "  qs3.rename(columns={\"dia\":\"subDistintasLab67\"},inplace=True)\n",
        "  qs4 = s4.groupby([\"idAluno\",\"dia\"])[\"questao\"].count().reset_index().sort_values(by=\"idAluno\")\n",
        "  qs4 = qs4.groupby([\"idAluno\"])[\"dia\"].count().reset_index().sort_values(by=\"idAluno\")\n",
        "  qs4.rename(columns={\"dia\":\"subDistintasLab89\"},inplace=True)  \n",
        "  qs5 = s5.groupby([\"idAluno\",\"dia\"])[\"questao\"].count().reset_index().sort_values(by=\"idAluno\")\n",
        "  qs5 = qs5.groupby([\"idAluno\"])[\"dia\"].count().reset_index().sort_values(by=\"idAluno\")\n",
        "  qs5.rename(columns={\"dia\":\"subDistintasLab1011\"},inplace=True)\n",
        "  \n",
        "  #Agrupando por dia para saber a quantidade de questões submetidas de exercicio pelo aluno por semana\n",
        "  hs1 = h1.groupby([\"idAluno\",\"dia\"])[\"questao\"].count().reset_index().sort_values(by=\"idAluno\")\n",
        "  hs1 = hs1.groupby([\"idAluno\"])[\"dia\"].count().reset_index().sort_values(by=\"idAluno\")\n",
        "  hs1.rename(columns={\"dia\":\"subDistintasExer23\"},inplace=True)\n",
        "  hs2 = h2.groupby([\"idAluno\",\"dia\"])[\"questao\"].count().reset_index().sort_values(by=\"idAluno\")\n",
        "  hs2 = hs2.groupby([\"idAluno\"])[\"dia\"].count().reset_index().sort_values(by=\"idAluno\")\n",
        "  hs2.rename(columns={\"dia\":\"subDistintasExer45\"},inplace=True)\n",
        "  hs3 = h3.groupby([\"idAluno\",\"dia\"])[\"questao\"].count().reset_index().sort_values(by=\"idAluno\")\n",
        "  hs3 = hs3.groupby([\"idAluno\"])[\"dia\"].count().reset_index().sort_values(by=\"idAluno\")\n",
        "  hs3.rename(columns={\"dia\":\"subDistintasExer67\"},inplace=True)\n",
        "  hs4 = h4.groupby([\"idAluno\",\"dia\"])[\"questao\"].count().reset_index().sort_values(by=\"idAluno\")\n",
        "  hs4 = hs4.groupby([\"idAluno\"])[\"dia\"].count().reset_index().sort_values(by=\"idAluno\")\n",
        "  hs4.rename(columns={\"dia\":\"subDistintasExer89\"},inplace=True)  \n",
        "  hs5 = h5.groupby([\"idAluno\",\"dia\"])[\"questao\"].count().reset_index().sort_values(by=\"idAluno\")\n",
        "  hs5 = hs5.groupby([\"idAluno\"])[\"dia\"].count().reset_index().sort_values(by=\"idAluno\")\n",
        "  hs5.rename(columns={\"dia\":\"subDistintasExer1011\"},inplace=True)\n",
        "  \n",
        "  #concatenação das tabelas\n",
        "  prov5 = prov5.append(qs1,sort=False,ignore_index=True)\n",
        "  prov5 = prov5.append(qs2,sort=False,ignore_index=True)\n",
        "  prov5 = prov5.append(qs3,sort=False,ignore_index=True)\n",
        "  prov5 = prov5.append(qs4,sort=False,ignore_index=True)\n",
        "  prov5 = prov5.append(qs5,sort=False,ignore_index=True)\n",
        "  \n",
        "  #concatenação das tabelas\n",
        "  prov8 = prov8.append(hs1,sort=False,ignore_index=True)\n",
        "  prov8 = prov8.append(hs2,sort=False,ignore_index=True)\n",
        "  prov8 = prov8.append(hs3,sort=False,ignore_index=True)\n",
        "  prov8 = prov8.append(hs4,sort=False,ignore_index=True)\n",
        "  prov8 = prov8.append(hs5,sort=False,ignore_index=True)\n",
        "  \n",
        "  #Contando a quantidade de questoes de Lab diferentes por intervalo de semana\n",
        "  m1 = s1.groupby([\"idAluno\",\"questao\"])[\"titulo\"].count().reset_index().sort_values(by=\"idAluno\")\n",
        "  m1 = m1.groupby([\"idAluno\"])[\"questao\"].count().reset_index().sort_values(by=\"idAluno\")\n",
        "  m1.rename(columns={\"questao\":\"diferentesLabSemanas23\"},inplace=True)\n",
        "  \n",
        "  m2 = s2.groupby([\"idAluno\",\"questao\"])[\"titulo\"].count().reset_index().sort_values(by=\"idAluno\")\n",
        "  m2 = m2.groupby([\"idAluno\"])[\"questao\"].count().reset_index().sort_values(by=\"idAluno\")\n",
        "  m2.rename(columns={\"questao\":\"diferentesLabSemanas45\"},inplace=True)\n",
        "  m3 = s3.groupby([\"idAluno\",\"questao\"])[\"titulo\"].count().reset_index().sort_values(by=\"idAluno\")\n",
        "  m3 = m3.groupby([\"idAluno\"])[\"questao\"].count().reset_index().sort_values(by=\"idAluno\")\n",
        "  m3.rename(columns={\"questao\":\"diferentesLabSemanas67\"},inplace=True)\n",
        "  m4 = s4.groupby([\"idAluno\",\"questao\"])[\"titulo\"].count().reset_index().sort_values(by=\"idAluno\")\n",
        "  m4 = m4.groupby([\"idAluno\"])[\"questao\"].count().reset_index().sort_values(by=\"idAluno\")\n",
        "  m4.rename(columns={\"questao\":\"diferentesLabSemanas89\"},inplace=True)\n",
        "  m5 = s5.groupby([\"idAluno\",\"questao\"])[\"titulo\"].count().reset_index().sort_values(by=\"idAluno\")\n",
        "  m5 = m5.groupby([\"idAluno\"])[\"questao\"].count().reset_index().sort_values(by=\"idAluno\")\n",
        "  m5.rename(columns={\"questao\":\"diferentesLabSemanas1011\"},inplace=True)\n",
        "  \n",
        "  #Contando a quantidade de questoes de Exercicio diferentes por intervalo de semana\n",
        "  p1 = h1.groupby([\"idAluno\",\"questao\"])[\"titulo\"].count().reset_index().sort_values(by=\"idAluno\")\n",
        "  p1 = p1.groupby([\"idAluno\"])[\"questao\"].count().reset_index().sort_values(by=\"idAluno\")\n",
        "  p1.rename(columns={\"questao\":\"diferentesExerSemanas23\"},inplace=True)\n",
        "  p2 = h2.groupby([\"idAluno\",\"questao\"])[\"titulo\"].count().reset_index().sort_values(by=\"idAluno\")\n",
        "  p2 = p2.groupby([\"idAluno\"])[\"questao\"].count().reset_index().sort_values(by=\"idAluno\")\n",
        "  p2.rename(columns={\"questao\":\"diferentesExerSemanas45\"},inplace=True)\n",
        "  p3 = h3.groupby([\"idAluno\",\"questao\"])[\"titulo\"].count().reset_index().sort_values(by=\"idAluno\")\n",
        "  p3 = p3.groupby([\"idAluno\"])[\"questao\"].count().reset_index().sort_values(by=\"idAluno\")\n",
        "  p3.rename(columns={\"questao\":\"diferentesExerSemanas67\"},inplace=True)\n",
        "  p4 = h4.groupby([\"idAluno\",\"questao\"])[\"titulo\"].count().reset_index().sort_values(by=\"idAluno\")\n",
        "  p4 = p4.groupby([\"idAluno\"])[\"questao\"].count().reset_index().sort_values(by=\"idAluno\")\n",
        "  p4.rename(columns={\"questao\":\"diferentesExerSemanas89\"},inplace=True)\n",
        "  p5 = h5.groupby([\"idAluno\",\"questao\"])[\"titulo\"].count().reset_index().sort_values(by=\"idAluno\")\n",
        "  p5 = p5.groupby([\"idAluno\"])[\"questao\"].count().reset_index().sort_values(by=\"idAluno\")\n",
        "  p5.rename(columns={\"questao\":\"diferentesExerSemanas1011\"},inplace=True) \n",
        "\n",
        "  #concatenação das tabelas  \n",
        "  prov6 = prov6.append(m1,sort=False,ignore_index=True)\n",
        "  prov6 = prov6.append(m2,sort=False,ignore_index=True)\n",
        "  prov6 = prov6.append(m3,sort=False,ignore_index=True)\n",
        "  prov6 = prov6.append(m4,sort=False,ignore_index=True)\n",
        "  prov6 = prov6.append(m5,sort=False,ignore_index=True)\n",
        "\n",
        "  #concatenação das tabelas\n",
        "  prov9 = prov9.append(p1,sort=False,ignore_index=True)\n",
        "  prov9 = prov9.append(p2,sort=False,ignore_index=True)\n",
        "  prov9 = prov9.append(p3,sort=False,ignore_index=True)\n",
        "  prov9 = prov9.append(p4,sort=False,ignore_index=True)\n",
        "  prov9 = prov9.append(p5,sort=False,ignore_index=True)\n",
        "\n",
        "  \n",
        "  return prov1,prov2,prov3,prov4,prov5,prov6,prov7,prov8,prov9"
      ],
      "execution_count": 0,
      "outputs": []
    },
    {
      "cell_type": "markdown",
      "metadata": {
        "id": "LXRMGK3n4Oua",
        "colab_type": "text"
      },
      "source": [
        "Criando um dataframe provisório para utilizar com o append"
      ]
    },
    {
      "cell_type": "code",
      "metadata": {
        "id": "1wP7xLRk4OZe",
        "colab_type": "code",
        "colab": {}
      },
      "source": [
        "prov1 = pd.DataFrame()\n",
        "prov2 = pd.DataFrame()\n",
        "prov3 = pd.DataFrame()\n",
        "prov4 = pd.DataFrame()\n",
        "prov5 = pd.DataFrame()\n",
        "prov6 = pd.DataFrame()\n",
        "prov7 = pd.DataFrame()\n",
        "prov8 = pd.DataFrame()\n",
        "prov9 = pd.DataFrame()\n",
        "\n",
        "prov1[\"idAluno\"]=0\n",
        "prov1[\"qsemana1\"]=0\n",
        "prov1[\"qsemana2\"]=0\n",
        "prov1[\"qsemana3\"]=0\n",
        "prov1[\"qsemana4\"]=0\n",
        "prov1[\"qsemana5\"]=0\n",
        "prov1[\"qsemana6\"]=0\n",
        "prov1[\"qsemana7\"]=0\n",
        "prov1[\"qsemana8\"]=0\n",
        "\n",
        "prov2[\"idAluno\"]=0\n",
        "prov2[\"submeteu1\"]=0\n",
        "prov2[\"submeteu2\"]=0\n",
        "prov2[\"submeteu3\"]=0\n",
        "prov2[\"submeteu4\"]=0\n",
        "prov2[\"submeteu5\"]=0\n",
        "prov2[\"submeteu6\"]=0\n",
        "prov2[\"submeteu7\"]=0\n",
        "prov2[\"submeteu8\"]=0\n",
        "\n",
        "prov3[\"idAluno\"]=0\n",
        "prov3[\"madrugada\"]=0\n",
        "prov3[\"manha\"]=0\n",
        "prov3[\"tarde\"]=0\n",
        "prov3[\"noite\"]=0\n",
        "\n",
        "prov4[\"idAluno\"]=0\n",
        "prov4[\"subListaLab23\"]=0\n",
        "prov4[\"subListaLab45\"]=0\n",
        "prov4[\"subListaLab67\"]=0\n",
        "prov4[\"subListaLab89\"]=0\n",
        "prov4[\"subListaLab1011\"]=0\n",
        "\n",
        "prov5[\"idAluno\"]=0\n",
        "prov5[\"subDistintasLab23\"]=0\n",
        "prov5[\"subDistintasLab45\"]=0\n",
        "prov5[\"subDistintasLab67\"]=0\n",
        "prov5[\"subDistintasLab89\"]=0\n",
        "prov5[\"subDistintasLab1011\"]=0\n",
        "\n",
        "prov6[\"idAluno\"]=0\n",
        "prov6[\"diferentesLabSemanas23\"]=0\n",
        "prov6[\"diferentesLabSemanas45\"]=0\n",
        "prov6[\"diferentesLabSemanas67\"]=0\n",
        "prov6[\"diferentesLabSemanas89\"]=0\n",
        "prov6[\"diferentesLabSemanas1011\"]=0\n",
        "\n",
        "#mesmo processo agora para listas de exercicios\n",
        "prov7[\"idAluno\"]=0\n",
        "prov7[\"subListaExer23\"]=0\n",
        "prov7[\"subListaExer45\"]=0\n",
        "prov7[\"subListaExer67\"]=0\n",
        "prov7[\"subListaExer89\"]=0\n",
        "prov7[\"subListaExer1011\"]=0\n",
        "\n",
        "prov8[\"idAluno\"]=0\n",
        "prov8[\"subDistintasExer23\"]=0\n",
        "prov8[\"subDistintasExer45\"]=0\n",
        "prov8[\"subDistintasExer67\"]=0\n",
        "prov8[\"subDistintasExer89\"]=0\n",
        "prov8[\"subDistintasExer1011\"]=0\n",
        "\n",
        "prov9[\"idAluno\"]=0\n",
        "prov9[\"diferentesExerSemanas23\"]=0\n",
        "prov9[\"diferentesExerSemanas45\"]=0\n",
        "prov9[\"diferentesExerSemanas67\"]=0\n",
        "prov9[\"diferentesExerSemanas89\"]=0\n",
        "prov9[\"diferentesExerSemanas1011\"]=0\n"
      ],
      "execution_count": 0,
      "outputs": []
    },
    {
      "cell_type": "markdown",
      "metadata": {
        "id": "tf4mwmpfjDtH",
        "colab_type": "text"
      },
      "source": [
        "Chamada de funções"
      ]
    },
    {
      "cell_type": "code",
      "metadata": {
        "id": "b5_nhhW0jDeK",
        "colab_type": "code",
        "colab": {}
      },
      "source": [
        "prov1,prov2,prov3,prov4,prov5,prov6,prov7,prov8,prov9 = trata(sub,prov1,prov2,prov3,prov4,prov5,prov6,prov7,prov8,prov9,d1)\n",
        "prov1,prov2,prov3,prov4,prov5,prov6,prov7,prov8,prov9 = trata(sub,prov1,prov2,prov3,prov4,prov5,prov6,prov7,prov8,prov9,d2)\n",
        "prov1,prov2,prov3,prov4,prov5,prov6,prov7,prov8,prov9 = trata(sub,prov1,prov2,prov3,prov4,prov5,prov6,prov7,prov8,prov9,d3)\n",
        "prov1,prov2,prov3,prov4,prov5,prov6,prov7,prov8,prov9 = trata(sub,prov1,prov2,prov3,prov4,prov5,prov6,prov7,prov8,prov9,d4)"
      ],
      "execution_count": 0,
      "outputs": []
    },
    {
      "cell_type": "code",
      "metadata": {
        "id": "-RHvQNdvsT_e",
        "colab_type": "code",
        "colab": {}
      },
      "source": [
        "prov9.head(4)"
      ],
      "execution_count": 0,
      "outputs": []
    },
    {
      "cell_type": "markdown",
      "metadata": {
        "id": "X4_iklDSIEEO",
        "colab_type": "text"
      },
      "source": [
        "Limpando dados, depois agrupando para formar toda a tabela"
      ]
    },
    {
      "cell_type": "code",
      "metadata": {
        "id": "pvtRH4qCCLcw",
        "colab_type": "code",
        "colab": {}
      },
      "source": [
        "prov1.replace(np.nan, 0, inplace=True)\n",
        "prov2.replace(np.nan, 0, inplace=True)\n",
        "prov3.replace(np.nan, 0, inplace=True)\n",
        "prov4.replace(np.nan, 0, inplace=True)\n",
        "prov5.replace(np.nan, 0, inplace=True)\n",
        "prov6.replace(np.nan, 0, inplace=True)\n",
        "prov7.replace(np.nan, 0, inplace=True)\n",
        "prov8.replace(np.nan, 0, inplace=True)\n",
        "prov9.replace(np.nan, 0, inplace=True)\n",
        "\n",
        "prov1 = prov1.groupby([\"idAluno\"]).sum()\n",
        "prov2 = prov2.groupby([\"idAluno\"]).sum()\n",
        "prov3 = prov3.groupby([\"idAluno\"]).sum()\n",
        "prov4 = prov4.groupby([\"idAluno\"]).sum()\n",
        "prov5 = prov5.groupby([\"idAluno\"]).sum()\n",
        "prov6 = prov6.groupby([\"idAluno\"]).sum()\n",
        "prov7 = prov7.groupby([\"idAluno\"]).sum()\n",
        "prov8 = prov8.groupby([\"idAluno\"]).sum()\n",
        "prov9 = prov9.groupby([\"idAluno\"]).sum()"
      ],
      "execution_count": 0,
      "outputs": []
    },
    {
      "cell_type": "code",
      "metadata": {
        "id": "ewy6tMr6KEPi",
        "colab_type": "code",
        "colab": {}
      },
      "source": [
        "prov9.head(6)"
      ],
      "execution_count": 0,
      "outputs": []
    },
    {
      "cell_type": "markdown",
      "metadata": {
        "id": "sOvWdB7nTHvY",
        "colab_type": "text"
      },
      "source": [
        "Juntando a tabela de notas com as 3 novas tabelas"
      ]
    },
    {
      "cell_type": "code",
      "metadata": {
        "id": "qQfubGP4RxYL",
        "colab_type": "code",
        "colab": {}
      },
      "source": [
        "table1=pd.merge(pd.merge(nota,prov1,on=\"idAluno\"),pd.merge(prov2,prov3,on=\"idAluno\"),on=\"idAluno\")\n",
        "table2=pd.merge(pd.merge(table1,prov4,on=\"idAluno\"),pd.merge(prov7,prov5,on=\"idAluno\"),on=\"idAluno\")\n",
        "table=pd.merge(pd.merge(table2,prov8,on=\"idAluno\"),pd.merge(prov6,prov9,on=\"idAluno\"),on=\"idAluno\")\n",
        "table.head()"
      ],
      "execution_count": 0,
      "outputs": []
    },
    {
      "cell_type": "code",
      "metadata": {
        "id": "MWC8bJEkjiv8",
        "colab_type": "code",
        "colab": {}
      },
      "source": [
        "a=table.loc[table[\"idAluno\"]==\"59ad93041ec9d13cacb45e36\",:]\n",
        "a"
      ],
      "execution_count": 0,
      "outputs": []
    },
    {
      "cell_type": "code",
      "metadata": {
        "id": "msoW3OyljQwg",
        "colab_type": "code",
        "colab": {}
      },
      "source": [
        "table[\"idAluno\"].value_counts()"
      ],
      "execution_count": 0,
      "outputs": []
    },
    {
      "cell_type": "markdown",
      "metadata": {
        "id": "F4sJ6txFwgIy",
        "colab_type": "text"
      },
      "source": [
        "Contando a quantidade de questões por Lista"
      ]
    },
    {
      "cell_type": "code",
      "metadata": {
        "id": "MZsfkx64wXHN",
        "colab_type": "code",
        "colab": {}
      },
      "source": [
        "qnt = pd.DataFrame()\n",
        "sub = sub.loc[(sub[\"titulo\"].str.contains(\"Lab\")) | (sub[\"titulo\"].str.contains(\"Exer\")),:]\n",
        "qnt = sub.groupby(\"idLista\").count()\n",
        "#qnt = sub.groupby([\"idLista\",\"questao\"])[\"titulo\"].count().reset_index()\n",
        "#qnt.rename(columns={\"questao\":\"quantidade\"}, inplace=True)\n",
        "qnt.head()"
      ],
      "execution_count": 0,
      "outputs": []
    },
    {
      "cell_type": "markdown",
      "metadata": {
        "id": "KwK55Ckqybfw",
        "colab_type": "text"
      },
      "source": [
        "Porcentagem Máxima por aluno em cada questão da lista"
      ]
    },
    {
      "cell_type": "code",
      "metadata": {
        "id": "fhoIT3wNyZ1v",
        "colab_type": "code",
        "colab": {}
      },
      "source": [
        "maxi = pd.DataFrame()\n",
        "maxi = sub.groupby([\"idLista\",\"idAluno\",\"questao\"]).max().reset_index()\n",
        "maxi.rename(columns={\"porcentagemAcerto\":\"porcentagemMaxima\"}, inplace=True)\n",
        "maxi.head(1)"
      ],
      "execution_count": 0,
      "outputs": []
    },
    {
      "cell_type": "markdown",
      "metadata": {
        "id": "UR-OJOTXy3l8",
        "colab_type": "text"
      },
      "source": [
        "Quantidade de questoes feitas por aluno em cada lista"
      ]
    },
    {
      "cell_type": "code",
      "metadata": {
        "id": "4rSuZ0a3y2lm",
        "colab_type": "code",
        "colab": {}
      },
      "source": [
        "quantidade = NotaMaxQuestao.groupby([\"titulo\",\"idAluno\"]).count()\n",
        "quantidade.rename(columns={\"quantidade\":\"questoesFeitas\"}, inplace=True)\n",
        "quantidade= quantidade.reset_index()\n",
        "quantidade= quantidade[[\"titulo\",\"idAluno\",\"questoesFeitas\"]]\n",
        "print(quantidade.columns)\n",
        "quantidade.head(1)"
      ],
      "execution_count": 0,
      "outputs": []
    },
    {
      "cell_type": "markdown",
      "metadata": {
        "id": "aEJHPj8P8VLb",
        "colab_type": "text"
      },
      "source": [
        "**Nota final dos alunos por lista**"
      ]
    },
    {
      "cell_type": "code",
      "metadata": {
        "id": "BtXGgwU2zBW_",
        "colab_type": "code",
        "colab": {}
      },
      "source": [
        "NotaLista = NotaMaxQuestao.groupby([\"titulo\",\"idAluno\"]).sum()\n",
        "NotaLista.rename(columns={\"porcentagemMaxima\":\"SomaLista\", \"quantidade\":\"questoesFeitas\"}, inplace=True)\n",
        "NotaLista = NotaLista.drop('ano',axis=1)\n",
        "NotaLista = NotaLista.reset_index()\n",
        "NotaLista = NotaLista[[\"titulo\",'idAluno','SomaLista']]\n",
        "print(NotaLista.columns)\n",
        "NotaLista.head(1)"
      ],
      "execution_count": 0,
      "outputs": []
    },
    {
      "cell_type": "code",
      "metadata": {
        "id": "8NBQCvIYXnrZ",
        "colab_type": "code",
        "colab": {}
      },
      "source": [
        "table.describe()"
      ],
      "execution_count": 0,
      "outputs": []
    },
    {
      "cell_type": "code",
      "metadata": {
        "id": "vq9e9cwTEL9M",
        "colab_type": "code",
        "colab": {}
      },
      "source": [
        "database = table.iloc[:,:]\n",
        "database = database.drop(columns={\"matricula\",\"idAluno\",\"idTurma\"})\n",
        "database.head(1)"
      ],
      "execution_count": 0,
      "outputs": []
    },
    {
      "cell_type": "markdown",
      "metadata": {
        "id": "6EbSIWLwKT8f",
        "colab_type": "text"
      },
      "source": [
        "Gerando .csv"
      ]
    },
    {
      "cell_type": "code",
      "metadata": {
        "id": "des5ZezFKTkE",
        "colab_type": "code",
        "colab": {}
      },
      "source": [
        "database.to_csv(r\"DataBaseLop.csv\")"
      ],
      "execution_count": 0,
      "outputs": []
    },
    {
      "cell_type": "markdown",
      "metadata": {
        "id": "9IaX_2sAR8sf",
        "colab_type": "text"
      },
      "source": [
        "\n",
        "# Glossario\n",
        "\n",
        "*  qsemana == quantidade de submissões dos alunos por semana \n",
        "---\n",
        "\n",
        "\n",
        "*  submeteu = quantidade de dias diferentes que houve submissão\n",
        "---\n",
        "\n",
        "\n",
        "*  subListaLab  == quantidade de submissões na lista de lab a cada 2 semanas\n",
        "*  subListaExer  == quantidade de submissões na lista de exer a cada 2 semanas\n",
        "\n",
        "\n",
        "---\n",
        "\n",
        "\n",
        "*  subDistintasLab  == quantidade de dias em que submeteu a cada 2 semanas nas listas de lab\n",
        "*  subDistintasExer  == quantidade de dias em que submeteu a cada 2 semanas nas listas de exer\n",
        "\n",
        "\n",
        "---\n",
        "\n",
        "\n",
        "*  diferentesLabSemanas  == quantidade de questões diferentes submetidas nas listas de lab a cada 2 semanas\n",
        "*  diferentesExerSemanas  == quantidade de questões diferentes submetidas nas listas de lab a cada 2 semanas\n",
        "\n",
        "\n",
        "---\n",
        "\n",
        "*  situacao == indica se o aluno foi aprovado (1) ou reprovado (0)\n",
        "\n",
        "\n",
        "\n",
        "---\n",
        "\n",
        "*  qsub == quantidade de submissões das listas correspondente (seja lab ou exercicio)\n",
        "\n",
        "---\n",
        "*  qsubp == quantidade de questões submetidas para a prova 1 (L1,L2,L3) ou da prova 2 (L4,L5)\n",
        "\n",
        "\n",
        "---\n",
        "*  totalsub == total de submissões feitas pelo aluno\n",
        "\n",
        "\n",
        "---\n",
        "\n",
        "*  igualACem == quantidade de submissões em que o aluno acertou 100%, seja nas L123 ou L45\n"
      ]
    },
    {
      "cell_type": "markdown",
      "metadata": {
        "id": "DHbgDw_gSs4z",
        "colab_type": "text"
      },
      "source": [
        "# Análise de dos melhores alunos de 18.2 e 19.1"
      ]
    },
    {
      "cell_type": "code",
      "metadata": {
        "id": "KcawKpI6SseN",
        "colab_type": "code",
        "colab": {}
      },
      "source": [
        "df = table.loc[((table[\"ano\"]==2018.2) | (table[\"ano\"]==2019.1)) & (table[\"mediaProvas\"] > 70),:]\n",
        "df.describe()"
      ],
      "execution_count": 0,
      "outputs": []
    },
    {
      "cell_type": "code",
      "metadata": {
        "id": "QOMk_-CiZ7pv",
        "colab_type": "code",
        "colab": {}
      },
      "source": [
        "df"
      ],
      "execution_count": 0,
      "outputs": []
    },
    {
      "cell_type": "markdown",
      "metadata": {
        "id": "26XC7FfodEqC",
        "colab_type": "text"
      },
      "source": [
        "# Rede SOM"
      ]
    },
    {
      "cell_type": "markdown",
      "metadata": {
        "id": "8lrz-3EtdSA3",
        "colab_type": "text"
      },
      "source": [
        "SOM == todos os atributos numéricos para classificar, gerando uma matriz 10x10 da rede SOM"
      ]
    },
    {
      "cell_type": "code",
      "metadata": {
        "id": "ggHzdKS2-ODn",
        "colab_type": "code",
        "colab": {}
      },
      "source": [
        "ds = table.loc[(table[\"ano\"]==2018.2) | (table[\"ano\"]==2019.1),:]\n",
        "dataset = ds.iloc[:,44:74]\n",
        "dataset = dataset.astype(np.float16)\n",
        "dataset[\"situacao\"] = table[\"situacao\"]"
      ],
      "execution_count": 0,
      "outputs": []
    },
    {
      "cell_type": "code",
      "metadata": {
        "id": "ufnHZ6Ec-mZg",
        "colab_type": "code",
        "colab": {}
      },
      "source": [
        "dataset.head(2)"
      ],
      "execution_count": 0,
      "outputs": []
    },
    {
      "cell_type": "code",
      "metadata": {
        "id": "g-9F_c3_BT_1",
        "colab_type": "code",
        "colab": {}
      },
      "source": [
        "dataset2 = pd.DataFrame()\n",
        "dataset2[\"situacao\"] = dataset[\"situacao\"]\n",
        "dataset2[\"subListaLab23\"] = dataset[\"subListaLab23\"]\n",
        "dataset2[\"subDistintasLab23\"] = dataset[\"subDistintasLab23\"]\n",
        "dataset2[\"diferentesLabSemanas23\"] = dataset[\"diferentesLabSemanas23\"]\n",
        "dataset2[\"subListaExer23\"] = dataset[\"subListaExer23\"]\n",
        "dataset2[\"subDistintasExer23\"] = dataset[\"subDistintasExer23\"]\n",
        "dataset2[\"diferentesExerSemanas23\"] = dataset[\"diferentesExerSemanas23\"]"
      ],
      "execution_count": 0,
      "outputs": []
    },
    {
      "cell_type": "code",
      "metadata": {
        "id": "TXeRtDM0M_-d",
        "colab_type": "code",
        "colab": {}
      },
      "source": [
        "dataset2.head()"
      ],
      "execution_count": 0,
      "outputs": []
    },
    {
      "cell_type": "code",
      "metadata": {
        "id": "S_UUZMPbaDvK",
        "colab_type": "code",
        "colab": {}
      },
      "source": [
        "dataset3 = table.iloc[:,54:57]\n",
        "dataset3[\"situacao\"] = table[\"situacao\"]\n",
        "dataset3.head()"
      ],
      "execution_count": 0,
      "outputs": []
    },
    {
      "cell_type": "code",
      "metadata": {
        "id": "AyC9eHxLdzZl",
        "colab_type": "code",
        "colab": {}
      },
      "source": [
        "dataset3.iloc[:,-1]"
      ],
      "execution_count": 0,
      "outputs": []
    },
    {
      "cell_type": "code",
      "metadata": {
        "id": "oLSphPxzPovQ",
        "colab_type": "code",
        "colab": {}
      },
      "source": [
        "dataset2.shape"
      ],
      "execution_count": 0,
      "outputs": []
    },
    {
      "cell_type": "code",
      "metadata": {
        "id": "U5fCeDdNG2lM",
        "colab_type": "code",
        "colab": {}
      },
      "source": [
        "dataset.shape"
      ],
      "execution_count": 0,
      "outputs": []
    },
    {
      "cell_type": "code",
      "metadata": {
        "id": "LQkiY6o2-v4R",
        "colab_type": "code",
        "colab": {}
      },
      "source": [
        "X_train = dataset.iloc[:, 0:29].values \n",
        "target_train = dataset.iloc[:,30].values\n",
        "\n",
        "[row, col] = X_train.shape\n",
        "print (row,\" \",col)\n",
        "\n",
        "print(X_train[1,:])"
      ],
      "execution_count": 0,
      "outputs": []
    },
    {
      "cell_type": "code",
      "metadata": {
        "id": "tsEjF6l1GA4m",
        "colab_type": "code",
        "colab": {}
      },
      "source": [
        "# Instalando a MiniSOM\n",
        "!pip install minisom"
      ],
      "execution_count": 0,
      "outputs": []
    },
    {
      "cell_type": "code",
      "metadata": {
        "id": "2Hk3IhkqFnkx",
        "colab_type": "code",
        "colab": {}
      },
      "source": [
        "# Training the SOM\n",
        "tamanhoXdaRede = 10; \n",
        "tamanhoYdaRede = 10; \n",
        "\n",
        "quantidadeCaracteristicas = col\n",
        "from minisom import MiniSom\n",
        "som = MiniSom(x = tamanhoXdaRede, y = tamanhoYdaRede, input_len = quantidadeCaracteristicas, sigma = 1.0, learning_rate = 0.4)\n",
        "som.pca_weights_init(X_train)"
      ],
      "execution_count": 0,
      "outputs": []
    },
    {
      "cell_type": "code",
      "metadata": {
        "id": "89A4tvT5GMnp",
        "colab_type": "code",
        "colab": {}
      },
      "source": [
        "som.train_random(data = X_train, num_iteration = 40000)"
      ],
      "execution_count": 0,
      "outputs": []
    },
    {
      "cell_type": "code",
      "metadata": {
        "id": "6pZdoPZZGTXk",
        "colab_type": "code",
        "colab": {}
      },
      "source": [
        "# Obtem o vetor de pesos da rede treinada \n",
        "pesos = som.get_weights()"
      ],
      "execution_count": 0,
      "outputs": []
    },
    {
      "cell_type": "code",
      "metadata": {
        "id": "J6FPjovQGjCf",
        "colab_type": "code",
        "colab": {}
      },
      "source": [
        "# Mostra um peso \n",
        "x = np.arange(quantidadeCaracteristicas)\n",
        "plt.bar(x, pesos[1,2,:])\n",
        "plt.show()"
      ],
      "execution_count": 0,
      "outputs": []
    },
    {
      "cell_type": "code",
      "metadata": {
        "id": "JWQ3xdwwHKsC",
        "colab_type": "code",
        "colab": {}
      },
      "source": [
        "# obtendo os valores das repostas \n",
        "Y_train = target_train\n",
        "Y_train[1]"
      ],
      "execution_count": 0,
      "outputs": []
    },
    {
      "cell_type": "code",
      "metadata": {
        "id": "OKwkzLztHQ-l",
        "colab_type": "code",
        "colab": {}
      },
      "source": [
        "# encontra o vencedor \n",
        "x = X_train[1,:]\n",
        "pos = som.winner(x)\n",
        "\n",
        "\n",
        "# matriz de zeros para contador de aprovados \n",
        "MContAp = np.zeros((tamanhoXdaRede,tamanhoYdaRede))\n",
        "# matriz de zeros para o contador de reprovados \n",
        "MContT = np.zeros((tamanhoXdaRede,tamanhoYdaRede))\n",
        "cont = 0; \n",
        "for x in X_train: \n",
        "  pos = som.winner(x)\n",
        "  if (Y_train[cont] >= 1): #Aprovado \n",
        "    MContAp[pos] += 1\n",
        "  MContT[pos] += 1\n",
        "  cont= cont+1"
      ],
      "execution_count": 0,
      "outputs": []
    },
    {
      "cell_type": "code",
      "metadata": {
        "id": "Kv9cZMT_HTEu",
        "colab_type": "code",
        "colab": {}
      },
      "source": [
        "print(\"Total:\")\n",
        "print(MContT)\n",
        "\n",
        "\n",
        "print(\"Aprovados\")\n",
        "print(MContAp)"
      ],
      "execution_count": 0,
      "outputs": []
    },
    {
      "cell_type": "code",
      "metadata": {
        "id": "b6vHreuuHWKX",
        "colab_type": "code",
        "colab": {}
      },
      "source": [
        "# Mostra todos os pesos \n",
        "cont = 1;\n",
        "for row in pesos:\n",
        "  for elem in row:\n",
        "    plt.subplot(tamanhoXdaRede,tamanhoYdaRede,cont)\n",
        "    cont=cont+1\n",
        "    plt.axis([-1, 6, 0, 10])\n",
        "    plt.bar(x, elem)\n",
        "    plt.plot([-1,29],[1,1],'r')\n",
        "plt.show()\n",
        "#plt.savefig(\"test.jpg\", dpi=250)"
      ],
      "execution_count": 0,
      "outputs": []
    },
    {
      "cell_type": "markdown",
      "metadata": {
        "id": "p9wHKAzeOc5p",
        "colab_type": "text"
      },
      "source": [
        "**Para dados reduzidos**"
      ]
    },
    {
      "cell_type": "code",
      "metadata": {
        "id": "4q20x2d3Ofao",
        "colab_type": "code",
        "colab": {}
      },
      "source": [
        "X_train = dataset3.iloc[:,:5].values \n",
        "target_train = dataset3.iloc[:,5:].values\n",
        "\n",
        "[row, col] = X_train.shape\n",
        "print (row,\" \",col)\n",
        "\n",
        "print(X_train[1,:])"
      ],
      "execution_count": 0,
      "outputs": []
    },
    {
      "cell_type": "code",
      "metadata": {
        "id": "cWB8O64Jp8Oz",
        "colab_type": "code",
        "colab": {}
      },
      "source": [
        "# Feature Scaling\n",
        "from sklearn.preprocessing import MinMaxScaler\n",
        "sc = MinMaxScaler(feature_range = (0, 1))\n",
        "X = sc.fit_transform(X_train)"
      ],
      "execution_count": 0,
      "outputs": []
    },
    {
      "cell_type": "code",
      "metadata": {
        "id": "w5uvoArKoOFV",
        "colab_type": "code",
        "colab": {}
      },
      "source": [
        "# Training the SOM\n",
        "tamanhoXdaRede = 6; \n",
        "tamanhoYdaRede = 6; \n",
        "\n",
        "quantidadeCaracteristicas = col"
      ],
      "execution_count": 0,
      "outputs": []
    },
    {
      "cell_type": "code",
      "metadata": {
        "id": "JbRDk6DGOneQ",
        "colab_type": "code",
        "colab": {}
      },
      "source": [
        "from minisom import MiniSom\n",
        "som = MiniSom(x = tamanhoXdaRede, y = tamanhoYdaRede, input_len = quantidadeCaracteristicas, sigma = 1.0, learning_rate = 0.4)\n",
        "som.pca_weights_init(X_train)"
      ],
      "execution_count": 0,
      "outputs": []
    },
    {
      "cell_type": "code",
      "metadata": {
        "id": "hfB3yqk6OqSs",
        "colab_type": "code",
        "colab": {}
      },
      "source": [
        "som.train_random(data = X_train, num_iteration = 40000)"
      ],
      "execution_count": 0,
      "outputs": []
    },
    {
      "cell_type": "code",
      "metadata": {
        "id": "VdhIuntVOskm",
        "colab_type": "code",
        "colab": {}
      },
      "source": [
        "# Obtem o vetor de pesos da rede treinada \n",
        "pesos = som.get_weights()"
      ],
      "execution_count": 0,
      "outputs": []
    },
    {
      "cell_type": "code",
      "metadata": {
        "id": "PsuGNzkMO3sU",
        "colab_type": "code",
        "colab": {}
      },
      "source": [
        "# Mostra um peso \n",
        "x = np.arange(quantidadeCaracteristicas)\n",
        "plt.bar(x, pesos[1,2,:])\n",
        "plt.show()"
      ],
      "execution_count": 0,
      "outputs": []
    },
    {
      "cell_type": "code",
      "metadata": {
        "id": "NYUYEF7NO6BI",
        "colab_type": "code",
        "colab": {}
      },
      "source": [
        "# obtendo os valores das repostas \n",
        "Y_train = target_train\n",
        "Y_train[1]"
      ],
      "execution_count": 0,
      "outputs": []
    },
    {
      "cell_type": "code",
      "metadata": {
        "id": "R0hnurLuO9kg",
        "colab_type": "code",
        "colab": {}
      },
      "source": [
        "# encontra o vencedor \n",
        "x = X_train[1,:]\n",
        "pos = som.winner(x)\n",
        "\n",
        "\n",
        "# matriz de zeros para contador de aprovados \n",
        "MContAp = np.zeros((tamanhoXdaRede,tamanhoYdaRede))\n",
        "# matriz de zeros para o contador de reprovados \n",
        "MContT = np.zeros((tamanhoXdaRede,tamanhoYdaRede))\n",
        "cont = 0; \n",
        "for x in X_train: \n",
        "  pos = som.winner(x)\n",
        "  if (Y_train[cont] >= 1): #Aprovado \n",
        "    MContAp[pos] += 1\n",
        "  MContT[pos] += 1\n",
        "  cont= cont+1"
      ],
      "execution_count": 0,
      "outputs": []
    },
    {
      "cell_type": "code",
      "metadata": {
        "id": "x7QFdHhgPgUX",
        "colab_type": "code",
        "colab": {}
      },
      "source": [
        "print(\"Total:\")\n",
        "print(MContT)\n",
        "\n",
        "\n",
        "print(\"Aprovados\")\n",
        "print(MContAp)"
      ],
      "execution_count": 0,
      "outputs": []
    },
    {
      "cell_type": "code",
      "metadata": {
        "id": "F423G_-3Pi4V",
        "colab_type": "code",
        "colab": {}
      },
      "source": [
        "# Mostra todos os pesos \n",
        "cont = 1;\n",
        "for row in pesos:\n",
        "  for elem in row:\n",
        "    plt.subplot(tamanhoXdaRede,tamanhoYdaRede,cont)\n",
        "    cont=cont+1\n",
        "    plt.axis([-1, 6, 0, 10])\n",
        "    plt.bar(x, elem)\n",
        "    plt.plot([-1,8],[1,1],'r')\n",
        "plt.show()\n",
        "#plt.savefig(\"test.jpg\", dpi=250)"
      ],
      "execution_count": 0,
      "outputs": []
    },
    {
      "cell_type": "code",
      "metadata": {
        "id": "5rk5-iEtnbq8",
        "colab_type": "code",
        "colab": {}
      },
      "source": [
        "c = np.divide(MContAp,MContT)\n",
        "# Substitui nan por 0 \n",
        "res = c\n",
        "where_are_NaNs = np.isnan(res)\n",
        "\n",
        "res[where_are_NaNs] = 0\n",
        "print(res)"
      ],
      "execution_count": 0,
      "outputs": []
    },
    {
      "cell_type": "markdown",
      "metadata": {
        "id": "Nkw-DF5Hhw0l",
        "colab_type": "text"
      },
      "source": [
        "# Testes com a SOM"
      ]
    },
    {
      "cell_type": "code",
      "metadata": {
        "id": "r7QuPsRRhxOf",
        "colab_type": "code",
        "colab": {}
      },
      "source": [
        "data = [[ 0.80, 0.55, 0.22, 0.03],\n",
        "[ 0.82, 0.50, 0.23, 0.03],\n",
        "[ 0.80, 0.54, 0.22, 0.03],\n",
        "[ 0.80, 0.53, 0.26, 0.03],\n",
        "[ 0.79, 0.56, 0.22, 0.03],\n",
        "[ 0.75, 0.60, 0.25, 0.03],\n",
        "[ 0.77, 0.59, 0.22, 0.03]]"
      ],
      "execution_count": 0,
      "outputs": []
    },
    {
      "cell_type": "code",
      "metadata": {
        "id": "jc9noYs_h4yg",
        "colab_type": "code",
        "colab": {}
      },
      "source": [
        "from minisom import MiniSom"
      ],
      "execution_count": 0,
      "outputs": []
    },
    {
      "cell_type": "code",
      "metadata": {
        "id": "H0aRabt6h-Nk",
        "colab_type": "code",
        "colab": {}
      },
      "source": [
        "som = MiniSom(6, 6, 4, sigma=0.3, learning_rate=0.5)\n",
        "som.train_random(data, 100)"
      ],
      "execution_count": 0,
      "outputs": []
    },
    {
      "cell_type": "code",
      "metadata": {
        "id": "J1ifgf3Oi2Se",
        "colab_type": "code",
        "colab": {}
      },
      "source": [
        "qnt = som.quantization(data)"
      ],
      "execution_count": 0,
      "outputs": []
    },
    {
      "cell_type": "markdown",
      "metadata": {
        "id": "gxP2KGAudJNN",
        "colab_type": "text"
      },
      "source": [
        "# SVM RBF - teste"
      ]
    },
    {
      "cell_type": "markdown",
      "metadata": {
        "id": "nWO45-2sdN6i",
        "colab_type": "text"
      },
      "source": [
        "SVC RBF ao longo das semanas \n",
        "\n",
        "sublistalab23\n",
        "subListaExer23\n",
        "subDistintasLab23\n",
        "subDistintasExer23\n",
        "diferentesLabSemanas23\n",
        "diferentesExerSemanas23\n"
      ]
    },
    {
      "cell_type": "code",
      "metadata": {
        "id": "RudCPFZKYH6O",
        "colab_type": "code",
        "colab": {}
      },
      "source": [
        "from matplotlib.colors import Normalize\n",
        "from sklearn.svm import SVC\n",
        "from sklearn.preprocessing import StandardScaler\n",
        "from sklearn.datasets import load_iris\n",
        "from sklearn.model_selection import StratifiedShuffleSplit\n",
        "from sklearn.model_selection import GridSearchCV"
      ],
      "execution_count": 0,
      "outputs": []
    },
    {
      "cell_type": "markdown",
      "metadata": {
        "id": "wumSrbzjY4S0",
        "colab_type": "text"
      },
      "source": [
        "Função para mover um ponto médio de um mapa de cores em torno dos valores de interesse"
      ]
    },
    {
      "cell_type": "code",
      "metadata": {
        "id": "AvGZ_jcIYfdu",
        "colab_type": "code",
        "colab": {}
      },
      "source": [
        "class MidpointNormalize(Normalize):\n",
        "\n",
        "    def __init__(self, vmin=None, vmax=None, midpoint=None, clip=False):\n",
        "        self.midpoint = midpoint\n",
        "        Normalize.__init__(self, vmin, vmax, clip)\n",
        "\n",
        "    def __call__(self, value, clip=None):\n",
        "        x, y = [self.vmin, self.midpoint, self.vmax], [0, 0.5, 1]\n",
        "        return np.ma.masked_array(np.interp(value, x, y))"
      ],
      "execution_count": 0,
      "outputs": []
    },
    {
      "cell_type": "markdown",
      "metadata": {
        "id": "rlfCWU29gNAa",
        "colab_type": "text"
      },
      "source": [
        "Selecionando as colunas de interesse"
      ]
    },
    {
      "cell_type": "code",
      "metadata": {
        "id": "_z4yRuS0ftAx",
        "colab_type": "code",
        "colab": {}
      },
      "source": [
        "df = table.iloc[:,44:74]"
      ],
      "execution_count": 0,
      "outputs": []
    },
    {
      "cell_type": "code",
      "metadata": {
        "id": "lDn0cke0fzmY",
        "colab_type": "code",
        "colab": {}
      },
      "source": [
        "y = table[\"situacao\"]"
      ],
      "execution_count": 0,
      "outputs": []
    },
    {
      "cell_type": "code",
      "metadata": {
        "id": "UhASXARngHTd",
        "colab_type": "code",
        "colab": {}
      },
      "source": [
        "df.head()"
      ],
      "execution_count": 0,
      "outputs": []
    },
    {
      "cell_type": "code",
      "metadata": {
        "id": "mYj-lm1paF2U",
        "colab_type": "code",
        "colab": {}
      },
      "source": [
        "X = df.to_numpy()\n",
        "y = y.to_numpy()"
      ],
      "execution_count": 0,
      "outputs": []
    },
    {
      "cell_type": "code",
      "metadata": {
        "id": "4V26mHl4qPiD",
        "colab_type": "code",
        "colab": {}
      },
      "source": [
        "X_2d = X\n",
        "X_2d = X_2d[y > 0]\n",
        "y_2d = y\n",
        "y_2d -= 1"
      ],
      "execution_count": 0,
      "outputs": []
    },
    {
      "cell_type": "code",
      "metadata": {
        "id": "1hIG7VuUqVjw",
        "colab_type": "code",
        "colab": {}
      },
      "source": [
        "scaler = StandardScaler()\n",
        "X = scaler.fit_transform(X)\n",
        "X_2d = scaler.fit_transform(X_2d)"
      ],
      "execution_count": 0,
      "outputs": []
    },
    {
      "cell_type": "code",
      "metadata": {
        "id": "vZuUS4oZqXxG",
        "colab_type": "code",
        "colab": {}
      },
      "source": [
        "C_range = np.logspace(-2, 10, 13)\n",
        "gamma_range = np.logspace(-9, 3, 13)\n",
        "param_grid = dict(gamma=gamma_range, C=C_range)\n",
        "cv = StratifiedShuffleSplit(n_splits=5, test_size=0.2, random_state=42)\n",
        "grid = GridSearchCV(SVC(), param_grid=param_grid, cv=cv)\n",
        "grid.fit(X, y)"
      ],
      "execution_count": 0,
      "outputs": []
    },
    {
      "cell_type": "code",
      "metadata": {
        "id": "uopWLzH8qw4x",
        "colab_type": "code",
        "colab": {}
      },
      "source": [
        "print(\"The best parameters are %s with a score of %0.2f\"\n",
        "      % (grid.best_params_, grid.best_score_))"
      ],
      "execution_count": 0,
      "outputs": []
    },
    {
      "cell_type": "code",
      "metadata": {
        "id": "KGPULUCeqzLe",
        "colab_type": "code",
        "colab": {}
      },
      "source": [
        "C_2d_range = [1e-2, 1, 1e2]\n",
        "gamma_2d_range = [1e-1, 1, 1e1]\n",
        "classifiers = []\n",
        "for C in C_2d_range:\n",
        "    for gamma in gamma_2d_range:\n",
        "        clf = SVC(C=C, gamma=gamma)\n",
        "        clf.fit(X_2d, y_2d)\n",
        "        classifiers.append((C, gamma, clf))"
      ],
      "execution_count": 0,
      "outputs": []
    },
    {
      "cell_type": "code",
      "metadata": {
        "id": "Had4OEbRq107",
        "colab_type": "code",
        "colab": {}
      },
      "source": [
        "plt.figure(figsize=(8, 6))\n",
        "\n",
        "for (k, (C, gamma, clf)) in enumerate(classifiers):\n",
        "    # evaluate decision function in a grid\n",
        "    Z = clf.decision_function(np.c_[xx.ravel(), yy.ravel()])\n",
        "    Z = Z.reshape(xx.shape)\n",
        "\n",
        "    # visualize decision function for these parameters\n",
        "    plt.subplot(len(C_2d_range), len(gamma_2d_range), k + 1)\n",
        "    plt.title(\"gamma=10^%d, C=10^%d\" % (np.log10(gamma), np.log10(C)),\n",
        "              size='medium')\n",
        "\n",
        "    # visualize parameter's effect on decision function\n",
        "    plt.pcolormesh(xx, yy, -Z, cmap=plt.cm.RdBu)\n",
        "    plt.scatter(X_2d[:, 0], X_2d[:, 1], c=y_2d, cmap=plt.cm.RdBu_r,\n",
        "                edgecolors='k')\n",
        "    plt.xticks(())\n",
        "    plt.yticks(())\n",
        "    plt.axis('tight')\n",
        "\n",
        "scores = grid.cv_results_['mean_test_score'].reshape(len(C_range),\n",
        "                                                     len(gamma_range))"
      ],
      "execution_count": 0,
      "outputs": []
    },
    {
      "cell_type": "code",
      "metadata": {
        "id": "4AGKYWVBs8Ua",
        "colab_type": "code",
        "colab": {}
      },
      "source": [
        "plt.figure(figsize=(8, 6))\n",
        "plt.subplots_adjust(left=.2, right=0.95, bottom=0.15, top=0.95)\n",
        "plt.imshow(scores, interpolation='nearest', cmap=plt.cm.hot,\n",
        "           norm=MidpointNormalize(vmin=0.2, midpoint=0.92))\n",
        "plt.xlabel('gamma')\n",
        "plt.ylabel('C')\n",
        "plt.colorbar()\n",
        "plt.xticks(np.arange(len(gamma_range)), gamma_range, rotation=45)\n",
        "plt.yticks(np.arange(len(C_range)), C_range)\n",
        "plt.title('Validation accuracy')\n",
        "plt.show()"
      ],
      "execution_count": 0,
      "outputs": []
    },
    {
      "cell_type": "markdown",
      "metadata": {
        "id": "mrfXiXBRyZ6z",
        "colab_type": "text"
      },
      "source": [
        "# SVM RBF\n"
      ]
    },
    {
      "cell_type": "code",
      "metadata": {
        "id": "XdWXcK1cyek7",
        "colab_type": "code",
        "colab": {}
      },
      "source": [
        "X = table.iloc[:,54:57].values\n",
        "y = table[\"situacao\"].values"
      ],
      "execution_count": 0,
      "outputs": []
    },
    {
      "cell_type": "code",
      "metadata": {
        "id": "8mP2_RwK1_s3",
        "colab_type": "code",
        "colab": {}
      },
      "source": [
        "X[0:3,:]"
      ],
      "execution_count": 0,
      "outputs": []
    },
    {
      "cell_type": "code",
      "metadata": {
        "id": "0ofLNLgF2VQX",
        "colab_type": "code",
        "colab": {}
      },
      "source": [
        "X.shape"
      ],
      "execution_count": 0,
      "outputs": []
    },
    {
      "cell_type": "code",
      "metadata": {
        "id": "dDjRzVez2X5e",
        "colab_type": "code",
        "colab": {}
      },
      "source": [
        "y.shape"
      ],
      "execution_count": 0,
      "outputs": []
    },
    {
      "cell_type": "code",
      "metadata": {
        "id": "bBoogoE62jeT",
        "colab_type": "code",
        "colab": {}
      },
      "source": [
        "# Splitting the dataset into the Training set and Test set\n",
        "from sklearn.model_selection import train_test_split\n",
        "X_train, X_test, y_train, y_test = train_test_split(X, y, test_size = 0.30, random_state = 10)"
      ],
      "execution_count": 0,
      "outputs": []
    },
    {
      "cell_type": "code",
      "metadata": {
        "id": "9QbgWor52mPO",
        "colab_type": "code",
        "colab": {}
      },
      "source": [
        "# Feature Scaling\n",
        "from sklearn.preprocessing import StandardScaler\n",
        "sc = StandardScaler()\n",
        "X_train = sc.fit_transform(X_train)\n",
        "X_test = sc.transform(X_test)"
      ],
      "execution_count": 0,
      "outputs": []
    },
    {
      "cell_type": "code",
      "metadata": {
        "id": "-z2K5Nsm2qqR",
        "colab_type": "code",
        "colab": {}
      },
      "source": [
        "# Fitting SVM to the Training set\n",
        "from sklearn.svm import SVC\n",
        "from sklearn.pipeline import Pipeline\n",
        "\n",
        "#classifier = SVC(kernel = 'linear', random_state = 0)\n",
        "classifier = Pipeline((\n",
        "(\"scaler\", StandardScaler()),\n",
        "(\"svm_clf\", SVC(kernel=\"rbf\", gamma=0.9, C=0.5))\n",
        "))\n",
        "\n",
        "classifier.fit(X_train, y_train)"
      ],
      "execution_count": 0,
      "outputs": []
    },
    {
      "cell_type": "code",
      "metadata": {
        "id": "laDYhun12udJ",
        "colab_type": "code",
        "colab": {}
      },
      "source": [
        "# Predicting the Test set results\n",
        "y_pred = classifier.predict(X_test)\n",
        "\n",
        "print(y_test[0:35])\n",
        "print(y_pred[0:35])"
      ],
      "execution_count": 0,
      "outputs": []
    },
    {
      "cell_type": "code",
      "metadata": {
        "id": "zl9yA3zt2w4j",
        "colab_type": "code",
        "colab": {}
      },
      "source": [
        "# Making the Confusion Matrix\n",
        "from sklearn.metrics import confusion_matrix\n",
        "cm = confusion_matrix(y_test, y_pred)\n",
        "\n",
        "cm"
      ],
      "execution_count": 0,
      "outputs": []
    },
    {
      "cell_type": "code",
      "metadata": {
        "id": "AfUI5Hvi21Ku",
        "colab_type": "code",
        "colab": {}
      },
      "source": [
        "# Visualising the Training set results\n",
        "from matplotlib.colors import ListedColormap\n",
        "X_set, y_set = X_train, y_train\n",
        "X1, X2 = np.meshgrid(np.arange(start = X_set[:, 0].min() - 1, stop = X_set[:, 0].max() + 1, step = 0.01),\n",
        "                     np.arange(start = X_set[:, 1].min() - 1, stop = X_set[:, 1].max() + 1, step = 0.01))\n",
        "plt.contourf(X1, X2, classifier.predict(np.array([X1.ravel(), X2.ravel()]).T).reshape(X1.shape),\n",
        "             alpha = 0.75, cmap = ListedColormap(('blue', 'green')))\n",
        "plt.xlim(X1.min(), X1.max())\n",
        "plt.ylim(X2.min(), X2.max())\n",
        "for i, j in enumerate(np.unique(y_set)):\n",
        "    plt.scatter(X_set[y_set == j, 0], X_set[y_set == j, 1],\n",
        "                c = ListedColormap(('red', 'green'))(i), label = j)\n",
        "plt.title('SVM (Training set)')\n",
        "#plt.xlabel('Age')\n",
        "#plt.ylabel('Estimated Salary')\n",
        "plt.legend()\n",
        "plt.show()"
      ],
      "execution_count": 0,
      "outputs": []
    },
    {
      "cell_type": "markdown",
      "metadata": {
        "id": "0ulQI_4H12t2",
        "colab_type": "text"
      },
      "source": [
        "# Modelagem 2"
      ]
    },
    {
      "cell_type": "code",
      "metadata": {
        "id": "hVWvQA9m16h3",
        "colab_type": "code",
        "colab": {}
      },
      "source": [
        "NewTable = table[(table[\"ano\"] != \"2018.2\") || (table[\"ano\"] != \"2019.1\")]"
      ],
      "execution_count": 0,
      "outputs": []
    },
    {
      "cell_type": "markdown",
      "metadata": {
        "id": "Hv3C8bi4KGNm",
        "colab_type": "text"
      },
      "source": [
        "# Clusterizando"
      ]
    },
    {
      "cell_type": "code",
      "metadata": {
        "id": "Z1167FNaKGDm",
        "colab_type": "code",
        "colab": {}
      },
      "source": [
        "from sklearn.cluster import KMeans"
      ],
      "execution_count": 0,
      "outputs": []
    },
    {
      "cell_type": "code",
      "metadata": {
        "id": "yjas1reBKYSX",
        "colab_type": "code",
        "colab": {}
      },
      "source": [
        "x = table.iloc[:,24:32]\n",
        "x.head(1)"
      ],
      "execution_count": 0,
      "outputs": []
    },
    {
      "cell_type": "markdown",
      "metadata": {
        "id": "OLu_E_aZNE_g",
        "colab_type": "text"
      },
      "source": [
        "Escolhendo a quantidade de grupos e depois treinando"
      ]
    },
    {
      "cell_type": "code",
      "metadata": {
        "id": "Xh0wuBQ4KhxE",
        "colab_type": "code",
        "colab": {}
      },
      "source": [
        "kmeans = KMeans(2)\n",
        "kmeans.fit(x)"
      ],
      "execution_count": 0,
      "outputs": []
    },
    {
      "cell_type": "markdown",
      "metadata": {
        "id": "gX0Zg7aQNK2P",
        "colab_type": "text"
      },
      "source": [
        "Indentificando os clusters"
      ]
    },
    {
      "cell_type": "code",
      "metadata": {
        "id": "dL7C7I-kNCEn",
        "colab_type": "code",
        "colab": {}
      },
      "source": [
        "identified_clusters = kmeans.fit_predict(x)\n",
        "identified_clusters"
      ],
      "execution_count": 0,
      "outputs": []
    },
    {
      "cell_type": "markdown",
      "metadata": {
        "id": "e6seMGNkN6K_",
        "colab_type": "text"
      },
      "source": [
        "Inserindo na tabela"
      ]
    },
    {
      "cell_type": "code",
      "metadata": {
        "id": "xlnuIF5qNZFk",
        "colab_type": "code",
        "colab": {}
      },
      "source": [
        "table_clusters = table.copy()\n",
        "table_clusters[\"cluster\"] = identified_clusters\n",
        "table_clusters.head(2)"
      ],
      "execution_count": 0,
      "outputs": []
    },
    {
      "cell_type": "code",
      "metadata": {
        "id": "IprJI7SCN5Hg",
        "colab_type": "code",
        "colab": {}
      },
      "source": [
        "plt.scatter(\"ano\",\"qsemana8\",data=table_clusters,c=table_clusters[\"situacao\"],cmap=\"rainbow\")\n",
        "#plt.xlim(-200,200)\n",
        "#plt.ylim(-90,90)\n",
        "plt.show()"
      ],
      "execution_count": 0,
      "outputs": []
    },
    {
      "cell_type": "code",
      "metadata": {
        "id": "elIH25qAQZ_8",
        "colab_type": "code",
        "colab": {}
      },
      "source": [
        "plt.scatter(\"ano\",\"qsemana8\",data=table_clusters,c=table_clusters[\"cluster\"],cmap=\"rainbow\")\n",
        "#plt.xlim(-200,200)\n",
        "#plt.ylim(-90,90)\n",
        "plt.show()"
      ],
      "execution_count": 0,
      "outputs": []
    },
    {
      "cell_type": "markdown",
      "metadata": {
        "id": "KXIc-ujTFkjI",
        "colab_type": "text"
      },
      "source": [
        "# Testes com machine learning\n"
      ]
    },
    {
      "cell_type": "markdown",
      "metadata": {
        "id": "Dd-9AZk9Ofp4",
        "colab_type": "text"
      },
      "source": [
        "SVM com tabela clusterizada\n"
      ]
    },
    {
      "cell_type": "code",
      "metadata": {
        "id": "JMeRlU1tOffi",
        "colab_type": "code",
        "colab": {}
      },
      "source": [
        "dataset = table_clusters.drop(columns=[\"tituloProva2\",\"tituloProva1\",\"idAluno\",\"ano\",\"matricula\",\"idTurma\",\"igualACeml45\",\"igualACeml123\",\"qsub4\",\"totalsub\",\"qsubp2\",\"qsubp1\",\"qsub5\",\"qsub3\",\"qsub2\",\"qsub1\",\"mediaProvas\",\"quantidadeProva2\",\"questoesFeitasProva2\",\"notaProva2\",\"quantidadeProva1\",\"questoesFeitasProva1\",\"notaProva1\",\"noite\",\"tarde\",\"manha\",\"madrugada\",\"submeteu8\",\"submeteu7\",\"submeteu6\",\"submeteu5\",\"submeteu4\",\"submeteu3\",\"submeteu2\",\"submeteu1\"])\n",
        "#dataset = table_clusters.drop(columns=[\"tituloProva2\",\"tituloProva1\",\"idAluno\",\"ano\",\"matricula\",\"idTurma\",\"igualACeml45\",\"igualACeml123\",\"qsub4\",\"totalsub\",\"qsubp2\",\"qsubp1\",\"qsub5\",\"qsub3\",\"qsub2\",\"qsub1\",\"mediaProvas\",\"quantidadeProva2\",\"questoesFeitasProva2\",\"notaProva2\",\"quantidadeProva1\",\"questoesFeitasProva1\",\"notaProva1\",\"submeteu8\",\"submeteu7\",\"submeteu6\",\"submeteu5\",\"submeteu4\",\"submeteu3\",\"submeteu2\",\"submeteu1\"])\n",
        "dataset.head(1)"
      ],
      "execution_count": 0,
      "outputs": []
    },
    {
      "cell_type": "code",
      "metadata": {
        "id": "_pLVBg18XwKE",
        "colab_type": "code",
        "colab": {}
      },
      "source": [
        "dataset = "
      ],
      "execution_count": 0,
      "outputs": []
    },
    {
      "cell_type": "code",
      "metadata": {
        "id": "I27w7NqPVMJu",
        "colab_type": "code",
        "colab": {}
      },
      "source": [
        "teste = table.groupby(\"ano\")[\"situacao\"].count()\n",
        "teste\n"
      ],
      "execution_count": 0,
      "outputs": []
    },
    {
      "cell_type": "code",
      "metadata": {
        "id": "OnzMYqy_RBF9",
        "colab_type": "code",
        "colab": {}
      },
      "source": [
        "data = dataset\n",
        "target = dataset[\"situacao\"]\n",
        "data.drop(columns=[\"situacao\"],inplace=True)\n",
        "data.head(2)"
      ],
      "execution_count": 0,
      "outputs": []
    },
    {
      "cell_type": "code",
      "metadata": {
        "id": "Yj8uUW5YRUoc",
        "colab_type": "code",
        "colab": {}
      },
      "source": [
        "#import the necessary module\n",
        "from sklearn.model_selection import train_test_split\n",
        "#split data set into train and test sets\n",
        "data_train, data_test, target_train, target_test = train_test_split(data,target, test_size = 0.30, random_state = 10)"
      ],
      "execution_count": 0,
      "outputs": []
    },
    {
      "cell_type": "code",
      "metadata": {
        "id": "ahKqnx5eRX-E",
        "colab_type": "code",
        "colab": {}
      },
      "source": [
        "from sklearn.svm import LinearSVC\n",
        "from sklearn.metrics import accuracy_score\n",
        "#create an object of type LinearSVC\n",
        "svc_model = LinearSVC(random_state=4)\n",
        "#train the algorithm on training data and predict using the testing data\n",
        "pred = svc_model.fit(data_train, target_train).predict(data_test)\n",
        "#print the accuracy score of the model\n",
        "print(\"LinearSVC accuracy : \",accuracy_score(target_test, pred, normalize = True))"
      ],
      "execution_count": 0,
      "outputs": []
    },
    {
      "cell_type": "code",
      "metadata": {
        "id": "bs444AstRbS0",
        "colab_type": "code",
        "colab": {}
      },
      "source": [
        "from yellowbrick.classifier import ClassificationReport\n",
        "# Instantiate the classification model and visualizer\n",
        "visualizer = ClassificationReport(svc_model, classes=[\"REPROVADO\", \"APROVADO\"])\n",
        "visualizer.fit(data_train, target_train) # Fit the training data to the visualizer\n",
        "visualizer.score(data_test, target_test) # Evaluate the model on the test data\n",
        "g = visualizer.poof() # Draw/show/poof the data"
      ],
      "execution_count": 0,
      "outputs": []
    },
    {
      "cell_type": "markdown",
      "metadata": {
        "id": "bnO9gLVoISAG",
        "colab_type": "text"
      },
      "source": [
        "# Naive Bayes, Regressão Linear e KNN com todos os dados"
      ]
    },
    {
      "cell_type": "markdown",
      "metadata": {
        "id": "kLEyGXvzIpFl",
        "colab_type": "text"
      },
      "source": [
        "Documentação do algoritmo de Naive Bayes https://www.dataquest.io/blog/sci-kit-learn-tutorial/"
      ]
    },
    {
      "cell_type": "markdown",
      "metadata": {
        "id": "QY0SQ40tzrHk",
        "colab_type": "text"
      },
      "source": [
        "Esse primeiro experimento conta com os dados de submissão por semana, o número de dias diferentes que ele submeteu e a quantidade de submissão por turno"
      ]
    },
    {
      "cell_type": "code",
      "metadata": {
        "id": "V3f6OQeYNHDz",
        "colab_type": "code",
        "colab": {}
      },
      "source": [
        "datasetBayes=table\n",
        "datasetBayes=datasetBayes.drop(columns=[\"tituloProva2\",\"tituloProva1\",\"idAluno\",\"ano\",\"matricula\",\"idTurma\",\"igualACeml45\",\"igualACeml123\",\"qsub4\",\"totalsub\",\"qsubp2\",\"qsubp1\",\"qsub5\",\"qsub3\",\"qsub2\",\"qsub1\",\"mediaProvas\",\"quantidadeProva2\",\"questoesFeitasProva2\",\"notaProva2\",\"quantidadeProva1\",\"questoesFeitasProva1\",\"notaProva1\"])\n",
        "datasetBayes.head(1)"
      ],
      "execution_count": 0,
      "outputs": []
    },
    {
      "cell_type": "code",
      "metadata": {
        "id": "XsC9G0pqOqbV",
        "colab_type": "code",
        "colab": {}
      },
      "source": [
        "#import the necessary module\n",
        "from sklearn import preprocessing\n",
        "# create the Labelencoder object\n",
        "le = preprocessing.LabelEncoder()\n",
        "#convert the categorical columns into numeric\n",
        "datasetBayes[\"situacao\"]                       = le.fit_transform(datasetBayes[\"situacao\"])\n",
        "datasetBayes[\"qsemana1\"]                       = le.fit_transform(datasetBayes[\"qsemana1\"])\n",
        "datasetBayes[\"qsemana2\"]                       = le.fit_transform(datasetBayes[\"qsemana2\"])\n",
        "datasetBayes[\"qsemana3\"]                       = le.fit_transform(datasetBayes[\"qsemana3\"])\n",
        "datasetBayes[\"qsemana4\"]                       = le.fit_transform(datasetBayes[\"qsemana4\"])\n",
        "datasetBayes[\"qsemana5\"]                       = le.fit_transform(datasetBayes[\"qsemana5\"])\n",
        "datasetBayes[\"qsemana6\"]                       = le.fit_transform(datasetBayes[\"qsemana6\"])\n",
        "datasetBayes[\"qsemana7\"]                       = le.fit_transform(datasetBayes[\"qsemana7\"])\n",
        "datasetBayes[\"qsemana8\"]                       = le.fit_transform(datasetBayes[\"qsemana8\"])\n",
        "datasetBayes[\"submeteu1\"]                      = le.fit_transform(datasetBayes[\"submeteu1\"])\n",
        "datasetBayes[\"submeteu2\"]                      = le.fit_transform(datasetBayes[\"submeteu2\"])\n",
        "datasetBayes[\"submeteu3\"]                      = le.fit_transform(datasetBayes[\"submeteu3\"])\n",
        "datasetBayes[\"submeteu4\"]                      = le.fit_transform(datasetBayes[\"submeteu4\"])\n",
        "datasetBayes[\"submeteu5\"]                      = le.fit_transform(datasetBayes[\"submeteu5\"])\n",
        "datasetBayes[\"submeteu6\"]                      = le.fit_transform(datasetBayes[\"submeteu6\"])\n",
        "datasetBayes[\"submeteu7\"]                      = le.fit_transform(datasetBayes[\"submeteu7\"])\n",
        "datasetBayes[\"submeteu8\"]                      = le.fit_transform(datasetBayes[\"submeteu8\"])\n",
        "datasetBayes[\"madrugada\t\"]                     = le.fit_transform(datasetBayes[\"madrugada\"])\n",
        "datasetBayes[\"manha\"]                          = le.fit_transform(datasetBayes[\"manha\"])\n",
        "datasetBayes[\"tarde\"]                          = le.fit_transform(datasetBayes[\"tarde\"])\n",
        "datasetBayes[\"noite\"]                          = le.fit_transform(datasetBayes[\"noite\"])\n",
        "\n",
        "datasetBayes.head()"
      ],
      "execution_count": 0,
      "outputs": []
    },
    {
      "cell_type": "markdown",
      "metadata": {
        "id": "gApPfXJEZxN9",
        "colab_type": "text"
      },
      "source": [
        "Retirando o campo Situação, porque é o que queremos prever"
      ]
    },
    {
      "cell_type": "code",
      "metadata": {
        "id": "7OQxUe-faXDv",
        "colab_type": "code",
        "colab": {}
      },
      "source": [
        "data = datasetBayes\n",
        "target = datasetBayes[\"situacao\"]\n",
        "data.drop(columns=[\"situacao\"],inplace=True)\n",
        "data.head(2)"
      ],
      "execution_count": 0,
      "outputs": []
    },
    {
      "cell_type": "code",
      "metadata": {
        "id": "Q85SDbyrdzSp",
        "colab_type": "code",
        "colab": {}
      },
      "source": [
        "#import the necessary module\n",
        "from sklearn.model_selection import train_test_split\n",
        "#split data set into train and test sets\n",
        "data_train, data_test, target_train, target_test = train_test_split(data,target, test_size = 0.30, random_state = 10)"
      ],
      "execution_count": 0,
      "outputs": []
    },
    {
      "cell_type": "code",
      "metadata": {
        "id": "gApNph6Fd2pY",
        "colab_type": "code",
        "colab": {}
      },
      "source": [
        "from sklearn.naive_bayes import GaussianNB\n",
        "from sklearn.metrics import accuracy_score\n",
        "#create an object of the type GaussianNB\n",
        "gnb = GaussianNB()\n",
        "#train the algorithm on training data and predict using the testing data\n",
        "pred = gnb.fit(data_train, target_train).predict(data_test)\n",
        "#print(pred.tolist())\n",
        "#print the accuracy score of the model\n",
        "print(\"Naive-Bayes accuracy : \",accuracy_score(target_test, pred, normalize = True))"
      ],
      "execution_count": 0,
      "outputs": []
    },
    {
      "cell_type": "code",
      "metadata": {
        "id": "uB-B4etWd8jq",
        "colab_type": "code",
        "colab": {}
      },
      "source": [
        "from sklearn.svm import LinearSVC\n",
        "from sklearn.metrics import accuracy_score\n",
        "#create an object of type LinearSVC\n",
        "svc_model = LinearSVC(random_state=10)\n",
        "#train the algorithm on training data and predict using the testing data\n",
        "pred = svc_model.fit(data_train, target_train).predict(data_test)\n",
        "#print the accuracy score of the model\n",
        "print(\"LinearSVC accuracy : \",accuracy_score(target_test, pred, normalize = True))"
      ],
      "execution_count": 0,
      "outputs": []
    },
    {
      "cell_type": "code",
      "metadata": {
        "id": "avB9tZskeBPR",
        "colab_type": "code",
        "colab": {}
      },
      "source": [
        "#import necessary modules\n",
        "from sklearn.neighbors import KNeighborsClassifier\n",
        "from sklearn.metrics import accuracy_score\n",
        "#create object of the lassifier\n",
        "neigh = KNeighborsClassifier(n_neighbors=3)\n",
        "#Train the algorithm\n",
        "neigh.fit(data_train, target_train)\n",
        "# predict the response\n",
        "pred = neigh.predict(data_test)\n",
        "# evaluate accuracy\n",
        "print (\"KNeighbors accuracy score : \",accuracy_score(target_test, pred))"
      ],
      "execution_count": 0,
      "outputs": []
    },
    {
      "cell_type": "code",
      "metadata": {
        "id": "kAMZC2xweU-t",
        "colab_type": "code",
        "colab": {}
      },
      "source": [
        "from yellowbrick.classifier import ClassificationReport\n",
        "# Instantiate the classification model and visualizer\n",
        "visualizer = ClassificationReport(gnb, classes=[\"REPROVADO\", \"APROVADO\"])\n",
        "visualizer.fit(data_train, target_train) # Fit the training data to the visualizer\n",
        "visualizer.score(data_test, target_test) # Evaluate the model on the test data\n",
        "g = visualizer.poof() # Draw/show/poof the data"
      ],
      "execution_count": 0,
      "outputs": []
    },
    {
      "cell_type": "code",
      "metadata": {
        "id": "XM6lRqxEgoVS",
        "colab_type": "code",
        "colab": {}
      },
      "source": [
        "from yellowbrick.classifier import ClassificationReport\n",
        "# Instantiate the classification model and visualizer\n",
        "visualizer = ClassificationReport(svc_model, classes=[\"REPROVADO\", \"APROVADO\"])\n",
        "visualizer.fit(data_train, target_train) # Fit the training data to the visualizer\n",
        "visualizer.score(data_test, target_test) # Evaluate the model on the test data\n",
        "g = visualizer.poof() # Draw/show/poof the data"
      ],
      "execution_count": 0,
      "outputs": []
    },
    {
      "cell_type": "code",
      "metadata": {
        "id": "fsk2_-kTg7zM",
        "colab_type": "code",
        "colab": {}
      },
      "source": [
        "from yellowbrick.classifier import ClassificationReport\n",
        "# Instantiate the classification model and visualizer\n",
        "visualizer = ClassificationReport(neigh, classes=[\"REPROVADO\",\"APROVADO\"])\n",
        "visualizer.fit(data_train, target_train) # Fit the training data to the visualizer\n",
        "visualizer.score(data_test, target_test) # Evaluate the model on the test data\n",
        "g = visualizer.poof() # Draw/show/poof the data"
      ],
      "execution_count": 0,
      "outputs": []
    },
    {
      "cell_type": "markdown",
      "metadata": {
        "id": "TaJJrtUbwSZU",
        "colab_type": "text"
      },
      "source": [
        "# Naive Bayes, Regressão Linear e KNN com submissões por semana"
      ]
    },
    {
      "cell_type": "markdown",
      "metadata": {
        "id": "UKDV4q6yzdVF",
        "colab_type": "text"
      },
      "source": [
        "Este segundo experimento com os dados de submissões por semana para descobrir se o aluno foi ou não aprovado"
      ]
    },
    {
      "cell_type": "code",
      "metadata": {
        "id": "yk9ZaTvXwTnP",
        "colab_type": "code",
        "colab": {}
      },
      "source": [
        "datasetBayes=table\n",
        "datasetBayes=datasetBayes.drop(columns=[\"tituloProva2\",\"tituloProva1\",\"idAluno\",\"ano\",\"matricula\",\"idTurma\",\"igualACeml45\",\"igualACeml123\",\"qsub4\",\"totalsub\",\"qsubp2\",\"qsubp1\",\"qsub5\",\"qsub3\",\"qsub2\",\"qsub1\",\"mediaProvas\",\"quantidadeProva2\",\"questoesFeitasProva2\",\"notaProva2\",\"quantidadeProva1\",\"questoesFeitasProva1\",\"notaProva1\",\"noite\",\"tarde\",\"manha\",\"madrugada\",\"submeteu8\",\"submeteu7\",\"submeteu6\",\"submeteu5\",\"submeteu4\",\"submeteu3\",\"submeteu2\",\"submeteu1\"])\n",
        "datasetBayes.head(1)"
      ],
      "execution_count": 0,
      "outputs": []
    },
    {
      "cell_type": "code",
      "metadata": {
        "id": "oUSVr-ItxMyf",
        "colab_type": "code",
        "colab": {}
      },
      "source": [
        "#import the necessary module\n",
        "from sklearn import preprocessing\n",
        "# create the Labelencoder object\n",
        "le = preprocessing.LabelEncoder()\n",
        "#convert the categorical columns into numeric\n",
        "datasetBayes[\"situacao\"]                       = le.fit_transform(datasetBayes[\"situacao\"])\n",
        "datasetBayes[\"qsemana1\"]                       = le.fit_transform(datasetBayes[\"qsemana1\"])\n",
        "datasetBayes[\"qsemana2\"]                       = le.fit_transform(datasetBayes[\"qsemana2\"])\n",
        "datasetBayes[\"qsemana3\"]                       = le.fit_transform(datasetBayes[\"qsemana3\"])\n",
        "datasetBayes[\"qsemana4\"]                       = le.fit_transform(datasetBayes[\"qsemana4\"])\n",
        "datasetBayes[\"qsemana5\"]                       = le.fit_transform(datasetBayes[\"qsemana5\"])\n",
        "datasetBayes[\"qsemana6\"]                       = le.fit_transform(datasetBayes[\"qsemana6\"])\n",
        "datasetBayes[\"qsemana7\"]                       = le.fit_transform(datasetBayes[\"qsemana7\"])\n",
        "datasetBayes[\"qsemana8\"]                       = le.fit_transform(datasetBayes[\"qsemana8\"])\n",
        "\n",
        "datasetBayes.head()"
      ],
      "execution_count": 0,
      "outputs": []
    },
    {
      "cell_type": "markdown",
      "metadata": {
        "id": "kaFDgqr9yKKc",
        "colab_type": "text"
      },
      "source": [
        "Retirando o campo Situação, porque é o que queremos prever"
      ]
    },
    {
      "cell_type": "code",
      "metadata": {
        "id": "J22ORx4QyF3r",
        "colab_type": "code",
        "colab": {}
      },
      "source": [
        "data = datasetBayes\n",
        "target = datasetBayes[\"situacao\"]\n",
        "data.drop(columns=[\"situacao\"],inplace=True)\n",
        "data.head(2)"
      ],
      "execution_count": 0,
      "outputs": []
    },
    {
      "cell_type": "code",
      "metadata": {
        "id": "chYCNTtTyTFx",
        "colab_type": "code",
        "colab": {}
      },
      "source": [
        "#import the necessary module\n",
        "from sklearn.model_selection import train_test_split\n",
        "#split data set into train and test sets\n",
        "data_train, data_test, target_train, target_test = train_test_split(data,target, test_size = 0.30, random_state = 10)"
      ],
      "execution_count": 0,
      "outputs": []
    },
    {
      "cell_type": "code",
      "metadata": {
        "id": "7LjMhBYwyS4a",
        "colab_type": "code",
        "colab": {}
      },
      "source": [
        "from sklearn.naive_bayes import GaussianNB\n",
        "from sklearn.metrics import accuracy_score\n",
        "#create an object of the type GaussianNB\n",
        "gnb = GaussianNB()\n",
        "#train the algorithm on training data and predict using the testing data\n",
        "pred = gnb.fit(data_train, target_train).predict(data_test)\n",
        "#print(pred.tolist())\n",
        "#print the accuracy score of the model\n",
        "print(\"Naive-Bayes accuracy : \",accuracy_score(target_test, pred, normalize = True))"
      ],
      "execution_count": 0,
      "outputs": []
    },
    {
      "cell_type": "code",
      "metadata": {
        "id": "R4Ge1A1yySMz",
        "colab_type": "code",
        "colab": {}
      },
      "source": [
        "from sklearn.svm import LinearSVC\n",
        "from sklearn.metrics import accuracy_score\n",
        "#create an object of type LinearSVC\n",
        "svc_model = LinearSVC(random_state=14)\n",
        "#train the algorithm on training data and predict using the testing data\n",
        "pred = svc_model.fit(data_train, target_train).predict(data_test)\n",
        "#print the accuracy score of the model\n",
        "print(\"LinearSVC accuracy : \",accuracy_score(target_test, pred, normalize = True))"
      ],
      "execution_count": 0,
      "outputs": []
    },
    {
      "cell_type": "code",
      "metadata": {
        "id": "wJNGd2vNyg3I",
        "colab_type": "code",
        "colab": {}
      },
      "source": [
        "#import necessary modules\n",
        "from sklearn.neighbors import KNeighborsClassifier\n",
        "from sklearn.metrics import accuracy_score\n",
        "#create object of the lassifier\n",
        "neigh = KNeighborsClassifier(n_neighbors=3)\n",
        "#Train the algorithm\n",
        "neigh.fit(data_train, target_train)\n",
        "# predict the response\n",
        "pred = neigh.predict(data_test)\n",
        "# evaluate accuracy\n",
        "print (\"KNeighbors accuracy score : \",accuracy_score(target_test, pred))"
      ],
      "execution_count": 0,
      "outputs": []
    },
    {
      "cell_type": "code",
      "metadata": {
        "id": "_HgYEntFygeb",
        "colab_type": "code",
        "colab": {}
      },
      "source": [
        "from yellowbrick.classifier import ClassificationReport\n",
        "# Instantiate the classification model and visualizer\n",
        "visualizer = ClassificationReport(gnb, classes=[\"REPROVADO\", \"APROVADO\"])\n",
        "visualizer.fit(data_train, target_train) # Fit the training data to the visualizer\n",
        "visualizer.score(data_test, target_test) # Evaluate the model on the test data\n",
        "g = visualizer.poof() # Draw/show/poof the data"
      ],
      "execution_count": 0,
      "outputs": []
    },
    {
      "cell_type": "code",
      "metadata": {
        "id": "cdmzSYA9yotS",
        "colab_type": "code",
        "colab": {}
      },
      "source": [
        "from yellowbrick.classifier import ClassificationReport\n",
        "# Instantiate the classification model and visualizer\n",
        "visualizer = ClassificationReport(svc_model, classes=[\"REPROVADO\", \"APROVADO\"])\n",
        "visualizer.fit(data_train, target_train) # Fit the training data to the visualizer\n",
        "visualizer.score(data_test, target_test) # Evaluate the model on the test data\n",
        "g = visualizer.poof() # Draw/show/poof the data"
      ],
      "execution_count": 0,
      "outputs": []
    },
    {
      "cell_type": "code",
      "metadata": {
        "id": "ijh6LxKVyoUL",
        "colab_type": "code",
        "colab": {}
      },
      "source": [
        "from yellowbrick.classifier import ClassificationReport\n",
        "# Instantiate the classification model and visualizer\n",
        "visualizer = ClassificationReport(neigh, classes=[\"REPROVADO\",\"APROVADO\"])\n",
        "visualizer.fit(data_train, target_train) # Fit the training data to the visualizer\n",
        "visualizer.score(data_test, target_test) # Evaluate the model on the test data\n",
        "g = visualizer.poof() # Draw/show/poof the data\n"
      ],
      "execution_count": 0,
      "outputs": []
    },
    {
      "cell_type": "markdown",
      "metadata": {
        "id": "UAcc6x_B1GyA",
        "colab_type": "text"
      },
      "source": [
        "# Naive Bayes, Regressão Linear e KNN com submissões por semana e por turno"
      ]
    },
    {
      "cell_type": "markdown",
      "metadata": {
        "id": "0j_Ew_lK12NR",
        "colab_type": "text"
      },
      "source": [
        "Neste terceiro experimento foram usado dados da quantidade de submissão por semana e por turno"
      ]
    },
    {
      "cell_type": "code",
      "metadata": {
        "id": "notqlfIq23FW",
        "colab_type": "code",
        "colab": {}
      },
      "source": [
        "datasetBayes=table\n",
        "datasetBayes=datasetBayes.drop(columns=[\"tituloProva2\",\"tituloProva1\",\"idAluno\",\"ano\",\"matricula\",\"idTurma\",\"igualACeml45\",\"igualACeml123\",\"qsub4\",\"totalsub\",\"qsubp2\",\"qsubp1\",\"qsub5\",\"qsub3\",\"qsub2\",\"qsub1\",\"mediaProvas\",\"quantidadeProva2\",\"questoesFeitasProva2\",\"notaProva2\",\"quantidadeProva1\",\"questoesFeitasProva1\",\"notaProva1\",\"submeteu8\",\"submeteu7\",\"submeteu6\",\"submeteu5\",\"submeteu4\",\"submeteu3\",\"submeteu2\",\"submeteu1\"])\n",
        "datasetBayes.head(1)"
      ],
      "execution_count": 0,
      "outputs": []
    },
    {
      "cell_type": "code",
      "metadata": {
        "id": "wIYHNBMh23Az",
        "colab_type": "code",
        "colab": {}
      },
      "source": [
        "#import the necessary module\n",
        "from sklearn import preprocessing\n",
        "# create the Labelencoder object\n",
        "le = preprocessing.LabelEncoder()\n",
        "#convert the categorical columns into numeric\n",
        "datasetBayes[\"situacao\"]                       = le.fit_transform(datasetBayes[\"situacao\"])\n",
        "datasetBayes[\"qsemana1\"]                       = le.fit_transform(datasetBayes[\"qsemana1\"])\n",
        "datasetBayes[\"qsemana2\"]                       = le.fit_transform(datasetBayes[\"qsemana2\"])\n",
        "datasetBayes[\"qsemana3\"]                       = le.fit_transform(datasetBayes[\"qsemana3\"])\n",
        "datasetBayes[\"qsemana4\"]                       = le.fit_transform(datasetBayes[\"qsemana4\"])\n",
        "datasetBayes[\"qsemana5\"]                       = le.fit_transform(datasetBayes[\"qsemana5\"])\n",
        "datasetBayes[\"qsemana6\"]                       = le.fit_transform(datasetBayes[\"qsemana6\"])\n",
        "datasetBayes[\"qsemana7\"]                       = le.fit_transform(datasetBayes[\"qsemana7\"])\n",
        "datasetBayes[\"qsemana8\"]                       = le.fit_transform(datasetBayes[\"qsemana8\"])\n",
        "datasetBayes[\"manha\"]                          = le.fit_transform(datasetBayes[\"manha\"])\n",
        "datasetBayes[\"tarde\"]                          = le.fit_transform(datasetBayes[\"tarde\"])\n",
        "datasetBayes[\"noite\"]                          = le.fit_transform(datasetBayes[\"noite\"])\n",
        "\n",
        "datasetBayes.head()"
      ],
      "execution_count": 0,
      "outputs": []
    },
    {
      "cell_type": "code",
      "metadata": {
        "id": "P0UVkhaM227B",
        "colab_type": "code",
        "colab": {}
      },
      "source": [
        "data = datasetBayes\n",
        "target = datasetBayes[\"situacao\"]\n",
        "data.drop(columns=[\"situacao\"],inplace=True)\n",
        "data.head(2)"
      ],
      "execution_count": 0,
      "outputs": []
    },
    {
      "cell_type": "code",
      "metadata": {
        "id": "sYYRiTSG221Y",
        "colab_type": "code",
        "colab": {}
      },
      "source": [
        "#import the necessary module\n",
        "from sklearn.model_selection import train_test_split\n",
        "#split data set into train and test sets\n",
        "data_train, data_test, target_train, target_test = train_test_split(data,target, test_size = 0.30, random_state = 10)"
      ],
      "execution_count": 0,
      "outputs": []
    },
    {
      "cell_type": "code",
      "metadata": {
        "id": "leHsbiXV22wc",
        "colab_type": "code",
        "colab": {}
      },
      "source": [
        "from sklearn.naive_bayes import GaussianNB\n",
        "from sklearn.metrics import accuracy_score\n",
        "#create an object of the type GaussianNB\n",
        "gnb = GaussianNB()\n",
        "#train the algorithm on training data and predict using the testing data\n",
        "pred = gnb.fit(data_train, target_train).predict(data_test)\n",
        "#print(pred.tolist())\n",
        "#print the accuracy score of the model\n",
        "print(\"Naive-Bayes accuracy : \",accuracy_score(target_test, pred, normalize = True))"
      ],
      "execution_count": 0,
      "outputs": []
    },
    {
      "cell_type": "code",
      "metadata": {
        "id": "J0-81mMm22oZ",
        "colab_type": "code",
        "colab": {}
      },
      "source": [
        "from sklearn.svm import LinearSVC\n",
        "from sklearn.metrics import accuracy_score\n",
        "#create an object of type LinearSVC\n",
        "svc_model = LinearSVC(random_state=11)\n",
        "#train the algorithm on training data and predict using the testing data\n",
        "pred = svc_model.fit(data_train, target_train).predict(data_test)\n",
        "#print the accuracy score of the model\n",
        "print(\"LinearSVC accuracy : \",accuracy_score(target_test, pred, normalize = True))"
      ],
      "execution_count": 0,
      "outputs": []
    },
    {
      "cell_type": "code",
      "metadata": {
        "id": "OLpKO3vt22jf",
        "colab_type": "code",
        "colab": {}
      },
      "source": [
        "#import necessary modules\n",
        "from sklearn.neighbors import KNeighborsClassifier\n",
        "from sklearn.metrics import accuracy_score\n",
        "#create object of the lassifier\n",
        "neigh = KNeighborsClassifier(n_neighbors=3)\n",
        "#Train the algorithm\n",
        "neigh.fit(data_train, target_train)\n",
        "# predict the response\n",
        "pred = neigh.predict(data_test)\n",
        "# evaluate accuracy\n",
        "print (\"KNeighbors accuracy score : \",accuracy_score(target_test, pred))"
      ],
      "execution_count": 0,
      "outputs": []
    },
    {
      "cell_type": "code",
      "metadata": {
        "id": "c4PQdqeq22aQ",
        "colab_type": "code",
        "colab": {}
      },
      "source": [
        "from yellowbrick.classifier import ClassificationReport\n",
        "# Instantiate the classification model and visualizer\n",
        "visualizer = ClassificationReport(gnb, classes=[\"REPROVADO\", \"APROVADO\"])\n",
        "visualizer.fit(data_train, target_train) # Fit the training data to the visualizer\n",
        "visualizer.score(data_test, target_test) # Evaluate the model on the test data\n",
        "g = visualizer.poof() # Draw/show/poof the data"
      ],
      "execution_count": 0,
      "outputs": []
    },
    {
      "cell_type": "code",
      "metadata": {
        "id": "wykB8e4x21WG",
        "colab_type": "code",
        "colab": {}
      },
      "source": [
        "from yellowbrick.classifier import ClassificationReport\n",
        "# Instantiate the classification model and visualizer\n",
        "visualizer = ClassificationReport(svc_model, classes=[\"REPROVADO\", \"APROVADO\"])\n",
        "visualizer.fit(data_train, target_train) # Fit the training data to the visualizer\n",
        "visualizer.score(data_test, target_test) # Evaluate the model on the test data\n",
        "g = visualizer.poof() # Draw/show/poof the data"
      ],
      "execution_count": 0,
      "outputs": []
    },
    {
      "cell_type": "code",
      "metadata": {
        "id": "kmP9kHWJ216p",
        "colab_type": "code",
        "colab": {}
      },
      "source": [
        "from yellowbrick.classifier import ClassificationReport\n",
        "# Instantiate the classification model and visualizer\n",
        "visualizer = ClassificationReport(neigh, classes=[\"REPROVADO\",\"APROVADO\"])\n",
        "visualizer.fit(data_train, target_train) # Fit the training data to the visualizer\n",
        "visualizer.score(data_test, target_test) # Evaluate the model on the test data\n",
        "g = visualizer.poof() # Draw/show/poof the data"
      ],
      "execution_count": 0,
      "outputs": []
    },
    {
      "cell_type": "markdown",
      "metadata": {
        "id": "unwOVywT-Qg_",
        "colab_type": "text"
      },
      "source": [
        "# Naive Bayes, Regressão Linear e KNN com dias que teve submissão por semana"
      ]
    },
    {
      "cell_type": "code",
      "metadata": {
        "id": "cq3tV_yk-gsC",
        "colab_type": "code",
        "colab": {}
      },
      "source": [
        "datasetBayes=table\n",
        "datasetBayes=datasetBayes.drop(columns=[\"tituloProva2\",\"tituloProva1\",\"idAluno\",\"ano\",\"matricula\",\"idTurma\",\"igualACeml45\",\"igualACeml123\",\"qsub4\",\"totalsub\",\"qsubp2\",\"qsubp1\",\"qsub5\",\"qsub3\",\"qsub2\",\"qsub1\",\"mediaProvas\",\"quantidadeProva2\",\"questoesFeitasProva2\",\"notaProva2\",\"quantidadeProva1\",\"questoesFeitasProva1\",\"notaProva1\",\"noite\",\"tarde\",\"manha\",\"madrugada\",\"qsemana1\",\"qsemana2\",\"qsemana3\",\"qsemana4\",\"qsemana5\",\"qsemana6\",\"qsemana7\",\"qsemana8\"])\n",
        "datasetBayes.head(1)"
      ],
      "execution_count": 0,
      "outputs": []
    },
    {
      "cell_type": "code",
      "metadata": {
        "id": "lcVjHpQl-yR3",
        "colab_type": "code",
        "colab": {}
      },
      "source": [
        "#import the necessary module\n",
        "from sklearn import preprocessing\n",
        "# create the Labelencoder object\n",
        "le = preprocessing.LabelEncoder()\n",
        "#convert the categorical columns into numeric\n",
        "datasetBayes[\"situacao\"]                       = le.fit_transform(datasetBayes[\"situacao\"])\n",
        "datasetBayes[\"submeteu1\"]                      = le.fit_transform(datasetBayes[\"submeteu1\"])\n",
        "datasetBayes[\"submeteu2\"]                      = le.fit_transform(datasetBayes[\"submeteu2\"])\n",
        "datasetBayes[\"submeteu3\"]                      = le.fit_transform(datasetBayes[\"submeteu3\"])\n",
        "datasetBayes[\"submeteu4\"]                      = le.fit_transform(datasetBayes[\"submeteu4\"])\n",
        "datasetBayes[\"submeteu5\"]                      = le.fit_transform(datasetBayes[\"submeteu5\"])\n",
        "datasetBayes[\"submeteu6\"]                      = le.fit_transform(datasetBayes[\"submeteu6\"])\n",
        "datasetBayes[\"submeteu7\"]                      = le.fit_transform(datasetBayes[\"submeteu7\"])\n",
        "datasetBayes[\"submeteu8\"]                      = le.fit_transform(datasetBayes[\"submeteu8\"])\n",
        "\n",
        "datasetBayes.head()"
      ],
      "execution_count": 0,
      "outputs": []
    },
    {
      "cell_type": "code",
      "metadata": {
        "id": "MwfhDutB-4Wa",
        "colab_type": "code",
        "colab": {}
      },
      "source": [
        "data = datasetBayes\n",
        "target = datasetBayes[\"situacao\"]\n",
        "data.drop(columns=[\"situacao\"],inplace=True)\n",
        "data.head(2)"
      ],
      "execution_count": 0,
      "outputs": []
    },
    {
      "cell_type": "code",
      "metadata": {
        "id": "5OaFPn3V-4M-",
        "colab_type": "code",
        "colab": {}
      },
      "source": [
        "#import the necessary module\n",
        "from sklearn.model_selection import train_test_split\n",
        "#split data set into train and test sets\n",
        "data_train, data_test, target_train, target_test = train_test_split(data,target, test_size = 0.30, random_state = 11)"
      ],
      "execution_count": 0,
      "outputs": []
    },
    {
      "cell_type": "code",
      "metadata": {
        "id": "bHjQVr6u-30z",
        "colab_type": "code",
        "colab": {}
      },
      "source": [
        "from sklearn.naive_bayes import GaussianNB\n",
        "from sklearn.metrics import accuracy_score\n",
        "#create an object of the type GaussianNB\n",
        "gnb = GaussianNB()\n",
        "#train the algorithm on training data and predict using the testing data\n",
        "pred = gnb.fit(data_train, target_train).predict(data_test)\n",
        "#print(pred.tolist())\n",
        "#print the accuracy score of the model\n",
        "print(\"Naive-Bayes accuracy : \",accuracy_score(target_test, pred, normalize = True))"
      ],
      "execution_count": 0,
      "outputs": []
    },
    {
      "cell_type": "code",
      "metadata": {
        "id": "Yqr1SRlq-3vu",
        "colab_type": "code",
        "colab": {}
      },
      "source": [
        "from sklearn.svm import LinearSVC\n",
        "from sklearn.metrics import accuracy_score\n",
        "#create an object of type LinearSVC\n",
        "svc_model = LinearSVC(random_state=0)\n",
        "#train the algorithm on training data and predict using the testing data\n",
        "pred = svc_model.fit(data_train, target_train).predict(data_test)\n",
        "#print the accuracy score of the model\n",
        "print(\"LinearSVC accuracy : \",accuracy_score(target_test, pred, normalize = True))"
      ],
      "execution_count": 0,
      "outputs": []
    },
    {
      "cell_type": "code",
      "metadata": {
        "id": "EfnsU27A-3sO",
        "colab_type": "code",
        "colab": {}
      },
      "source": [
        "#import necessary modules\n",
        "from sklearn.neighbors import KNeighborsClassifier\n",
        "from sklearn.metrics import accuracy_score\n",
        "#create object of the lassifier\n",
        "neigh = KNeighborsClassifier(n_neighbors=3)\n",
        "#Train the algorithm\n",
        "neigh.fit(data_train, target_train)\n",
        "# predict the response\n",
        "pred = neigh.predict(data_test)\n",
        "# evaluate accuracy\n",
        "print (\"KNeighbors accuracy score : \",accuracy_score(target_test, pred))"
      ],
      "execution_count": 0,
      "outputs": []
    },
    {
      "cell_type": "code",
      "metadata": {
        "id": "c26PhVyS-3nq",
        "colab_type": "code",
        "colab": {}
      },
      "source": [
        "from yellowbrick.classifier import ClassificationReport\n",
        "# Instantiate the classification model and visualizer\n",
        "visualizer = ClassificationReport(gnb, classes=[\"REPROVADO\", \"APROVADO\"])\n",
        "visualizer.fit(data_train, target_train) # Fit the training data to the visualizer\n",
        "visualizer.score(data_test, target_test) # Evaluate the model on the test data\n",
        "g = visualizer.poof() # Draw/show/poof the data"
      ],
      "execution_count": 0,
      "outputs": []
    },
    {
      "cell_type": "code",
      "metadata": {
        "id": "i5zzXJne-3iz",
        "colab_type": "code",
        "colab": {}
      },
      "source": [
        "from yellowbrick.classifier import ClassificationReport\n",
        "# Instantiate the classification model and visualizer\n",
        "visualizer = ClassificationReport(gnb, classes=[\"REPROVADO\", \"APROVADO\"])\n",
        "visualizer.fit(data_train, target_train) # Fit the training data to the visualizer\n",
        "visualizer.score(data_test, target_test) # Evaluate the model on the test data\n",
        "g = visualizer.poof() # Draw/show/poof the data"
      ],
      "execution_count": 0,
      "outputs": []
    },
    {
      "cell_type": "code",
      "metadata": {
        "id": "bNKUkKG6-3eg",
        "colab_type": "code",
        "colab": {}
      },
      "source": [
        "from yellowbrick.classifier import ClassificationReport\n",
        "# Instantiate the classification model and visualizer\n",
        "visualizer = ClassificationReport(neigh, classes=[\"REPROVADO\",\"APROVADO\"])\n",
        "visualizer.fit(data_train, target_train) # Fit the training data to the visualizer\n",
        "visualizer.score(data_test, target_test) # Evaluate the model on the test data\n",
        "g = visualizer.poof() # Draw/show/poof the data"
      ],
      "execution_count": 0,
      "outputs": []
    },
    {
      "cell_type": "markdown",
      "metadata": {
        "id": "78eXhkQoC0ER",
        "colab_type": "text"
      },
      "source": [
        "# Naive Bayes, Regressão Linear e KNN com dias que teve submissão por semana e turno em que aluno submeteu"
      ]
    },
    {
      "cell_type": "code",
      "metadata": {
        "id": "3Naq657tC4M7",
        "colab_type": "code",
        "colab": {}
      },
      "source": [
        "datasetBayes=table\n",
        "datasetBayes=datasetBayes.drop(columns=[\"tituloProva2\",\"tituloProva1\",\"idAluno\",\"ano\",\"matricula\",\"idTurma\",\"igualACeml45\",\"igualACeml123\",\"qsub4\",\"totalsub\",\"qsubp2\",\"qsubp1\",\"qsub5\",\"qsub3\",\"qsub2\",\"qsub1\",\"mediaProvas\",\"quantidadeProva2\",\"questoesFeitasProva2\",\"notaProva2\",\"quantidadeProva1\",\"questoesFeitasProva1\",\"notaProva1\",\"qsemana1\",\"qsemana2\",\"qsemana3\",\"qsemana4\",\"qsemana5\",\"qsemana6\",\"qsemana7\",\"qsemana8\"])\n",
        "datasetBayes.head(1)"
      ],
      "execution_count": 0,
      "outputs": []
    },
    {
      "cell_type": "code",
      "metadata": {
        "id": "aVOIzimpDYQD",
        "colab_type": "code",
        "colab": {}
      },
      "source": [
        "#import the necessary module\n",
        "from sklearn import preprocessing\n",
        "# create the Labelencoder object\n",
        "le = preprocessing.LabelEncoder()\n",
        "#convert the categorical columns into numeric\n",
        "datasetBayes[\"situacao\"]                       = le.fit_transform(datasetBayes[\"situacao\"])\n",
        "datasetBayes[\"submeteu1\"]                      = le.fit_transform(datasetBayes[\"submeteu1\"])\n",
        "datasetBayes[\"submeteu2\"]                      = le.fit_transform(datasetBayes[\"submeteu2\"])\n",
        "datasetBayes[\"submeteu3\"]                      = le.fit_transform(datasetBayes[\"submeteu3\"])\n",
        "datasetBayes[\"submeteu4\"]                      = le.fit_transform(datasetBayes[\"submeteu4\"])\n",
        "datasetBayes[\"submeteu5\"]                      = le.fit_transform(datasetBayes[\"submeteu5\"])\n",
        "datasetBayes[\"submeteu6\"]                      = le.fit_transform(datasetBayes[\"submeteu6\"])\n",
        "datasetBayes[\"submeteu7\"]                      = le.fit_transform(datasetBayes[\"submeteu7\"])\n",
        "datasetBayes[\"submeteu8\"]                      = le.fit_transform(datasetBayes[\"submeteu8\"])\n",
        "datasetBayes[\"madrugada\t\"]                     = le.fit_transform(datasetBayes[\"madrugada\"])\n",
        "datasetBayes[\"manha\"]                          = le.fit_transform(datasetBayes[\"manha\"])\n",
        "datasetBayes[\"tarde\"]                          = le.fit_transform(datasetBayes[\"tarde\"])\n",
        "datasetBayes[\"noite\"]                          = le.fit_transform(datasetBayes[\"noite\"])\n",
        "\n",
        "datasetBayes.head()"
      ],
      "execution_count": 0,
      "outputs": []
    },
    {
      "cell_type": "code",
      "metadata": {
        "id": "avR-VOwCDYLP",
        "colab_type": "code",
        "colab": {}
      },
      "source": [
        "data = datasetBayes\n",
        "target = datasetBayes[\"situacao\"]\n",
        "data.drop(columns=[\"situacao\"],inplace=True)\n",
        "data.head(2)"
      ],
      "execution_count": 0,
      "outputs": []
    },
    {
      "cell_type": "code",
      "metadata": {
        "id": "tm8xRU3lDYHE",
        "colab_type": "code",
        "colab": {}
      },
      "source": [
        "#import the necessary module\n",
        "from sklearn.model_selection import train_test_split\n",
        "#split data set into train and test sets\n",
        "data_train, data_test, target_train, target_test = train_test_split(data,target, test_size = 0.30, random_state =11)"
      ],
      "execution_count": 0,
      "outputs": []
    },
    {
      "cell_type": "code",
      "metadata": {
        "id": "cImCgUdnDYCj",
        "colab_type": "code",
        "colab": {}
      },
      "source": [
        "from sklearn.naive_bayes import GaussianNB\n",
        "from sklearn.metrics import accuracy_score\n",
        "#create an object of the type GaussianNB\n",
        "gnb = GaussianNB()\n",
        "#train the algorithm on training data and predict using the testing data\n",
        "pred = gnb.fit(data_train, target_train).predict(data_test)\n",
        "#print(pred.tolist())\n",
        "#print the accuracy score of the model\n",
        "print(\"Naive-Bayes accuracy : \",accuracy_score(target_test, pred, normalize = True))"
      ],
      "execution_count": 0,
      "outputs": []
    },
    {
      "cell_type": "code",
      "metadata": {
        "id": "koaBtZdKDX8j",
        "colab_type": "code",
        "colab": {}
      },
      "source": [
        "from sklearn.svm import LinearSVC\n",
        "from sklearn.metrics import accuracy_score\n",
        "#create an object of type LinearSVC\n",
        "svc_model = LinearSVC(random_state=0)\n",
        "#train the algorithm on training data and predict using the testing data\n",
        "pred = svc_model.fit(data_train, target_train).predict(data_test)\n",
        "#print the accuracy score of the model\n",
        "print(\"LinearSVC accuracy : \",accuracy_score(target_test, pred, normalize = True))"
      ],
      "execution_count": 0,
      "outputs": []
    },
    {
      "cell_type": "code",
      "metadata": {
        "id": "7k44UkqNDX5E",
        "colab_type": "code",
        "colab": {}
      },
      "source": [
        "import necessary modules\n",
        "from sklearn.neighbors import KNeighborsClassifier\n",
        "from sklearn.metrics import accuracy_score\n",
        "#create object of the lassifier\n",
        "neigh = KNeighborsClassifier(n_neighbors=3)\n",
        "#Train the algorithm\n",
        "neigh.fit(data_train, target_train)\n",
        "# predict the response\n",
        "pred = neigh.predict(data_test)\n",
        "# evaluate accuracy\n",
        "print (\"KNeighbors accuracy score : \",accuracy_score(target_test, pred))"
      ],
      "execution_count": 0,
      "outputs": []
    },
    {
      "cell_type": "code",
      "metadata": {
        "id": "BmMg9bLiDXzf",
        "colab_type": "code",
        "colab": {}
      },
      "source": [
        "from yellowbrick.classifier import ClassificationReport\n",
        "# Instantiate the classification model and visualizer\n",
        "visualizer = ClassificationReport(gnb, classes=[\"REPROVADO\", \"APROVADO\"])\n",
        "visualizer.fit(data_train, target_train) # Fit the training data to the visualizer\n",
        "visualizer.score(data_test, target_test) # Evaluate the model on the test data\n",
        "g = visualizer.poof() # Draw/show/poof the data"
      ],
      "execution_count": 0,
      "outputs": []
    },
    {
      "cell_type": "code",
      "metadata": {
        "id": "ZXnAMY26DXsx",
        "colab_type": "code",
        "colab": {}
      },
      "source": [
        "from yellowbrick.classifier import ClassificationReport\n",
        "# Instantiate the classification model and visualizer\n",
        "visualizer = ClassificationReport(svc_model, classes=[\"REPROVADO\", \"APROVADO\"])\n",
        "visualizer.fit(data_train, target_train) # Fit the training data to the visualizer\n",
        "visualizer.score(data_test, target_test) # Evaluate the model on the test data\n",
        "g = visualizer.poof() # Draw/show/poof the data"
      ],
      "execution_count": 0,
      "outputs": []
    },
    {
      "cell_type": "code",
      "metadata": {
        "id": "rcvW2L5iDXfu",
        "colab_type": "code",
        "colab": {}
      },
      "source": [
        "from yellowbrick.classifier import ClassificationReport\n",
        "# Instantiate the classification model and visualizer\n",
        "visualizer = ClassificationReport(neigh, classes=[\"REPROVADO\",\"APROVADO\"])\n",
        "visualizer.fit(data_train, target_train) # Fit the training data to the visualizer\n",
        "visualizer.score(data_test, target_test) # Evaluate the model on the test data\n",
        "g = visualizer.poof() # Draw/show/poof the data"
      ],
      "execution_count": 0,
      "outputs": []
    },
    {
      "cell_type": "markdown",
      "metadata": {
        "id": "yzgJoe10h8YH",
        "colab_type": "text"
      },
      "source": [
        "# Todos os campos pra serem treinados"
      ]
    },
    {
      "cell_type": "code",
      "metadata": {
        "id": "fOCQiCmYh6z8",
        "colab_type": "code",
        "colab": {}
      },
      "source": [
        "#import the necessary module\n",
        "from sklearn import preprocessing\n",
        "# create the Labelencoder object\n",
        "le = preprocessing.LabelEncoder()\n",
        "#convert the categorical columns into numeric\n",
        "datasetBayes[\"notaProva1\"]                     = le.fit_transform(datasetBayes[\"notaProva1\"])\n",
        "datasetBayes[\"questoesFeitasProva1\"]           = le.fit_transform(datasetBayes[\"questoesFeitasProva1\"])\n",
        "datasetBayes[\"quantidadeProva1\"]               = le.fit_transform(datasetBayes[\"quantidadeProva1\"])\n",
        "datasetBayes[\"notaProva2\"]                     = le.fit_transform(datasetBayes[\"notaProva2\"])\n",
        "datasetBayes[\"questoesFeitasProva2\"]           = le.fit_transform(datasetBayes[\"questoesFeitasProva2\"])\n",
        "datasetBayes[\"quantidadeProva2\"]               = le.fit_transform(datasetBayes[\"quantidadeProva2\"])\n",
        "datasetBayes[\"mediaProvas\"]                    = le.fit_transform(datasetBayes[\"mediaProvas\"])\n",
        "datasetBayes[\"situacao\"]                       = le.fit_transform(datasetBayes[\"situacao\"])\n",
        "datasetBayes[\"qsub1\"]                          = le.fit_transform(datasetBayes[\"qsub1\"])\n",
        "datasetBayes[\"qsub2\"]                          = le.fit_transform(datasetBayes[\"qsub2\"])\n",
        "datasetBayes[\"qsub3\"]                          = le.fit_transform(datasetBayes[\"qsub3\"])\n",
        "datasetBayes[\"qsub4\"]                          = le.fit_transform(datasetBayes[\"qsub4\"])\n",
        "datasetBayes[\"qsub5\"]                          = le.fit_transform(datasetBayes[\"qsub5\"])\n",
        "datasetBayes[\"qsubp1\"]                         = le.fit_transform(datasetBayes[\"qsubp1\"])\n",
        "datasetBayes[\"qsubp2\"]                         = le.fit_transform(datasetBayes[\"qsubp2\"])\n",
        "datasetBayes[\"totalsub\"]                       = le.fit_transform(datasetBayes[\"totalsub\"])\n",
        "datasetBayes[\"igualACeml123\"]                  = le.fit_transform(datasetBayes[\"igualACeml123\"])\n",
        "datasetBayes[\"igualACeml45\"]                   = le.fit_transform(datasetBayes[\"igualACeml45\"])\n",
        "datasetBayes[\"qsemana1\"]                       = le.fit_transform(datasetBayes[\"qsemana1\"])\n",
        "datasetBayes[\"qsemana2\"]                       = le.fit_transform(datasetBayes[\"qsemana2\"])\n",
        "datasetBayes[\"qsemana3\"]                       = le.fit_transform(datasetBayes[\"qsemana3\"])\n",
        "datasetBayes[\"qsemana4\"]                       = le.fit_transform(datasetBayes[\"qsemana4\"])\n",
        "datasetBayes[\"qsemana5\"]                       = le.fit_transform(datasetBayes[\"qsemana5\"])\n",
        "datasetBayes[\"qsemana6\"]                       = le.fit_transform(datasetBayes[\"qsemana6\"])\n",
        "datasetBayes[\"qsemana7\"]                       = le.fit_transform(datasetBayes[\"qsemana7\"])\n",
        "datasetBayes[\"qsemana8\"]                       = le.fit_transform(datasetBayes[\"qsemana8\"])\n",
        "datasetBayes[\"submeteu1\"]                      = le.fit_transform(datasetBayes[\"submeteu1\"])\n",
        "datasetBayes[\"submeteu2\"]                      = le.fit_transform(datasetBayes[\"submeteu2\"])\n",
        "datasetBayes[\"submeteu3\"]                      = le.fit_transform(datasetBayes[\"submeteu3\"])\n",
        "datasetBayes[\"submeteu4\"]                      = le.fit_transform(datasetBayes[\"submeteu4\"])\n",
        "datasetBayes[\"submeteu5\"]                      = le.fit_transform(datasetBayes[\"submeteu5\"])\n",
        "datasetBayes[\"submeteu6\"]                      = le.fit_transform(datasetBayes[\"submeteu6\"])\n",
        "datasetBayes[\"submeteu7\"]                      = le.fit_transform(datasetBayes[\"submeteu7\"])\n",
        "datasetBayes[\"submeteu8\"]                      = le.fit_transform(datasetBayes[\"submeteu8\"])\n",
        "datasetBayes[\"madrugada\t\"]                     = le.fit_transform(datasetBayes[\"madrugada\"])\n",
        "datasetBayes[\"manha\"]                          = le.fit_transform(datasetBayes[\"manha\"])\n",
        "datasetBayes[\"tarde\"]                          = le.fit_transform(datasetBayes[\"tarde\"])\n",
        "datasetBayes[\"noite\"]                          = le.fit_transform(datasetBayes[\"noite\"])\n",
        "\n",
        "datasetBayes.head()"
      ],
      "execution_count": 0,
      "outputs": []
    }
  ]
}