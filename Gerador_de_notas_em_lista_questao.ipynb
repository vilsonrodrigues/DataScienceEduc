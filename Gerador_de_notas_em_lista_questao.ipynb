{
  "nbformat": 4,
  "nbformat_minor": 0,
  "metadata": {
    "colab": {
      "name": "Gerador de notas em lista/questao.ipynb",
      "provenance": [],
      "collapsed_sections": [
        "Uq0uq3yKwTPr"
      ],
      "include_colab_link": true
    },
    "kernelspec": {
      "name": "python3",
      "display_name": "Python 3"
    }
  },
  "cells": [
    {
      "cell_type": "markdown",
      "metadata": {
        "id": "view-in-github",
        "colab_type": "text"
      },
      "source": [
        "<a href=\"https://colab.research.google.com/github/vilsonrodrigues/DataScienceEduc/blob/master/Gerador_de_notas_em_lista_questao.ipynb\" target=\"_parent\"><img src=\"https://colab.research.google.com/assets/colab-badge.svg\" alt=\"Open In Colab\"/></a>"
      ]
    },
    {
      "cell_type": "markdown",
      "metadata": {
        "id": "FDLpvlMGwgwz",
        "colab_type": "text"
      },
      "source": [
        "# Pré-Processamento"
      ]
    },
    {
      "cell_type": "markdown",
      "metadata": {
        "id": "yoTxWbm5a0k5",
        "colab_type": "text"
      },
      "source": [
        "Importando as bibliotecas"
      ]
    },
    {
      "cell_type": "code",
      "metadata": {
        "id": "fk7U05-uf72Q",
        "colab_type": "code",
        "colab": {}
      },
      "source": [
        "import pandas as pd\n",
        "import numpy as np"
      ],
      "execution_count": 0,
      "outputs": []
    },
    {
      "cell_type": "markdown",
      "metadata": {
        "id": "RIGBQqzXa-Wy",
        "colab_type": "text"
      },
      "source": [
        "Importando os CSV's"
      ]
    },
    {
      "cell_type": "code",
      "metadata": {
        "id": "FkAvW9zOgFJI",
        "colab_type": "code",
        "colab": {}
      },
      "source": [
        "situacoes_url = [\"https://raw.githubusercontent.com/repitta/CienciaDeDadosEducacionais/master/arquivosCSV/lopSituacao2017.2.csv\",\n",
        "                 \"https://raw.githubusercontent.com/repitta/CienciaDeDadosEducacionais/master/arquivosCSV/lopSituacao2018.1.csv\",\n",
        "                 \"https://raw.githubusercontent.com/repitta/CienciaDeDadosEducacionais/master/arquivosCSV/lopSituacao2018.2.csv\",\n",
        "                 \"https://raw.githubusercontent.com/repitta/CienciaDeDadosEducacionais/master/arquivosCSV/lopSituacao2019.1.csv\",\n",
        "                 \"https://raw.githubusercontent.com/repitta/CienciaDeDadosEducacionais/master/arquivosCSV/lopSituacao2019.2.csv\"]\n",
        "\n",
        "usuarios_lop_url = \"https://raw.githubusercontent.com/repitta/CienciaDeDadosEducacionais/master/arquivosCSV/lop_db_2019_09_csv_tratados/lopUsuarioTurma.csv\"\n",
        " \n",
        "submissoes_url   = \"https://github.com/repitta/CienciaDeDadosEducacionais/raw/master/arquivosCSV/lop_db_2019_09_csv_tratados/lopSubLista.csv\"                    "
      ],
      "execution_count": 0,
      "outputs": []
    },
    {
      "cell_type": "markdown",
      "metadata": {
        "id": "DHjKVq0sbCHd",
        "colab_type": "text"
      },
      "source": [
        "Lendo como CSV"
      ]
    },
    {
      "cell_type": "code",
      "metadata": {
        "id": "cMHVqrmxlsyy",
        "colab_type": "code",
        "colab": {}
      },
      "source": [
        "#De 2017.2 até 2019.2\n",
        "situacoes2017_2 = pd.read_csv(situacoes_url[0], sep=',')\n",
        "situacoes2018_1 = pd.read_csv(situacoes_url[1], sep=',')\n",
        "situacoes2018_2 = pd.read_csv(situacoes_url[2], sep=',')\n",
        "situacoes2019_1 = pd.read_csv(situacoes_url[3], sep=',')\n",
        "situacoes2019_2 = pd.read_csv(situacoes_url[4], sep=',')\n",
        "\n",
        "# Submissoes dos alunos no LOP\n",
        "\n",
        "submissoes = pd.read_csv(submissoes_url, sep=',')\n",
        "\n",
        "#Usuarios cadastrados no LOP \n",
        "usuarios_lop = pd.read_csv(usuarios_lop_url, sep=',')"
      ],
      "execution_count": 0,
      "outputs": []
    },
    {
      "cell_type": "markdown",
      "metadata": {
        "id": "YZNh-zwfbYgb",
        "colab_type": "text"
      },
      "source": [
        "Inserindo numa lista"
      ]
    },
    {
      "cell_type": "code",
      "metadata": {
        "id": "V6cen5FlmkGb",
        "colab_type": "code",
        "colab": {}
      },
      "source": [
        "situacoes = [situacoes2017_2,situacoes2018_1, situacoes2018_2, situacoes2019_1, situacoes2019_2]"
      ],
      "execution_count": 0,
      "outputs": []
    },
    {
      "cell_type": "code",
      "metadata": {
        "id": "vQhCAPmpbhAi",
        "colab_type": "code",
        "colab": {}
      },
      "source": [
        "tam = len(situacoes)"
      ],
      "execution_count": 0,
      "outputs": []
    },
    {
      "cell_type": "markdown",
      "metadata": {
        "id": "pPB1aPG2cks0",
        "colab_type": "text"
      },
      "source": [
        "Tratando os campos de situação"
      ]
    },
    {
      "cell_type": "code",
      "metadata": {
        "id": "q-He58IvMXA8",
        "colab_type": "code",
        "colab": {}
      },
      "source": [
        "for i in range(tam):\n",
        "  situacoes[i] = situacoes[i].drop(columns=\"Unnamed: 0\")\n",
        "  situacoes[i].fillna(0, inplace=True)\n",
        "  situacoes[i][\"matricula\"] = situacoes[i][\"matricula\"].astype(str)\n",
        "  situacoes[i]= situacoes[i].rename(columns={\"ano\": \"anoSigaa\"})\n",
        "  situacoes[i][\"anoSigaa\"] = situacoes[i][\"anoSigaa\"].astype(float)\n",
        "  situacoes[i][\"turma\"] = situacoes[i][\"turma\"].astype(str)"
      ],
      "execution_count": 0,
      "outputs": []
    },
    {
      "cell_type": "markdown",
      "metadata": {
        "id": "DKhzrZnicoH7",
        "colab_type": "text"
      },
      "source": [
        "Tratando o campo das submissões"
      ]
    },
    {
      "cell_type": "code",
      "metadata": {
        "id": "5ixE7eaVcImK",
        "colab_type": "code",
        "colab": {}
      },
      "source": [
        "submissoes = submissoes.drop(columns=[\"Unnamed: 0\",\"index\"])  \n",
        "submissoes.fillna(0, inplace=True)\n",
        "submissoes.drop(submissoes[submissoes[\"data\"]==\"0\"].index, inplace=True)\n",
        "submissoes.drop(submissoes[submissoes[\"titulo\"]==\"0\"].index, inplace=True)\n",
        "submissoes[\"data\"] = pd.to_datetime(submissoes[\"data\"], format = \"%Y/%m/%dT%H:%M:%S\")\n",
        "submissoes = submissoes.rename(columns={\"quantidade\": \"quantidadeTotalLista\"})"
      ],
      "execution_count": 0,
      "outputs": []
    },
    {
      "cell_type": "markdown",
      "metadata": {
        "id": "ODhiXTyzc_A-",
        "colab_type": "text"
      },
      "source": [
        "Trantando o campo dos usuários"
      ]
    },
    {
      "cell_type": "code",
      "metadata": {
        "id": "A_J1iUpicIbK",
        "colab_type": "code",
        "colab": {}
      },
      "source": [
        "usuarios_lop = usuarios_lop.drop(columns=\"Unnamed: 0\")\n",
        "usuarios_lop.fillna(0, inplace=True)\n",
        "usuarios_lop = usuarios_lop.rename(columns={\"descricaoTurma\": \"turma\"})\n",
        "usuarios_lop[\"turma\"] =  usuarios_lop[\"turma\"].str.split(expand=True)[5]\n",
        "usuarios_lop[\"matricula\"] = usuarios_lop[\"matricula\"].astype(str)\n",
        "usuarios_lop= usuarios_lop.rename(columns={\"ano\": \"anoLop\"})\n",
        "usuarios_lop[\"anoLop\"] = usuarios_lop[\"anoLop\"].astype(float)\n",
        "usuarios_lop[\"turma\"] = usuarios_lop[\"turma\"].astype(str)\n"
      ],
      "execution_count": 0,
      "outputs": []
    },
    {
      "cell_type": "markdown",
      "metadata": {
        "id": "hbpM8QhvdZj8",
        "colab_type": "text"
      },
      "source": [
        "Colunas de situação, usuário e submissão"
      ]
    },
    {
      "cell_type": "code",
      "metadata": {
        "id": "HHxia7S2n7oa",
        "colab_type": "code",
        "outputId": "ff794c38-f137-4f8c-a2a8-fcc21a70b9dd",
        "colab": {
          "base_uri": "https://localhost:8080/",
          "height": 134
        }
      },
      "source": [
        "print(situacoes[0].columns)\n",
        "print(\" \")\n",
        "print(usuarios_lop.columns)\n",
        "print(\" \")\n",
        "print(submissoes.columns)"
      ],
      "execution_count": 9,
      "outputs": [
        {
          "output_type": "stream",
          "text": [
            "Index(['anoSigaa', 'turma', 'matricula', 'nota', 'situacao'], dtype='object')\n",
            " \n",
            "Index(['idTurma', 'anoLop', 'turma', 'matricula', 'idAluno', 'nome'], dtype='object')\n",
            " \n",
            "Index(['idLista', 'questao', 'titulo', 'quantidadeTotalLista', 'data',\n",
            "       'porcentagemAcerto', 'idAluno'],\n",
            "      dtype='object')\n"
          ],
          "name": "stdout"
        }
      ]
    },
    {
      "cell_type": "markdown",
      "metadata": {
        "id": "iVFkb-9keE8U",
        "colab_type": "text"
      },
      "source": [
        "Concatenando as tabelas de situações em um só"
      ]
    },
    {
      "cell_type": "code",
      "metadata": {
        "id": "vRLoV0zeeNmx",
        "colab_type": "code",
        "colab": {}
      },
      "source": [
        "a =  pd.concat([situacoes[0], situacoes[1], situacoes[2], situacoes[3],situacoes[4]], ignore_index=True, axis=0)"
      ],
      "execution_count": 0,
      "outputs": []
    },
    {
      "cell_type": "markdown",
      "metadata": {
        "id": "kNgrRGnvgNjL",
        "colab_type": "text"
      },
      "source": [
        "Juntando situação de usuários"
      ]
    },
    {
      "cell_type": "code",
      "metadata": {
        "id": "C6HZsXVdgNJK",
        "colab_type": "code",
        "colab": {}
      },
      "source": [
        "mergeSituacoeUsuarios = pd.merge(right= a, left = usuarios_lop, on=[\"matricula\",\"turma\"], how=\"outer\")"
      ],
      "execution_count": 0,
      "outputs": []
    },
    {
      "cell_type": "markdown",
      "metadata": {
        "id": "9YOFo7iqgkpn",
        "colab_type": "text"
      },
      "source": [
        "Limpar a tabela para ficar só com as ocorrencias de usuarios que estão cadastrados no Lop"
      ]
    },
    {
      "cell_type": "code",
      "metadata": {
        "id": "_FezmCphFaZK",
        "colab_type": "code",
        "outputId": "dc36c258-0903-42ae-d669-c88ff82f8b2a",
        "colab": {
          "base_uri": "https://localhost:8080/",
          "height": 77
        }
      },
      "source": [
        "mergeSituacoeUsuarios = mergeSituacoeUsuarios.loc[mergeSituacoeUsuarios[\"anoSigaa\"] == mergeSituacoeUsuarios[\"anoLop\"] ]\n",
        "mergeSituacoeUsuarios.head(1)"
      ],
      "execution_count": 12,
      "outputs": [
        {
          "output_type": "execute_result",
          "data": {
            "text/html": [
              "<div>\n",
              "<style scoped>\n",
              "    .dataframe tbody tr th:only-of-type {\n",
              "        vertical-align: middle;\n",
              "    }\n",
              "\n",
              "    .dataframe tbody tr th {\n",
              "        vertical-align: top;\n",
              "    }\n",
              "\n",
              "    .dataframe thead th {\n",
              "        text-align: right;\n",
              "    }\n",
              "</style>\n",
              "<table border=\"1\" class=\"dataframe\">\n",
              "  <thead>\n",
              "    <tr style=\"text-align: right;\">\n",
              "      <th></th>\n",
              "      <th>idTurma</th>\n",
              "      <th>anoLop</th>\n",
              "      <th>turma</th>\n",
              "      <th>matricula</th>\n",
              "      <th>idAluno</th>\n",
              "      <th>nome</th>\n",
              "      <th>anoSigaa</th>\n",
              "      <th>nota</th>\n",
              "      <th>situacao</th>\n",
              "    </tr>\n",
              "  </thead>\n",
              "  <tbody>\n",
              "    <tr>\n",
              "      <th>0</th>\n",
              "      <td>598e15296d8650eb27d52e3d</td>\n",
              "      <td>2017.2</td>\n",
              "      <td>01A</td>\n",
              "      <td>20170106538</td>\n",
              "      <td>599b051d495fac076a06d3f5</td>\n",
              "      <td>Aleff Ramon da Silva Costa</td>\n",
              "      <td>2017.2</td>\n",
              "      <td>7.1</td>\n",
              "      <td>APROVADO</td>\n",
              "    </tr>\n",
              "  </tbody>\n",
              "</table>\n",
              "</div>"
            ],
            "text/plain": [
              "                    idTurma  anoLop turma  ... anoSigaa nota  situacao\n",
              "0  598e15296d8650eb27d52e3d  2017.2   01A  ...   2017.2  7.1  APROVADO\n",
              "\n",
              "[1 rows x 9 columns]"
            ]
          },
          "metadata": {
            "tags": []
          },
          "execution_count": 12
        }
      ]
    },
    {
      "cell_type": "markdown",
      "metadata": {
        "id": "idUCuStng0_k",
        "colab_type": "text"
      },
      "source": [
        "Função para criar um campo extra na tabela submissoes para ter certeza que a submissão pertence ao aluno matriculado naquele semestre"
      ]
    },
    {
      "cell_type": "code",
      "metadata": {
        "id": "DmbH4dcvc7UN",
        "colab_type": "code",
        "colab": {}
      },
      "source": [
        "def anosub(data):\n",
        "  if data.month >= 8:\n",
        "    anoSubmissao = data.year + 0.2\n",
        "  else :\n",
        "    anoSubmissao = data.year + 0.1\n",
        "  return anoSubmissao"
      ],
      "execution_count": 0,
      "outputs": []
    },
    {
      "cell_type": "code",
      "metadata": {
        "id": "O5-5i6N6hByq",
        "colab_type": "code",
        "colab": {}
      },
      "source": [
        "submissoes[\"anoSubmissao\"] = submissoes[\"data\"].apply(anosub)"
      ],
      "execution_count": 0,
      "outputs": []
    },
    {
      "cell_type": "markdown",
      "metadata": {
        "id": "Tmih_bdliPAR",
        "colab_type": "text"
      },
      "source": [
        "Juntando a tabela situacaoUsuario com a tabela de submissões"
      ]
    },
    {
      "cell_type": "code",
      "metadata": {
        "id": "mpFLG1jIijvK",
        "colab_type": "code",
        "colab": {}
      },
      "source": [
        "mergeSituacoeUsuariosSubLista = pd.merge(right=mergeSituacoeUsuarios, left = submissoes, on=[\"idAluno\"], how=\"outer\")"
      ],
      "execution_count": 0,
      "outputs": []
    },
    {
      "cell_type": "markdown",
      "metadata": {
        "id": "skkiUDD3im-_",
        "colab_type": "text"
      },
      "source": [
        "Ficando apenas com tem o ano do sigaa igual ao da submissão"
      ]
    },
    {
      "cell_type": "code",
      "metadata": {
        "id": "HYDs4CUmvFvI",
        "colab_type": "code",
        "outputId": "58a3d338-35a5-4cfe-b7e0-224af6441681",
        "colab": {
          "base_uri": "https://localhost:8080/",
          "height": 164
        }
      },
      "source": [
        "mergeSituacoeUsuariosSubLista = mergeSituacoeUsuariosSubLista.loc[mergeSituacoeUsuariosSubLista[\"anoSigaa\"] == mergeSituacoeUsuariosSubLista[\"anoSubmissao\"] ]\n",
        "mergeSituacoeUsuariosSubLista.head(1)"
      ],
      "execution_count": 16,
      "outputs": [
        {
          "output_type": "execute_result",
          "data": {
            "text/html": [
              "<div>\n",
              "<style scoped>\n",
              "    .dataframe tbody tr th:only-of-type {\n",
              "        vertical-align: middle;\n",
              "    }\n",
              "\n",
              "    .dataframe tbody tr th {\n",
              "        vertical-align: top;\n",
              "    }\n",
              "\n",
              "    .dataframe thead th {\n",
              "        text-align: right;\n",
              "    }\n",
              "</style>\n",
              "<table border=\"1\" class=\"dataframe\">\n",
              "  <thead>\n",
              "    <tr style=\"text-align: right;\">\n",
              "      <th></th>\n",
              "      <th>idLista</th>\n",
              "      <th>questao</th>\n",
              "      <th>titulo</th>\n",
              "      <th>quantidadeTotalLista</th>\n",
              "      <th>data</th>\n",
              "      <th>porcentagemAcerto</th>\n",
              "      <th>idAluno</th>\n",
              "      <th>anoSubmissao</th>\n",
              "      <th>idTurma</th>\n",
              "      <th>anoLop</th>\n",
              "      <th>turma</th>\n",
              "      <th>matricula</th>\n",
              "      <th>nome</th>\n",
              "      <th>anoSigaa</th>\n",
              "      <th>nota</th>\n",
              "      <th>situacao</th>\n",
              "    </tr>\n",
              "  </thead>\n",
              "  <tbody>\n",
              "    <tr>\n",
              "      <th>148</th>\n",
              "      <td>598cd57a3bc48946977dcf67</td>\n",
              "      <td>59885f8d684f4a3f78163c00</td>\n",
              "      <td>Lista de Laboratório 1 - Expressões Aritmética...</td>\n",
              "      <td>5.0</td>\n",
              "      <td>2017-08-14 16:29:10.522000+00:00</td>\n",
              "      <td>100.0</td>\n",
              "      <td>5991cb910be9d42f2f68b906</td>\n",
              "      <td>2017.2</td>\n",
              "      <td>598e15296d8650eb27d52e3d</td>\n",
              "      <td>2017.2</td>\n",
              "      <td>01A</td>\n",
              "      <td>20170039453</td>\n",
              "      <td>Amanda</td>\n",
              "      <td>2017.2</td>\n",
              "      <td>7.9</td>\n",
              "      <td>APROVADO</td>\n",
              "    </tr>\n",
              "  </tbody>\n",
              "</table>\n",
              "</div>"
            ],
            "text/plain": [
              "                      idLista                   questao  ... nota  situacao\n",
              "148  598cd57a3bc48946977dcf67  59885f8d684f4a3f78163c00  ...  7.9  APROVADO\n",
              "\n",
              "[1 rows x 16 columns]"
            ]
          },
          "metadata": {
            "tags": []
          },
          "execution_count": 16
        }
      ]
    },
    {
      "cell_type": "markdown",
      "metadata": {
        "id": "QI8UHNj-1bVf",
        "colab_type": "text"
      },
      "source": [
        "#Função gera .xls"
      ]
    },
    {
      "cell_type": "code",
      "metadata": {
        "id": "5-J9M3oY1bH0",
        "colab_type": "code",
        "colab": {}
      },
      "source": [
        "def geraXls(table,nomeDaLista,turmas):\n",
        "  table[\"data\"] = table[\"data\"].astype(str)\n",
        "  table.to_excel(r\"Nota\"+nomeDaLista+\"Turmas\"+turmas+'.xls')"
      ],
      "execution_count": 0,
      "outputs": []
    },
    {
      "cell_type": "markdown",
      "metadata": {
        "id": "v1pv-cyVwXbp",
        "colab_type": "text"
      },
      "source": [
        "# Função para buscar desempenho dos alunos em uma questão de uma lista"
      ]
    },
    {
      "cell_type": "code",
      "metadata": {
        "id": "M-ZhWSjXwSbu",
        "colab_type": "code",
        "outputId": "5c383543-29d3-46b1-c041-89a5bd17f99a",
        "colab": {
          "base_uri": "https://localhost:8080/",
          "height": 195
        }
      },
      "source": [
        "tabelaSub = mergeSituacoeUsuariosSubLista.iloc[:,[1,4,5,6,10,11,12,13]]\n",
        "tabelaSub.head()"
      ],
      "execution_count": 18,
      "outputs": [
        {
          "output_type": "execute_result",
          "data": {
            "text/html": [
              "<div>\n",
              "<style scoped>\n",
              "    .dataframe tbody tr th:only-of-type {\n",
              "        vertical-align: middle;\n",
              "    }\n",
              "\n",
              "    .dataframe tbody tr th {\n",
              "        vertical-align: top;\n",
              "    }\n",
              "\n",
              "    .dataframe thead th {\n",
              "        text-align: right;\n",
              "    }\n",
              "</style>\n",
              "<table border=\"1\" class=\"dataframe\">\n",
              "  <thead>\n",
              "    <tr style=\"text-align: right;\">\n",
              "      <th></th>\n",
              "      <th>questao</th>\n",
              "      <th>data</th>\n",
              "      <th>porcentagemAcerto</th>\n",
              "      <th>idAluno</th>\n",
              "      <th>turma</th>\n",
              "      <th>matricula</th>\n",
              "      <th>nome</th>\n",
              "      <th>anoSigaa</th>\n",
              "    </tr>\n",
              "  </thead>\n",
              "  <tbody>\n",
              "    <tr>\n",
              "      <th>148</th>\n",
              "      <td>59885f8d684f4a3f78163c00</td>\n",
              "      <td>2017-08-14 16:29:10.522000+00:00</td>\n",
              "      <td>100.0</td>\n",
              "      <td>5991cb910be9d42f2f68b906</td>\n",
              "      <td>01A</td>\n",
              "      <td>20170039453</td>\n",
              "      <td>Amanda</td>\n",
              "      <td>2017.2</td>\n",
              "    </tr>\n",
              "    <tr>\n",
              "      <th>149</th>\n",
              "      <td>59887121d7c3703f96fda00c</td>\n",
              "      <td>2017-08-14 16:50:36.546000+00:00</td>\n",
              "      <td>100.0</td>\n",
              "      <td>5991cb910be9d42f2f68b906</td>\n",
              "      <td>01A</td>\n",
              "      <td>20170039453</td>\n",
              "      <td>Amanda</td>\n",
              "      <td>2017.2</td>\n",
              "    </tr>\n",
              "    <tr>\n",
              "      <th>150</th>\n",
              "      <td>59887c83684f4a3f78163c02</td>\n",
              "      <td>2017-08-14 17:32:49.320000+00:00</td>\n",
              "      <td>100.0</td>\n",
              "      <td>5991cb910be9d42f2f68b906</td>\n",
              "      <td>01A</td>\n",
              "      <td>20170039453</td>\n",
              "      <td>Amanda</td>\n",
              "      <td>2017.2</td>\n",
              "    </tr>\n",
              "    <tr>\n",
              "      <th>151</th>\n",
              "      <td>59888cb2d2f43b3f548ef054</td>\n",
              "      <td>2017-08-15 00:55:35.417000+00:00</td>\n",
              "      <td>100.0</td>\n",
              "      <td>5991cb910be9d42f2f68b906</td>\n",
              "      <td>01A</td>\n",
              "      <td>20170039453</td>\n",
              "      <td>Amanda</td>\n",
              "      <td>2017.2</td>\n",
              "    </tr>\n",
              "    <tr>\n",
              "      <th>152</th>\n",
              "      <td>59888ea5d2f43b3f548ef057</td>\n",
              "      <td>2017-08-15 00:20:39.814000+00:00</td>\n",
              "      <td>100.0</td>\n",
              "      <td>5991cb910be9d42f2f68b906</td>\n",
              "      <td>01A</td>\n",
              "      <td>20170039453</td>\n",
              "      <td>Amanda</td>\n",
              "      <td>2017.2</td>\n",
              "    </tr>\n",
              "  </tbody>\n",
              "</table>\n",
              "</div>"
            ],
            "text/plain": [
              "                      questao  ... anoSigaa\n",
              "148  59885f8d684f4a3f78163c00  ...   2017.2\n",
              "149  59887121d7c3703f96fda00c  ...   2017.2\n",
              "150  59887c83684f4a3f78163c02  ...   2017.2\n",
              "151  59888cb2d2f43b3f548ef054  ...   2017.2\n",
              "152  59888ea5d2f43b3f548ef057  ...   2017.2\n",
              "\n",
              "[5 rows x 8 columns]"
            ]
          },
          "metadata": {
            "tags": []
          },
          "execution_count": 18
        }
      ]
    },
    {
      "cell_type": "code",
      "metadata": {
        "id": "Z4h7x80Jxucu",
        "colab_type": "code",
        "colab": {}
      },
      "source": [
        "def desempenhoNaQuestao(table,questao,turma,ano,nomeDaLista):\n",
        "  tab = pd.DataFrame()\n",
        "  tab = table.loc[(table[\"questao\"] == questao) & (table[\"anoSigaa\"] == ano) & (table[\"turma\"].str.contains(turmas)),:]\n",
        "  tab = tab.sort_values(by=[\"turma\",\"nome\"])\n",
        "  geraXls(tab,nomeDaLista,turmas)\n",
        "  return tab"
      ],
      "execution_count": 0,
      "outputs": []
    },
    {
      "cell_type": "code",
      "metadata": {
        "id": "4As-wmbuxnJw",
        "colab_type": "code",
        "colab": {}
      },
      "source": [
        "turmas = \"03\"\n",
        "nomeDaLista = \"Lista03\"\n",
        "questao = \"59a17f695e65ea64a07f26ea\"\n",
        "ano = 2019.2\n",
        "porcentagemAcerto = 100.0"
      ],
      "execution_count": 0,
      "outputs": []
    },
    {
      "cell_type": "markdown",
      "metadata": {
        "id": "CvFRVddw2MCz",
        "colab_type": "text"
      },
      "source": [
        "Chamada da função"
      ]
    },
    {
      "cell_type": "code",
      "metadata": {
        "id": "SjwhLn5QzQvn",
        "colab_type": "code",
        "colab": {}
      },
      "source": [
        "d = desempenhoNaQuestao(tabelaSub,questao,turmas,ano,nomeDaLista)"
      ],
      "execution_count": 0,
      "outputs": []
    },
    {
      "cell_type": "code",
      "metadata": {
        "id": "Ntg-9vqQASOd",
        "colab_type": "code",
        "outputId": "8cf00d17-0c6a-46a3-be08-8c70eccaaae3",
        "colab": {
          "base_uri": "https://localhost:8080/",
          "height": 166
        }
      },
      "source": [
        "d.loc[d[\"matricula\"]==\"20190081445\",:]"
      ],
      "execution_count": 0,
      "outputs": [
        {
          "output_type": "execute_result",
          "data": {
            "text/html": [
              "<div>\n",
              "<style scoped>\n",
              "    .dataframe tbody tr th:only-of-type {\n",
              "        vertical-align: middle;\n",
              "    }\n",
              "\n",
              "    .dataframe tbody tr th {\n",
              "        vertical-align: top;\n",
              "    }\n",
              "\n",
              "    .dataframe thead th {\n",
              "        text-align: right;\n",
              "    }\n",
              "</style>\n",
              "<table border=\"1\" class=\"dataframe\">\n",
              "  <thead>\n",
              "    <tr style=\"text-align: right;\">\n",
              "      <th></th>\n",
              "      <th>questao</th>\n",
              "      <th>data</th>\n",
              "      <th>porcentagemAcerto</th>\n",
              "      <th>idAluno</th>\n",
              "      <th>turma</th>\n",
              "      <th>matricula</th>\n",
              "      <th>nome</th>\n",
              "      <th>anoSigaa</th>\n",
              "    </tr>\n",
              "  </thead>\n",
              "  <tbody>\n",
              "    <tr>\n",
              "      <th>49479</th>\n",
              "      <td>59a17f695e65ea64a07f26ea</td>\n",
              "      <td>2019-09-11 13:23:09.938000+00:00</td>\n",
              "      <td>100.0</td>\n",
              "      <td>5d4b12cec1853254c20afbb7</td>\n",
              "      <td>03B</td>\n",
              "      <td>20190081445</td>\n",
              "      <td>Syllas do Nascimento</td>\n",
              "      <td>2019.2</td>\n",
              "    </tr>\n",
              "    <tr>\n",
              "      <th>49480</th>\n",
              "      <td>59a17f695e65ea64a07f26ea</td>\n",
              "      <td>2019-09-11 13:23:10.727000+00:00</td>\n",
              "      <td>100.0</td>\n",
              "      <td>5d4b12cec1853254c20afbb7</td>\n",
              "      <td>03B</td>\n",
              "      <td>20190081445</td>\n",
              "      <td>Syllas do Nascimento</td>\n",
              "      <td>2019.2</td>\n",
              "    </tr>\n",
              "    <tr>\n",
              "      <th>49481</th>\n",
              "      <td>59a17f695e65ea64a07f26ea</td>\n",
              "      <td>2019-09-11 13:23:12.708000+00:00</td>\n",
              "      <td>100.0</td>\n",
              "      <td>5d4b12cec1853254c20afbb7</td>\n",
              "      <td>03B</td>\n",
              "      <td>20190081445</td>\n",
              "      <td>Syllas do Nascimento</td>\n",
              "      <td>2019.2</td>\n",
              "    </tr>\n",
              "    <tr>\n",
              "      <th>49482</th>\n",
              "      <td>59a17f695e65ea64a07f26ea</td>\n",
              "      <td>2019-09-11 13:30:13.391000+00:00</td>\n",
              "      <td>100.0</td>\n",
              "      <td>5d4b12cec1853254c20afbb7</td>\n",
              "      <td>03B</td>\n",
              "      <td>20190081445</td>\n",
              "      <td>Syllas do Nascimento</td>\n",
              "      <td>2019.2</td>\n",
              "    </tr>\n",
              "  </tbody>\n",
              "</table>\n",
              "</div>"
            ],
            "text/plain": [
              "                        questao  ... anoSigaa\n",
              "49479  59a17f695e65ea64a07f26ea  ...   2019.2\n",
              "49480  59a17f695e65ea64a07f26ea  ...   2019.2\n",
              "49481  59a17f695e65ea64a07f26ea  ...   2019.2\n",
              "49482  59a17f695e65ea64a07f26ea  ...   2019.2\n",
              "\n",
              "[4 rows x 8 columns]"
            ]
          },
          "metadata": {
            "tags": []
          },
          "execution_count": 57
        }
      ]
    },
    {
      "cell_type": "markdown",
      "metadata": {
        "id": "Uq0uq3yKwTPr",
        "colab_type": "text"
      },
      "source": [
        "# Montagem das notas dos alunos por lista"
      ]
    },
    {
      "cell_type": "code",
      "metadata": {
        "id": "jahJpMLFKUhL",
        "colab_type": "code",
        "outputId": "2deae4f2-bdc6-4feb-b89f-8b9c7066ac0b",
        "colab": {
          "base_uri": "https://localhost:8080/",
          "height": 842
        }
      },
      "source": [
        "a = mergeSituacoeUsuariosSubLista[[\"titulo\",\"quantidadeTotalLista\"]]\n",
        "a.drop_duplicates(subset=\"titulo\", keep='first', inplace=True)\n",
        "a.sort_values(by=\"titulo\")"
      ],
      "execution_count": 0,
      "outputs": [
        {
          "output_type": "stream",
          "text": [
            "/usr/local/lib/python3.6/dist-packages/ipykernel_launcher.py:2: SettingWithCopyWarning: \n",
            "A value is trying to be set on a copy of a slice from a DataFrame\n",
            "\n",
            "See the caveats in the documentation: http://pandas.pydata.org/pandas-docs/stable/indexing.html#indexing-view-versus-copy\n",
            "  \n"
          ],
          "name": "stderr"
        },
        {
          "output_type": "execute_result",
          "data": {
            "text/html": [
              "<div>\n",
              "<style scoped>\n",
              "    .dataframe tbody tr th:only-of-type {\n",
              "        vertical-align: middle;\n",
              "    }\n",
              "\n",
              "    .dataframe tbody tr th {\n",
              "        vertical-align: top;\n",
              "    }\n",
              "\n",
              "    .dataframe thead th {\n",
              "        text-align: right;\n",
              "    }\n",
              "</style>\n",
              "<table border=\"1\" class=\"dataframe\">\n",
              "  <thead>\n",
              "    <tr style=\"text-align: right;\">\n",
              "      <th></th>\n",
              "      <th>titulo</th>\n",
              "      <th>quantidadeTotalLista</th>\n",
              "    </tr>\n",
              "  </thead>\n",
              "  <tbody>\n",
              "    <tr>\n",
              "      <th>5044</th>\n",
              "      <td>Lista 1.0 - Expressões aritméticas</td>\n",
              "      <td>10.0</td>\n",
              "    </tr>\n",
              "    <tr>\n",
              "      <th>5067</th>\n",
              "      <td>Lista 1.2 - Funções aritméticas</td>\n",
              "      <td>9.0</td>\n",
              "    </tr>\n",
              "    <tr>\n",
              "      <th>181</th>\n",
              "      <td>Lista de Exercícios 1 - Expressões e variáveis</td>\n",
              "      <td>9.0</td>\n",
              "    </tr>\n",
              "    <tr>\n",
              "      <th>140</th>\n",
              "      <td>Lista de Exercícios 2 - Estruturas Condicionais</td>\n",
              "      <td>12.0</td>\n",
              "    </tr>\n",
              "    <tr>\n",
              "      <th>154</th>\n",
              "      <td>Lista de Exercícios 3 - Laço Condicional</td>\n",
              "      <td>12.0</td>\n",
              "    </tr>\n",
              "    <tr>\n",
              "      <th>188</th>\n",
              "      <td>Lista de Exercícios 4 - Laço contado</td>\n",
              "      <td>9.0</td>\n",
              "    </tr>\n",
              "    <tr>\n",
              "      <th>220</th>\n",
              "      <td>Lista de Exercícios 4.1 - Problemas tradiciona...</td>\n",
              "      <td>8.0</td>\n",
              "    </tr>\n",
              "    <tr>\n",
              "      <th>208</th>\n",
              "      <td>Lista de Exercícios 5 - Vetores</td>\n",
              "      <td>11.0</td>\n",
              "    </tr>\n",
              "    <tr>\n",
              "      <th>132</th>\n",
              "      <td>Lista de Laboratório 1 - Expressões Aritmética...</td>\n",
              "      <td>4.0</td>\n",
              "    </tr>\n",
              "    <tr>\n",
              "      <th>137</th>\n",
              "      <td>Lista de Laboratório 2 - Expressões Lógicas e ...</td>\n",
              "      <td>7.0</td>\n",
              "    </tr>\n",
              "    <tr>\n",
              "      <th>156</th>\n",
              "      <td>Lista de Laboratório 3 -  Estruturas de Repeti...</td>\n",
              "      <td>7.0</td>\n",
              "    </tr>\n",
              "    <tr>\n",
              "      <th>179</th>\n",
              "      <td>Lista de Laboratório 4 - Repetição Contada</td>\n",
              "      <td>5.0</td>\n",
              "    </tr>\n",
              "    <tr>\n",
              "      <th>193</th>\n",
              "      <td>Lista de Laboratório 5 - Vetores</td>\n",
              "      <td>5.0</td>\n",
              "    </tr>\n",
              "    <tr>\n",
              "      <th>136</th>\n",
              "      <td>Lista de Revisão Unidade 1</td>\n",
              "      <td>9.0</td>\n",
              "    </tr>\n",
              "    <tr>\n",
              "      <th>167</th>\n",
              "      <td>Prova 1 - Turma 09 - 2017.1</td>\n",
              "      <td>5.0</td>\n",
              "    </tr>\n",
              "    <tr>\n",
              "      <th>15664</th>\n",
              "      <td>Prova 1 - Turma 3A - 2018.2</td>\n",
              "      <td>3.0</td>\n",
              "    </tr>\n",
              "    <tr>\n",
              "      <th>15668</th>\n",
              "      <td>Prova 1 - Turma 3B - 2018.2</td>\n",
              "      <td>4.0</td>\n",
              "    </tr>\n",
              "    <tr>\n",
              "      <th>16263</th>\n",
              "      <td>Prova 1 - Turma 3C - 2018.2</td>\n",
              "      <td>4.0</td>\n",
              "    </tr>\n",
              "    <tr>\n",
              "      <th>8846</th>\n",
              "      <td>Prova 1 - Turma 3D - 2018.2</td>\n",
              "      <td>4.0</td>\n",
              "    </tr>\n",
              "    <tr>\n",
              "      <th>7632</th>\n",
              "      <td>Prova 1 - Turmas 2A e 2B - 2018.1</td>\n",
              "      <td>4.0</td>\n",
              "    </tr>\n",
              "    <tr>\n",
              "      <th>11700</th>\n",
              "      <td>Prova 1 - Turmas 3A e 3B - 2018.1</td>\n",
              "      <td>3.0</td>\n",
              "    </tr>\n",
              "    <tr>\n",
              "      <th>1649</th>\n",
              "      <td>Prova 1 - Turmas 3C e 3D - 2018.1</td>\n",
              "      <td>5.0</td>\n",
              "    </tr>\n",
              "    <tr>\n",
              "      <th>5781</th>\n",
              "      <td>Prova 2 - Turmas 2A e 2B - 2018.1</td>\n",
              "      <td>5.0</td>\n",
              "    </tr>\n",
              "    <tr>\n",
              "      <th>6241</th>\n",
              "      <td>Prova 2 - Turmas 2C e 2D - 2018.1</td>\n",
              "      <td>5.0</td>\n",
              "    </tr>\n",
              "  </tbody>\n",
              "</table>\n",
              "</div>"
            ],
            "text/plain": [
              "                                                  titulo  quantidadeTotalLista\n",
              "5044                  Lista 1.0 - Expressões aritméticas                  10.0\n",
              "5067                     Lista 1.2 - Funções aritméticas                   9.0\n",
              "181       Lista de Exercícios 1 - Expressões e variáveis                   9.0\n",
              "140      Lista de Exercícios 2 - Estruturas Condicionais                  12.0\n",
              "154             Lista de Exercícios 3 - Laço Condicional                  12.0\n",
              "188                 Lista de Exercícios 4 - Laço contado                   9.0\n",
              "220    Lista de Exercícios 4.1 - Problemas tradiciona...                   8.0\n",
              "208                      Lista de Exercícios 5 - Vetores                  11.0\n",
              "132    Lista de Laboratório 1 - Expressões Aritmética...                   4.0\n",
              "137    Lista de Laboratório 2 - Expressões Lógicas e ...                   7.0\n",
              "156    Lista de Laboratório 3 -  Estruturas de Repeti...                   7.0\n",
              "179           Lista de Laboratório 4 - Repetição Contada                   5.0\n",
              "193                     Lista de Laboratório 5 - Vetores                   5.0\n",
              "136                           Lista de Revisão Unidade 1                   9.0\n",
              "167                          Prova 1 - Turma 09 - 2017.1                   5.0\n",
              "15664                        Prova 1 - Turma 3A - 2018.2                   3.0\n",
              "15668                        Prova 1 - Turma 3B - 2018.2                   4.0\n",
              "16263                        Prova 1 - Turma 3C - 2018.2                   4.0\n",
              "8846                         Prova 1 - Turma 3D - 2018.2                   4.0\n",
              "7632                   Prova 1 - Turmas 2A e 2B - 2018.1                   4.0\n",
              "11700                  Prova 1 - Turmas 3A e 3B - 2018.1                   3.0\n",
              "1649                   Prova 1 - Turmas 3C e 3D - 2018.1                   5.0\n",
              "5781                   Prova 2 - Turmas 2A e 2B - 2018.1                   5.0\n",
              "6241                   Prova 2 - Turmas 2C e 2D - 2018.1                   5.0"
            ]
          },
          "metadata": {
            "tags": []
          },
          "execution_count": 10
        }
      ]
    },
    {
      "cell_type": "markdown",
      "metadata": {
        "id": "3Gwz3X_KSnxV",
        "colab_type": "text"
      },
      "source": [
        "**Porcentagem Máxima por aluno em cada questão da lista**"
      ]
    },
    {
      "cell_type": "code",
      "metadata": {
        "id": "Ae0uZnOdOhYc",
        "colab_type": "code",
        "outputId": "5ba235af-9b41-47b1-da33-8fbce5f685f4",
        "colab": {
          "base_uri": "https://localhost:8080/",
          "height": 231
        }
      },
      "source": [
        "NotaMaxQuestao = mergeSituacoeUsuariosSubLista.groupby([\"idLista\",\"idAluno\",\"questao\",\"anoSubmissao\"]).max()\n",
        "NotaMaxQuestao.rename(columns={\"porcentagemAcerto\":\"porcentagemMaxima\"}, inplace=True)\n",
        "NotaMaxQuestao = NotaMaxQuestao.reset_index()\n",
        "print(NotaMaxQuestao.columns)\n",
        "NotaMaxQuestao.head(1)"
      ],
      "execution_count": 0,
      "outputs": [
        {
          "output_type": "stream",
          "text": [
            "Index(['idLista', 'idAluno', 'questao', 'anoSubmissao', 'titulo',\n",
            "       'quantidadeTotalLista', 'data', 'porcentagemMaxima', 'idTurma',\n",
            "       'anoLop', 'turma', 'matricula', 'nome', 'situacao', 'anoSigaa'],\n",
            "      dtype='object')\n"
          ],
          "name": "stdout"
        },
        {
          "output_type": "execute_result",
          "data": {
            "text/html": [
              "<div>\n",
              "<style scoped>\n",
              "    .dataframe tbody tr th:only-of-type {\n",
              "        vertical-align: middle;\n",
              "    }\n",
              "\n",
              "    .dataframe tbody tr th {\n",
              "        vertical-align: top;\n",
              "    }\n",
              "\n",
              "    .dataframe thead th {\n",
              "        text-align: right;\n",
              "    }\n",
              "</style>\n",
              "<table border=\"1\" class=\"dataframe\">\n",
              "  <thead>\n",
              "    <tr style=\"text-align: right;\">\n",
              "      <th></th>\n",
              "      <th>idLista</th>\n",
              "      <th>idAluno</th>\n",
              "      <th>questao</th>\n",
              "      <th>anoSubmissao</th>\n",
              "      <th>titulo</th>\n",
              "      <th>quantidadeTotalLista</th>\n",
              "      <th>data</th>\n",
              "      <th>porcentagemMaxima</th>\n",
              "      <th>idTurma</th>\n",
              "      <th>anoLop</th>\n",
              "      <th>turma</th>\n",
              "      <th>matricula</th>\n",
              "      <th>nome</th>\n",
              "      <th>situacao</th>\n",
              "      <th>anoSigaa</th>\n",
              "    </tr>\n",
              "  </thead>\n",
              "  <tbody>\n",
              "    <tr>\n",
              "      <th>0</th>\n",
              "      <td>598cd57a3bc48946977dcf67</td>\n",
              "      <td>5991cb910be9d42f2f68b906</td>\n",
              "      <td>59885f8d684f4a3f78163c00</td>\n",
              "      <td>2017.2</td>\n",
              "      <td>Lista de Laboratório 1 - Expressões Aritmética...</td>\n",
              "      <td>4.0</td>\n",
              "      <td>2017-08-14 16:29:10.522000+00:00</td>\n",
              "      <td>100.0</td>\n",
              "      <td>598e15296d8650eb27d52e3d</td>\n",
              "      <td>2017.2</td>\n",
              "      <td>01A</td>\n",
              "      <td>20170039453</td>\n",
              "      <td>Amanda</td>\n",
              "      <td>APROVADO</td>\n",
              "      <td>2017.2</td>\n",
              "    </tr>\n",
              "  </tbody>\n",
              "</table>\n",
              "</div>"
            ],
            "text/plain": [
              "                    idLista                   idAluno  ...  situacao  anoSigaa\n",
              "0  598cd57a3bc48946977dcf67  5991cb910be9d42f2f68b906  ...  APROVADO    2017.2\n",
              "\n",
              "[1 rows x 15 columns]"
            ]
          },
          "metadata": {
            "tags": []
          },
          "execution_count": 11
        }
      ]
    },
    {
      "cell_type": "markdown",
      "metadata": {
        "id": "vgm8Oox_ZcP7",
        "colab_type": "text"
      },
      "source": [
        "**Quantidade de questoes feitas por aluno em cada lista**"
      ]
    },
    {
      "cell_type": "code",
      "metadata": {
        "id": "PPKZhnBSVfg1",
        "colab_type": "code",
        "outputId": "bd02abc3-8448-4efa-e3c9-a78d0ecfea3c",
        "colab": {
          "base_uri": "https://localhost:8080/",
          "height": 94
        }
      },
      "source": [
        "quantidade = NotaMaxQuestao.groupby([\"titulo\",\"idAluno\",\"anoSubmissao\"]).count()\n",
        "quantidade.rename(columns={\"quantidadeTotalLista\":\"questoesFeitas\"}, inplace=True)\n",
        "quantidade= quantidade.reset_index()\n",
        "quantidade= quantidade[[\"titulo\",\"idAluno\",\"anoSubmissao\",\"questoesFeitas\"]]\n",
        "print(quantidade.columns)\n",
        "quantidade.head(1)"
      ],
      "execution_count": 0,
      "outputs": [
        {
          "output_type": "stream",
          "text": [
            "Index(['titulo', 'idAluno', 'anoSubmissao', 'questoesFeitas'], dtype='object')\n"
          ],
          "name": "stdout"
        },
        {
          "output_type": "execute_result",
          "data": {
            "text/html": [
              "<div>\n",
              "<style scoped>\n",
              "    .dataframe tbody tr th:only-of-type {\n",
              "        vertical-align: middle;\n",
              "    }\n",
              "\n",
              "    .dataframe tbody tr th {\n",
              "        vertical-align: top;\n",
              "    }\n",
              "\n",
              "    .dataframe thead th {\n",
              "        text-align: right;\n",
              "    }\n",
              "</style>\n",
              "<table border=\"1\" class=\"dataframe\">\n",
              "  <thead>\n",
              "    <tr style=\"text-align: right;\">\n",
              "      <th></th>\n",
              "      <th>titulo</th>\n",
              "      <th>idAluno</th>\n",
              "      <th>anoSubmissao</th>\n",
              "      <th>questoesFeitas</th>\n",
              "    </tr>\n",
              "  </thead>\n",
              "  <tbody>\n",
              "    <tr>\n",
              "      <th>0</th>\n",
              "      <td>Lista 1.0 - Expressões aritméticas</td>\n",
              "      <td>59b91272570dda40b535c50d</td>\n",
              "      <td>2019.2</td>\n",
              "      <td>10</td>\n",
              "    </tr>\n",
              "  </tbody>\n",
              "</table>\n",
              "</div>"
            ],
            "text/plain": [
              "                               titulo  ... questoesFeitas\n",
              "0  Lista 1.0 - Expressões aritméticas  ...             10\n",
              "\n",
              "[1 rows x 4 columns]"
            ]
          },
          "metadata": {
            "tags": []
          },
          "execution_count": 12
        }
      ]
    },
    {
      "cell_type": "markdown",
      "metadata": {
        "id": "aEJHPj8P8VLb",
        "colab_type": "text"
      },
      "source": [
        "**Nota final dos alunos por lista**"
      ]
    },
    {
      "cell_type": "code",
      "metadata": {
        "id": "LIOUjOfsS2TA",
        "colab_type": "code",
        "outputId": "6db52428-1cc6-483f-db4c-f475446c5dde",
        "colab": {
          "base_uri": "https://localhost:8080/",
          "height": 94
        }
      },
      "source": [
        "NotaLista = NotaMaxQuestao.groupby([\"titulo\",\"idAluno\",\"anoSubmissao\"]).sum()\n",
        "NotaLista.rename(columns={\"porcentagemMaxima\":\"SomaLista\"}, inplace=True)\n",
        "#NotaLista = NotaLista.drop('ano',axis=1)\n",
        "NotaLista = NotaLista.reset_index()\n",
        "NotaLista = NotaLista[[\"titulo\",'idAluno',\"anoSubmissao\",'SomaLista']]\n",
        "print(NotaLista.columns)\n",
        "NotaLista.head(1)"
      ],
      "execution_count": 0,
      "outputs": [
        {
          "output_type": "stream",
          "text": [
            "Index(['titulo', 'idAluno', 'anoSubmissao', 'SomaLista'], dtype='object')\n"
          ],
          "name": "stdout"
        },
        {
          "output_type": "execute_result",
          "data": {
            "text/html": [
              "<div>\n",
              "<style scoped>\n",
              "    .dataframe tbody tr th:only-of-type {\n",
              "        vertical-align: middle;\n",
              "    }\n",
              "\n",
              "    .dataframe tbody tr th {\n",
              "        vertical-align: top;\n",
              "    }\n",
              "\n",
              "    .dataframe thead th {\n",
              "        text-align: right;\n",
              "    }\n",
              "</style>\n",
              "<table border=\"1\" class=\"dataframe\">\n",
              "  <thead>\n",
              "    <tr style=\"text-align: right;\">\n",
              "      <th></th>\n",
              "      <th>titulo</th>\n",
              "      <th>idAluno</th>\n",
              "      <th>anoSubmissao</th>\n",
              "      <th>SomaLista</th>\n",
              "    </tr>\n",
              "  </thead>\n",
              "  <tbody>\n",
              "    <tr>\n",
              "      <th>0</th>\n",
              "      <td>Lista 1.0 - Expressões aritméticas</td>\n",
              "      <td>59b91272570dda40b535c50d</td>\n",
              "      <td>2019.2</td>\n",
              "      <td>1000.0</td>\n",
              "    </tr>\n",
              "  </tbody>\n",
              "</table>\n",
              "</div>"
            ],
            "text/plain": [
              "                               titulo  ... SomaLista\n",
              "0  Lista 1.0 - Expressões aritméticas  ...    1000.0\n",
              "\n",
              "[1 rows x 4 columns]"
            ]
          },
          "metadata": {
            "tags": []
          },
          "execution_count": 13
        }
      ]
    },
    {
      "cell_type": "code",
      "metadata": {
        "id": "xrkgbDhyZtc5",
        "colab_type": "code",
        "outputId": "01a67108-3370-4f3a-c06b-39d1871b79a4",
        "colab": {
          "base_uri": "https://localhost:8080/",
          "height": 110
        }
      },
      "source": [
        "mergeQuanNotaLista =  pd.merge(right= quantidade, left = NotaLista, on=['idAluno','titulo',\"anoSubmissao\"], how=\"inner\")\n",
        "print(mergeQuanNotaLista.columns)\n",
        "print(mergeQuanNotaLista.shape)\n",
        "mergeQuanNotaLista.head(1)"
      ],
      "execution_count": 0,
      "outputs": [
        {
          "output_type": "stream",
          "text": [
            "Index(['titulo', 'idAluno', 'anoSubmissao', 'SomaLista', 'questoesFeitas'], dtype='object')\n",
            "(7926, 5)\n"
          ],
          "name": "stdout"
        },
        {
          "output_type": "execute_result",
          "data": {
            "text/html": [
              "<div>\n",
              "<style scoped>\n",
              "    .dataframe tbody tr th:only-of-type {\n",
              "        vertical-align: middle;\n",
              "    }\n",
              "\n",
              "    .dataframe tbody tr th {\n",
              "        vertical-align: top;\n",
              "    }\n",
              "\n",
              "    .dataframe thead th {\n",
              "        text-align: right;\n",
              "    }\n",
              "</style>\n",
              "<table border=\"1\" class=\"dataframe\">\n",
              "  <thead>\n",
              "    <tr style=\"text-align: right;\">\n",
              "      <th></th>\n",
              "      <th>titulo</th>\n",
              "      <th>idAluno</th>\n",
              "      <th>anoSubmissao</th>\n",
              "      <th>SomaLista</th>\n",
              "      <th>questoesFeitas</th>\n",
              "    </tr>\n",
              "  </thead>\n",
              "  <tbody>\n",
              "    <tr>\n",
              "      <th>0</th>\n",
              "      <td>Lista 1.0 - Expressões aritméticas</td>\n",
              "      <td>59b91272570dda40b535c50d</td>\n",
              "      <td>2019.2</td>\n",
              "      <td>1000.0</td>\n",
              "      <td>10</td>\n",
              "    </tr>\n",
              "  </tbody>\n",
              "</table>\n",
              "</div>"
            ],
            "text/plain": [
              "                               titulo  ... questoesFeitas\n",
              "0  Lista 1.0 - Expressões aritméticas  ...             10\n",
              "\n",
              "[1 rows x 5 columns]"
            ]
          },
          "metadata": {
            "tags": []
          },
          "execution_count": 14
        }
      ]
    },
    {
      "cell_type": "markdown",
      "metadata": {
        "id": "tVAYs1f6jAEj",
        "colab_type": "text"
      },
      "source": [
        "**Quantidade de questoes por lista**"
      ]
    },
    {
      "cell_type": "code",
      "metadata": {
        "id": "aW34ME3nfdlH",
        "colab_type": "code",
        "outputId": "b397c3d0-cdf0-47f3-ad80-bd2096411a44",
        "colab": {
          "base_uri": "https://localhost:8080/",
          "height": 774
        }
      },
      "source": [
        "quantQuesList = mergeSituacoeUsuariosSubLista[['quantidadeTotalLista','titulo']]\n",
        "quantQuesList =quantQuesList.drop_duplicates()\n",
        "print(quantQuesList.shape)\n",
        "quantQuesList"
      ],
      "execution_count": 0,
      "outputs": [
        {
          "output_type": "stream",
          "text": [
            "(24, 2)\n"
          ],
          "name": "stdout"
        },
        {
          "output_type": "execute_result",
          "data": {
            "text/html": [
              "<div>\n",
              "<style scoped>\n",
              "    .dataframe tbody tr th:only-of-type {\n",
              "        vertical-align: middle;\n",
              "    }\n",
              "\n",
              "    .dataframe tbody tr th {\n",
              "        vertical-align: top;\n",
              "    }\n",
              "\n",
              "    .dataframe thead th {\n",
              "        text-align: right;\n",
              "    }\n",
              "</style>\n",
              "<table border=\"1\" class=\"dataframe\">\n",
              "  <thead>\n",
              "    <tr style=\"text-align: right;\">\n",
              "      <th></th>\n",
              "      <th>quantidadeTotalLista</th>\n",
              "      <th>titulo</th>\n",
              "    </tr>\n",
              "  </thead>\n",
              "  <tbody>\n",
              "    <tr>\n",
              "      <th>132</th>\n",
              "      <td>4.0</td>\n",
              "      <td>Lista de Laboratório 1 - Expressões Aritmética...</td>\n",
              "    </tr>\n",
              "    <tr>\n",
              "      <th>136</th>\n",
              "      <td>9.0</td>\n",
              "      <td>Lista de Revisão Unidade 1</td>\n",
              "    </tr>\n",
              "    <tr>\n",
              "      <th>137</th>\n",
              "      <td>7.0</td>\n",
              "      <td>Lista de Laboratório 2 - Expressões Lógicas e ...</td>\n",
              "    </tr>\n",
              "    <tr>\n",
              "      <th>140</th>\n",
              "      <td>12.0</td>\n",
              "      <td>Lista de Exercícios 2 - Estruturas Condicionais</td>\n",
              "    </tr>\n",
              "    <tr>\n",
              "      <th>154</th>\n",
              "      <td>12.0</td>\n",
              "      <td>Lista de Exercícios 3 - Laço Condicional</td>\n",
              "    </tr>\n",
              "    <tr>\n",
              "      <th>156</th>\n",
              "      <td>7.0</td>\n",
              "      <td>Lista de Laboratório 3 -  Estruturas de Repeti...</td>\n",
              "    </tr>\n",
              "    <tr>\n",
              "      <th>167</th>\n",
              "      <td>5.0</td>\n",
              "      <td>Prova 1 - Turma 09 - 2017.1</td>\n",
              "    </tr>\n",
              "    <tr>\n",
              "      <th>179</th>\n",
              "      <td>5.0</td>\n",
              "      <td>Lista de Laboratório 4 - Repetição Contada</td>\n",
              "    </tr>\n",
              "    <tr>\n",
              "      <th>181</th>\n",
              "      <td>9.0</td>\n",
              "      <td>Lista de Exercícios 1 - Expressões e variáveis</td>\n",
              "    </tr>\n",
              "    <tr>\n",
              "      <th>188</th>\n",
              "      <td>9.0</td>\n",
              "      <td>Lista de Exercícios 4 - Laço contado</td>\n",
              "    </tr>\n",
              "    <tr>\n",
              "      <th>193</th>\n",
              "      <td>5.0</td>\n",
              "      <td>Lista de Laboratório 5 - Vetores</td>\n",
              "    </tr>\n",
              "    <tr>\n",
              "      <th>208</th>\n",
              "      <td>11.0</td>\n",
              "      <td>Lista de Exercícios 5 - Vetores</td>\n",
              "    </tr>\n",
              "    <tr>\n",
              "      <th>220</th>\n",
              "      <td>8.0</td>\n",
              "      <td>Lista de Exercícios 4.1 - Problemas tradiciona...</td>\n",
              "    </tr>\n",
              "    <tr>\n",
              "      <th>1649</th>\n",
              "      <td>5.0</td>\n",
              "      <td>Prova 1 - Turmas 3C e 3D - 2018.1</td>\n",
              "    </tr>\n",
              "    <tr>\n",
              "      <th>5044</th>\n",
              "      <td>10.0</td>\n",
              "      <td>Lista 1.0 - Expressões aritméticas</td>\n",
              "    </tr>\n",
              "    <tr>\n",
              "      <th>5067</th>\n",
              "      <td>9.0</td>\n",
              "      <td>Lista 1.2 - Funções aritméticas</td>\n",
              "    </tr>\n",
              "    <tr>\n",
              "      <th>5781</th>\n",
              "      <td>5.0</td>\n",
              "      <td>Prova 2 - Turmas 2A e 2B - 2018.1</td>\n",
              "    </tr>\n",
              "    <tr>\n",
              "      <th>6241</th>\n",
              "      <td>5.0</td>\n",
              "      <td>Prova 2 - Turmas 2C e 2D - 2018.1</td>\n",
              "    </tr>\n",
              "    <tr>\n",
              "      <th>7632</th>\n",
              "      <td>4.0</td>\n",
              "      <td>Prova 1 - Turmas 2A e 2B - 2018.1</td>\n",
              "    </tr>\n",
              "    <tr>\n",
              "      <th>8846</th>\n",
              "      <td>4.0</td>\n",
              "      <td>Prova 1 - Turma 3D - 2018.2</td>\n",
              "    </tr>\n",
              "    <tr>\n",
              "      <th>11700</th>\n",
              "      <td>3.0</td>\n",
              "      <td>Prova 1 - Turmas 3A e 3B - 2018.1</td>\n",
              "    </tr>\n",
              "    <tr>\n",
              "      <th>15664</th>\n",
              "      <td>3.0</td>\n",
              "      <td>Prova 1 - Turma 3A - 2018.2</td>\n",
              "    </tr>\n",
              "    <tr>\n",
              "      <th>15668</th>\n",
              "      <td>4.0</td>\n",
              "      <td>Prova 1 - Turma 3B - 2018.2</td>\n",
              "    </tr>\n",
              "    <tr>\n",
              "      <th>16263</th>\n",
              "      <td>4.0</td>\n",
              "      <td>Prova 1 - Turma 3C - 2018.2</td>\n",
              "    </tr>\n",
              "  </tbody>\n",
              "</table>\n",
              "</div>"
            ],
            "text/plain": [
              "       quantidadeTotalLista                                             titulo\n",
              "132                     4.0  Lista de Laboratório 1 - Expressões Aritmética...\n",
              "136                     9.0                         Lista de Revisão Unidade 1\n",
              "137                     7.0  Lista de Laboratório 2 - Expressões Lógicas e ...\n",
              "140                    12.0    Lista de Exercícios 2 - Estruturas Condicionais\n",
              "154                    12.0           Lista de Exercícios 3 - Laço Condicional\n",
              "156                     7.0  Lista de Laboratório 3 -  Estruturas de Repeti...\n",
              "167                     5.0                        Prova 1 - Turma 09 - 2017.1\n",
              "179                     5.0         Lista de Laboratório 4 - Repetição Contada\n",
              "181                     9.0     Lista de Exercícios 1 - Expressões e variáveis\n",
              "188                     9.0               Lista de Exercícios 4 - Laço contado\n",
              "193                     5.0                   Lista de Laboratório 5 - Vetores\n",
              "208                    11.0                    Lista de Exercícios 5 - Vetores\n",
              "220                     8.0  Lista de Exercícios 4.1 - Problemas tradiciona...\n",
              "1649                    5.0                  Prova 1 - Turmas 3C e 3D - 2018.1\n",
              "5044                   10.0                 Lista 1.0 - Expressões aritméticas\n",
              "5067                    9.0                    Lista 1.2 - Funções aritméticas\n",
              "5781                    5.0                  Prova 2 - Turmas 2A e 2B - 2018.1\n",
              "6241                    5.0                  Prova 2 - Turmas 2C e 2D - 2018.1\n",
              "7632                    4.0                  Prova 1 - Turmas 2A e 2B - 2018.1\n",
              "8846                    4.0                        Prova 1 - Turma 3D - 2018.2\n",
              "11700                   3.0                  Prova 1 - Turmas 3A e 3B - 2018.1\n",
              "15664                   3.0                        Prova 1 - Turma 3A - 2018.2\n",
              "15668                   4.0                        Prova 1 - Turma 3B - 2018.2\n",
              "16263                   4.0                        Prova 1 - Turma 3C - 2018.2"
            ]
          },
          "metadata": {
            "tags": []
          },
          "execution_count": 15
        }
      ]
    },
    {
      "cell_type": "markdown",
      "metadata": {
        "id": "-CZxcN9-xTwh",
        "colab_type": "text"
      },
      "source": [
        "**Concatenando as informações das tabelas mergeQuanNotaLista e quantidade de questoes por lista para calcular o nota final de cada lista**"
      ]
    },
    {
      "cell_type": "code",
      "metadata": {
        "id": "wi0x_t8MjWnp",
        "colab_type": "code",
        "outputId": "950a29ac-ba24-451f-975e-4591473231ea",
        "colab": {
          "base_uri": "https://localhost:8080/",
          "height": 203
        }
      },
      "source": [
        "mergeQuanNotaListaQuanQ = mergeQuanNotaLista.join(quantQuesList.set_index('titulo'), on='titulo')\n",
        "mergeQuanNotaListaQuanQ[\"NotaLista\"]= mergeQuanNotaListaQuanQ[\"SomaLista\"] /mergeQuanNotaListaQuanQ['quantidadeTotalLista']\n",
        "print(mergeQuanNotaListaQuanQ.columns)\n",
        "print(mergeQuanNotaListaQuanQ.shape)\n",
        "mergeQuanNotaListaQuanQ.head(3)"
      ],
      "execution_count": 0,
      "outputs": [
        {
          "output_type": "stream",
          "text": [
            "Index(['titulo', 'idAluno', 'anoSubmissao', 'SomaLista', 'questoesFeitas',\n",
            "       'quantidadeTotalLista', 'NotaLista'],\n",
            "      dtype='object')\n",
            "(7926, 7)\n"
          ],
          "name": "stdout"
        },
        {
          "output_type": "execute_result",
          "data": {
            "text/html": [
              "<div>\n",
              "<style scoped>\n",
              "    .dataframe tbody tr th:only-of-type {\n",
              "        vertical-align: middle;\n",
              "    }\n",
              "\n",
              "    .dataframe tbody tr th {\n",
              "        vertical-align: top;\n",
              "    }\n",
              "\n",
              "    .dataframe thead th {\n",
              "        text-align: right;\n",
              "    }\n",
              "</style>\n",
              "<table border=\"1\" class=\"dataframe\">\n",
              "  <thead>\n",
              "    <tr style=\"text-align: right;\">\n",
              "      <th></th>\n",
              "      <th>titulo</th>\n",
              "      <th>idAluno</th>\n",
              "      <th>anoSubmissao</th>\n",
              "      <th>SomaLista</th>\n",
              "      <th>questoesFeitas</th>\n",
              "      <th>quantidadeTotalLista</th>\n",
              "      <th>NotaLista</th>\n",
              "    </tr>\n",
              "  </thead>\n",
              "  <tbody>\n",
              "    <tr>\n",
              "      <th>0</th>\n",
              "      <td>Lista 1.0 - Expressões aritméticas</td>\n",
              "      <td>59b91272570dda40b535c50d</td>\n",
              "      <td>2019.2</td>\n",
              "      <td>1000.0</td>\n",
              "      <td>10</td>\n",
              "      <td>10.0</td>\n",
              "      <td>100.0</td>\n",
              "    </tr>\n",
              "    <tr>\n",
              "      <th>1</th>\n",
              "      <td>Lista 1.0 - Expressões aritméticas</td>\n",
              "      <td>5b7b1f4f9513a60408ac2d21</td>\n",
              "      <td>2019.2</td>\n",
              "      <td>1000.0</td>\n",
              "      <td>10</td>\n",
              "      <td>10.0</td>\n",
              "      <td>100.0</td>\n",
              "    </tr>\n",
              "    <tr>\n",
              "      <th>2</th>\n",
              "      <td>Lista 1.0 - Expressões aritméticas</td>\n",
              "      <td>5c77f58d7776520411e9aff4</td>\n",
              "      <td>2019.1</td>\n",
              "      <td>1000.0</td>\n",
              "      <td>10</td>\n",
              "      <td>10.0</td>\n",
              "      <td>100.0</td>\n",
              "    </tr>\n",
              "  </tbody>\n",
              "</table>\n",
              "</div>"
            ],
            "text/plain": [
              "                               titulo  ... NotaLista\n",
              "0  Lista 1.0 - Expressões aritméticas  ...     100.0\n",
              "1  Lista 1.0 - Expressões aritméticas  ...     100.0\n",
              "2  Lista 1.0 - Expressões aritméticas  ...     100.0\n",
              "\n",
              "[3 rows x 7 columns]"
            ]
          },
          "metadata": {
            "tags": []
          },
          "execution_count": 16
        }
      ]
    },
    {
      "cell_type": "code",
      "metadata": {
        "id": "4613aCmIF5KK",
        "colab_type": "code",
        "outputId": "4a41e6b4-1cef-4ad2-a6c0-3a270dbcc8b2",
        "colab": {
          "base_uri": "https://localhost:8080/",
          "height": 84
        }
      },
      "source": [
        "mergeSituacoeUsuariosSubLista.columns"
      ],
      "execution_count": 0,
      "outputs": [
        {
          "output_type": "execute_result",
          "data": {
            "text/plain": [
              "Index(['idLista', 'questao', 'titulo', 'quantidadeTotalLista', 'data',\n",
              "       'porcentagemAcerto', 'idAluno', 'anoSubmissao', 'idTurma', 'anoLop',\n",
              "       'turma', 'matricula', 'nome', 'situacao', 'anoSigaa'],\n",
              "      dtype='object')"
            ]
          },
          "metadata": {
            "tags": []
          },
          "execution_count": 17
        }
      ]
    },
    {
      "cell_type": "markdown",
      "metadata": {
        "id": "RdCzRBxtbI0F",
        "colab_type": "text"
      },
      "source": [
        "**Tabela final com todas as informações do aluno das listas**"
      ]
    },
    {
      "cell_type": "code",
      "metadata": {
        "id": "fOZU6sHYbJ6p",
        "colab_type": "code",
        "outputId": "641ecd27-4077-4885-b057-c98c29229f7e",
        "colab": {
          "base_uri": "https://localhost:8080/",
          "height": 397
        }
      },
      "source": [
        "mergeSituacoeUsuariosSubListaM = mergeSituacoeUsuariosSubLista[['idAluno','titulo', 'anoSubmissao','anoLop', 'turma', 'matricula', 'nome', 'situacao', 'anoSigaa']]\n",
        "tabelaFinalListas= mergeQuanNotaListaQuanQ.join(mergeSituacoeUsuariosSubListaM.set_index(['idAluno','titulo', 'anoSubmissao']), on=['idAluno','titulo', 'anoSubmissao'])\n",
        "#remover as linhas duplicadas\n",
        "tabelaFinalListas = tabelaFinalListas.drop_duplicates()\n",
        "tabelaFinalListas.head()\n"
      ],
      "execution_count": 0,
      "outputs": [
        {
          "output_type": "execute_result",
          "data": {
            "text/html": [
              "<div>\n",
              "<style scoped>\n",
              "    .dataframe tbody tr th:only-of-type {\n",
              "        vertical-align: middle;\n",
              "    }\n",
              "\n",
              "    .dataframe tbody tr th {\n",
              "        vertical-align: top;\n",
              "    }\n",
              "\n",
              "    .dataframe thead th {\n",
              "        text-align: right;\n",
              "    }\n",
              "</style>\n",
              "<table border=\"1\" class=\"dataframe\">\n",
              "  <thead>\n",
              "    <tr style=\"text-align: right;\">\n",
              "      <th></th>\n",
              "      <th>titulo</th>\n",
              "      <th>idAluno</th>\n",
              "      <th>anoSubmissao</th>\n",
              "      <th>SomaLista</th>\n",
              "      <th>questoesFeitas</th>\n",
              "      <th>quantidadeTotalLista</th>\n",
              "      <th>NotaLista</th>\n",
              "      <th>anoLop</th>\n",
              "      <th>turma</th>\n",
              "      <th>matricula</th>\n",
              "      <th>nome</th>\n",
              "      <th>situacao</th>\n",
              "      <th>anoSigaa</th>\n",
              "    </tr>\n",
              "  </thead>\n",
              "  <tbody>\n",
              "    <tr>\n",
              "      <th>0</th>\n",
              "      <td>Lista 1.0 - Expressões aritméticas</td>\n",
              "      <td>59b91272570dda40b535c50d</td>\n",
              "      <td>2019.2</td>\n",
              "      <td>1000.0</td>\n",
              "      <td>10</td>\n",
              "      <td>10.0</td>\n",
              "      <td>100.0</td>\n",
              "      <td>2019.2</td>\n",
              "      <td>03A</td>\n",
              "      <td>2016012150</td>\n",
              "      <td>João</td>\n",
              "      <td>MATRICULADO</td>\n",
              "      <td>2019.2</td>\n",
              "    </tr>\n",
              "    <tr>\n",
              "      <th>1</th>\n",
              "      <td>Lista 1.0 - Expressões aritméticas</td>\n",
              "      <td>5b7b1f4f9513a60408ac2d21</td>\n",
              "      <td>2019.2</td>\n",
              "      <td>1000.0</td>\n",
              "      <td>10</td>\n",
              "      <td>10.0</td>\n",
              "      <td>100.0</td>\n",
              "      <td>2019.2</td>\n",
              "      <td>03D</td>\n",
              "      <td>20180034595</td>\n",
              "      <td>Eduardo Freire de Almeida</td>\n",
              "      <td>MATRICULADO</td>\n",
              "      <td>2019.2</td>\n",
              "    </tr>\n",
              "    <tr>\n",
              "      <th>2</th>\n",
              "      <td>Lista 1.0 - Expressões aritméticas</td>\n",
              "      <td>5c77f58d7776520411e9aff4</td>\n",
              "      <td>2019.1</td>\n",
              "      <td>1000.0</td>\n",
              "      <td>10</td>\n",
              "      <td>10.0</td>\n",
              "      <td>100.0</td>\n",
              "      <td>2019.1</td>\n",
              "      <td>02D</td>\n",
              "      <td>20180146250</td>\n",
              "      <td>Vitor da Rocha Silva</td>\n",
              "      <td>REPROVADO</td>\n",
              "      <td>2019.1</td>\n",
              "    </tr>\n",
              "    <tr>\n",
              "      <th>3</th>\n",
              "      <td>Lista 1.0 - Expressões aritméticas</td>\n",
              "      <td>5c77fa897776520411e9b01c</td>\n",
              "      <td>2019.2</td>\n",
              "      <td>1000.0</td>\n",
              "      <td>10</td>\n",
              "      <td>10.0</td>\n",
              "      <td>100.0</td>\n",
              "      <td>2019.2</td>\n",
              "      <td>02C</td>\n",
              "      <td>20180044170</td>\n",
              "      <td>Wendson Canuto Bezerra Dos Santos</td>\n",
              "      <td>MATRICULADO</td>\n",
              "      <td>2019.2</td>\n",
              "    </tr>\n",
              "    <tr>\n",
              "      <th>4</th>\n",
              "      <td>Lista 1.0 - Expressões aritméticas</td>\n",
              "      <td>5c87bd6923798d040d0270ad</td>\n",
              "      <td>2019.2</td>\n",
              "      <td>1000.0</td>\n",
              "      <td>10</td>\n",
              "      <td>10.0</td>\n",
              "      <td>100.0</td>\n",
              "      <td>2019.2</td>\n",
              "      <td>03D</td>\n",
              "      <td>20180135195</td>\n",
              "      <td>José Humberto Valente da Silva Junior</td>\n",
              "      <td>MATRICULADO</td>\n",
              "      <td>2019.2</td>\n",
              "    </tr>\n",
              "  </tbody>\n",
              "</table>\n",
              "</div>"
            ],
            "text/plain": [
              "                               titulo  ... anoSigaa\n",
              "0  Lista 1.0 - Expressões aritméticas  ...   2019.2\n",
              "1  Lista 1.0 - Expressões aritméticas  ...   2019.2\n",
              "2  Lista 1.0 - Expressões aritméticas  ...   2019.1\n",
              "3  Lista 1.0 - Expressões aritméticas  ...   2019.2\n",
              "4  Lista 1.0 - Expressões aritméticas  ...   2019.2\n",
              "\n",
              "[5 rows x 13 columns]"
            ]
          },
          "metadata": {
            "tags": []
          },
          "execution_count": 18
        }
      ]
    },
    {
      "cell_type": "markdown",
      "metadata": {
        "id": "e6E01JphgOrw",
        "colab_type": "text"
      },
      "source": [
        "**Exportar a tabela final das notas das listas para um arquivo CSV**"
      ]
    },
    {
      "cell_type": "code",
      "metadata": {
        "id": "DbSlhaD3gL_d",
        "colab_type": "code",
        "colab": {}
      },
      "source": [
        " tabelaFinalListas.to_csv(r'notasListas.csv')"
      ],
      "execution_count": 0,
      "outputs": []
    },
    {
      "cell_type": "code",
      "metadata": {
        "id": "1xAq1EIjICOT",
        "colab_type": "code",
        "colab": {}
      },
      "source": [
        "def tabelaNotaLista(ano, titulo, turma): \n",
        "  tabela = tabelaFinalListas.loc[ (tabelaFinalListas[\"anoSigaa\"] == ano) & (tabelaFinalListas[\"titulo\"].str.contains(titulo)) & (tabelaFinalListas[\"turma\"].str.contains(turma)) ,: ]\n",
        "  tabela = tabela[[\"anoSigaa\",\"matricula\",\"turma\", \"nome\", \"NotaLista\",\"SomaLista\"]].sort_values(by=\"nome\")\n",
        "  return tabela"
      ],
      "execution_count": 0,
      "outputs": []
    },
    {
      "cell_type": "markdown",
      "metadata": {
        "id": "CIbJ2p5lMb6m",
        "colab_type": "text"
      },
      "source": [
        "**Exportando o dataframe para um arquivo excel**"
      ]
    },
    {
      "cell_type": "code",
      "metadata": {
        "id": "QIEiLCZhLRiv",
        "colab_type": "code",
        "colab": {}
      },
      "source": [
        "turmas= [\"03A\",\"03B\",\"03C\",\"03D\"]\n",
        "listas = [\"Lista 1.2\",\"Estruturas Condicionais\"]\n",
        "for t in turmas:\n",
        "  for l in listas:\n",
        "    tab = tabelaNotaLista(2019.2, l, t)\n",
        "    tab =tab[[\"anoSigaa\",\"matricula\",\"turma\", \"nome\", \"NotaLista\"]].sort_values(by=\"nome\")\n",
        "    tab.to_excel(r'Nota'+l+\" \"+t+'.xls')"
      ],
      "execution_count": 0,
      "outputs": []
    },
    {
      "cell_type": "code",
      "metadata": {
        "id": "-9GIBG_1Vthc",
        "colab_type": "code",
        "colab": {}
      },
      "source": [
        "#Fiz essa lista separa pq o professor não cobrou todas as questoes para valer nota .. apenas 10 questoes das 15 que tem na lista\n",
        "turmas= [\"03A\",\"03B\",\"03C\",\"03D\"]\n",
        "for t in turmas:\n",
        "    tab = tabelaNotaLista(2019.2, \"3 - La\", t)\n",
        "    tab[\"NotaLista\"] = tab[\"SomaLista\"] / 10\n",
        "    tab =tab[[\"anoSigaa\",\"matricula\",\"turma\", \"nome\", \"NotaLista\"]].sort_values(by=\"nome\")\n",
        "    tab.to_excel(r'NotaLista03'+\" \"+t+'.xls')"
      ],
      "execution_count": 0,
      "outputs": []
    },
    {
      "cell_type": "markdown",
      "metadata": {
        "id": "o4MbGAznv-3n",
        "colab_type": "text"
      },
      "source": [
        "Tabela com notas por lista"
      ]
    },
    {
      "cell_type": "code",
      "metadata": {
        "id": "gotjI37rtOoI",
        "colab_type": "code",
        "outputId": "74a1a147-6737-45ad-a733-82b394aad6a2",
        "colab": {
          "base_uri": "https://localhost:8080/",
          "height": 439
        }
      },
      "source": [
        "tabelaFinalListas.loc[tabelaFinalListas[\"idAluno\"] ==\"59b91272570dda40b535c50d\",:]"
      ],
      "execution_count": 0,
      "outputs": [
        {
          "output_type": "execute_result",
          "data": {
            "text/html": [
              "<div>\n",
              "<style scoped>\n",
              "    .dataframe tbody tr th:only-of-type {\n",
              "        vertical-align: middle;\n",
              "    }\n",
              "\n",
              "    .dataframe tbody tr th {\n",
              "        vertical-align: top;\n",
              "    }\n",
              "\n",
              "    .dataframe thead th {\n",
              "        text-align: right;\n",
              "    }\n",
              "</style>\n",
              "<table border=\"1\" class=\"dataframe\">\n",
              "  <thead>\n",
              "    <tr style=\"text-align: right;\">\n",
              "      <th></th>\n",
              "      <th>titulo</th>\n",
              "      <th>idAluno</th>\n",
              "      <th>anoSubmissao</th>\n",
              "      <th>SomaLista</th>\n",
              "      <th>questoesFeitas</th>\n",
              "      <th>quantidadeTotalLista</th>\n",
              "      <th>NotaLista</th>\n",
              "      <th>anoLop</th>\n",
              "      <th>turma</th>\n",
              "      <th>matricula</th>\n",
              "      <th>nome</th>\n",
              "      <th>situacao</th>\n",
              "      <th>anoSigaa</th>\n",
              "    </tr>\n",
              "  </thead>\n",
              "  <tbody>\n",
              "    <tr>\n",
              "      <th>0</th>\n",
              "      <td>Lista 1.0 - Expressões aritméticas</td>\n",
              "      <td>59b91272570dda40b535c50d</td>\n",
              "      <td>2019.2</td>\n",
              "      <td>1000.0</td>\n",
              "      <td>10</td>\n",
              "      <td>10.0</td>\n",
              "      <td>100.000000</td>\n",
              "      <td>2019.2</td>\n",
              "      <td>03A</td>\n",
              "      <td>2016012150</td>\n",
              "      <td>João</td>\n",
              "      <td>MATRICULADO</td>\n",
              "      <td>2019.2</td>\n",
              "    </tr>\n",
              "    <tr>\n",
              "      <th>89</th>\n",
              "      <td>Lista 1.2 - Funções aritméticas</td>\n",
              "      <td>59b91272570dda40b535c50d</td>\n",
              "      <td>2019.2</td>\n",
              "      <td>900.0</td>\n",
              "      <td>9</td>\n",
              "      <td>9.0</td>\n",
              "      <td>100.000000</td>\n",
              "      <td>2019.2</td>\n",
              "      <td>03A</td>\n",
              "      <td>2016012150</td>\n",
              "      <td>João</td>\n",
              "      <td>MATRICULADO</td>\n",
              "      <td>2019.2</td>\n",
              "    </tr>\n",
              "    <tr>\n",
              "      <th>821</th>\n",
              "      <td>Lista de Exercícios 2 - Estruturas Condicionais</td>\n",
              "      <td>59b91272570dda40b535c50d</td>\n",
              "      <td>2019.2</td>\n",
              "      <td>700.0</td>\n",
              "      <td>7</td>\n",
              "      <td>12.0</td>\n",
              "      <td>58.333333</td>\n",
              "      <td>2019.2</td>\n",
              "      <td>03A</td>\n",
              "      <td>2016012150</td>\n",
              "      <td>João</td>\n",
              "      <td>MATRICULADO</td>\n",
              "      <td>2019.2</td>\n",
              "    </tr>\n",
              "    <tr>\n",
              "      <th>1616</th>\n",
              "      <td>Lista de Exercícios 3 - Laço Condicional</td>\n",
              "      <td>59b91272570dda40b535c50d</td>\n",
              "      <td>2019.2</td>\n",
              "      <td>300.0</td>\n",
              "      <td>3</td>\n",
              "      <td>12.0</td>\n",
              "      <td>25.000000</td>\n",
              "      <td>2019.2</td>\n",
              "      <td>03A</td>\n",
              "      <td>2016012150</td>\n",
              "      <td>João</td>\n",
              "      <td>MATRICULADO</td>\n",
              "      <td>2019.2</td>\n",
              "    </tr>\n",
              "    <tr>\n",
              "      <th>4033</th>\n",
              "      <td>Lista de Laboratório 2 - Expressões Lógicas e ...</td>\n",
              "      <td>59b91272570dda40b535c50d</td>\n",
              "      <td>2019.2</td>\n",
              "      <td>700.0</td>\n",
              "      <td>7</td>\n",
              "      <td>7.0</td>\n",
              "      <td>100.000000</td>\n",
              "      <td>2019.2</td>\n",
              "      <td>03A</td>\n",
              "      <td>2016012150</td>\n",
              "      <td>João</td>\n",
              "      <td>MATRICULADO</td>\n",
              "      <td>2019.2</td>\n",
              "    </tr>\n",
              "    <tr>\n",
              "      <th>4884</th>\n",
              "      <td>Lista de Laboratório 3 -  Estruturas de Repeti...</td>\n",
              "      <td>59b91272570dda40b535c50d</td>\n",
              "      <td>2019.2</td>\n",
              "      <td>500.0</td>\n",
              "      <td>5</td>\n",
              "      <td>7.0</td>\n",
              "      <td>71.428571</td>\n",
              "      <td>2019.2</td>\n",
              "      <td>03A</td>\n",
              "      <td>2016012150</td>\n",
              "      <td>João</td>\n",
              "      <td>MATRICULADO</td>\n",
              "      <td>2019.2</td>\n",
              "    </tr>\n",
              "    <tr>\n",
              "      <th>6676</th>\n",
              "      <td>Lista de Revisão Unidade 1</td>\n",
              "      <td>59b91272570dda40b535c50d</td>\n",
              "      <td>2019.2</td>\n",
              "      <td>200.0</td>\n",
              "      <td>2</td>\n",
              "      <td>9.0</td>\n",
              "      <td>22.222222</td>\n",
              "      <td>2019.2</td>\n",
              "      <td>03A</td>\n",
              "      <td>2016012150</td>\n",
              "      <td>João</td>\n",
              "      <td>MATRICULADO</td>\n",
              "      <td>2019.2</td>\n",
              "    </tr>\n",
              "  </tbody>\n",
              "</table>\n",
              "</div>"
            ],
            "text/plain": [
              "                                                 titulo  ... anoSigaa\n",
              "0                    Lista 1.0 - Expressões aritméticas  ...   2019.2\n",
              "89                      Lista 1.2 - Funções aritméticas  ...   2019.2\n",
              "821     Lista de Exercícios 2 - Estruturas Condicionais  ...   2019.2\n",
              "1616           Lista de Exercícios 3 - Laço Condicional  ...   2019.2\n",
              "4033  Lista de Laboratório 2 - Expressões Lógicas e ...  ...   2019.2\n",
              "4884  Lista de Laboratório 3 -  Estruturas de Repeti...  ...   2019.2\n",
              "6676                         Lista de Revisão Unidade 1  ...   2019.2\n",
              "\n",
              "[7 rows x 13 columns]"
            ]
          },
          "metadata": {
            "tags": []
          },
          "execution_count": 23
        }
      ]
    }
  ]
}