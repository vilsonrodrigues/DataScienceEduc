{
  "nbformat": 4,
  "nbformat_minor": 0,
  "metadata": {
    "colab": {
      "name": "Análise Tabela Submissões",
      "version": "0.3.2",
      "provenance": [],
      "collapsed_sections": [],
      "include_colab_link": true
    },
    "kernelspec": {
      "name": "python3",
      "display_name": "Python 3"
    }
  },
  "cells": [
    {
      "cell_type": "markdown",
      "metadata": {
        "id": "view-in-github",
        "colab_type": "text"
      },
      "source": [
        "<a href=\"https://colab.research.google.com/github/vilsonrodrigues/DataScienceEduc/blob/master/An%C3%A1lise_Tabela_Submiss%C3%B5es.ipynb\" target=\"_parent\"><img src=\"https://colab.research.google.com/assets/colab-badge.svg\" alt=\"Open In Colab\"/></a>"
      ]
    },
    {
      "cell_type": "markdown",
      "metadata": {
        "id": "QRwpHJ3yjN3b",
        "colab_type": "text"
      },
      "source": [
        "#Análise da tabela submissões \n",
        "\n",
        "1. Número de submissões de questão por aluno\n",
        "2. Número de submissões em que o aluno tirou menos que 100%"
      ]
    },
    {
      "cell_type": "markdown",
      "metadata": {
        "id": "gK2ICXNykd58",
        "colab_type": "text"
      },
      "source": [
        "Importação de Bibliotecas"
      ]
    },
    {
      "cell_type": "code",
      "metadata": {
        "id": "K0QLf8dZ2534",
        "colab_type": "code",
        "colab": {}
      },
      "source": [
        "import pandas as pd\n",
        "import numpy as np\n",
        "from csv import reader"
      ],
      "execution_count": 0,
      "outputs": []
    },
    {
      "cell_type": "markdown",
      "metadata": {
        "id": "NQ_8p3KXkhrd",
        "colab_type": "text"
      },
      "source": [
        "Leitura de tabela"
      ]
    },
    {
      "cell_type": "code",
      "metadata": {
        "id": "xHI46f4ppzh0",
        "colab_type": "code",
        "colab": {}
      },
      "source": [
        "table = pd.read_csv(\"https://github.com/repitta/CienciaDeDadosEducacionais/raw/master/arquivosCSV/lopUseTurmasSubLista.csv\")\n"
      ],
      "execution_count": 0,
      "outputs": []
    },
    {
      "cell_type": "code",
      "metadata": {
        "id": "aYOipZLojrBb",
        "colab_type": "code",
        "colab": {}
      },
      "source": [
        "table"
      ],
      "execution_count": 0,
      "outputs": []
    },
    {
      "cell_type": "code",
      "metadata": {
        "id": "vKolUG7GuIM_",
        "colab_type": "code",
        "colab": {}
      },
      "source": [
        "table.loc[table[\"matricula\"]==\"\",[\"idAluno\",\"questao\",\"porcentagemAcerto\"]]"
      ],
      "execution_count": 0,
      "outputs": []
    },
    {
      "cell_type": "markdown",
      "metadata": {
        "id": "0VsXUv52lY8s",
        "colab_type": "text"
      },
      "source": [
        "**Número de submissões de questão por aluno**"
      ]
    },
    {
      "cell_type": "code",
      "metadata": {
        "id": "8zIrgiUnuIxM",
        "colab_type": "code",
        "colab": {}
      },
      "source": [
        "nSub = table.groupby([\"idAluno\",\"idLista\",\"questao\"]).count()\n",
        "nSub.rename(columns={\"quantidade\":\"nSub\"},inplace=True)\n",
        "nSub = nSub.reset_index()\n",
        "nSub = nSub[[\"idAluno\",\"idLista\",\"questao\",\"nSub\"]]\n",
        "nSub\n"
      ],
      "execution_count": 0,
      "outputs": []
    },
    {
      "cell_type": "markdown",
      "metadata": {
        "id": "1EX18CMFl1CZ",
        "colab_type": "text"
      },
      "source": [
        "Número de submissões em que o aluno tirou menos que 100%"
      ]
    },
    {
      "cell_type": "code",
      "metadata": {
        "id": "3iErimsqGFU-",
        "colab_type": "code",
        "colab": {}
      },
      "source": [
        "menorQCem = table.loc[table[\"porcentagemAcerto\"]<100,\"porcentagemAcerto\"]\n",
        "table[\"nSubMenorQCem\"] = menorQCem\n",
        "nSubMenorQCem = table.groupby(\"questao\")[\"nSubMenorQCem\"].sum().to_frame().reset_index().sort_values(by=\"nSubMenorQCem\")\n",
        "nSubMenorQCem\n",
        "\n",
        "\n"
      ],
      "execution_count": 0,
      "outputs": []
    },
    {
      "cell_type": "markdown",
      "metadata": {
        "id": "3u12cgxTWH5Z",
        "colab_type": "text"
      },
      "source": [
        "Área de links e testes\n",
        "\n",
        "df.groupby(\"container_id\")[\"user_id\"].nunique().to_frame()\n",
        "\n",
        "df1 = df.groupby('product')['value'].sum().to_frame().reset_index()\n",
        "\n",
        "df2 = df.groupby('product')['value'].sum().to_frame().reset_index().sort_values(by='value')\n",
        "\n",
        "http://queirozf.com/entries/pandas-dataframe-groupby-examples"
      ]
    },
    {
      "cell_type": "code",
      "metadata": {
        "id": "sFtsytHB_dxR",
        "colab_type": "code",
        "colab": {}
      },
      "source": [
        "\n",
        "#table.rename(columns={\"porcentagemAcerto\":\"nQuestoes\"},inplace=True)\n",
        "table = table.groupby([\"idAluno\",\"questao\",\"porcentagemAcerto\"])\n",
        "table = table.reset_index()\n",
        "table = table[[\"idAluno\",\"questao\",\"porcentagemAcerto\"]]\n",
        "table.head()\n",
        "\n",
        "\n",
        "\n"
      ],
      "execution_count": 0,
      "outputs": []
    },
    {
      "cell_type": "code",
      "metadata": {
        "id": "FJeaXFJR7K4E",
        "colab_type": "code",
        "colab": {}
      },
      "source": [
        "a = table.loc[table[\"porcentagemAcerto\"]<100,\"porcentagemAcerto\"]\n",
        "\n",
        "table = table.groupby([\"idAluno\",\"questao\",\"quantidade\"], inplace=True)\n",
        "table=table.reset_index()\n",
        "table=table[\"idAluno\",\"questao\",\"mD\"]\n",
        "table"
      ],
      "execution_count": 0,
      "outputs": []
    },
    {
      "cell_type": "code",
      "metadata": {
        "id": "mXNYShAjzHzX",
        "colab_type": "code",
        "outputId": "30cf4801-2f54-4b40-bb2a-c86319a069b2",
        "colab": {
          "base_uri": "https://localhost:8080/",
          "height": 452
        }
      },
      "source": [
        "#mD = table.groupby([])\n",
        "#a=table[table[\"porcentagemAcerto\"] == max(table[\"porcentagemAcerto\"])].count()\n",
        "table=table[\"porcentagemAcerto\"]<100\n",
        "a=loc[a[]]\n",
        "a.rename(columns={\"quantidade\":\"mD\"},inplace=True)\n",
        "a=a.reset_index()\n",
        "#a=a[[\"questao\",\"quantidade\"]]\n",
        "a.loc[a[\"porcentagem\"] <100].count\n",
        "#a=table[table[\"questao\"] < \"100\"].count()\n",
        "\n",
        "\n",
        "\n"
      ],
      "execution_count": 0,
      "outputs": [
        {
          "output_type": "execute_result",
          "data": {
            "text/html": [
              "<div>\n",
              "<style scoped>\n",
              "    .dataframe tbody tr th:only-of-type {\n",
              "        vertical-align: middle;\n",
              "    }\n",
              "\n",
              "    .dataframe tbody tr th {\n",
              "        vertical-align: top;\n",
              "    }\n",
              "\n",
              "    .dataframe thead th {\n",
              "        text-align: right;\n",
              "    }\n",
              "</style>\n",
              "<table border=\"1\" class=\"dataframe\">\n",
              "  <thead>\n",
              "    <tr style=\"text-align: right;\">\n",
              "      <th></th>\n",
              "      <th>index</th>\n",
              "      <th>0</th>\n",
              "    </tr>\n",
              "  </thead>\n",
              "  <tbody>\n",
              "    <tr>\n",
              "      <th>0</th>\n",
              "      <td>Unnamed: 0</td>\n",
              "      <td>50394</td>\n",
              "    </tr>\n",
              "    <tr>\n",
              "      <th>1</th>\n",
              "      <td>idLista</td>\n",
              "      <td>50394</td>\n",
              "    </tr>\n",
              "    <tr>\n",
              "      <th>2</th>\n",
              "      <td>questao</td>\n",
              "      <td>50394</td>\n",
              "    </tr>\n",
              "    <tr>\n",
              "      <th>3</th>\n",
              "      <td>titulo</td>\n",
              "      <td>50394</td>\n",
              "    </tr>\n",
              "    <tr>\n",
              "      <th>4</th>\n",
              "      <td>quantidade</td>\n",
              "      <td>50394</td>\n",
              "    </tr>\n",
              "    <tr>\n",
              "      <th>5</th>\n",
              "      <td>data</td>\n",
              "      <td>50394</td>\n",
              "    </tr>\n",
              "    <tr>\n",
              "      <th>6</th>\n",
              "      <td>porcentagemAcerto</td>\n",
              "      <td>50394</td>\n",
              "    </tr>\n",
              "    <tr>\n",
              "      <th>7</th>\n",
              "      <td>idAluno</td>\n",
              "      <td>50394</td>\n",
              "    </tr>\n",
              "    <tr>\n",
              "      <th>8</th>\n",
              "      <td>idTurma</td>\n",
              "      <td>46166</td>\n",
              "    </tr>\n",
              "    <tr>\n",
              "      <th>9</th>\n",
              "      <td>ano</td>\n",
              "      <td>46166</td>\n",
              "    </tr>\n",
              "    <tr>\n",
              "      <th>10</th>\n",
              "      <td>descricaoTurma</td>\n",
              "      <td>46166</td>\n",
              "    </tr>\n",
              "    <tr>\n",
              "      <th>11</th>\n",
              "      <td>matricula</td>\n",
              "      <td>50392</td>\n",
              "    </tr>\n",
              "    <tr>\n",
              "      <th>12</th>\n",
              "      <td>nome</td>\n",
              "      <td>50394</td>\n",
              "    </tr>\n",
              "  </tbody>\n",
              "</table>\n",
              "</div>"
            ],
            "text/plain": [
              "                index      0\n",
              "0          Unnamed: 0  50394\n",
              "1             idLista  50394\n",
              "2             questao  50394\n",
              "3              titulo  50394\n",
              "4          quantidade  50394\n",
              "5                data  50394\n",
              "6   porcentagemAcerto  50394\n",
              "7             idAluno  50394\n",
              "8             idTurma  46166\n",
              "9                 ano  46166\n",
              "10     descricaoTurma  46166\n",
              "11          matricula  50392\n",
              "12               nome  50394"
            ]
          },
          "metadata": {
            "tags": []
          },
          "execution_count": 43
        }
      ]
    }
  ]
}