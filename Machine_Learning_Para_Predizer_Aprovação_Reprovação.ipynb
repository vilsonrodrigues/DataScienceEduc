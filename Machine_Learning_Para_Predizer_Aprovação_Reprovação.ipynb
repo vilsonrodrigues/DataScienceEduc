{
  "nbformat": 4,
  "nbformat_minor": 0,
  "metadata": {
    "colab": {
      "name": "Machine Learning Para Predizer Aprovação/Reprovação.ipynb",
      "version": "0.3.2",
      "provenance": [],
      "collapsed_sections": [],
      "include_colab_link": true
    },
    "kernelspec": {
      "name": "python3",
      "display_name": "Python 3"
    }
  },
  "cells": [
    {
      "cell_type": "markdown",
      "metadata": {
        "id": "view-in-github",
        "colab_type": "text"
      },
      "source": [
        "<a href=\"https://colab.research.google.com/github/vilsonrodrigues/DataScienceEduc/blob/master/Machine_Learning_Para_Predizer_Aprova%C3%A7%C3%A3o_Reprova%C3%A7%C3%A3o.ipynb\" target=\"_parent\"><img src=\"https://colab.research.google.com/assets/colab-badge.svg\" alt=\"Open In Colab\"/></a>"
      ]
    },
    {
      "cell_type": "markdown",
      "metadata": {
        "id": "MmPf00-u6hkA",
        "colab_type": "text"
      },
      "source": [
        "# Modelagem de dados"
      ]
    },
    {
      "cell_type": "code",
      "metadata": {
        "id": "KKn0_m9Xx6d8",
        "colab_type": "code",
        "colab": {}
      },
      "source": [
        "import matplotlib.pyplot as plt\n",
        "import seaborn as sns\n",
        "import numpy as np\n",
        "import pandas as pd\n",
        "import datetime as dt"
      ],
      "execution_count": 0,
      "outputs": []
    },
    {
      "cell_type": "code",
      "metadata": {
        "id": "TA6Hh-akyP4Z",
        "colab_type": "code",
        "colab": {}
      },
      "source": [
        "nota=pd.read_csv(\"https://raw.githubusercontent.com/vilsonrodrigues/DataScienceEduc/master/lopNotaProvaSubmissoesLista.csv\")\n",
        "nota=nota.drop(columns=[\"Unnamed: 0\"])\n",
        "\n",
        "sub=pd.read_csv(\"https://github.com/vilsonrodrigues/DataScienceEduc/raw/master/lopSubmissoes.csv\")\n",
        "sub=sub.drop(columns=[\"Unnamed: 0\"])"
      ],
      "execution_count": 0,
      "outputs": []
    },
    {
      "cell_type": "code",
      "metadata": {
        "id": "jTIEJAoMz9Am",
        "colab_type": "code",
        "colab": {
          "base_uri": "https://localhost:8080/",
          "height": 134
        },
        "outputId": "0f45b82f-1127-42ae-b934-c19d65b716fb"
      },
      "source": [
        "nota.head(1)"
      ],
      "execution_count": 39,
      "outputs": [
        {
          "output_type": "execute_result",
          "data": {
            "text/html": [
              "<div>\n",
              "<style scoped>\n",
              "    .dataframe tbody tr th:only-of-type {\n",
              "        vertical-align: middle;\n",
              "    }\n",
              "\n",
              "    .dataframe tbody tr th {\n",
              "        vertical-align: top;\n",
              "    }\n",
              "\n",
              "    .dataframe thead th {\n",
              "        text-align: right;\n",
              "    }\n",
              "</style>\n",
              "<table border=\"1\" class=\"dataframe\">\n",
              "  <thead>\n",
              "    <tr style=\"text-align: right;\">\n",
              "      <th></th>\n",
              "      <th>idTurma</th>\n",
              "      <th>matricula</th>\n",
              "      <th>ano</th>\n",
              "      <th>idAluno</th>\n",
              "      <th>notaProva1</th>\n",
              "      <th>questoesFeitasProva1</th>\n",
              "      <th>quantidadeProva1</th>\n",
              "      <th>tituloProva1</th>\n",
              "      <th>notaProva2</th>\n",
              "      <th>questoesFeitasProva2</th>\n",
              "      <th>quantidadeProva2</th>\n",
              "      <th>tituloProva2</th>\n",
              "      <th>mediaProvas</th>\n",
              "      <th>situacao</th>\n",
              "      <th>qsub1</th>\n",
              "      <th>qsub2</th>\n",
              "      <th>qsub3</th>\n",
              "      <th>qsub4</th>\n",
              "      <th>qsub5</th>\n",
              "      <th>qsubp1</th>\n",
              "      <th>qsubp2</th>\n",
              "      <th>totalsub</th>\n",
              "      <th>igualACeml123</th>\n",
              "      <th>igualACeml45</th>\n",
              "    </tr>\n",
              "  </thead>\n",
              "  <tbody>\n",
              "    <tr>\n",
              "      <th>0</th>\n",
              "      <td>598e15296d8650eb27d52e3d</td>\n",
              "      <td>2.017010e+10</td>\n",
              "      <td>2017.2</td>\n",
              "      <td>5991cd63b3c8b42f3d5da402</td>\n",
              "      <td>24.0</td>\n",
              "      <td>3.0</td>\n",
              "      <td>5.0</td>\n",
              "      <td>Prova 1 - Turma 01 - 2017.2</td>\n",
              "      <td>61.0</td>\n",
              "      <td>4.0</td>\n",
              "      <td>6.0</td>\n",
              "      <td>Prova 2 - Turma 01 - 2017.2</td>\n",
              "      <td>42.5</td>\n",
              "      <td>0</td>\n",
              "      <td>18</td>\n",
              "      <td>15</td>\n",
              "      <td>13</td>\n",
              "      <td>27</td>\n",
              "      <td>7</td>\n",
              "      <td>46</td>\n",
              "      <td>34</td>\n",
              "      <td>80</td>\n",
              "      <td>29</td>\n",
              "      <td>32</td>\n",
              "    </tr>\n",
              "  </tbody>\n",
              "</table>\n",
              "</div>"
            ],
            "text/plain": [
              "                    idTurma     matricula  ...  igualACeml123 igualACeml45\n",
              "0  598e15296d8650eb27d52e3d  2.017010e+10  ...             29           32\n",
              "\n",
              "[1 rows x 24 columns]"
            ]
          },
          "metadata": {
            "tags": []
          },
          "execution_count": 39
        }
      ]
    },
    {
      "cell_type": "code",
      "metadata": {
        "id": "eIDLj-7Wyk0S",
        "colab_type": "code",
        "colab": {}
      },
      "source": [
        "sub.replace(np.nan, 0, inplace=True)\n",
        "sub[\"titulo\"]=sub.titulo.astype(str)\n",
        "sub=sub[(~sub[\"titulo\"].str.contains(\"rova\"))] "
      ],
      "execution_count": 0,
      "outputs": []
    },
    {
      "cell_type": "code",
      "metadata": {
        "id": "F5RqMbc4hPov",
        "colab_type": "code",
        "colab": {
          "base_uri": "https://localhost:8080/",
          "height": 119
        },
        "outputId": "c75f9ddc-d7e6-4cc3-f0b4-607e031aacde"
      },
      "source": [
        "sub[\"data\"] = pd.to_datetime(sub[\"data\"])\n",
        "sub[\"data\"] = sub[\"data\"].dt.tz_localize(None)\n",
        "sub[\"dia\"] = sub[\"data\"].dt.day\n",
        "sub[\"data\"].head()"
      ],
      "execution_count": 41,
      "outputs": [
        {
          "output_type": "execute_result",
          "data": {
            "text/plain": [
              "0   2017-08-14 16:19:03.629\n",
              "1   2017-08-14 16:19:43.260\n",
              "2   2017-08-14 16:20:55.198\n",
              "3   2017-08-14 16:21:53.733\n",
              "4   2017-08-14 16:22:15.073\n",
              "Name: data, dtype: datetime64[ns]"
            ]
          },
          "metadata": {
            "tags": []
          },
          "execution_count": 41
        }
      ]
    },
    {
      "cell_type": "markdown",
      "metadata": {
        "id": "Yu7gUg2-xxt0",
        "colab_type": "text"
      },
      "source": [
        "Criando campos para saber em que horário do dia ouve submissão"
      ]
    },
    {
      "cell_type": "markdown",
      "metadata": {
        "id": "ug2ZTZjcy3hH",
        "colab_type": "text"
      },
      "source": [
        "\n",
        "\n",
        "*   Madrugada = 0\n",
        "*   Manhã = 1\n",
        "*   Tarde = 2\n",
        "*   Noite = 3\n",
        "\n",
        "\n",
        "\n"
      ]
    },
    {
      "cell_type": "code",
      "metadata": {
        "id": "eeyYi5eMxxZ0",
        "colab_type": "code",
        "colab": {}
      },
      "source": [
        "sub[\"turno\"]=1\n",
        "sub.loc[sub[\"data\"].dt.hour <6, \"turno\"]=0\n",
        "sub.loc[(sub[\"data\"].dt.hour >12) & (sub[\"data\"].dt.hour <=18), \"turno\"]=2\n",
        "sub.loc[sub[\"data\"].dt.hour >18, \"turno\"]=3"
      ],
      "execution_count": 0,
      "outputs": []
    },
    {
      "cell_type": "code",
      "metadata": {
        "id": "3XCpBRCazSyZ",
        "colab_type": "code",
        "colab": {
          "base_uri": "https://localhost:8080/",
          "height": 564
        },
        "outputId": "f1e1c18a-f21c-4861-b70b-fcd4e46f4bd5"
      },
      "source": [
        "sub.head()"
      ],
      "execution_count": 43,
      "outputs": [
        {
          "output_type": "execute_result",
          "data": {
            "text/html": [
              "<div>\n",
              "<style scoped>\n",
              "    .dataframe tbody tr th:only-of-type {\n",
              "        vertical-align: middle;\n",
              "    }\n",
              "\n",
              "    .dataframe tbody tr th {\n",
              "        vertical-align: top;\n",
              "    }\n",
              "\n",
              "    .dataframe thead th {\n",
              "        text-align: right;\n",
              "    }\n",
              "</style>\n",
              "<table border=\"1\" class=\"dataframe\">\n",
              "  <thead>\n",
              "    <tr style=\"text-align: right;\">\n",
              "      <th></th>\n",
              "      <th>ano</th>\n",
              "      <th>data</th>\n",
              "      <th>idAluno</th>\n",
              "      <th>idLista</th>\n",
              "      <th>idTurma</th>\n",
              "      <th>matricula</th>\n",
              "      <th>porcentagemAcerto</th>\n",
              "      <th>quantidade</th>\n",
              "      <th>questao</th>\n",
              "      <th>titulo</th>\n",
              "      <th>dia</th>\n",
              "      <th>turno</th>\n",
              "    </tr>\n",
              "  </thead>\n",
              "  <tbody>\n",
              "    <tr>\n",
              "      <th>0</th>\n",
              "      <td>2017.2</td>\n",
              "      <td>2017-08-14 16:19:03.629</td>\n",
              "      <td>5991cd63b3c8b42f3d5da402</td>\n",
              "      <td>598cd57a3bc48946977dcf67</td>\n",
              "      <td>598e15296d8650eb27d52e3d</td>\n",
              "      <td>2.017010e+10</td>\n",
              "      <td>0.0</td>\n",
              "      <td>5.0</td>\n",
              "      <td>59885f8d684f4a3f78163c00</td>\n",
              "      <td>Lista de Laboratório 1 - Expressões Aritmética...</td>\n",
              "      <td>14</td>\n",
              "      <td>2</td>\n",
              "    </tr>\n",
              "    <tr>\n",
              "      <th>1</th>\n",
              "      <td>2017.2</td>\n",
              "      <td>2017-08-14 16:19:43.260</td>\n",
              "      <td>5991cd63b3c8b42f3d5da402</td>\n",
              "      <td>598cd57a3bc48946977dcf67</td>\n",
              "      <td>598e15296d8650eb27d52e3d</td>\n",
              "      <td>2.017010e+10</td>\n",
              "      <td>0.0</td>\n",
              "      <td>5.0</td>\n",
              "      <td>59885f8d684f4a3f78163c00</td>\n",
              "      <td>Lista de Laboratório 1 - Expressões Aritmética...</td>\n",
              "      <td>14</td>\n",
              "      <td>2</td>\n",
              "    </tr>\n",
              "    <tr>\n",
              "      <th>2</th>\n",
              "      <td>2017.2</td>\n",
              "      <td>2017-08-14 16:20:55.198</td>\n",
              "      <td>5991cd63b3c8b42f3d5da402</td>\n",
              "      <td>598cd57a3bc48946977dcf67</td>\n",
              "      <td>598e15296d8650eb27d52e3d</td>\n",
              "      <td>2.017010e+10</td>\n",
              "      <td>0.0</td>\n",
              "      <td>5.0</td>\n",
              "      <td>59885f8d684f4a3f78163c00</td>\n",
              "      <td>Lista de Laboratório 1 - Expressões Aritmética...</td>\n",
              "      <td>14</td>\n",
              "      <td>2</td>\n",
              "    </tr>\n",
              "    <tr>\n",
              "      <th>3</th>\n",
              "      <td>2017.2</td>\n",
              "      <td>2017-08-14 16:21:53.733</td>\n",
              "      <td>5991cd63b3c8b42f3d5da402</td>\n",
              "      <td>598cd57a3bc48946977dcf67</td>\n",
              "      <td>598e15296d8650eb27d52e3d</td>\n",
              "      <td>2.017010e+10</td>\n",
              "      <td>0.0</td>\n",
              "      <td>5.0</td>\n",
              "      <td>59885f8d684f4a3f78163c00</td>\n",
              "      <td>Lista de Laboratório 1 - Expressões Aritmética...</td>\n",
              "      <td>14</td>\n",
              "      <td>2</td>\n",
              "    </tr>\n",
              "    <tr>\n",
              "      <th>4</th>\n",
              "      <td>2017.2</td>\n",
              "      <td>2017-08-14 16:22:15.073</td>\n",
              "      <td>5991cd63b3c8b42f3d5da402</td>\n",
              "      <td>598cd57a3bc48946977dcf67</td>\n",
              "      <td>598e15296d8650eb27d52e3d</td>\n",
              "      <td>2.017010e+10</td>\n",
              "      <td>0.0</td>\n",
              "      <td>5.0</td>\n",
              "      <td>59885f8d684f4a3f78163c00</td>\n",
              "      <td>Lista de Laboratório 1 - Expressões Aritmética...</td>\n",
              "      <td>14</td>\n",
              "      <td>2</td>\n",
              "    </tr>\n",
              "  </tbody>\n",
              "</table>\n",
              "</div>"
            ],
            "text/plain": [
              "      ano                    data  ... dia turno\n",
              "0  2017.2 2017-08-14 16:19:03.629  ...  14     2\n",
              "1  2017.2 2017-08-14 16:19:43.260  ...  14     2\n",
              "2  2017.2 2017-08-14 16:20:55.198  ...  14     2\n",
              "3  2017.2 2017-08-14 16:21:53.733  ...  14     2\n",
              "4  2017.2 2017-08-14 16:22:15.073  ...  14     2\n",
              "\n",
              "[5 rows x 12 columns]"
            ]
          },
          "metadata": {
            "tags": []
          },
          "execution_count": 43
        }
      ]
    },
    {
      "cell_type": "markdown",
      "metadata": {
        "id": "R111VpzD0SfY",
        "colab_type": "text"
      },
      "source": [
        "1.   Contar a quantidade de submissões nas 8 primeiras semanas\n",
        "2.   Por semana, contar os dias com submissões e sem submissões\n",
        "3.   Verificar o horário e dividir entre madrugada, manhã, tarde, noite"
      ]
    },
    {
      "cell_type": "markdown",
      "metadata": {
        "id": "bQPKbSvL0-Qa",
        "colab_type": "text"
      },
      "source": [
        "**Data de início dos semestres**\n",
        "\n",
        "\n",
        "\n",
        "1.   2017.2  24-07-2017\n",
        "2.   2018.1  19-02-2018\n",
        "1.   2018.2  30-07-2018\n",
        "2.   2019.1  11-02-2019\n",
        "\n",
        "\n",
        "\n"
      ]
    },
    {
      "cell_type": "markdown",
      "metadata": {
        "id": "AoTQzHpb4wlD",
        "colab_type": "text"
      },
      "source": [
        "Ordenando por ano e data"
      ]
    },
    {
      "cell_type": "code",
      "metadata": {
        "id": "PHFH4rTD08ZD",
        "colab_type": "code",
        "colab": {
          "base_uri": "https://localhost:8080/",
          "height": 643
        },
        "outputId": "451e1633-065c-4256-eb65-62e1aaf58ff0"
      },
      "source": [
        "sub.sort_values(by=\"data\")\n",
        "sub.tail(7)"
      ],
      "execution_count": 44,
      "outputs": [
        {
          "output_type": "execute_result",
          "data": {
            "text/html": [
              "<div>\n",
              "<style scoped>\n",
              "    .dataframe tbody tr th:only-of-type {\n",
              "        vertical-align: middle;\n",
              "    }\n",
              "\n",
              "    .dataframe tbody tr th {\n",
              "        vertical-align: top;\n",
              "    }\n",
              "\n",
              "    .dataframe thead th {\n",
              "        text-align: right;\n",
              "    }\n",
              "</style>\n",
              "<table border=\"1\" class=\"dataframe\">\n",
              "  <thead>\n",
              "    <tr style=\"text-align: right;\">\n",
              "      <th></th>\n",
              "      <th>ano</th>\n",
              "      <th>data</th>\n",
              "      <th>idAluno</th>\n",
              "      <th>idLista</th>\n",
              "      <th>idTurma</th>\n",
              "      <th>matricula</th>\n",
              "      <th>porcentagemAcerto</th>\n",
              "      <th>quantidade</th>\n",
              "      <th>questao</th>\n",
              "      <th>titulo</th>\n",
              "      <th>dia</th>\n",
              "      <th>turno</th>\n",
              "    </tr>\n",
              "  </thead>\n",
              "  <tbody>\n",
              "    <tr>\n",
              "      <th>23791</th>\n",
              "      <td>2018.1</td>\n",
              "      <td>2018-05-25 13:29:54.563</td>\n",
              "      <td>5ad8ac28241ada0408e6abac</td>\n",
              "      <td>59de48a4ef567721b25023a8</td>\n",
              "      <td>5ace7d50651f040f4d666d91</td>\n",
              "      <td>2.016014e+10</td>\n",
              "      <td>0.0</td>\n",
              "      <td>16.0</td>\n",
              "      <td>59c87349e7b92c7345a5f468</td>\n",
              "      <td>Lista de Exercícios 5 - Vetores</td>\n",
              "      <td>25</td>\n",
              "      <td>2</td>\n",
              "    </tr>\n",
              "    <tr>\n",
              "      <th>23792</th>\n",
              "      <td>2018.1</td>\n",
              "      <td>2018-05-25 13:40:18.405</td>\n",
              "      <td>5ad8ac28241ada0408e6abac</td>\n",
              "      <td>59de48a4ef567721b25023a8</td>\n",
              "      <td>5ace7d50651f040f4d666d91</td>\n",
              "      <td>2.016014e+10</td>\n",
              "      <td>0.0</td>\n",
              "      <td>16.0</td>\n",
              "      <td>59d288ddf1bbc9444e336fec</td>\n",
              "      <td>Lista de Exercícios 5 - Vetores</td>\n",
              "      <td>25</td>\n",
              "      <td>2</td>\n",
              "    </tr>\n",
              "    <tr>\n",
              "      <th>23793</th>\n",
              "      <td>2018.2</td>\n",
              "      <td>2018-08-21 18:51:37.735</td>\n",
              "      <td>5b7c57c99513a60408ac2eb2</td>\n",
              "      <td>59de48a4ef567721b25023a8</td>\n",
              "      <td>5ba99055463cb731d4510cba</td>\n",
              "      <td>2.018003e+10</td>\n",
              "      <td>0.0</td>\n",
              "      <td>16.0</td>\n",
              "      <td>59d26f24419e5c442b0bffbd</td>\n",
              "      <td>Lista de Exercícios 5 - Vetores</td>\n",
              "      <td>21</td>\n",
              "      <td>2</td>\n",
              "    </tr>\n",
              "    <tr>\n",
              "      <th>23794</th>\n",
              "      <td>2018.2</td>\n",
              "      <td>2018-08-21 19:15:46.266</td>\n",
              "      <td>5b7c57c99513a60408ac2eb2</td>\n",
              "      <td>59de48a4ef567721b25023a8</td>\n",
              "      <td>5ba99055463cb731d4510cba</td>\n",
              "      <td>2.018003e+10</td>\n",
              "      <td>33.0</td>\n",
              "      <td>16.0</td>\n",
              "      <td>59d29750dc0ada44262e5ad3</td>\n",
              "      <td>Lista de Exercícios 5 - Vetores</td>\n",
              "      <td>21</td>\n",
              "      <td>3</td>\n",
              "    </tr>\n",
              "    <tr>\n",
              "      <th>23795</th>\n",
              "      <td>2018.2</td>\n",
              "      <td>2018-08-21 18:51:24.069</td>\n",
              "      <td>5b7c58009513a60408ac2eb8</td>\n",
              "      <td>59de48a4ef567721b25023a8</td>\n",
              "      <td>5ba995ce463cb731d4510cdb</td>\n",
              "      <td>2.018004e+10</td>\n",
              "      <td>100.0</td>\n",
              "      <td>16.0</td>\n",
              "      <td>59d288ddf1bbc9444e336fec</td>\n",
              "      <td>Lista de Exercícios 5 - Vetores</td>\n",
              "      <td>21</td>\n",
              "      <td>2</td>\n",
              "    </tr>\n",
              "    <tr>\n",
              "      <th>23796</th>\n",
              "      <td>2018.2</td>\n",
              "      <td>2018-08-21 19:23:17.972</td>\n",
              "      <td>5b7c61ed9513a60408ac2f7f</td>\n",
              "      <td>59de48a4ef567721b25023a8</td>\n",
              "      <td>5ba9947f463cb731d4510cda</td>\n",
              "      <td>2.018003e+10</td>\n",
              "      <td>100.0</td>\n",
              "      <td>16.0</td>\n",
              "      <td>59d288ddf1bbc9444e336fec</td>\n",
              "      <td>Lista de Exercícios 5 - Vetores</td>\n",
              "      <td>21</td>\n",
              "      <td>3</td>\n",
              "    </tr>\n",
              "    <tr>\n",
              "      <th>23797</th>\n",
              "      <td>2018.2</td>\n",
              "      <td>2018-08-28 18:27:14.298</td>\n",
              "      <td>5b7c61ed9513a60408ac2f7f</td>\n",
              "      <td>59de48a4ef567721b25023a8</td>\n",
              "      <td>5ba9947f463cb731d4510cda</td>\n",
              "      <td>2.018003e+10</td>\n",
              "      <td>100.0</td>\n",
              "      <td>16.0</td>\n",
              "      <td>59d29750dc0ada44262e5ad3</td>\n",
              "      <td>Lista de Exercícios 5 - Vetores</td>\n",
              "      <td>28</td>\n",
              "      <td>2</td>\n",
              "    </tr>\n",
              "  </tbody>\n",
              "</table>\n",
              "</div>"
            ],
            "text/plain": [
              "          ano                    data  ... dia turno\n",
              "23791  2018.1 2018-05-25 13:29:54.563  ...  25     2\n",
              "23792  2018.1 2018-05-25 13:40:18.405  ...  25     2\n",
              "23793  2018.2 2018-08-21 18:51:37.735  ...  21     2\n",
              "23794  2018.2 2018-08-21 19:15:46.266  ...  21     3\n",
              "23795  2018.2 2018-08-21 18:51:24.069  ...  21     2\n",
              "23796  2018.2 2018-08-21 19:23:17.972  ...  21     3\n",
              "23797  2018.2 2018-08-28 18:27:14.298  ...  28     2\n",
              "\n",
              "[7 rows x 12 columns]"
            ]
          },
          "metadata": {
            "tags": []
          },
          "execution_count": 44
        }
      ]
    },
    {
      "cell_type": "markdown",
      "metadata": {
        "id": "0DvzfIZ38H6U",
        "colab_type": "text"
      },
      "source": [
        "Dias de início de cada semestre em datetime"
      ]
    },
    {
      "cell_type": "code",
      "metadata": {
        "id": "wli9lN6V-dDk",
        "colab_type": "code",
        "colab": {
          "base_uri": "https://localhost:8080/",
          "height": 34
        },
        "outputId": "76c81a46-d31c-42d3-c08c-23c5bf918191"
      },
      "source": [
        "d1=pd.to_datetime(\"2017/07/24\")\n",
        "d2=pd.to_datetime(\"2018/02/19\")\n",
        "d3=pd.to_datetime(\"2018/07/30\")\n",
        "d4=pd.to_datetime(\"2019/02/11\")\n",
        "d1"
      ],
      "execution_count": 45,
      "outputs": [
        {
          "output_type": "execute_result",
          "data": {
            "text/plain": [
              "Timestamp('2017-07-24 00:00:00')"
            ]
          },
          "metadata": {
            "tags": []
          },
          "execution_count": 45
        }
      ]
    },
    {
      "cell_type": "markdown",
      "metadata": {
        "id": "_OwvAgy-KYog",
        "colab_type": "text"
      },
      "source": [
        "Função para os 4 semestres"
      ]
    },
    {
      "cell_type": "code",
      "metadata": {
        "id": "vDypqbjlKYCL",
        "colab_type": "code",
        "colab": {}
      },
      "source": [
        "def trata(sub,prov1,prov2,prov3,d):\n",
        "  \n",
        "  #Criando os intervalos de semanas a partir da data de início do semestre\n",
        "  t=pd.Timedelta(\"7 days\")\n",
        "  d11=d+t\n",
        "  d12=d11+t\n",
        "  d13=d12+t\n",
        "  d14=d13+t\n",
        "  d15=d14+t\n",
        "  d16=d15+t\n",
        "  d17=d16+t\n",
        "  d18=d17+t\n",
        "  d19=d18+t\n",
        "\n",
        "  #Buscando submissões entre os intervalos\n",
        "  v11=sub.loc[(sub[\"data\"]>d11) & (sub[\"data\"]<=d12),:]\n",
        "  v12=sub.loc[(sub[\"data\"]>d12) & (sub[\"data\"]<=d13),:]\n",
        "  v13=sub.loc[(sub[\"data\"]>d13) & (sub[\"data\"]<=d14),:]\n",
        "  v14=sub.loc[(sub[\"data\"]>d14) & (sub[\"data\"]<=d15),:]\n",
        "  v15=sub.loc[(sub[\"data\"]>d15) & (sub[\"data\"]<=d16),:]\n",
        "  v16=sub.loc[(sub[\"data\"]>d16) & (sub[\"data\"]<=d17),:]\n",
        "  v17=sub.loc[(sub[\"data\"]>d17) & (sub[\"data\"]<=d18),:]\n",
        "  v18=sub.loc[(sub[\"data\"]>d18) & (sub[\"data\"]<=d19),:]\n",
        "  \n",
        "  #Contando a quantidade de submissões dos alunos por semana\n",
        "  s11 = v11.groupby([\"idAluno\"])[\"questao\"].count().reset_index().sort_values(by=\"idAluno\")\n",
        "  s11.rename(columns={\"questao\":\"qsemana1\"},inplace=True)\n",
        "  s12 = v12.groupby([\"idAluno\"])[\"questao\"].count().reset_index().sort_values(by=\"idAluno\")\n",
        "  s12.rename(columns={\"questao\":\"qsemana2\"},inplace=True)\n",
        "  s13 = v13.groupby([\"idAluno\"])[\"questao\"].count().reset_index().sort_values(by=\"idAluno\")\n",
        "  s13.rename(columns={\"questao\":\"qsemana3\"},inplace=True)\n",
        "  s14 = v14.groupby([\"idAluno\"])[\"questao\"].count().reset_index().sort_values(by=\"idAluno\")\n",
        "  s14.rename(columns={\"questao\":\"qsemana4\"},inplace=True)\n",
        "  s15 = v15.groupby([\"idAluno\"])[\"questao\"].count().reset_index().sort_values(by=\"idAluno\")\n",
        "  s15.rename(columns={\"questao\":\"qsemana5\"},inplace=True)\n",
        "  s16 = v16.groupby([\"idAluno\"])[\"questao\"].count().reset_index().sort_values(by=\"idAluno\")\n",
        "  s16.rename(columns={\"questao\":\"qsemana6\"},inplace=True)\n",
        "  s17 = v17.groupby([\"idAluno\"])[\"questao\"].count().reset_index().sort_values(by=\"idAluno\")\n",
        "  s17.rename(columns={\"questao\":\"qsemana7\"},inplace=True)\n",
        "  s18 = v18.groupby([\"idAluno\"])[\"questao\"].count().reset_index().sort_values(by=\"idAluno\")\n",
        "  s18.rename(columns={\"questao\":\"qsemana8\"},inplace=True)\n",
        "  #concatenação das tabelas\n",
        "  prov1 = prov1.append(s11,sort=False,ignore_index=True)\n",
        "  prov1 = prov1.append(s12,sort=False,ignore_index=True)\n",
        "  prov1 = prov1.append(s13,sort=False,ignore_index=True)\n",
        "  prov1 = prov1.append(s14,sort=False,ignore_index=True)\n",
        "  prov1 = prov1.append(s15,sort=False,ignore_index=True)\n",
        "  prov1 = prov1.append(s16,sort=False,ignore_index=True)\n",
        "  prov1 = prov1.append(s17,sort=False,ignore_index=True)\n",
        "  prov1 = prov1.append(s18,sort=False,ignore_index=True)\n",
        " \n",
        "\n",
        "  #Agrupando por dia para saber a quantidade de questões submetidas pelo aluno por semana\n",
        "  q11 = v11.groupby([\"idAluno\",\"dia\"])[\"questao\"].count().reset_index().sort_values(by=\"idAluno\")\n",
        "  q11 = q11.groupby([\"idAluno\"])[\"dia\"].count().reset_index().sort_values(by=\"idAluno\")\n",
        "  q11.rename(columns={\"dia\":\"submeteu1\"},inplace=True)\n",
        "  q12 = v12.groupby([\"idAluno\",\"dia\"])[\"questao\"].count().reset_index().sort_values(by=\"idAluno\")\n",
        "  q12 = q12.groupby([\"idAluno\"])[\"dia\"].count().reset_index().sort_values(by=\"idAluno\")\n",
        "  q12.rename(columns={\"dia\":\"submeteu2\"},inplace=True)\n",
        "  q13 = v13.groupby([\"idAluno\",\"dia\"])[\"questao\"].count().reset_index().sort_values(by=\"idAluno\")\n",
        "  q13 = q13.groupby([\"idAluno\"])[\"dia\"].count().reset_index().sort_values(by=\"idAluno\")\n",
        "  q13.rename(columns={\"dia\":\"submeteu3\"},inplace=True)\n",
        "  q14 = v14.groupby([\"idAluno\",\"dia\"])[\"questao\"].count().reset_index().sort_values(by=\"idAluno\")\n",
        "  q14 = q14.groupby([\"idAluno\"])[\"dia\"].count().reset_index().sort_values(by=\"idAluno\")\n",
        "  q14.rename(columns={\"dia\":\"submeteu4\"},inplace=True)\n",
        "  q15 = v15.groupby([\"idAluno\",\"dia\"])[\"questao\"].count().reset_index().sort_values(by=\"idAluno\")\n",
        "  q15 = q15.groupby([\"idAluno\"])[\"dia\"].count().reset_index().sort_values(by=\"idAluno\")\n",
        "  q15.rename(columns={\"dia\":\"submeteu5\"},inplace=True)\n",
        "  q16 = v16.groupby([\"idAluno\",\"dia\"])[\"questao\"].count().reset_index().sort_values(by=\"idAluno\")\n",
        "  q16 = q16.groupby([\"idAluno\"])[\"dia\"].count().reset_index().sort_values(by=\"idAluno\")\n",
        "  q16.rename(columns={\"dia\":\"submeteu6\"},inplace=True)\n",
        "  q17 = v17.groupby([\"idAluno\",\"dia\"])[\"questao\"].count().reset_index().sort_values(by=\"idAluno\")\n",
        "  q17 = q17.groupby([\"idAluno\"])[\"dia\"].count().reset_index().sort_values(by=\"idAluno\")\n",
        "  q17.rename(columns={\"dia\":\"submeteu7\"},inplace=True)\n",
        "  q18 = v18.groupby([\"idAluno\",\"dia\"])[\"questao\"].count().reset_index().sort_values(by=\"idAluno\")\n",
        "  q18 = q18.groupby([\"idAluno\"])[\"dia\"].count().reset_index().sort_values(by=\"idAluno\")\n",
        "  q18.rename(columns={\"dia\":\"submeteu8\"},inplace=True)\n",
        "  #concatenação das tabelas  \n",
        "  prov2 = prov2.append(q11,sort=False,ignore_index=True)\n",
        "  prov2 = prov2.append(q12,sort=False,ignore_index=True)\n",
        "  prov2 = prov2.append(q13,sort=False,ignore_index=True)\n",
        "  prov2 = prov2.append(q14,sort=False,ignore_index=True)\n",
        "  prov2 = prov2.append(q15,sort=False,ignore_index=True)\n",
        "  prov2 = prov2.append(q16,sort=False,ignore_index=True)\n",
        "  prov2 = prov2.append(q17,sort=False,ignore_index=True)\n",
        "  prov2 = prov2.append(q18,sort=False,ignore_index=True)\n",
        "  \n",
        "  \n",
        "  #Verificando os turnos e criando um label, em seguida agrupando\n",
        "  vf=sub.loc[(sub[\"data\"]>d11) & (sub[\"data\"]<=d19),:]\n",
        "  sub0 = vf.loc[sub[\"turno\"]==0,:]\n",
        "  sub1 = vf.loc[sub[\"turno\"]==1,:]\n",
        "  sub2 = vf.loc[sub[\"turno\"]==2,:]\n",
        "  sub3 = vf.loc[sub[\"turno\"]==3,:]\n",
        "  sub0 = sub0.groupby([\"idAluno\"])[\"questao\"].count().reset_index().sort_values(by=\"idAluno\")\n",
        "  sub1 = sub1.groupby([\"idAluno\"])[\"questao\"].count().reset_index().sort_values(by=\"idAluno\")\n",
        "  sub2 = sub2.groupby([\"idAluno\"])[\"questao\"].count().reset_index().sort_values(by=\"idAluno\")\n",
        "  sub3 = sub3.groupby([\"idAluno\"])[\"questao\"].count().reset_index().sort_values(by=\"idAluno\")\n",
        "  sub0.rename(columns={\"questao\":\"madrugada\"},inplace=True)\n",
        "  sub1.rename(columns={\"questao\":\"manha\"},inplace=True)\n",
        "  sub2.rename(columns={\"questao\":\"tarde\"},inplace=True)\n",
        "  sub3.rename(columns={\"questao\":\"noite\"},inplace=True)  \n",
        "  #concatenação das tabelas  \n",
        "  prov3 = prov3.append(sub0,sort=False,ignore_index=True)\n",
        "  prov3 = prov3.append(sub1,sort=False,ignore_index=True)\n",
        "  prov3 = prov3.append(sub2,sort=False,ignore_index=True)\n",
        "  prov3 = prov3.append(sub3,sort=False,ignore_index=True)\n",
        "\n",
        "  \n",
        "  return prov1,prov2,prov3"
      ],
      "execution_count": 0,
      "outputs": []
    },
    {
      "cell_type": "markdown",
      "metadata": {
        "id": "LXRMGK3n4Oua",
        "colab_type": "text"
      },
      "source": [
        "Criando um dataframe provisório para utilizar com o append"
      ]
    },
    {
      "cell_type": "code",
      "metadata": {
        "id": "1wP7xLRk4OZe",
        "colab_type": "code",
        "colab": {}
      },
      "source": [
        "prov1 = pd.DataFrame()\n",
        "prov2 = pd.DataFrame()\n",
        "prov3 = pd.DataFrame()\n",
        "\n",
        "prov1[\"idAluno\"]=0\n",
        "prov1[\"qsemana1\"]=0\n",
        "prov1[\"qsemana2\"]=0\n",
        "prov1[\"qsemana3\"]=0\n",
        "prov1[\"qsemana4\"]=0\n",
        "prov1[\"qsemana5\"]=0\n",
        "prov1[\"qsemana6\"]=0\n",
        "prov1[\"qsemana7\"]=0\n",
        "prov1[\"qsemana8\"]=0\n",
        "#prov1[\"qsemana9\"]=0\n",
        "#prov1[\"qsemana10\"]=0\n",
        "#prov1[\"qsemana11\"]=0\n",
        "#prov1[\"qsemana12\"]=0\n",
        "#prov1[\"qsemana13\"]=0\n",
        "#prov1[\"qsemana14\"]=0\n",
        "#prov1[\"qsemana15\"]=0\n",
        "#prov1[\"qsemana16\"]=0\n",
        "\n",
        "prov2[\"idAluno\"]=0\n",
        "prov2[\"submeteu1\"]=0\n",
        "prov2[\"submeteu2\"]=0\n",
        "prov2[\"submeteu3\"]=0\n",
        "prov2[\"submeteu4\"]=0\n",
        "prov2[\"submeteu5\"]=0\n",
        "prov2[\"submeteu6\"]=0\n",
        "prov2[\"submeteu7\"]=0\n",
        "prov2[\"submeteu8\"]=0\n",
        "\n",
        "prov3[\"idAluno\"]=0\n",
        "prov3[\"madrugada\"]=0\n",
        "prov3[\"manha\"]=0\n",
        "prov3[\"tarde\"]=0\n",
        "prov3[\"noite\"]=0\n"
      ],
      "execution_count": 0,
      "outputs": []
    },
    {
      "cell_type": "markdown",
      "metadata": {
        "id": "tf4mwmpfjDtH",
        "colab_type": "text"
      },
      "source": [
        "Chamada de funções"
      ]
    },
    {
      "cell_type": "code",
      "metadata": {
        "id": "b5_nhhW0jDeK",
        "colab_type": "code",
        "colab": {}
      },
      "source": [
        "prov1,prov2,prov3 = trata(sub,prov1,prov2,prov3,d1)\n",
        "prov1,prov2,prov3 = trata(sub,prov1,prov2,prov3,d2)\n",
        "prov1,prov2,prov3 = trata(sub,prov1,prov2,prov3,d3)\n",
        "prov1,prov2,prov3 = trata(sub,prov1,prov2,prov3,d4)"
      ],
      "execution_count": 0,
      "outputs": []
    },
    {
      "cell_type": "code",
      "metadata": {
        "id": "-RHvQNdvsT_e",
        "colab_type": "code",
        "colab": {
          "base_uri": "https://localhost:8080/",
          "height": 1000
        },
        "outputId": "dd104ec5-d421-410a-c1ff-dfbef573145a"
      },
      "source": [
        "prov1"
      ],
      "execution_count": 49,
      "outputs": [
        {
          "output_type": "execute_result",
          "data": {
            "text/html": [
              "<div>\n",
              "<style scoped>\n",
              "    .dataframe tbody tr th:only-of-type {\n",
              "        vertical-align: middle;\n",
              "    }\n",
              "\n",
              "    .dataframe tbody tr th {\n",
              "        vertical-align: top;\n",
              "    }\n",
              "\n",
              "    .dataframe thead th {\n",
              "        text-align: right;\n",
              "    }\n",
              "</style>\n",
              "<table border=\"1\" class=\"dataframe\">\n",
              "  <thead>\n",
              "    <tr style=\"text-align: right;\">\n",
              "      <th></th>\n",
              "      <th>idAluno</th>\n",
              "      <th>qsemana1</th>\n",
              "      <th>qsemana2</th>\n",
              "      <th>qsemana3</th>\n",
              "      <th>qsemana4</th>\n",
              "      <th>qsemana5</th>\n",
              "      <th>qsemana6</th>\n",
              "      <th>qsemana7</th>\n",
              "      <th>qsemana8</th>\n",
              "    </tr>\n",
              "  </thead>\n",
              "  <tbody>\n",
              "    <tr>\n",
              "      <th>0</th>\n",
              "      <td>5991cb910be9d42f2f68b906</td>\n",
              "      <td>NaN</td>\n",
              "      <td>NaN</td>\n",
              "      <td>4.0</td>\n",
              "      <td>NaN</td>\n",
              "      <td>NaN</td>\n",
              "      <td>NaN</td>\n",
              "      <td>NaN</td>\n",
              "      <td>NaN</td>\n",
              "    </tr>\n",
              "    <tr>\n",
              "      <th>1</th>\n",
              "      <td>5991cd1a8907ca2f441cd313</td>\n",
              "      <td>NaN</td>\n",
              "      <td>NaN</td>\n",
              "      <td>5.0</td>\n",
              "      <td>NaN</td>\n",
              "      <td>NaN</td>\n",
              "      <td>NaN</td>\n",
              "      <td>NaN</td>\n",
              "      <td>NaN</td>\n",
              "    </tr>\n",
              "    <tr>\n",
              "      <th>2</th>\n",
              "      <td>5991cd34b3c8b42f3d5da3fd</td>\n",
              "      <td>NaN</td>\n",
              "      <td>NaN</td>\n",
              "      <td>5.0</td>\n",
              "      <td>NaN</td>\n",
              "      <td>NaN</td>\n",
              "      <td>NaN</td>\n",
              "      <td>NaN</td>\n",
              "      <td>NaN</td>\n",
              "    </tr>\n",
              "    <tr>\n",
              "      <th>3</th>\n",
              "      <td>5991cd37b3c8b42f3d5da3fe</td>\n",
              "      <td>NaN</td>\n",
              "      <td>NaN</td>\n",
              "      <td>3.0</td>\n",
              "      <td>NaN</td>\n",
              "      <td>NaN</td>\n",
              "      <td>NaN</td>\n",
              "      <td>NaN</td>\n",
              "      <td>NaN</td>\n",
              "    </tr>\n",
              "    <tr>\n",
              "      <th>4</th>\n",
              "      <td>5991cd39b3c8b42f3d5da3ff</td>\n",
              "      <td>NaN</td>\n",
              "      <td>NaN</td>\n",
              "      <td>5.0</td>\n",
              "      <td>NaN</td>\n",
              "      <td>NaN</td>\n",
              "      <td>NaN</td>\n",
              "      <td>NaN</td>\n",
              "      <td>NaN</td>\n",
              "    </tr>\n",
              "    <tr>\n",
              "      <th>5</th>\n",
              "      <td>5991cd3ab3c8b42f3d5da400</td>\n",
              "      <td>NaN</td>\n",
              "      <td>NaN</td>\n",
              "      <td>5.0</td>\n",
              "      <td>NaN</td>\n",
              "      <td>NaN</td>\n",
              "      <td>NaN</td>\n",
              "      <td>NaN</td>\n",
              "      <td>NaN</td>\n",
              "    </tr>\n",
              "    <tr>\n",
              "      <th>6</th>\n",
              "      <td>5991cd3c3c13e92f349ee47a</td>\n",
              "      <td>NaN</td>\n",
              "      <td>NaN</td>\n",
              "      <td>6.0</td>\n",
              "      <td>NaN</td>\n",
              "      <td>NaN</td>\n",
              "      <td>NaN</td>\n",
              "      <td>NaN</td>\n",
              "      <td>NaN</td>\n",
              "    </tr>\n",
              "    <tr>\n",
              "      <th>7</th>\n",
              "      <td>5991cd3e8907ca2f441cd314</td>\n",
              "      <td>NaN</td>\n",
              "      <td>NaN</td>\n",
              "      <td>4.0</td>\n",
              "      <td>NaN</td>\n",
              "      <td>NaN</td>\n",
              "      <td>NaN</td>\n",
              "      <td>NaN</td>\n",
              "      <td>NaN</td>\n",
              "    </tr>\n",
              "    <tr>\n",
              "      <th>8</th>\n",
              "      <td>5991cd45b3c8b42f3d5da401</td>\n",
              "      <td>NaN</td>\n",
              "      <td>NaN</td>\n",
              "      <td>8.0</td>\n",
              "      <td>NaN</td>\n",
              "      <td>NaN</td>\n",
              "      <td>NaN</td>\n",
              "      <td>NaN</td>\n",
              "      <td>NaN</td>\n",
              "    </tr>\n",
              "    <tr>\n",
              "      <th>9</th>\n",
              "      <td>5991cd483c13e92f349ee47b</td>\n",
              "      <td>NaN</td>\n",
              "      <td>NaN</td>\n",
              "      <td>5.0</td>\n",
              "      <td>NaN</td>\n",
              "      <td>NaN</td>\n",
              "      <td>NaN</td>\n",
              "      <td>NaN</td>\n",
              "      <td>NaN</td>\n",
              "    </tr>\n",
              "    <tr>\n",
              "      <th>10</th>\n",
              "      <td>5991cd490be9d42f2f68b907</td>\n",
              "      <td>NaN</td>\n",
              "      <td>NaN</td>\n",
              "      <td>6.0</td>\n",
              "      <td>NaN</td>\n",
              "      <td>NaN</td>\n",
              "      <td>NaN</td>\n",
              "      <td>NaN</td>\n",
              "      <td>NaN</td>\n",
              "    </tr>\n",
              "    <tr>\n",
              "      <th>11</th>\n",
              "      <td>5991cd520be9d42f2f68b908</td>\n",
              "      <td>NaN</td>\n",
              "      <td>NaN</td>\n",
              "      <td>7.0</td>\n",
              "      <td>NaN</td>\n",
              "      <td>NaN</td>\n",
              "      <td>NaN</td>\n",
              "      <td>NaN</td>\n",
              "      <td>NaN</td>\n",
              "    </tr>\n",
              "    <tr>\n",
              "      <th>12</th>\n",
              "      <td>5991cd580be9d42f2f68b909</td>\n",
              "      <td>NaN</td>\n",
              "      <td>NaN</td>\n",
              "      <td>5.0</td>\n",
              "      <td>NaN</td>\n",
              "      <td>NaN</td>\n",
              "      <td>NaN</td>\n",
              "      <td>NaN</td>\n",
              "      <td>NaN</td>\n",
              "    </tr>\n",
              "    <tr>\n",
              "      <th>13</th>\n",
              "      <td>5991cd63b3c8b42f3d5da402</td>\n",
              "      <td>NaN</td>\n",
              "      <td>NaN</td>\n",
              "      <td>18.0</td>\n",
              "      <td>NaN</td>\n",
              "      <td>NaN</td>\n",
              "      <td>NaN</td>\n",
              "      <td>NaN</td>\n",
              "      <td>NaN</td>\n",
              "    </tr>\n",
              "    <tr>\n",
              "      <th>14</th>\n",
              "      <td>5991cd640be9d42f2f68b90a</td>\n",
              "      <td>NaN</td>\n",
              "      <td>NaN</td>\n",
              "      <td>3.0</td>\n",
              "      <td>NaN</td>\n",
              "      <td>NaN</td>\n",
              "      <td>NaN</td>\n",
              "      <td>NaN</td>\n",
              "      <td>NaN</td>\n",
              "    </tr>\n",
              "    <tr>\n",
              "      <th>15</th>\n",
              "      <td>5991cd65b3c8b42f3d5da403</td>\n",
              "      <td>NaN</td>\n",
              "      <td>NaN</td>\n",
              "      <td>7.0</td>\n",
              "      <td>NaN</td>\n",
              "      <td>NaN</td>\n",
              "      <td>NaN</td>\n",
              "      <td>NaN</td>\n",
              "      <td>NaN</td>\n",
              "    </tr>\n",
              "    <tr>\n",
              "      <th>16</th>\n",
              "      <td>5991cd673c13e92f349ee47c</td>\n",
              "      <td>NaN</td>\n",
              "      <td>NaN</td>\n",
              "      <td>5.0</td>\n",
              "      <td>NaN</td>\n",
              "      <td>NaN</td>\n",
              "      <td>NaN</td>\n",
              "      <td>NaN</td>\n",
              "      <td>NaN</td>\n",
              "    </tr>\n",
              "    <tr>\n",
              "      <th>17</th>\n",
              "      <td>5991cd688907ca2f441cd315</td>\n",
              "      <td>NaN</td>\n",
              "      <td>NaN</td>\n",
              "      <td>4.0</td>\n",
              "      <td>NaN</td>\n",
              "      <td>NaN</td>\n",
              "      <td>NaN</td>\n",
              "      <td>NaN</td>\n",
              "      <td>NaN</td>\n",
              "    </tr>\n",
              "    <tr>\n",
              "      <th>18</th>\n",
              "      <td>5991cd6e3c13e92f349ee47d</td>\n",
              "      <td>NaN</td>\n",
              "      <td>NaN</td>\n",
              "      <td>3.0</td>\n",
              "      <td>NaN</td>\n",
              "      <td>NaN</td>\n",
              "      <td>NaN</td>\n",
              "      <td>NaN</td>\n",
              "      <td>NaN</td>\n",
              "    </tr>\n",
              "    <tr>\n",
              "      <th>19</th>\n",
              "      <td>5991cd700be9d42f2f68b90b</td>\n",
              "      <td>NaN</td>\n",
              "      <td>NaN</td>\n",
              "      <td>9.0</td>\n",
              "      <td>NaN</td>\n",
              "      <td>NaN</td>\n",
              "      <td>NaN</td>\n",
              "      <td>NaN</td>\n",
              "      <td>NaN</td>\n",
              "    </tr>\n",
              "    <tr>\n",
              "      <th>20</th>\n",
              "      <td>5991cd76b3c8b42f3d5da404</td>\n",
              "      <td>NaN</td>\n",
              "      <td>NaN</td>\n",
              "      <td>2.0</td>\n",
              "      <td>NaN</td>\n",
              "      <td>NaN</td>\n",
              "      <td>NaN</td>\n",
              "      <td>NaN</td>\n",
              "      <td>NaN</td>\n",
              "    </tr>\n",
              "    <tr>\n",
              "      <th>21</th>\n",
              "      <td>5991cd793c13e92f349ee481</td>\n",
              "      <td>NaN</td>\n",
              "      <td>NaN</td>\n",
              "      <td>5.0</td>\n",
              "      <td>NaN</td>\n",
              "      <td>NaN</td>\n",
              "      <td>NaN</td>\n",
              "      <td>NaN</td>\n",
              "      <td>NaN</td>\n",
              "    </tr>\n",
              "    <tr>\n",
              "      <th>22</th>\n",
              "      <td>5991cd870be9d42f2f68b90c</td>\n",
              "      <td>NaN</td>\n",
              "      <td>NaN</td>\n",
              "      <td>5.0</td>\n",
              "      <td>NaN</td>\n",
              "      <td>NaN</td>\n",
              "      <td>NaN</td>\n",
              "      <td>NaN</td>\n",
              "      <td>NaN</td>\n",
              "    </tr>\n",
              "    <tr>\n",
              "      <th>23</th>\n",
              "      <td>5991cd8bb3c8b42f3d5da405</td>\n",
              "      <td>NaN</td>\n",
              "      <td>NaN</td>\n",
              "      <td>11.0</td>\n",
              "      <td>NaN</td>\n",
              "      <td>NaN</td>\n",
              "      <td>NaN</td>\n",
              "      <td>NaN</td>\n",
              "      <td>NaN</td>\n",
              "    </tr>\n",
              "    <tr>\n",
              "      <th>24</th>\n",
              "      <td>5991cd8e8907ca2f441cd316</td>\n",
              "      <td>NaN</td>\n",
              "      <td>NaN</td>\n",
              "      <td>3.0</td>\n",
              "      <td>NaN</td>\n",
              "      <td>NaN</td>\n",
              "      <td>NaN</td>\n",
              "      <td>NaN</td>\n",
              "      <td>NaN</td>\n",
              "    </tr>\n",
              "    <tr>\n",
              "      <th>25</th>\n",
              "      <td>5991cd8fb3c8b42f3d5da406</td>\n",
              "      <td>NaN</td>\n",
              "      <td>NaN</td>\n",
              "      <td>3.0</td>\n",
              "      <td>NaN</td>\n",
              "      <td>NaN</td>\n",
              "      <td>NaN</td>\n",
              "      <td>NaN</td>\n",
              "      <td>NaN</td>\n",
              "    </tr>\n",
              "    <tr>\n",
              "      <th>26</th>\n",
              "      <td>5991cd94b3c8b42f3d5da407</td>\n",
              "      <td>NaN</td>\n",
              "      <td>NaN</td>\n",
              "      <td>5.0</td>\n",
              "      <td>NaN</td>\n",
              "      <td>NaN</td>\n",
              "      <td>NaN</td>\n",
              "      <td>NaN</td>\n",
              "      <td>NaN</td>\n",
              "    </tr>\n",
              "    <tr>\n",
              "      <th>27</th>\n",
              "      <td>5991cd963c13e92f349ee482</td>\n",
              "      <td>NaN</td>\n",
              "      <td>NaN</td>\n",
              "      <td>4.0</td>\n",
              "      <td>NaN</td>\n",
              "      <td>NaN</td>\n",
              "      <td>NaN</td>\n",
              "      <td>NaN</td>\n",
              "      <td>NaN</td>\n",
              "    </tr>\n",
              "    <tr>\n",
              "      <th>28</th>\n",
              "      <td>5991cda50be9d42f2f68b90d</td>\n",
              "      <td>NaN</td>\n",
              "      <td>NaN</td>\n",
              "      <td>5.0</td>\n",
              "      <td>NaN</td>\n",
              "      <td>NaN</td>\n",
              "      <td>NaN</td>\n",
              "      <td>NaN</td>\n",
              "      <td>NaN</td>\n",
              "    </tr>\n",
              "    <tr>\n",
              "      <th>29</th>\n",
              "      <td>5991cdadb3c8b42f3d5da40b</td>\n",
              "      <td>NaN</td>\n",
              "      <td>NaN</td>\n",
              "      <td>5.0</td>\n",
              "      <td>NaN</td>\n",
              "      <td>NaN</td>\n",
              "      <td>NaN</td>\n",
              "      <td>NaN</td>\n",
              "      <td>NaN</td>\n",
              "    </tr>\n",
              "    <tr>\n",
              "      <th>...</th>\n",
              "      <td>...</td>\n",
              "      <td>...</td>\n",
              "      <td>...</td>\n",
              "      <td>...</td>\n",
              "      <td>...</td>\n",
              "      <td>...</td>\n",
              "      <td>...</td>\n",
              "      <td>...</td>\n",
              "      <td>...</td>\n",
              "    </tr>\n",
              "    <tr>\n",
              "      <th>2399</th>\n",
              "      <td>5c92487f23798d040d0280e2</td>\n",
              "      <td>NaN</td>\n",
              "      <td>NaN</td>\n",
              "      <td>NaN</td>\n",
              "      <td>NaN</td>\n",
              "      <td>NaN</td>\n",
              "      <td>NaN</td>\n",
              "      <td>NaN</td>\n",
              "      <td>1.0</td>\n",
              "    </tr>\n",
              "    <tr>\n",
              "      <th>2400</th>\n",
              "      <td>5c92488223798d040d0280e3</td>\n",
              "      <td>NaN</td>\n",
              "      <td>NaN</td>\n",
              "      <td>NaN</td>\n",
              "      <td>NaN</td>\n",
              "      <td>NaN</td>\n",
              "      <td>NaN</td>\n",
              "      <td>NaN</td>\n",
              "      <td>2.0</td>\n",
              "    </tr>\n",
              "    <tr>\n",
              "      <th>2401</th>\n",
              "      <td>5c92488c23798d040d0280e4</td>\n",
              "      <td>NaN</td>\n",
              "      <td>NaN</td>\n",
              "      <td>NaN</td>\n",
              "      <td>NaN</td>\n",
              "      <td>NaN</td>\n",
              "      <td>NaN</td>\n",
              "      <td>NaN</td>\n",
              "      <td>3.0</td>\n",
              "    </tr>\n",
              "    <tr>\n",
              "      <th>2402</th>\n",
              "      <td>5c92488f23798d040d0280e5</td>\n",
              "      <td>NaN</td>\n",
              "      <td>NaN</td>\n",
              "      <td>NaN</td>\n",
              "      <td>NaN</td>\n",
              "      <td>NaN</td>\n",
              "      <td>NaN</td>\n",
              "      <td>NaN</td>\n",
              "      <td>3.0</td>\n",
              "    </tr>\n",
              "    <tr>\n",
              "      <th>2403</th>\n",
              "      <td>5c92489823798d040d0280e6</td>\n",
              "      <td>NaN</td>\n",
              "      <td>NaN</td>\n",
              "      <td>NaN</td>\n",
              "      <td>NaN</td>\n",
              "      <td>NaN</td>\n",
              "      <td>NaN</td>\n",
              "      <td>NaN</td>\n",
              "      <td>2.0</td>\n",
              "    </tr>\n",
              "    <tr>\n",
              "      <th>2404</th>\n",
              "      <td>5c9248a723798d040d0280e8</td>\n",
              "      <td>NaN</td>\n",
              "      <td>NaN</td>\n",
              "      <td>NaN</td>\n",
              "      <td>NaN</td>\n",
              "      <td>NaN</td>\n",
              "      <td>NaN</td>\n",
              "      <td>NaN</td>\n",
              "      <td>3.0</td>\n",
              "    </tr>\n",
              "    <tr>\n",
              "      <th>2405</th>\n",
              "      <td>5c9248af23798d040d0280e9</td>\n",
              "      <td>NaN</td>\n",
              "      <td>NaN</td>\n",
              "      <td>NaN</td>\n",
              "      <td>NaN</td>\n",
              "      <td>NaN</td>\n",
              "      <td>NaN</td>\n",
              "      <td>NaN</td>\n",
              "      <td>5.0</td>\n",
              "    </tr>\n",
              "    <tr>\n",
              "      <th>2406</th>\n",
              "      <td>5c9248bb23798d040d0280eb</td>\n",
              "      <td>NaN</td>\n",
              "      <td>NaN</td>\n",
              "      <td>NaN</td>\n",
              "      <td>NaN</td>\n",
              "      <td>NaN</td>\n",
              "      <td>NaN</td>\n",
              "      <td>NaN</td>\n",
              "      <td>2.0</td>\n",
              "    </tr>\n",
              "    <tr>\n",
              "      <th>2407</th>\n",
              "      <td>5c9248c023798d040d0280ec</td>\n",
              "      <td>NaN</td>\n",
              "      <td>NaN</td>\n",
              "      <td>NaN</td>\n",
              "      <td>NaN</td>\n",
              "      <td>NaN</td>\n",
              "      <td>NaN</td>\n",
              "      <td>NaN</td>\n",
              "      <td>7.0</td>\n",
              "    </tr>\n",
              "    <tr>\n",
              "      <th>2408</th>\n",
              "      <td>5c9248c423798d040d0280ef</td>\n",
              "      <td>NaN</td>\n",
              "      <td>NaN</td>\n",
              "      <td>NaN</td>\n",
              "      <td>NaN</td>\n",
              "      <td>NaN</td>\n",
              "      <td>NaN</td>\n",
              "      <td>NaN</td>\n",
              "      <td>29.0</td>\n",
              "    </tr>\n",
              "    <tr>\n",
              "      <th>2409</th>\n",
              "      <td>5c9248c623798d040d0280f0</td>\n",
              "      <td>NaN</td>\n",
              "      <td>NaN</td>\n",
              "      <td>NaN</td>\n",
              "      <td>NaN</td>\n",
              "      <td>NaN</td>\n",
              "      <td>NaN</td>\n",
              "      <td>NaN</td>\n",
              "      <td>1.0</td>\n",
              "    </tr>\n",
              "    <tr>\n",
              "      <th>2410</th>\n",
              "      <td>5c9248df23798d040d0280f1</td>\n",
              "      <td>NaN</td>\n",
              "      <td>NaN</td>\n",
              "      <td>NaN</td>\n",
              "      <td>NaN</td>\n",
              "      <td>NaN</td>\n",
              "      <td>NaN</td>\n",
              "      <td>NaN</td>\n",
              "      <td>1.0</td>\n",
              "    </tr>\n",
              "    <tr>\n",
              "      <th>2411</th>\n",
              "      <td>5c9248df23798d040d0280f2</td>\n",
              "      <td>NaN</td>\n",
              "      <td>NaN</td>\n",
              "      <td>NaN</td>\n",
              "      <td>NaN</td>\n",
              "      <td>NaN</td>\n",
              "      <td>NaN</td>\n",
              "      <td>NaN</td>\n",
              "      <td>6.0</td>\n",
              "    </tr>\n",
              "    <tr>\n",
              "      <th>2412</th>\n",
              "      <td>5c92492123798d040d0280f3</td>\n",
              "      <td>NaN</td>\n",
              "      <td>NaN</td>\n",
              "      <td>NaN</td>\n",
              "      <td>NaN</td>\n",
              "      <td>NaN</td>\n",
              "      <td>NaN</td>\n",
              "      <td>NaN</td>\n",
              "      <td>4.0</td>\n",
              "    </tr>\n",
              "    <tr>\n",
              "      <th>2413</th>\n",
              "      <td>5c92492523798d040d0280f4</td>\n",
              "      <td>NaN</td>\n",
              "      <td>NaN</td>\n",
              "      <td>NaN</td>\n",
              "      <td>NaN</td>\n",
              "      <td>NaN</td>\n",
              "      <td>NaN</td>\n",
              "      <td>NaN</td>\n",
              "      <td>5.0</td>\n",
              "    </tr>\n",
              "    <tr>\n",
              "      <th>2414</th>\n",
              "      <td>5c92502e23798d040d0280f7</td>\n",
              "      <td>NaN</td>\n",
              "      <td>NaN</td>\n",
              "      <td>NaN</td>\n",
              "      <td>NaN</td>\n",
              "      <td>NaN</td>\n",
              "      <td>NaN</td>\n",
              "      <td>NaN</td>\n",
              "      <td>11.0</td>\n",
              "    </tr>\n",
              "    <tr>\n",
              "      <th>2415</th>\n",
              "      <td>5c938f5023798d040d0282c2</td>\n",
              "      <td>NaN</td>\n",
              "      <td>NaN</td>\n",
              "      <td>NaN</td>\n",
              "      <td>NaN</td>\n",
              "      <td>NaN</td>\n",
              "      <td>NaN</td>\n",
              "      <td>NaN</td>\n",
              "      <td>7.0</td>\n",
              "    </tr>\n",
              "    <tr>\n",
              "      <th>2416</th>\n",
              "      <td>5c9a15e15fdecb040bb82ec2</td>\n",
              "      <td>NaN</td>\n",
              "      <td>NaN</td>\n",
              "      <td>NaN</td>\n",
              "      <td>NaN</td>\n",
              "      <td>NaN</td>\n",
              "      <td>NaN</td>\n",
              "      <td>NaN</td>\n",
              "      <td>5.0</td>\n",
              "    </tr>\n",
              "    <tr>\n",
              "      <th>2417</th>\n",
              "      <td>5c9a162e5fdecb040bb82ec3</td>\n",
              "      <td>NaN</td>\n",
              "      <td>NaN</td>\n",
              "      <td>NaN</td>\n",
              "      <td>NaN</td>\n",
              "      <td>NaN</td>\n",
              "      <td>NaN</td>\n",
              "      <td>NaN</td>\n",
              "      <td>5.0</td>\n",
              "    </tr>\n",
              "    <tr>\n",
              "      <th>2418</th>\n",
              "      <td>5c9a2e3c5fdecb040bb8313c</td>\n",
              "      <td>NaN</td>\n",
              "      <td>NaN</td>\n",
              "      <td>NaN</td>\n",
              "      <td>NaN</td>\n",
              "      <td>NaN</td>\n",
              "      <td>NaN</td>\n",
              "      <td>NaN</td>\n",
              "      <td>20.0</td>\n",
              "    </tr>\n",
              "    <tr>\n",
              "      <th>2419</th>\n",
              "      <td>5c9a35255fdecb040bb831d4</td>\n",
              "      <td>NaN</td>\n",
              "      <td>NaN</td>\n",
              "      <td>NaN</td>\n",
              "      <td>NaN</td>\n",
              "      <td>NaN</td>\n",
              "      <td>NaN</td>\n",
              "      <td>NaN</td>\n",
              "      <td>7.0</td>\n",
              "    </tr>\n",
              "    <tr>\n",
              "      <th>2420</th>\n",
              "      <td>5c9b893d5fdecb040bb8360b</td>\n",
              "      <td>NaN</td>\n",
              "      <td>NaN</td>\n",
              "      <td>NaN</td>\n",
              "      <td>NaN</td>\n",
              "      <td>NaN</td>\n",
              "      <td>NaN</td>\n",
              "      <td>NaN</td>\n",
              "      <td>5.0</td>\n",
              "    </tr>\n",
              "    <tr>\n",
              "      <th>2421</th>\n",
              "      <td>5c9b8cdd5fdecb040bb8362b</td>\n",
              "      <td>NaN</td>\n",
              "      <td>NaN</td>\n",
              "      <td>NaN</td>\n",
              "      <td>NaN</td>\n",
              "      <td>NaN</td>\n",
              "      <td>NaN</td>\n",
              "      <td>NaN</td>\n",
              "      <td>4.0</td>\n",
              "    </tr>\n",
              "    <tr>\n",
              "      <th>2422</th>\n",
              "      <td>5c9ba4a55fdecb040bb8369d</td>\n",
              "      <td>NaN</td>\n",
              "      <td>NaN</td>\n",
              "      <td>NaN</td>\n",
              "      <td>NaN</td>\n",
              "      <td>NaN</td>\n",
              "      <td>NaN</td>\n",
              "      <td>NaN</td>\n",
              "      <td>13.0</td>\n",
              "    </tr>\n",
              "    <tr>\n",
              "      <th>2423</th>\n",
              "      <td>5c9c18e35fdecb040bb83861</td>\n",
              "      <td>NaN</td>\n",
              "      <td>NaN</td>\n",
              "      <td>NaN</td>\n",
              "      <td>NaN</td>\n",
              "      <td>NaN</td>\n",
              "      <td>NaN</td>\n",
              "      <td>NaN</td>\n",
              "      <td>1.0</td>\n",
              "    </tr>\n",
              "    <tr>\n",
              "      <th>2424</th>\n",
              "      <td>5c9cc3645fdecb040bb8399d</td>\n",
              "      <td>NaN</td>\n",
              "      <td>NaN</td>\n",
              "      <td>NaN</td>\n",
              "      <td>NaN</td>\n",
              "      <td>NaN</td>\n",
              "      <td>NaN</td>\n",
              "      <td>NaN</td>\n",
              "      <td>8.0</td>\n",
              "    </tr>\n",
              "    <tr>\n",
              "      <th>2425</th>\n",
              "      <td>5c9cc4945fdecb040bb839a5</td>\n",
              "      <td>NaN</td>\n",
              "      <td>NaN</td>\n",
              "      <td>NaN</td>\n",
              "      <td>NaN</td>\n",
              "      <td>NaN</td>\n",
              "      <td>NaN</td>\n",
              "      <td>NaN</td>\n",
              "      <td>9.0</td>\n",
              "    </tr>\n",
              "    <tr>\n",
              "      <th>2426</th>\n",
              "      <td>5caa775c5fdecb040bb86134</td>\n",
              "      <td>NaN</td>\n",
              "      <td>NaN</td>\n",
              "      <td>NaN</td>\n",
              "      <td>NaN</td>\n",
              "      <td>NaN</td>\n",
              "      <td>NaN</td>\n",
              "      <td>NaN</td>\n",
              "      <td>10.0</td>\n",
              "    </tr>\n",
              "    <tr>\n",
              "      <th>2427</th>\n",
              "      <td>5cad56e65fdecb040bb86c72</td>\n",
              "      <td>NaN</td>\n",
              "      <td>NaN</td>\n",
              "      <td>NaN</td>\n",
              "      <td>NaN</td>\n",
              "      <td>NaN</td>\n",
              "      <td>NaN</td>\n",
              "      <td>NaN</td>\n",
              "      <td>7.0</td>\n",
              "    </tr>\n",
              "    <tr>\n",
              "      <th>2428</th>\n",
              "      <td>5cae332e5fdecb040bb8711a</td>\n",
              "      <td>NaN</td>\n",
              "      <td>NaN</td>\n",
              "      <td>NaN</td>\n",
              "      <td>NaN</td>\n",
              "      <td>NaN</td>\n",
              "      <td>NaN</td>\n",
              "      <td>NaN</td>\n",
              "      <td>2.0</td>\n",
              "    </tr>\n",
              "  </tbody>\n",
              "</table>\n",
              "<p>2429 rows × 9 columns</p>\n",
              "</div>"
            ],
            "text/plain": [
              "                       idAluno  qsemana1  ...  qsemana7  qsemana8\n",
              "0     5991cb910be9d42f2f68b906       NaN  ...       NaN       NaN\n",
              "1     5991cd1a8907ca2f441cd313       NaN  ...       NaN       NaN\n",
              "2     5991cd34b3c8b42f3d5da3fd       NaN  ...       NaN       NaN\n",
              "3     5991cd37b3c8b42f3d5da3fe       NaN  ...       NaN       NaN\n",
              "4     5991cd39b3c8b42f3d5da3ff       NaN  ...       NaN       NaN\n",
              "5     5991cd3ab3c8b42f3d5da400       NaN  ...       NaN       NaN\n",
              "6     5991cd3c3c13e92f349ee47a       NaN  ...       NaN       NaN\n",
              "7     5991cd3e8907ca2f441cd314       NaN  ...       NaN       NaN\n",
              "8     5991cd45b3c8b42f3d5da401       NaN  ...       NaN       NaN\n",
              "9     5991cd483c13e92f349ee47b       NaN  ...       NaN       NaN\n",
              "10    5991cd490be9d42f2f68b907       NaN  ...       NaN       NaN\n",
              "11    5991cd520be9d42f2f68b908       NaN  ...       NaN       NaN\n",
              "12    5991cd580be9d42f2f68b909       NaN  ...       NaN       NaN\n",
              "13    5991cd63b3c8b42f3d5da402       NaN  ...       NaN       NaN\n",
              "14    5991cd640be9d42f2f68b90a       NaN  ...       NaN       NaN\n",
              "15    5991cd65b3c8b42f3d5da403       NaN  ...       NaN       NaN\n",
              "16    5991cd673c13e92f349ee47c       NaN  ...       NaN       NaN\n",
              "17    5991cd688907ca2f441cd315       NaN  ...       NaN       NaN\n",
              "18    5991cd6e3c13e92f349ee47d       NaN  ...       NaN       NaN\n",
              "19    5991cd700be9d42f2f68b90b       NaN  ...       NaN       NaN\n",
              "20    5991cd76b3c8b42f3d5da404       NaN  ...       NaN       NaN\n",
              "21    5991cd793c13e92f349ee481       NaN  ...       NaN       NaN\n",
              "22    5991cd870be9d42f2f68b90c       NaN  ...       NaN       NaN\n",
              "23    5991cd8bb3c8b42f3d5da405       NaN  ...       NaN       NaN\n",
              "24    5991cd8e8907ca2f441cd316       NaN  ...       NaN       NaN\n",
              "25    5991cd8fb3c8b42f3d5da406       NaN  ...       NaN       NaN\n",
              "26    5991cd94b3c8b42f3d5da407       NaN  ...       NaN       NaN\n",
              "27    5991cd963c13e92f349ee482       NaN  ...       NaN       NaN\n",
              "28    5991cda50be9d42f2f68b90d       NaN  ...       NaN       NaN\n",
              "29    5991cdadb3c8b42f3d5da40b       NaN  ...       NaN       NaN\n",
              "...                        ...       ...  ...       ...       ...\n",
              "2399  5c92487f23798d040d0280e2       NaN  ...       NaN       1.0\n",
              "2400  5c92488223798d040d0280e3       NaN  ...       NaN       2.0\n",
              "2401  5c92488c23798d040d0280e4       NaN  ...       NaN       3.0\n",
              "2402  5c92488f23798d040d0280e5       NaN  ...       NaN       3.0\n",
              "2403  5c92489823798d040d0280e6       NaN  ...       NaN       2.0\n",
              "2404  5c9248a723798d040d0280e8       NaN  ...       NaN       3.0\n",
              "2405  5c9248af23798d040d0280e9       NaN  ...       NaN       5.0\n",
              "2406  5c9248bb23798d040d0280eb       NaN  ...       NaN       2.0\n",
              "2407  5c9248c023798d040d0280ec       NaN  ...       NaN       7.0\n",
              "2408  5c9248c423798d040d0280ef       NaN  ...       NaN      29.0\n",
              "2409  5c9248c623798d040d0280f0       NaN  ...       NaN       1.0\n",
              "2410  5c9248df23798d040d0280f1       NaN  ...       NaN       1.0\n",
              "2411  5c9248df23798d040d0280f2       NaN  ...       NaN       6.0\n",
              "2412  5c92492123798d040d0280f3       NaN  ...       NaN       4.0\n",
              "2413  5c92492523798d040d0280f4       NaN  ...       NaN       5.0\n",
              "2414  5c92502e23798d040d0280f7       NaN  ...       NaN      11.0\n",
              "2415  5c938f5023798d040d0282c2       NaN  ...       NaN       7.0\n",
              "2416  5c9a15e15fdecb040bb82ec2       NaN  ...       NaN       5.0\n",
              "2417  5c9a162e5fdecb040bb82ec3       NaN  ...       NaN       5.0\n",
              "2418  5c9a2e3c5fdecb040bb8313c       NaN  ...       NaN      20.0\n",
              "2419  5c9a35255fdecb040bb831d4       NaN  ...       NaN       7.0\n",
              "2420  5c9b893d5fdecb040bb8360b       NaN  ...       NaN       5.0\n",
              "2421  5c9b8cdd5fdecb040bb8362b       NaN  ...       NaN       4.0\n",
              "2422  5c9ba4a55fdecb040bb8369d       NaN  ...       NaN      13.0\n",
              "2423  5c9c18e35fdecb040bb83861       NaN  ...       NaN       1.0\n",
              "2424  5c9cc3645fdecb040bb8399d       NaN  ...       NaN       8.0\n",
              "2425  5c9cc4945fdecb040bb839a5       NaN  ...       NaN       9.0\n",
              "2426  5caa775c5fdecb040bb86134       NaN  ...       NaN      10.0\n",
              "2427  5cad56e65fdecb040bb86c72       NaN  ...       NaN       7.0\n",
              "2428  5cae332e5fdecb040bb8711a       NaN  ...       NaN       2.0\n",
              "\n",
              "[2429 rows x 9 columns]"
            ]
          },
          "metadata": {
            "tags": []
          },
          "execution_count": 49
        }
      ]
    },
    {
      "cell_type": "markdown",
      "metadata": {
        "id": "X4_iklDSIEEO",
        "colab_type": "text"
      },
      "source": [
        "Limpando dados, depois agrupando para formar toda a tabela"
      ]
    },
    {
      "cell_type": "code",
      "metadata": {
        "id": "pvtRH4qCCLcw",
        "colab_type": "code",
        "colab": {
          "base_uri": "https://localhost:8080/",
          "height": 235
        },
        "outputId": "ef21f5ab-4d88-4dde-e51f-73da7072c4f8"
      },
      "source": [
        "prov1.replace(np.nan, 0, inplace=True)\n",
        "prov2.replace(np.nan, 0, inplace=True)\n",
        "prov3.replace(np.nan, 0, inplace=True)\n",
        "prov1 = prov1.groupby([\"idAluno\"]).sum()\n",
        "prov2 = prov2.groupby([\"idAluno\"]).sum()\n",
        "prov3 = prov3.groupby([\"idAluno\"]).sum()\n",
        "prov3.head()"
      ],
      "execution_count": 50,
      "outputs": [
        {
          "output_type": "execute_result",
          "data": {
            "text/html": [
              "<div>\n",
              "<style scoped>\n",
              "    .dataframe tbody tr th:only-of-type {\n",
              "        vertical-align: middle;\n",
              "    }\n",
              "\n",
              "    .dataframe tbody tr th {\n",
              "        vertical-align: top;\n",
              "    }\n",
              "\n",
              "    .dataframe thead th {\n",
              "        text-align: right;\n",
              "    }\n",
              "</style>\n",
              "<table border=\"1\" class=\"dataframe\">\n",
              "  <thead>\n",
              "    <tr style=\"text-align: right;\">\n",
              "      <th></th>\n",
              "      <th>madrugada</th>\n",
              "      <th>manha</th>\n",
              "      <th>tarde</th>\n",
              "      <th>noite</th>\n",
              "    </tr>\n",
              "    <tr>\n",
              "      <th>idAluno</th>\n",
              "      <th></th>\n",
              "      <th></th>\n",
              "      <th></th>\n",
              "      <th></th>\n",
              "    </tr>\n",
              "  </thead>\n",
              "  <tbody>\n",
              "    <tr>\n",
              "      <th>5991cb910be9d42f2f68b906</th>\n",
              "      <td>12.0</td>\n",
              "      <td>0.0</td>\n",
              "      <td>15.0</td>\n",
              "      <td>5.0</td>\n",
              "    </tr>\n",
              "    <tr>\n",
              "      <th>5991cd1a8907ca2f441cd313</th>\n",
              "      <td>0.0</td>\n",
              "      <td>0.0</td>\n",
              "      <td>14.0</td>\n",
              "      <td>0.0</td>\n",
              "    </tr>\n",
              "    <tr>\n",
              "      <th>5991cd34b3c8b42f3d5da3fd</th>\n",
              "      <td>0.0</td>\n",
              "      <td>0.0</td>\n",
              "      <td>17.0</td>\n",
              "      <td>2.0</td>\n",
              "    </tr>\n",
              "    <tr>\n",
              "      <th>5991cd37b3c8b42f3d5da3fe</th>\n",
              "      <td>1.0</td>\n",
              "      <td>0.0</td>\n",
              "      <td>12.0</td>\n",
              "      <td>1.0</td>\n",
              "    </tr>\n",
              "    <tr>\n",
              "      <th>5991cd39b3c8b42f3d5da3ff</th>\n",
              "      <td>0.0</td>\n",
              "      <td>0.0</td>\n",
              "      <td>12.0</td>\n",
              "      <td>2.0</td>\n",
              "    </tr>\n",
              "  </tbody>\n",
              "</table>\n",
              "</div>"
            ],
            "text/plain": [
              "                          madrugada  manha  tarde  noite\n",
              "idAluno                                                 \n",
              "5991cb910be9d42f2f68b906       12.0    0.0   15.0    5.0\n",
              "5991cd1a8907ca2f441cd313        0.0    0.0   14.0    0.0\n",
              "5991cd34b3c8b42f3d5da3fd        0.0    0.0   17.0    2.0\n",
              "5991cd37b3c8b42f3d5da3fe        1.0    0.0   12.0    1.0\n",
              "5991cd39b3c8b42f3d5da3ff        0.0    0.0   12.0    2.0"
            ]
          },
          "metadata": {
            "tags": []
          },
          "execution_count": 50
        }
      ]
    },
    {
      "cell_type": "markdown",
      "metadata": {
        "id": "sOvWdB7nTHvY",
        "colab_type": "text"
      },
      "source": [
        "Juntando a tabela de notas com as 3 novas tabelas"
      ]
    },
    {
      "cell_type": "code",
      "metadata": {
        "id": "qQfubGP4RxYL",
        "colab_type": "code",
        "colab": {
          "base_uri": "https://localhost:8080/",
          "height": 394
        },
        "outputId": "ed851754-0373-4869-ad8b-a7997210e2cf"
      },
      "source": [
        "table=pd.merge(pd.merge(nota,prov1,on=\"idAluno\"),pd.merge(prov2,prov3,on=\"idAluno\"),on=\"idAluno\")\n",
        "table.head()"
      ],
      "execution_count": 96,
      "outputs": [
        {
          "output_type": "execute_result",
          "data": {
            "text/html": [
              "<div>\n",
              "<style scoped>\n",
              "    .dataframe tbody tr th:only-of-type {\n",
              "        vertical-align: middle;\n",
              "    }\n",
              "\n",
              "    .dataframe tbody tr th {\n",
              "        vertical-align: top;\n",
              "    }\n",
              "\n",
              "    .dataframe thead th {\n",
              "        text-align: right;\n",
              "    }\n",
              "</style>\n",
              "<table border=\"1\" class=\"dataframe\">\n",
              "  <thead>\n",
              "    <tr style=\"text-align: right;\">\n",
              "      <th></th>\n",
              "      <th>idTurma</th>\n",
              "      <th>matricula</th>\n",
              "      <th>ano</th>\n",
              "      <th>idAluno</th>\n",
              "      <th>notaProva1</th>\n",
              "      <th>questoesFeitasProva1</th>\n",
              "      <th>quantidadeProva1</th>\n",
              "      <th>tituloProva1</th>\n",
              "      <th>notaProva2</th>\n",
              "      <th>questoesFeitasProva2</th>\n",
              "      <th>quantidadeProva2</th>\n",
              "      <th>tituloProva2</th>\n",
              "      <th>mediaProvas</th>\n",
              "      <th>situacao</th>\n",
              "      <th>qsub1</th>\n",
              "      <th>qsub2</th>\n",
              "      <th>qsub3</th>\n",
              "      <th>qsub4</th>\n",
              "      <th>qsub5</th>\n",
              "      <th>qsubp1</th>\n",
              "      <th>qsubp2</th>\n",
              "      <th>totalsub</th>\n",
              "      <th>igualACeml123</th>\n",
              "      <th>igualACeml45</th>\n",
              "      <th>qsemana1</th>\n",
              "      <th>qsemana2</th>\n",
              "      <th>qsemana3</th>\n",
              "      <th>qsemana4</th>\n",
              "      <th>qsemana5</th>\n",
              "      <th>qsemana6</th>\n",
              "      <th>qsemana7</th>\n",
              "      <th>qsemana8</th>\n",
              "      <th>submeteu1</th>\n",
              "      <th>submeteu2</th>\n",
              "      <th>submeteu3</th>\n",
              "      <th>submeteu4</th>\n",
              "      <th>submeteu5</th>\n",
              "      <th>submeteu6</th>\n",
              "      <th>submeteu7</th>\n",
              "      <th>submeteu8</th>\n",
              "      <th>madrugada</th>\n",
              "      <th>manha</th>\n",
              "      <th>tarde</th>\n",
              "      <th>noite</th>\n",
              "    </tr>\n",
              "  </thead>\n",
              "  <tbody>\n",
              "    <tr>\n",
              "      <th>0</th>\n",
              "      <td>598e15296d8650eb27d52e3d</td>\n",
              "      <td>2.017010e+10</td>\n",
              "      <td>2017.2</td>\n",
              "      <td>5991cd63b3c8b42f3d5da402</td>\n",
              "      <td>24.0</td>\n",
              "      <td>3.0</td>\n",
              "      <td>5.0</td>\n",
              "      <td>Prova 1 - Turma 01 - 2017.2</td>\n",
              "      <td>61.000000</td>\n",
              "      <td>4.0</td>\n",
              "      <td>6.0</td>\n",
              "      <td>Prova 2 - Turma 01 - 2017.2</td>\n",
              "      <td>42.500000</td>\n",
              "      <td>0</td>\n",
              "      <td>18</td>\n",
              "      <td>15</td>\n",
              "      <td>13</td>\n",
              "      <td>27</td>\n",
              "      <td>7</td>\n",
              "      <td>46</td>\n",
              "      <td>34</td>\n",
              "      <td>80</td>\n",
              "      <td>29</td>\n",
              "      <td>32</td>\n",
              "      <td>0.0</td>\n",
              "      <td>0.0</td>\n",
              "      <td>18.0</td>\n",
              "      <td>0.0</td>\n",
              "      <td>9.0</td>\n",
              "      <td>0.0</td>\n",
              "      <td>23.0</td>\n",
              "      <td>0.0</td>\n",
              "      <td>0.0</td>\n",
              "      <td>0.0</td>\n",
              "      <td>1.0</td>\n",
              "      <td>0.0</td>\n",
              "      <td>1.0</td>\n",
              "      <td>0.0</td>\n",
              "      <td>2.0</td>\n",
              "      <td>0.0</td>\n",
              "      <td>1.0</td>\n",
              "      <td>0.0</td>\n",
              "      <td>32.0</td>\n",
              "      <td>17.0</td>\n",
              "    </tr>\n",
              "    <tr>\n",
              "      <th>1</th>\n",
              "      <td>598e15296d8650eb27d52e3d</td>\n",
              "      <td>2.017004e+10</td>\n",
              "      <td>2017.2</td>\n",
              "      <td>5991cb910be9d42f2f68b906</td>\n",
              "      <td>72.0</td>\n",
              "      <td>5.0</td>\n",
              "      <td>5.0</td>\n",
              "      <td>Prova 1 - Turma 01 - 2017.2</td>\n",
              "      <td>16.666667</td>\n",
              "      <td>1.0</td>\n",
              "      <td>6.0</td>\n",
              "      <td>Prova 2 - Turma 01 - 2017.2</td>\n",
              "      <td>44.333333</td>\n",
              "      <td>0</td>\n",
              "      <td>7</td>\n",
              "      <td>14</td>\n",
              "      <td>10</td>\n",
              "      <td>13</td>\n",
              "      <td>16</td>\n",
              "      <td>31</td>\n",
              "      <td>29</td>\n",
              "      <td>60</td>\n",
              "      <td>31</td>\n",
              "      <td>29</td>\n",
              "      <td>0.0</td>\n",
              "      <td>0.0</td>\n",
              "      <td>4.0</td>\n",
              "      <td>11.0</td>\n",
              "      <td>4.0</td>\n",
              "      <td>0.0</td>\n",
              "      <td>10.0</td>\n",
              "      <td>3.0</td>\n",
              "      <td>0.0</td>\n",
              "      <td>0.0</td>\n",
              "      <td>2.0</td>\n",
              "      <td>1.0</td>\n",
              "      <td>1.0</td>\n",
              "      <td>0.0</td>\n",
              "      <td>2.0</td>\n",
              "      <td>2.0</td>\n",
              "      <td>12.0</td>\n",
              "      <td>0.0</td>\n",
              "      <td>15.0</td>\n",
              "      <td>5.0</td>\n",
              "    </tr>\n",
              "    <tr>\n",
              "      <th>2</th>\n",
              "      <td>598e15296d8650eb27d52e3d</td>\n",
              "      <td>2.017004e+10</td>\n",
              "      <td>2017.2</td>\n",
              "      <td>599b050710b11c07650122e7</td>\n",
              "      <td>36.0</td>\n",
              "      <td>4.0</td>\n",
              "      <td>5.0</td>\n",
              "      <td>Prova 1 - Turma 01 - 2017.2</td>\n",
              "      <td>0.000000</td>\n",
              "      <td>0.0</td>\n",
              "      <td>0.0</td>\n",
              "      <td>0</td>\n",
              "      <td>18.000000</td>\n",
              "      <td>0</td>\n",
              "      <td>1</td>\n",
              "      <td>5</td>\n",
              "      <td>3</td>\n",
              "      <td>4</td>\n",
              "      <td>6</td>\n",
              "      <td>9</td>\n",
              "      <td>10</td>\n",
              "      <td>19</td>\n",
              "      <td>9</td>\n",
              "      <td>10</td>\n",
              "      <td>0.0</td>\n",
              "      <td>0.0</td>\n",
              "      <td>0.0</td>\n",
              "      <td>0.0</td>\n",
              "      <td>0.0</td>\n",
              "      <td>2.0</td>\n",
              "      <td>3.0</td>\n",
              "      <td>0.0</td>\n",
              "      <td>0.0</td>\n",
              "      <td>0.0</td>\n",
              "      <td>0.0</td>\n",
              "      <td>0.0</td>\n",
              "      <td>0.0</td>\n",
              "      <td>1.0</td>\n",
              "      <td>1.0</td>\n",
              "      <td>0.0</td>\n",
              "      <td>0.0</td>\n",
              "      <td>0.0</td>\n",
              "      <td>2.0</td>\n",
              "      <td>3.0</td>\n",
              "    </tr>\n",
              "    <tr>\n",
              "      <th>3</th>\n",
              "      <td>598e15296d8650eb27d52e3d</td>\n",
              "      <td>2.017003e+10</td>\n",
              "      <td>2017.2</td>\n",
              "      <td>599b0509872c0a078b68b140</td>\n",
              "      <td>4.0</td>\n",
              "      <td>4.0</td>\n",
              "      <td>5.0</td>\n",
              "      <td>Prova 1 - Turma 01 - 2017.2</td>\n",
              "      <td>38.833333</td>\n",
              "      <td>4.0</td>\n",
              "      <td>6.0</td>\n",
              "      <td>Prova 2 - Turma 01 - 2017.2</td>\n",
              "      <td>21.416667</td>\n",
              "      <td>0</td>\n",
              "      <td>2</td>\n",
              "      <td>6</td>\n",
              "      <td>8</td>\n",
              "      <td>7</td>\n",
              "      <td>3</td>\n",
              "      <td>16</td>\n",
              "      <td>10</td>\n",
              "      <td>26</td>\n",
              "      <td>15</td>\n",
              "      <td>10</td>\n",
              "      <td>0.0</td>\n",
              "      <td>0.0</td>\n",
              "      <td>0.0</td>\n",
              "      <td>6.0</td>\n",
              "      <td>0.0</td>\n",
              "      <td>6.0</td>\n",
              "      <td>1.0</td>\n",
              "      <td>4.0</td>\n",
              "      <td>0.0</td>\n",
              "      <td>0.0</td>\n",
              "      <td>0.0</td>\n",
              "      <td>1.0</td>\n",
              "      <td>0.0</td>\n",
              "      <td>1.0</td>\n",
              "      <td>1.0</td>\n",
              "      <td>2.0</td>\n",
              "      <td>0.0</td>\n",
              "      <td>0.0</td>\n",
              "      <td>17.0</td>\n",
              "      <td>0.0</td>\n",
              "    </tr>\n",
              "    <tr>\n",
              "      <th>4</th>\n",
              "      <td>598e15296d8650eb27d52e3d</td>\n",
              "      <td>2.017011e+10</td>\n",
              "      <td>2017.2</td>\n",
              "      <td>599b0513495fac076a06d3f4</td>\n",
              "      <td>16.0</td>\n",
              "      <td>5.0</td>\n",
              "      <td>5.0</td>\n",
              "      <td>Prova 1 - Turma 01 - 2017.2</td>\n",
              "      <td>77.666667</td>\n",
              "      <td>6.0</td>\n",
              "      <td>6.0</td>\n",
              "      <td>Prova 2 - Turma 01 - 2017.2</td>\n",
              "      <td>46.833333</td>\n",
              "      <td>0</td>\n",
              "      <td>1</td>\n",
              "      <td>12</td>\n",
              "      <td>7</td>\n",
              "      <td>7</td>\n",
              "      <td>11</td>\n",
              "      <td>20</td>\n",
              "      <td>18</td>\n",
              "      <td>38</td>\n",
              "      <td>18</td>\n",
              "      <td>18</td>\n",
              "      <td>0.0</td>\n",
              "      <td>0.0</td>\n",
              "      <td>0.0</td>\n",
              "      <td>6.0</td>\n",
              "      <td>0.0</td>\n",
              "      <td>6.0</td>\n",
              "      <td>5.0</td>\n",
              "      <td>2.0</td>\n",
              "      <td>0.0</td>\n",
              "      <td>0.0</td>\n",
              "      <td>0.0</td>\n",
              "      <td>1.0</td>\n",
              "      <td>0.0</td>\n",
              "      <td>1.0</td>\n",
              "      <td>1.0</td>\n",
              "      <td>2.0</td>\n",
              "      <td>1.0</td>\n",
              "      <td>0.0</td>\n",
              "      <td>15.0</td>\n",
              "      <td>3.0</td>\n",
              "    </tr>\n",
              "  </tbody>\n",
              "</table>\n",
              "</div>"
            ],
            "text/plain": [
              "                    idTurma     matricula     ano  ... manha  tarde  noite\n",
              "0  598e15296d8650eb27d52e3d  2.017010e+10  2017.2  ...   0.0   32.0   17.0\n",
              "1  598e15296d8650eb27d52e3d  2.017004e+10  2017.2  ...   0.0   15.0    5.0\n",
              "2  598e15296d8650eb27d52e3d  2.017004e+10  2017.2  ...   0.0    2.0    3.0\n",
              "3  598e15296d8650eb27d52e3d  2.017003e+10  2017.2  ...   0.0   17.0    0.0\n",
              "4  598e15296d8650eb27d52e3d  2.017011e+10  2017.2  ...   0.0   15.0    3.0\n",
              "\n",
              "[5 rows x 44 columns]"
            ]
          },
          "metadata": {
            "tags": []
          },
          "execution_count": 96
        }
      ]
    },
    {
      "cell_type": "markdown",
      "metadata": {
        "id": "6EbSIWLwKT8f",
        "colab_type": "text"
      },
      "source": [
        "Gerando .csv"
      ]
    },
    {
      "cell_type": "code",
      "metadata": {
        "id": "des5ZezFKTkE",
        "colab_type": "code",
        "colab": {}
      },
      "source": [
        "table.to_csv(r\"lopNotaProvaSubmissoesAoLongode2semanas.csv\")"
      ],
      "execution_count": 0,
      "outputs": []
    },
    {
      "cell_type": "markdown",
      "metadata": {
        "id": "KXIc-ujTFkjI",
        "colab_type": "text"
      },
      "source": [
        "# Legenda de dados\n",
        "\n",
        "\n",
        "\n",
        "*   submeteuN == quantidade de dias em que teve submissões por semana\n",
        "*   qsemanaN  == quantidade de submissões por semana\n",
        "\n",
        "\n",
        "\n",
        "\n",
        "\n"
      ]
    },
    {
      "cell_type": "markdown",
      "metadata": {
        "id": "bnO9gLVoISAG",
        "colab_type": "text"
      },
      "source": [
        "# Naive Bayes, Regressão Linear e KNN com todos os dados"
      ]
    },
    {
      "cell_type": "markdown",
      "metadata": {
        "id": "kLEyGXvzIpFl",
        "colab_type": "text"
      },
      "source": [
        "Documentação do algoritmo de Naive Bayes https://www.dataquest.io/blog/sci-kit-learn-tutorial/"
      ]
    },
    {
      "cell_type": "markdown",
      "metadata": {
        "id": "QY0SQ40tzrHk",
        "colab_type": "text"
      },
      "source": [
        "Esse primeiro experimento conta com os dados de submissão por semana, o número de dias diferentes que ele submeteu e a quantidade de submissão por turno"
      ]
    },
    {
      "cell_type": "code",
      "metadata": {
        "id": "V3f6OQeYNHDz",
        "colab_type": "code",
        "colab": {
          "base_uri": "https://localhost:8080/",
          "height": 100
        },
        "outputId": "5946f326-4713-4b65-a116-dd2e94ef3944"
      },
      "source": [
        "datasetBayes=table\n",
        "datasetBayes=datasetBayes.drop(columns=[\"tituloProva2\",\"tituloProva1\",\"idAluno\",\"ano\",\"matricula\",\"idTurma\",\"igualACeml45\",\"igualACeml123\",\"qsub4\",\"totalsub\",\"qsubp2\",\"qsubp1\",\"qsub5\",\"qsub3\",\"qsub2\",\"qsub1\",\"mediaProvas\",\"quantidadeProva2\",\"questoesFeitasProva2\",\"notaProva2\",\"quantidadeProva1\",\"questoesFeitasProva1\",\"notaProva1\"])\n",
        "datasetBayes.head(1)"
      ],
      "execution_count": 56,
      "outputs": [
        {
          "output_type": "execute_result",
          "data": {
            "text/html": [
              "<div>\n",
              "<style scoped>\n",
              "    .dataframe tbody tr th:only-of-type {\n",
              "        vertical-align: middle;\n",
              "    }\n",
              "\n",
              "    .dataframe tbody tr th {\n",
              "        vertical-align: top;\n",
              "    }\n",
              "\n",
              "    .dataframe thead th {\n",
              "        text-align: right;\n",
              "    }\n",
              "</style>\n",
              "<table border=\"1\" class=\"dataframe\">\n",
              "  <thead>\n",
              "    <tr style=\"text-align: right;\">\n",
              "      <th></th>\n",
              "      <th>situacao</th>\n",
              "      <th>qsemana1</th>\n",
              "      <th>qsemana2</th>\n",
              "      <th>qsemana3</th>\n",
              "      <th>qsemana4</th>\n",
              "      <th>qsemana5</th>\n",
              "      <th>qsemana6</th>\n",
              "      <th>qsemana7</th>\n",
              "      <th>qsemana8</th>\n",
              "      <th>submeteu1</th>\n",
              "      <th>submeteu2</th>\n",
              "      <th>submeteu3</th>\n",
              "      <th>submeteu4</th>\n",
              "      <th>submeteu5</th>\n",
              "      <th>submeteu6</th>\n",
              "      <th>submeteu7</th>\n",
              "      <th>submeteu8</th>\n",
              "      <th>madrugada</th>\n",
              "      <th>manha</th>\n",
              "      <th>tarde</th>\n",
              "      <th>noite</th>\n",
              "    </tr>\n",
              "  </thead>\n",
              "  <tbody>\n",
              "    <tr>\n",
              "      <th>0</th>\n",
              "      <td>0</td>\n",
              "      <td>0.0</td>\n",
              "      <td>0.0</td>\n",
              "      <td>18.0</td>\n",
              "      <td>0.0</td>\n",
              "      <td>9.0</td>\n",
              "      <td>0.0</td>\n",
              "      <td>23.0</td>\n",
              "      <td>0.0</td>\n",
              "      <td>0.0</td>\n",
              "      <td>0.0</td>\n",
              "      <td>1.0</td>\n",
              "      <td>0.0</td>\n",
              "      <td>1.0</td>\n",
              "      <td>0.0</td>\n",
              "      <td>2.0</td>\n",
              "      <td>0.0</td>\n",
              "      <td>1.0</td>\n",
              "      <td>0.0</td>\n",
              "      <td>32.0</td>\n",
              "      <td>17.0</td>\n",
              "    </tr>\n",
              "  </tbody>\n",
              "</table>\n",
              "</div>"
            ],
            "text/plain": [
              "   situacao  qsemana1  qsemana2  qsemana3  ...  madrugada  manha  tarde  noite\n",
              "0         0       0.0       0.0      18.0  ...        1.0    0.0   32.0   17.0\n",
              "\n",
              "[1 rows x 21 columns]"
            ]
          },
          "metadata": {
            "tags": []
          },
          "execution_count": 56
        }
      ]
    },
    {
      "cell_type": "code",
      "metadata": {
        "id": "XsC9G0pqOqbV",
        "colab_type": "code",
        "colab": {
          "base_uri": "https://localhost:8080/",
          "height": 224
        },
        "outputId": "0e722f65-421c-40c9-a6a0-e0893edb1ca8"
      },
      "source": [
        "#import the necessary module\n",
        "from sklearn import preprocessing\n",
        "# create the Labelencoder object\n",
        "le = preprocessing.LabelEncoder()\n",
        "#convert the categorical columns into numeric\n",
        "datasetBayes[\"situacao\"]                       = le.fit_transform(datasetBayes[\"situacao\"])\n",
        "datasetBayes[\"qsemana1\"]                       = le.fit_transform(datasetBayes[\"qsemana1\"])\n",
        "datasetBayes[\"qsemana2\"]                       = le.fit_transform(datasetBayes[\"qsemana2\"])\n",
        "datasetBayes[\"qsemana3\"]                       = le.fit_transform(datasetBayes[\"qsemana3\"])\n",
        "datasetBayes[\"qsemana4\"]                       = le.fit_transform(datasetBayes[\"qsemana4\"])\n",
        "datasetBayes[\"qsemana5\"]                       = le.fit_transform(datasetBayes[\"qsemana5\"])\n",
        "datasetBayes[\"qsemana6\"]                       = le.fit_transform(datasetBayes[\"qsemana6\"])\n",
        "datasetBayes[\"qsemana7\"]                       = le.fit_transform(datasetBayes[\"qsemana7\"])\n",
        "datasetBayes[\"qsemana8\"]                       = le.fit_transform(datasetBayes[\"qsemana8\"])\n",
        "datasetBayes[\"submeteu1\"]                      = le.fit_transform(datasetBayes[\"submeteu1\"])\n",
        "datasetBayes[\"submeteu2\"]                      = le.fit_transform(datasetBayes[\"submeteu2\"])\n",
        "datasetBayes[\"submeteu3\"]                      = le.fit_transform(datasetBayes[\"submeteu3\"])\n",
        "datasetBayes[\"submeteu4\"]                      = le.fit_transform(datasetBayes[\"submeteu4\"])\n",
        "datasetBayes[\"submeteu5\"]                      = le.fit_transform(datasetBayes[\"submeteu5\"])\n",
        "datasetBayes[\"submeteu6\"]                      = le.fit_transform(datasetBayes[\"submeteu6\"])\n",
        "datasetBayes[\"submeteu7\"]                      = le.fit_transform(datasetBayes[\"submeteu7\"])\n",
        "datasetBayes[\"submeteu8\"]                      = le.fit_transform(datasetBayes[\"submeteu8\"])\n",
        "datasetBayes[\"madrugada\t\"]                     = le.fit_transform(datasetBayes[\"madrugada\"])\n",
        "datasetBayes[\"manha\"]                          = le.fit_transform(datasetBayes[\"manha\"])\n",
        "datasetBayes[\"tarde\"]                          = le.fit_transform(datasetBayes[\"tarde\"])\n",
        "datasetBayes[\"noite\"]                          = le.fit_transform(datasetBayes[\"noite\"])\n",
        "\n",
        "datasetBayes.head()"
      ],
      "execution_count": 57,
      "outputs": [
        {
          "output_type": "execute_result",
          "data": {
            "text/html": [
              "<div>\n",
              "<style scoped>\n",
              "    .dataframe tbody tr th:only-of-type {\n",
              "        vertical-align: middle;\n",
              "    }\n",
              "\n",
              "    .dataframe tbody tr th {\n",
              "        vertical-align: top;\n",
              "    }\n",
              "\n",
              "    .dataframe thead th {\n",
              "        text-align: right;\n",
              "    }\n",
              "</style>\n",
              "<table border=\"1\" class=\"dataframe\">\n",
              "  <thead>\n",
              "    <tr style=\"text-align: right;\">\n",
              "      <th></th>\n",
              "      <th>situacao</th>\n",
              "      <th>qsemana1</th>\n",
              "      <th>qsemana2</th>\n",
              "      <th>qsemana3</th>\n",
              "      <th>qsemana4</th>\n",
              "      <th>qsemana5</th>\n",
              "      <th>qsemana6</th>\n",
              "      <th>qsemana7</th>\n",
              "      <th>qsemana8</th>\n",
              "      <th>submeteu1</th>\n",
              "      <th>submeteu2</th>\n",
              "      <th>submeteu3</th>\n",
              "      <th>submeteu4</th>\n",
              "      <th>submeteu5</th>\n",
              "      <th>submeteu6</th>\n",
              "      <th>submeteu7</th>\n",
              "      <th>submeteu8</th>\n",
              "      <th>madrugada</th>\n",
              "      <th>manha</th>\n",
              "      <th>tarde</th>\n",
              "      <th>noite</th>\n",
              "      <th>madrugada</th>\n",
              "    </tr>\n",
              "  </thead>\n",
              "  <tbody>\n",
              "    <tr>\n",
              "      <th>0</th>\n",
              "      <td>0</td>\n",
              "      <td>0</td>\n",
              "      <td>0</td>\n",
              "      <td>18</td>\n",
              "      <td>0</td>\n",
              "      <td>9</td>\n",
              "      <td>0</td>\n",
              "      <td>22</td>\n",
              "      <td>0</td>\n",
              "      <td>0</td>\n",
              "      <td>0</td>\n",
              "      <td>1</td>\n",
              "      <td>0</td>\n",
              "      <td>1</td>\n",
              "      <td>0</td>\n",
              "      <td>2</td>\n",
              "      <td>0</td>\n",
              "      <td>1.0</td>\n",
              "      <td>0</td>\n",
              "      <td>31</td>\n",
              "      <td>17</td>\n",
              "      <td>1</td>\n",
              "    </tr>\n",
              "    <tr>\n",
              "      <th>1</th>\n",
              "      <td>0</td>\n",
              "      <td>0</td>\n",
              "      <td>0</td>\n",
              "      <td>4</td>\n",
              "      <td>11</td>\n",
              "      <td>4</td>\n",
              "      <td>0</td>\n",
              "      <td>10</td>\n",
              "      <td>3</td>\n",
              "      <td>0</td>\n",
              "      <td>0</td>\n",
              "      <td>2</td>\n",
              "      <td>1</td>\n",
              "      <td>1</td>\n",
              "      <td>0</td>\n",
              "      <td>2</td>\n",
              "      <td>2</td>\n",
              "      <td>12.0</td>\n",
              "      <td>0</td>\n",
              "      <td>15</td>\n",
              "      <td>5</td>\n",
              "      <td>12</td>\n",
              "    </tr>\n",
              "    <tr>\n",
              "      <th>2</th>\n",
              "      <td>0</td>\n",
              "      <td>0</td>\n",
              "      <td>0</td>\n",
              "      <td>0</td>\n",
              "      <td>0</td>\n",
              "      <td>0</td>\n",
              "      <td>2</td>\n",
              "      <td>3</td>\n",
              "      <td>0</td>\n",
              "      <td>0</td>\n",
              "      <td>0</td>\n",
              "      <td>0</td>\n",
              "      <td>0</td>\n",
              "      <td>0</td>\n",
              "      <td>1</td>\n",
              "      <td>1</td>\n",
              "      <td>0</td>\n",
              "      <td>0.0</td>\n",
              "      <td>0</td>\n",
              "      <td>2</td>\n",
              "      <td>3</td>\n",
              "      <td>0</td>\n",
              "    </tr>\n",
              "    <tr>\n",
              "      <th>3</th>\n",
              "      <td>0</td>\n",
              "      <td>0</td>\n",
              "      <td>0</td>\n",
              "      <td>0</td>\n",
              "      <td>6</td>\n",
              "      <td>0</td>\n",
              "      <td>6</td>\n",
              "      <td>1</td>\n",
              "      <td>4</td>\n",
              "      <td>0</td>\n",
              "      <td>0</td>\n",
              "      <td>0</td>\n",
              "      <td>1</td>\n",
              "      <td>0</td>\n",
              "      <td>1</td>\n",
              "      <td>1</td>\n",
              "      <td>2</td>\n",
              "      <td>0.0</td>\n",
              "      <td>0</td>\n",
              "      <td>17</td>\n",
              "      <td>0</td>\n",
              "      <td>0</td>\n",
              "    </tr>\n",
              "    <tr>\n",
              "      <th>4</th>\n",
              "      <td>0</td>\n",
              "      <td>0</td>\n",
              "      <td>0</td>\n",
              "      <td>0</td>\n",
              "      <td>6</td>\n",
              "      <td>0</td>\n",
              "      <td>6</td>\n",
              "      <td>5</td>\n",
              "      <td>2</td>\n",
              "      <td>0</td>\n",
              "      <td>0</td>\n",
              "      <td>0</td>\n",
              "      <td>1</td>\n",
              "      <td>0</td>\n",
              "      <td>1</td>\n",
              "      <td>1</td>\n",
              "      <td>2</td>\n",
              "      <td>1.0</td>\n",
              "      <td>0</td>\n",
              "      <td>15</td>\n",
              "      <td>3</td>\n",
              "      <td>1</td>\n",
              "    </tr>\n",
              "  </tbody>\n",
              "</table>\n",
              "</div>"
            ],
            "text/plain": [
              "   situacao  qsemana1  qsemana2  qsemana3  ...  manha  tarde  noite  madrugada\\t\n",
              "0         0         0         0        18  ...      0     31     17            1\n",
              "1         0         0         0         4  ...      0     15      5           12\n",
              "2         0         0         0         0  ...      0      2      3            0\n",
              "3         0         0         0         0  ...      0     17      0            0\n",
              "4         0         0         0         0  ...      0     15      3            1\n",
              "\n",
              "[5 rows x 22 columns]"
            ]
          },
          "metadata": {
            "tags": []
          },
          "execution_count": 57
        }
      ]
    },
    {
      "cell_type": "markdown",
      "metadata": {
        "id": "gApPfXJEZxN9",
        "colab_type": "text"
      },
      "source": [
        "Retirando o campo Situação, porque é o que queremos prever"
      ]
    },
    {
      "cell_type": "code",
      "metadata": {
        "id": "7OQxUe-faXDv",
        "colab_type": "code",
        "colab": {
          "base_uri": "https://localhost:8080/",
          "height": 131
        },
        "outputId": "60147982-9d02-4a92-da4a-af2537bd8b78"
      },
      "source": [
        "data = datasetBayes\n",
        "target = datasetBayes[\"situacao\"]\n",
        "data.drop(columns=[\"situacao\"],inplace=True)\n",
        "data.head(2)"
      ],
      "execution_count": 60,
      "outputs": [
        {
          "output_type": "execute_result",
          "data": {
            "text/html": [
              "<div>\n",
              "<style scoped>\n",
              "    .dataframe tbody tr th:only-of-type {\n",
              "        vertical-align: middle;\n",
              "    }\n",
              "\n",
              "    .dataframe tbody tr th {\n",
              "        vertical-align: top;\n",
              "    }\n",
              "\n",
              "    .dataframe thead th {\n",
              "        text-align: right;\n",
              "    }\n",
              "</style>\n",
              "<table border=\"1\" class=\"dataframe\">\n",
              "  <thead>\n",
              "    <tr style=\"text-align: right;\">\n",
              "      <th></th>\n",
              "      <th>qsemana1</th>\n",
              "      <th>qsemana2</th>\n",
              "      <th>qsemana3</th>\n",
              "      <th>qsemana4</th>\n",
              "      <th>qsemana5</th>\n",
              "      <th>qsemana6</th>\n",
              "      <th>qsemana7</th>\n",
              "      <th>qsemana8</th>\n",
              "      <th>submeteu1</th>\n",
              "      <th>submeteu2</th>\n",
              "      <th>submeteu3</th>\n",
              "      <th>submeteu4</th>\n",
              "      <th>submeteu5</th>\n",
              "      <th>submeteu6</th>\n",
              "      <th>submeteu7</th>\n",
              "      <th>submeteu8</th>\n",
              "      <th>madrugada</th>\n",
              "      <th>manha</th>\n",
              "      <th>tarde</th>\n",
              "      <th>noite</th>\n",
              "      <th>madrugada</th>\n",
              "    </tr>\n",
              "  </thead>\n",
              "  <tbody>\n",
              "    <tr>\n",
              "      <th>0</th>\n",
              "      <td>0</td>\n",
              "      <td>0</td>\n",
              "      <td>18</td>\n",
              "      <td>0</td>\n",
              "      <td>9</td>\n",
              "      <td>0</td>\n",
              "      <td>22</td>\n",
              "      <td>0</td>\n",
              "      <td>0</td>\n",
              "      <td>0</td>\n",
              "      <td>1</td>\n",
              "      <td>0</td>\n",
              "      <td>1</td>\n",
              "      <td>0</td>\n",
              "      <td>2</td>\n",
              "      <td>0</td>\n",
              "      <td>1.0</td>\n",
              "      <td>0</td>\n",
              "      <td>31</td>\n",
              "      <td>17</td>\n",
              "      <td>1</td>\n",
              "    </tr>\n",
              "    <tr>\n",
              "      <th>1</th>\n",
              "      <td>0</td>\n",
              "      <td>0</td>\n",
              "      <td>4</td>\n",
              "      <td>11</td>\n",
              "      <td>4</td>\n",
              "      <td>0</td>\n",
              "      <td>10</td>\n",
              "      <td>3</td>\n",
              "      <td>0</td>\n",
              "      <td>0</td>\n",
              "      <td>2</td>\n",
              "      <td>1</td>\n",
              "      <td>1</td>\n",
              "      <td>0</td>\n",
              "      <td>2</td>\n",
              "      <td>2</td>\n",
              "      <td>12.0</td>\n",
              "      <td>0</td>\n",
              "      <td>15</td>\n",
              "      <td>5</td>\n",
              "      <td>12</td>\n",
              "    </tr>\n",
              "  </tbody>\n",
              "</table>\n",
              "</div>"
            ],
            "text/plain": [
              "   qsemana1  qsemana2  qsemana3  qsemana4  ...  manha  tarde  noite  madrugada\\t\n",
              "0         0         0        18         0  ...      0     31     17            1\n",
              "1         0         0         4        11  ...      0     15      5           12\n",
              "\n",
              "[2 rows x 21 columns]"
            ]
          },
          "metadata": {
            "tags": []
          },
          "execution_count": 60
        }
      ]
    },
    {
      "cell_type": "code",
      "metadata": {
        "id": "Q85SDbyrdzSp",
        "colab_type": "code",
        "colab": {}
      },
      "source": [
        "#import the necessary module\n",
        "from sklearn.model_selection import train_test_split\n",
        "#split data set into train and test sets\n",
        "data_train, data_test, target_train, target_test = train_test_split(data,target, test_size = 0.30, random_state = 10)"
      ],
      "execution_count": 0,
      "outputs": []
    },
    {
      "cell_type": "code",
      "metadata": {
        "id": "gApNph6Fd2pY",
        "colab_type": "code",
        "colab": {
          "base_uri": "https://localhost:8080/",
          "height": 34
        },
        "outputId": "1b700f5e-4e32-43f2-b596-72b48423f044"
      },
      "source": [
        "from sklearn.naive_bayes import GaussianNB\n",
        "from sklearn.metrics import accuracy_score\n",
        "#create an object of the type GaussianNB\n",
        "gnb = GaussianNB()\n",
        "#train the algorithm on training data and predict using the testing data\n",
        "pred = gnb.fit(data_train, target_train).predict(data_test)\n",
        "#print(pred.tolist())\n",
        "#print the accuracy score of the model\n",
        "print(\"Naive-Bayes accuracy : \",accuracy_score(target_test, pred, normalize = True))"
      ],
      "execution_count": 62,
      "outputs": [
        {
          "output_type": "stream",
          "text": [
            "Naive-Bayes accuracy :  0.5357142857142857\n"
          ],
          "name": "stdout"
        }
      ]
    },
    {
      "cell_type": "code",
      "metadata": {
        "id": "uB-B4etWd8jq",
        "colab_type": "code",
        "colab": {
          "base_uri": "https://localhost:8080/",
          "height": 68
        },
        "outputId": "6c178df5-bc01-4eec-bba2-7ccdc67a4a5c"
      },
      "source": [
        "from sklearn.svm import LinearSVC\n",
        "from sklearn.metrics import accuracy_score\n",
        "#create an object of type LinearSVC\n",
        "svc_model = LinearSVC(random_state=0)\n",
        "#train the algorithm on training data and predict using the testing data\n",
        "pred = svc_model.fit(data_train, target_train).predict(data_test)\n",
        "#print the accuracy score of the model\n",
        "print(\"LinearSVC accuracy : \",accuracy_score(target_test, pred, normalize = True))"
      ],
      "execution_count": 63,
      "outputs": [
        {
          "output_type": "stream",
          "text": [
            "LinearSVC accuracy :  0.5928571428571429\n"
          ],
          "name": "stdout"
        },
        {
          "output_type": "stream",
          "text": [
            "/usr/local/lib/python3.6/dist-packages/sklearn/svm/base.py:929: ConvergenceWarning: Liblinear failed to converge, increase the number of iterations.\n",
            "  \"the number of iterations.\", ConvergenceWarning)\n"
          ],
          "name": "stderr"
        }
      ]
    },
    {
      "cell_type": "code",
      "metadata": {
        "id": "avB9tZskeBPR",
        "colab_type": "code",
        "colab": {
          "base_uri": "https://localhost:8080/",
          "height": 34
        },
        "outputId": "f323621e-b7b6-4d25-ddba-ca573c1aca29"
      },
      "source": [
        "#import necessary modules\n",
        "from sklearn.neighbors import KNeighborsClassifier\n",
        "from sklearn.metrics import accuracy_score\n",
        "#create object of the lassifier\n",
        "neigh = KNeighborsClassifier(n_neighbors=3)\n",
        "#Train the algorithm\n",
        "neigh.fit(data_train, target_train)\n",
        "# predict the response\n",
        "pred = neigh.predict(data_test)\n",
        "# evaluate accuracy\n",
        "print (\"KNeighbors accuracy score : \",accuracy_score(target_test, pred))"
      ],
      "execution_count": 64,
      "outputs": [
        {
          "output_type": "stream",
          "text": [
            "KNeighbors accuracy score :  0.5928571428571429\n"
          ],
          "name": "stdout"
        }
      ]
    },
    {
      "cell_type": "code",
      "metadata": {
        "id": "kAMZC2xweU-t",
        "colab_type": "code",
        "colab": {
          "base_uri": "https://localhost:8080/",
          "height": 401
        },
        "outputId": "bd6748ef-b411-4e68-c1a1-d749a9f9af37"
      },
      "source": [
        "from yellowbrick.classifier import ClassificationReport\n",
        "# Instantiate the classification model and visualizer\n",
        "visualizer = ClassificationReport(gnb, classes=[\"REPROVADO\", \"APROVADO\"])\n",
        "visualizer.fit(data_train, target_train) # Fit the training data to the visualizer\n",
        "visualizer.score(data_test, target_test) # Evaluate the model on the test data\n",
        "g = visualizer.poof() # Draw/show/poof the data"
      ],
      "execution_count": 66,
      "outputs": [
        {
          "output_type": "display_data",
          "data": {
            "image/png": "[encoded data removed]",
            "text/plain": [
              "<Figure size 576x396 with 2 Axes>"
            ]
          },
          "metadata": {
            "tags": []
          }
        }
      ]
    },
    {
      "cell_type": "code",
      "metadata": {
        "id": "XM6lRqxEgoVS",
        "colab_type": "code",
        "colab": {
          "base_uri": "https://localhost:8080/",
          "height": 435
        },
        "outputId": "0f1f8dd6-fccc-4f64-c447-63b13dfe74da"
      },
      "source": [
        "from yellowbrick.classifier import ClassificationReport\n",
        "# Instantiate the classification model and visualizer\n",
        "visualizer = ClassificationReport(svc_model, classes=[\"REPROVADO\", \"APROVADO\"])\n",
        "visualizer.fit(data_train, target_train) # Fit the training data to the visualizer\n",
        "visualizer.score(data_test, target_test) # Evaluate the model on the test data\n",
        "g = visualizer.poof() # Draw/show/poof the data"
      ],
      "execution_count": 67,
      "outputs": [
        {
          "output_type": "stream",
          "text": [
            "/usr/local/lib/python3.6/dist-packages/sklearn/svm/base.py:929: ConvergenceWarning: Liblinear failed to converge, increase the number of iterations.\n",
            "  \"the number of iterations.\", ConvergenceWarning)\n"
          ],
          "name": "stderr"
        },
        {
          "output_type": "display_data",
          "data": {
            "image/png": "[encoded data removed]",
            "text/plain": [
              "<Figure size 576x396 with 2 Axes>"
            ]
          },
          "metadata": {
            "tags": []
          }
        }
      ]
    },
    {
      "cell_type": "code",
      "metadata": {
        "id": "fsk2_-kTg7zM",
        "colab_type": "code",
        "colab": {
          "base_uri": "https://localhost:8080/",
          "height": 401
        },
        "outputId": "cf207c09-2877-488e-a494-95c7051210c9"
      },
      "source": [
        "from yellowbrick.classifier import ClassificationReport\n",
        "# Instantiate the classification model and visualizer\n",
        "visualizer = ClassificationReport(neigh, classes=[\"REPROVADO\",\"APROVADO\"])\n",
        "visualizer.fit(data_train, target_train) # Fit the training data to the visualizer\n",
        "visualizer.score(data_test, target_test) # Evaluate the model on the test data\n",
        "g = visualizer.poof() # Draw/show/poof the data"
      ],
      "execution_count": 68,
      "outputs": [
        {
          "output_type": "display_data",
          "data": {
            "image/png": "[encoded data removed]",
            "text/plain": [
              "<Figure size 576x396 with 2 Axes>"
            ]
          },
          "metadata": {
            "tags": []
          }
        }
      ]
    },
    {
      "cell_type": "markdown",
      "metadata": {
        "id": "TaJJrtUbwSZU",
        "colab_type": "text"
      },
      "source": [
        "# Naive Bayes, Regressão Linear e KNN com submissões por semana"
      ]
    },
    {
      "cell_type": "markdown",
      "metadata": {
        "id": "UKDV4q6yzdVF",
        "colab_type": "text"
      },
      "source": [
        "Este segundo experimento com os dados de submissões por semana para descobrir se o aluno foi ou não aprovado"
      ]
    },
    {
      "cell_type": "code",
      "metadata": {
        "id": "yk9ZaTvXwTnP",
        "colab_type": "code",
        "colab": {
          "base_uri": "https://localhost:8080/",
          "height": 80
        },
        "outputId": "9447fa9f-17ab-4bc1-ba55-7a648c9c18e0"
      },
      "source": [
        "datasetBayes=table\n",
        "datasetBayes=datasetBayes.drop(columns=[\"tituloProva2\",\"tituloProva1\",\"idAluno\",\"ano\",\"matricula\",\"idTurma\",\"igualACeml45\",\"igualACeml123\",\"qsub4\",\"totalsub\",\"qsubp2\",\"qsubp1\",\"qsub5\",\"qsub3\",\"qsub2\",\"qsub1\",\"mediaProvas\",\"quantidadeProva2\",\"questoesFeitasProva2\",\"notaProva2\",\"quantidadeProva1\",\"questoesFeitasProva1\",\"notaProva1\",\"noite\",\"tarde\",\"manha\",\"madrugada\",\"submeteu8\",\"submeteu7\",\"submeteu6\",\"submeteu5\",\"submeteu4\",\"submeteu3\",\"submeteu2\",\"submeteu1\"])\n",
        "datasetBayes.head(1)"
      ],
      "execution_count": 69,
      "outputs": [
        {
          "output_type": "execute_result",
          "data": {
            "text/html": [
              "<div>\n",
              "<style scoped>\n",
              "    .dataframe tbody tr th:only-of-type {\n",
              "        vertical-align: middle;\n",
              "    }\n",
              "\n",
              "    .dataframe tbody tr th {\n",
              "        vertical-align: top;\n",
              "    }\n",
              "\n",
              "    .dataframe thead th {\n",
              "        text-align: right;\n",
              "    }\n",
              "</style>\n",
              "<table border=\"1\" class=\"dataframe\">\n",
              "  <thead>\n",
              "    <tr style=\"text-align: right;\">\n",
              "      <th></th>\n",
              "      <th>situacao</th>\n",
              "      <th>qsemana1</th>\n",
              "      <th>qsemana2</th>\n",
              "      <th>qsemana3</th>\n",
              "      <th>qsemana4</th>\n",
              "      <th>qsemana5</th>\n",
              "      <th>qsemana6</th>\n",
              "      <th>qsemana7</th>\n",
              "      <th>qsemana8</th>\n",
              "    </tr>\n",
              "  </thead>\n",
              "  <tbody>\n",
              "    <tr>\n",
              "      <th>0</th>\n",
              "      <td>0</td>\n",
              "      <td>0.0</td>\n",
              "      <td>0.0</td>\n",
              "      <td>18.0</td>\n",
              "      <td>0.0</td>\n",
              "      <td>9.0</td>\n",
              "      <td>0.0</td>\n",
              "      <td>23.0</td>\n",
              "      <td>0.0</td>\n",
              "    </tr>\n",
              "  </tbody>\n",
              "</table>\n",
              "</div>"
            ],
            "text/plain": [
              "   situacao  qsemana1  qsemana2  ...  qsemana6  qsemana7  qsemana8\n",
              "0         0       0.0       0.0  ...       0.0      23.0       0.0\n",
              "\n",
              "[1 rows x 9 columns]"
            ]
          },
          "metadata": {
            "tags": []
          },
          "execution_count": 69
        }
      ]
    },
    {
      "cell_type": "code",
      "metadata": {
        "id": "oUSVr-ItxMyf",
        "colab_type": "code",
        "colab": {
          "base_uri": "https://localhost:8080/",
          "height": 204
        },
        "outputId": "5afe4294-4033-4854-d172-5b695a391852"
      },
      "source": [
        "#import the necessary module\n",
        "from sklearn import preprocessing\n",
        "# create the Labelencoder object\n",
        "le = preprocessing.LabelEncoder()\n",
        "#convert the categorical columns into numeric\n",
        "datasetBayes[\"situacao\"]                       = le.fit_transform(datasetBayes[\"situacao\"])\n",
        "datasetBayes[\"qsemana1\"]                       = le.fit_transform(datasetBayes[\"qsemana1\"])\n",
        "datasetBayes[\"qsemana2\"]                       = le.fit_transform(datasetBayes[\"qsemana2\"])\n",
        "datasetBayes[\"qsemana3\"]                       = le.fit_transform(datasetBayes[\"qsemana3\"])\n",
        "datasetBayes[\"qsemana4\"]                       = le.fit_transform(datasetBayes[\"qsemana4\"])\n",
        "datasetBayes[\"qsemana5\"]                       = le.fit_transform(datasetBayes[\"qsemana5\"])\n",
        "datasetBayes[\"qsemana6\"]                       = le.fit_transform(datasetBayes[\"qsemana6\"])\n",
        "datasetBayes[\"qsemana7\"]                       = le.fit_transform(datasetBayes[\"qsemana7\"])\n",
        "datasetBayes[\"qsemana8\"]                       = le.fit_transform(datasetBayes[\"qsemana8\"])\n",
        "\n",
        "datasetBayes.head()"
      ],
      "execution_count": 70,
      "outputs": [
        {
          "output_type": "execute_result",
          "data": {
            "text/html": [
              "<div>\n",
              "<style scoped>\n",
              "    .dataframe tbody tr th:only-of-type {\n",
              "        vertical-align: middle;\n",
              "    }\n",
              "\n",
              "    .dataframe tbody tr th {\n",
              "        vertical-align: top;\n",
              "    }\n",
              "\n",
              "    .dataframe thead th {\n",
              "        text-align: right;\n",
              "    }\n",
              "</style>\n",
              "<table border=\"1\" class=\"dataframe\">\n",
              "  <thead>\n",
              "    <tr style=\"text-align: right;\">\n",
              "      <th></th>\n",
              "      <th>situacao</th>\n",
              "      <th>qsemana1</th>\n",
              "      <th>qsemana2</th>\n",
              "      <th>qsemana3</th>\n",
              "      <th>qsemana4</th>\n",
              "      <th>qsemana5</th>\n",
              "      <th>qsemana6</th>\n",
              "      <th>qsemana7</th>\n",
              "      <th>qsemana8</th>\n",
              "    </tr>\n",
              "  </thead>\n",
              "  <tbody>\n",
              "    <tr>\n",
              "      <th>0</th>\n",
              "      <td>0</td>\n",
              "      <td>0</td>\n",
              "      <td>0</td>\n",
              "      <td>18</td>\n",
              "      <td>0</td>\n",
              "      <td>9</td>\n",
              "      <td>0</td>\n",
              "      <td>22</td>\n",
              "      <td>0</td>\n",
              "    </tr>\n",
              "    <tr>\n",
              "      <th>1</th>\n",
              "      <td>0</td>\n",
              "      <td>0</td>\n",
              "      <td>0</td>\n",
              "      <td>4</td>\n",
              "      <td>11</td>\n",
              "      <td>4</td>\n",
              "      <td>0</td>\n",
              "      <td>10</td>\n",
              "      <td>3</td>\n",
              "    </tr>\n",
              "    <tr>\n",
              "      <th>2</th>\n",
              "      <td>0</td>\n",
              "      <td>0</td>\n",
              "      <td>0</td>\n",
              "      <td>0</td>\n",
              "      <td>0</td>\n",
              "      <td>0</td>\n",
              "      <td>2</td>\n",
              "      <td>3</td>\n",
              "      <td>0</td>\n",
              "    </tr>\n",
              "    <tr>\n",
              "      <th>3</th>\n",
              "      <td>0</td>\n",
              "      <td>0</td>\n",
              "      <td>0</td>\n",
              "      <td>0</td>\n",
              "      <td>6</td>\n",
              "      <td>0</td>\n",
              "      <td>6</td>\n",
              "      <td>1</td>\n",
              "      <td>4</td>\n",
              "    </tr>\n",
              "    <tr>\n",
              "      <th>4</th>\n",
              "      <td>0</td>\n",
              "      <td>0</td>\n",
              "      <td>0</td>\n",
              "      <td>0</td>\n",
              "      <td>6</td>\n",
              "      <td>0</td>\n",
              "      <td>6</td>\n",
              "      <td>5</td>\n",
              "      <td>2</td>\n",
              "    </tr>\n",
              "  </tbody>\n",
              "</table>\n",
              "</div>"
            ],
            "text/plain": [
              "   situacao  qsemana1  qsemana2  ...  qsemana6  qsemana7  qsemana8\n",
              "0         0         0         0  ...         0        22         0\n",
              "1         0         0         0  ...         0        10         3\n",
              "2         0         0         0  ...         2         3         0\n",
              "3         0         0         0  ...         6         1         4\n",
              "4         0         0         0  ...         6         5         2\n",
              "\n",
              "[5 rows x 9 columns]"
            ]
          },
          "metadata": {
            "tags": []
          },
          "execution_count": 70
        }
      ]
    },
    {
      "cell_type": "markdown",
      "metadata": {
        "id": "kaFDgqr9yKKc",
        "colab_type": "text"
      },
      "source": [
        "Retirando o campo Situação, porque é o que queremos prever"
      ]
    },
    {
      "cell_type": "code",
      "metadata": {
        "id": "J22ORx4QyF3r",
        "colab_type": "code",
        "colab": {
          "base_uri": "https://localhost:8080/",
          "height": 111
        },
        "outputId": "1489b180-ec02-41fd-d5be-30df29b746f3"
      },
      "source": [
        "data = datasetBayes\n",
        "target = datasetBayes[\"situacao\"]\n",
        "data.drop(columns=[\"situacao\"],inplace=True)\n",
        "data.head(2)"
      ],
      "execution_count": 71,
      "outputs": [
        {
          "output_type": "execute_result",
          "data": {
            "text/html": [
              "<div>\n",
              "<style scoped>\n",
              "    .dataframe tbody tr th:only-of-type {\n",
              "        vertical-align: middle;\n",
              "    }\n",
              "\n",
              "    .dataframe tbody tr th {\n",
              "        vertical-align: top;\n",
              "    }\n",
              "\n",
              "    .dataframe thead th {\n",
              "        text-align: right;\n",
              "    }\n",
              "</style>\n",
              "<table border=\"1\" class=\"dataframe\">\n",
              "  <thead>\n",
              "    <tr style=\"text-align: right;\">\n",
              "      <th></th>\n",
              "      <th>qsemana1</th>\n",
              "      <th>qsemana2</th>\n",
              "      <th>qsemana3</th>\n",
              "      <th>qsemana4</th>\n",
              "      <th>qsemana5</th>\n",
              "      <th>qsemana6</th>\n",
              "      <th>qsemana7</th>\n",
              "      <th>qsemana8</th>\n",
              "    </tr>\n",
              "  </thead>\n",
              "  <tbody>\n",
              "    <tr>\n",
              "      <th>0</th>\n",
              "      <td>0</td>\n",
              "      <td>0</td>\n",
              "      <td>18</td>\n",
              "      <td>0</td>\n",
              "      <td>9</td>\n",
              "      <td>0</td>\n",
              "      <td>22</td>\n",
              "      <td>0</td>\n",
              "    </tr>\n",
              "    <tr>\n",
              "      <th>1</th>\n",
              "      <td>0</td>\n",
              "      <td>0</td>\n",
              "      <td>4</td>\n",
              "      <td>11</td>\n",
              "      <td>4</td>\n",
              "      <td>0</td>\n",
              "      <td>10</td>\n",
              "      <td>3</td>\n",
              "    </tr>\n",
              "  </tbody>\n",
              "</table>\n",
              "</div>"
            ],
            "text/plain": [
              "   qsemana1  qsemana2  qsemana3  ...  qsemana6  qsemana7  qsemana8\n",
              "0         0         0        18  ...         0        22         0\n",
              "1         0         0         4  ...         0        10         3\n",
              "\n",
              "[2 rows x 8 columns]"
            ]
          },
          "metadata": {
            "tags": []
          },
          "execution_count": 71
        }
      ]
    },
    {
      "cell_type": "code",
      "metadata": {
        "id": "chYCNTtTyTFx",
        "colab_type": "code",
        "colab": {}
      },
      "source": [
        "#import the necessary module\n",
        "from sklearn.model_selection import train_test_split\n",
        "#split data set into train and test sets\n",
        "data_train, data_test, target_train, target_test = train_test_split(data,target, test_size = 0.30, random_state = 10)"
      ],
      "execution_count": 0,
      "outputs": []
    },
    {
      "cell_type": "code",
      "metadata": {
        "id": "7LjMhBYwyS4a",
        "colab_type": "code",
        "colab": {
          "base_uri": "https://localhost:8080/",
          "height": 34
        },
        "outputId": "cdb84695-ccf9-464d-d433-847f0d06d503"
      },
      "source": [
        "from sklearn.naive_bayes import GaussianNB\n",
        "from sklearn.metrics import accuracy_score\n",
        "#create an object of the type GaussianNB\n",
        "gnb = GaussianNB()\n",
        "#train the algorithm on training data and predict using the testing data\n",
        "pred = gnb.fit(data_train, target_train).predict(data_test)\n",
        "#print(pred.tolist())\n",
        "#print the accuracy score of the model\n",
        "print(\"Naive-Bayes accuracy : \",accuracy_score(target_test, pred, normalize = True))"
      ],
      "execution_count": 73,
      "outputs": [
        {
          "output_type": "stream",
          "text": [
            "Naive-Bayes accuracy :  0.5428571428571428\n"
          ],
          "name": "stdout"
        }
      ]
    },
    {
      "cell_type": "code",
      "metadata": {
        "id": "R4Ge1A1yySMz",
        "colab_type": "code",
        "colab": {
          "base_uri": "https://localhost:8080/",
          "height": 68
        },
        "outputId": "c691fe07-1773-44d4-ba2c-e3f85b6b1562"
      },
      "source": [
        "from sklearn.svm import LinearSVC\n",
        "from sklearn.metrics import accuracy_score\n",
        "#create an object of type LinearSVC\n",
        "svc_model = LinearSVC(random_state=0)\n",
        "#train the algorithm on training data and predict using the testing data\n",
        "pred = svc_model.fit(data_train, target_train).predict(data_test)\n",
        "#print the accuracy score of the model\n",
        "print(\"LinearSVC accuracy : \",accuracy_score(target_test, pred, normalize = True))"
      ],
      "execution_count": 74,
      "outputs": [
        {
          "output_type": "stream",
          "text": [
            "LinearSVC accuracy :  0.65\n"
          ],
          "name": "stdout"
        },
        {
          "output_type": "stream",
          "text": [
            "/usr/local/lib/python3.6/dist-packages/sklearn/svm/base.py:929: ConvergenceWarning: Liblinear failed to converge, increase the number of iterations.\n",
            "  \"the number of iterations.\", ConvergenceWarning)\n"
          ],
          "name": "stderr"
        }
      ]
    },
    {
      "cell_type": "code",
      "metadata": {
        "id": "wJNGd2vNyg3I",
        "colab_type": "code",
        "colab": {
          "base_uri": "https://localhost:8080/",
          "height": 34
        },
        "outputId": "1f736604-29c8-4ebc-c125-ce5ddbc480c1"
      },
      "source": [
        "#import necessary modules\n",
        "from sklearn.neighbors import KNeighborsClassifier\n",
        "from sklearn.metrics import accuracy_score\n",
        "#create object of the lassifier\n",
        "neigh = KNeighborsClassifier(n_neighbors=3)\n",
        "#Train the algorithm\n",
        "neigh.fit(data_train, target_train)\n",
        "# predict the response\n",
        "pred = neigh.predict(data_test)\n",
        "# evaluate accuracy\n",
        "print (\"KNeighbors accuracy score : \",accuracy_score(target_test, pred))"
      ],
      "execution_count": 75,
      "outputs": [
        {
          "output_type": "stream",
          "text": [
            "KNeighbors accuracy score :  0.6071428571428571\n"
          ],
          "name": "stdout"
        }
      ]
    },
    {
      "cell_type": "code",
      "metadata": {
        "id": "_HgYEntFygeb",
        "colab_type": "code",
        "colab": {
          "base_uri": "https://localhost:8080/",
          "height": 401
        },
        "outputId": "3c13c67b-c2e5-415a-9702-50e0295ba6aa"
      },
      "source": [
        "from yellowbrick.classifier import ClassificationReport\n",
        "# Instantiate the classification model and visualizer\n",
        "visualizer = ClassificationReport(gnb, classes=[\"REPROVADO\", \"APROVADO\"])\n",
        "visualizer.fit(data_train, target_train) # Fit the training data to the visualizer\n",
        "visualizer.score(data_test, target_test) # Evaluate the model on the test data\n",
        "g = visualizer.poof() # Draw/show/poof the data"
      ],
      "execution_count": 76,
      "outputs": [
        {
          "output_type": "display_data",
          "data": {
            "image/png": "[encoded data removed]",
            "text/plain": [
              "<Figure size 576x396 with 2 Axes>"
            ]
          },
          "metadata": {
            "tags": []
          }
        }
      ]
    },
    {
      "cell_type": "code",
      "metadata": {
        "id": "cdmzSYA9yotS",
        "colab_type": "code",
        "colab": {
          "base_uri": "https://localhost:8080/",
          "height": 435
        },
        "outputId": "f2539698-055f-4bec-83b8-f15922b4107f"
      },
      "source": [
        "from yellowbrick.classifier import ClassificationReport\n",
        "# Instantiate the classification model and visualizer\n",
        "visualizer = ClassificationReport(svc_model, classes=[\"REPROVADO\", \"APROVADO\"])\n",
        "visualizer.fit(data_train, target_train) # Fit the training data to the visualizer\n",
        "visualizer.score(data_test, target_test) # Evaluate the model on the test data\n",
        "g = visualizer.poof() # Draw/show/poof the data"
      ],
      "execution_count": 78,
      "outputs": [
        {
          "output_type": "stream",
          "text": [
            "/usr/local/lib/python3.6/dist-packages/sklearn/svm/base.py:929: ConvergenceWarning: Liblinear failed to converge, increase the number of iterations.\n",
            "  \"the number of iterations.\", ConvergenceWarning)\n"
          ],
          "name": "stderr"
        },
        {
          "output_type": "display_data",
          "data": {
            "image/png": "[encoded data removed]",
            "text/plain": [
              "<Figure size 576x396 with 2 Axes>"
            ]
          },
          "metadata": {
            "tags": []
          }
        }
      ]
    },
    {
      "cell_type": "code",
      "metadata": {
        "id": "ijh6LxKVyoUL",
        "colab_type": "code",
        "colab": {
          "base_uri": "https://localhost:8080/",
          "height": 401
        },
        "outputId": "4460687a-4855-42ff-e857-e691be558d22"
      },
      "source": [
        "from yellowbrick.classifier import ClassificationReport\n",
        "# Instantiate the classification model and visualizer\n",
        "visualizer = ClassificationReport(neigh, classes=[\"REPROVADO\",\"APROVADO\"])\n",
        "visualizer.fit(data_train, target_train) # Fit the training data to the visualizer\n",
        "visualizer.score(data_test, target_test) # Evaluate the model on the test data\n",
        "g = visualizer.poof() # Draw/show/poof the data\n"
      ],
      "execution_count": 77,
      "outputs": [
        {
          "output_type": "display_data",
          "data": {
            "image/png": "[encoded data removed]",
            "text/plain": [
              "<Figure size 576x396 with 2 Axes>"
            ]
          },
          "metadata": {
            "tags": []
          }
        }
      ]
    },
    {
      "cell_type": "markdown",
      "metadata": {
        "id": "UAcc6x_B1GyA",
        "colab_type": "text"
      },
      "source": [
        "# Naive Bayes, Regressão Linear e KNN com submissões por semana e por turno"
      ]
    },
    {
      "cell_type": "markdown",
      "metadata": {
        "id": "0j_Ew_lK12NR",
        "colab_type": "text"
      },
      "source": [
        "Neste terceiro experimento foram usado dados da quantidade de submissão por semana e por turno"
      ]
    },
    {
      "cell_type": "code",
      "metadata": {
        "id": "notqlfIq23FW",
        "colab_type": "code",
        "colab": {
          "base_uri": "https://localhost:8080/",
          "height": 80
        },
        "outputId": "23985108-a780-4e3c-e92b-8b12ed1e757c"
      },
      "source": [
        "datasetBayes=table\n",
        "datasetBayes=datasetBayes.drop(columns=[\"tituloProva2\",\"tituloProva1\",\"idAluno\",\"ano\",\"matricula\",\"idTurma\",\"igualACeml45\",\"igualACeml123\",\"qsub4\",\"totalsub\",\"qsubp2\",\"qsubp1\",\"qsub5\",\"qsub3\",\"qsub2\",\"qsub1\",\"mediaProvas\",\"quantidadeProva2\",\"questoesFeitasProva2\",\"notaProva2\",\"quantidadeProva1\",\"questoesFeitasProva1\",\"notaProva1\",\"submeteu8\",\"submeteu7\",\"submeteu6\",\"submeteu5\",\"submeteu4\",\"submeteu3\",\"submeteu2\",\"submeteu1\"])\n",
        "datasetBayes.head(1)"
      ],
      "execution_count": 79,
      "outputs": [
        {
          "output_type": "execute_result",
          "data": {
            "text/html": [
              "<div>\n",
              "<style scoped>\n",
              "    .dataframe tbody tr th:only-of-type {\n",
              "        vertical-align: middle;\n",
              "    }\n",
              "\n",
              "    .dataframe tbody tr th {\n",
              "        vertical-align: top;\n",
              "    }\n",
              "\n",
              "    .dataframe thead th {\n",
              "        text-align: right;\n",
              "    }\n",
              "</style>\n",
              "<table border=\"1\" class=\"dataframe\">\n",
              "  <thead>\n",
              "    <tr style=\"text-align: right;\">\n",
              "      <th></th>\n",
              "      <th>situacao</th>\n",
              "      <th>qsemana1</th>\n",
              "      <th>qsemana2</th>\n",
              "      <th>qsemana3</th>\n",
              "      <th>qsemana4</th>\n",
              "      <th>qsemana5</th>\n",
              "      <th>qsemana6</th>\n",
              "      <th>qsemana7</th>\n",
              "      <th>qsemana8</th>\n",
              "      <th>madrugada</th>\n",
              "      <th>manha</th>\n",
              "      <th>tarde</th>\n",
              "      <th>noite</th>\n",
              "    </tr>\n",
              "  </thead>\n",
              "  <tbody>\n",
              "    <tr>\n",
              "      <th>0</th>\n",
              "      <td>0</td>\n",
              "      <td>0.0</td>\n",
              "      <td>0.0</td>\n",
              "      <td>18.0</td>\n",
              "      <td>0.0</td>\n",
              "      <td>9.0</td>\n",
              "      <td>0.0</td>\n",
              "      <td>23.0</td>\n",
              "      <td>0.0</td>\n",
              "      <td>1.0</td>\n",
              "      <td>0.0</td>\n",
              "      <td>32.0</td>\n",
              "      <td>17.0</td>\n",
              "    </tr>\n",
              "  </tbody>\n",
              "</table>\n",
              "</div>"
            ],
            "text/plain": [
              "   situacao  qsemana1  qsemana2  qsemana3  ...  madrugada  manha  tarde  noite\n",
              "0         0       0.0       0.0      18.0  ...        1.0    0.0   32.0   17.0\n",
              "\n",
              "[1 rows x 13 columns]"
            ]
          },
          "metadata": {
            "tags": []
          },
          "execution_count": 79
        }
      ]
    },
    {
      "cell_type": "code",
      "metadata": {
        "id": "wIYHNBMh23Az",
        "colab_type": "code",
        "colab": {
          "base_uri": "https://localhost:8080/",
          "height": 204
        },
        "outputId": "2355fece-24c5-49a8-a832-edf0b9dd4018"
      },
      "source": [
        "#import the necessary module\n",
        "from sklearn import preprocessing\n",
        "# create the Labelencoder object\n",
        "le = preprocessing.LabelEncoder()\n",
        "#convert the categorical columns into numeric\n",
        "datasetBayes[\"situacao\"]                       = le.fit_transform(datasetBayes[\"situacao\"])\n",
        "datasetBayes[\"qsemana1\"]                       = le.fit_transform(datasetBayes[\"qsemana1\"])\n",
        "datasetBayes[\"qsemana2\"]                       = le.fit_transform(datasetBayes[\"qsemana2\"])\n",
        "datasetBayes[\"qsemana3\"]                       = le.fit_transform(datasetBayes[\"qsemana3\"])\n",
        "datasetBayes[\"qsemana4\"]                       = le.fit_transform(datasetBayes[\"qsemana4\"])\n",
        "datasetBayes[\"qsemana5\"]                       = le.fit_transform(datasetBayes[\"qsemana5\"])\n",
        "datasetBayes[\"qsemana6\"]                       = le.fit_transform(datasetBayes[\"qsemana6\"])\n",
        "datasetBayes[\"qsemana7\"]                       = le.fit_transform(datasetBayes[\"qsemana7\"])\n",
        "datasetBayes[\"qsemana8\"]                       = le.fit_transform(datasetBayes[\"qsemana8\"])\n",
        "datasetBayes[\"manha\"]                          = le.fit_transform(datasetBayes[\"manha\"])\n",
        "datasetBayes[\"tarde\"]                          = le.fit_transform(datasetBayes[\"tarde\"])\n",
        "datasetBayes[\"noite\"]                          = le.fit_transform(datasetBayes[\"noite\"])\n",
        "\n",
        "datasetBayes.head()"
      ],
      "execution_count": 80,
      "outputs": [
        {
          "output_type": "execute_result",
          "data": {
            "text/html": [
              "<div>\n",
              "<style scoped>\n",
              "    .dataframe tbody tr th:only-of-type {\n",
              "        vertical-align: middle;\n",
              "    }\n",
              "\n",
              "    .dataframe tbody tr th {\n",
              "        vertical-align: top;\n",
              "    }\n",
              "\n",
              "    .dataframe thead th {\n",
              "        text-align: right;\n",
              "    }\n",
              "</style>\n",
              "<table border=\"1\" class=\"dataframe\">\n",
              "  <thead>\n",
              "    <tr style=\"text-align: right;\">\n",
              "      <th></th>\n",
              "      <th>situacao</th>\n",
              "      <th>qsemana1</th>\n",
              "      <th>qsemana2</th>\n",
              "      <th>qsemana3</th>\n",
              "      <th>qsemana4</th>\n",
              "      <th>qsemana5</th>\n",
              "      <th>qsemana6</th>\n",
              "      <th>qsemana7</th>\n",
              "      <th>qsemana8</th>\n",
              "      <th>madrugada</th>\n",
              "      <th>manha</th>\n",
              "      <th>tarde</th>\n",
              "      <th>noite</th>\n",
              "    </tr>\n",
              "  </thead>\n",
              "  <tbody>\n",
              "    <tr>\n",
              "      <th>0</th>\n",
              "      <td>0</td>\n",
              "      <td>0</td>\n",
              "      <td>0</td>\n",
              "      <td>18</td>\n",
              "      <td>0</td>\n",
              "      <td>9</td>\n",
              "      <td>0</td>\n",
              "      <td>22</td>\n",
              "      <td>0</td>\n",
              "      <td>1.0</td>\n",
              "      <td>0</td>\n",
              "      <td>31</td>\n",
              "      <td>17</td>\n",
              "    </tr>\n",
              "    <tr>\n",
              "      <th>1</th>\n",
              "      <td>0</td>\n",
              "      <td>0</td>\n",
              "      <td>0</td>\n",
              "      <td>4</td>\n",
              "      <td>11</td>\n",
              "      <td>4</td>\n",
              "      <td>0</td>\n",
              "      <td>10</td>\n",
              "      <td>3</td>\n",
              "      <td>12.0</td>\n",
              "      <td>0</td>\n",
              "      <td>15</td>\n",
              "      <td>5</td>\n",
              "    </tr>\n",
              "    <tr>\n",
              "      <th>2</th>\n",
              "      <td>0</td>\n",
              "      <td>0</td>\n",
              "      <td>0</td>\n",
              "      <td>0</td>\n",
              "      <td>0</td>\n",
              "      <td>0</td>\n",
              "      <td>2</td>\n",
              "      <td>3</td>\n",
              "      <td>0</td>\n",
              "      <td>0.0</td>\n",
              "      <td>0</td>\n",
              "      <td>2</td>\n",
              "      <td>3</td>\n",
              "    </tr>\n",
              "    <tr>\n",
              "      <th>3</th>\n",
              "      <td>0</td>\n",
              "      <td>0</td>\n",
              "      <td>0</td>\n",
              "      <td>0</td>\n",
              "      <td>6</td>\n",
              "      <td>0</td>\n",
              "      <td>6</td>\n",
              "      <td>1</td>\n",
              "      <td>4</td>\n",
              "      <td>0.0</td>\n",
              "      <td>0</td>\n",
              "      <td>17</td>\n",
              "      <td>0</td>\n",
              "    </tr>\n",
              "    <tr>\n",
              "      <th>4</th>\n",
              "      <td>0</td>\n",
              "      <td>0</td>\n",
              "      <td>0</td>\n",
              "      <td>0</td>\n",
              "      <td>6</td>\n",
              "      <td>0</td>\n",
              "      <td>6</td>\n",
              "      <td>5</td>\n",
              "      <td>2</td>\n",
              "      <td>1.0</td>\n",
              "      <td>0</td>\n",
              "      <td>15</td>\n",
              "      <td>3</td>\n",
              "    </tr>\n",
              "  </tbody>\n",
              "</table>\n",
              "</div>"
            ],
            "text/plain": [
              "   situacao  qsemana1  qsemana2  qsemana3  ...  madrugada  manha  tarde  noite\n",
              "0         0         0         0        18  ...        1.0      0     31     17\n",
              "1         0         0         0         4  ...       12.0      0     15      5\n",
              "2         0         0         0         0  ...        0.0      0      2      3\n",
              "3         0         0         0         0  ...        0.0      0     17      0\n",
              "4         0         0         0         0  ...        1.0      0     15      3\n",
              "\n",
              "[5 rows x 13 columns]"
            ]
          },
          "metadata": {
            "tags": []
          },
          "execution_count": 80
        }
      ]
    },
    {
      "cell_type": "code",
      "metadata": {
        "id": "P0UVkhaM227B",
        "colab_type": "code",
        "colab": {
          "base_uri": "https://localhost:8080/",
          "height": 111
        },
        "outputId": "a8015b6f-501d-44fd-83ce-f23697b3efa7"
      },
      "source": [
        "data = datasetBayes\n",
        "target = datasetBayes[\"situacao\"]\n",
        "data.drop(columns=[\"situacao\"],inplace=True)\n",
        "data.head(2)"
      ],
      "execution_count": 81,
      "outputs": [
        {
          "output_type": "execute_result",
          "data": {
            "text/html": [
              "<div>\n",
              "<style scoped>\n",
              "    .dataframe tbody tr th:only-of-type {\n",
              "        vertical-align: middle;\n",
              "    }\n",
              "\n",
              "    .dataframe tbody tr th {\n",
              "        vertical-align: top;\n",
              "    }\n",
              "\n",
              "    .dataframe thead th {\n",
              "        text-align: right;\n",
              "    }\n",
              "</style>\n",
              "<table border=\"1\" class=\"dataframe\">\n",
              "  <thead>\n",
              "    <tr style=\"text-align: right;\">\n",
              "      <th></th>\n",
              "      <th>qsemana1</th>\n",
              "      <th>qsemana2</th>\n",
              "      <th>qsemana3</th>\n",
              "      <th>qsemana4</th>\n",
              "      <th>qsemana5</th>\n",
              "      <th>qsemana6</th>\n",
              "      <th>qsemana7</th>\n",
              "      <th>qsemana8</th>\n",
              "      <th>madrugada</th>\n",
              "      <th>manha</th>\n",
              "      <th>tarde</th>\n",
              "      <th>noite</th>\n",
              "    </tr>\n",
              "  </thead>\n",
              "  <tbody>\n",
              "    <tr>\n",
              "      <th>0</th>\n",
              "      <td>0</td>\n",
              "      <td>0</td>\n",
              "      <td>18</td>\n",
              "      <td>0</td>\n",
              "      <td>9</td>\n",
              "      <td>0</td>\n",
              "      <td>22</td>\n",
              "      <td>0</td>\n",
              "      <td>1.0</td>\n",
              "      <td>0</td>\n",
              "      <td>31</td>\n",
              "      <td>17</td>\n",
              "    </tr>\n",
              "    <tr>\n",
              "      <th>1</th>\n",
              "      <td>0</td>\n",
              "      <td>0</td>\n",
              "      <td>4</td>\n",
              "      <td>11</td>\n",
              "      <td>4</td>\n",
              "      <td>0</td>\n",
              "      <td>10</td>\n",
              "      <td>3</td>\n",
              "      <td>12.0</td>\n",
              "      <td>0</td>\n",
              "      <td>15</td>\n",
              "      <td>5</td>\n",
              "    </tr>\n",
              "  </tbody>\n",
              "</table>\n",
              "</div>"
            ],
            "text/plain": [
              "   qsemana1  qsemana2  qsemana3  qsemana4  ...  madrugada  manha  tarde  noite\n",
              "0         0         0        18         0  ...        1.0      0     31     17\n",
              "1         0         0         4        11  ...       12.0      0     15      5\n",
              "\n",
              "[2 rows x 12 columns]"
            ]
          },
          "metadata": {
            "tags": []
          },
          "execution_count": 81
        }
      ]
    },
    {
      "cell_type": "code",
      "metadata": {
        "id": "sYYRiTSG221Y",
        "colab_type": "code",
        "colab": {}
      },
      "source": [
        "#import the necessary module\n",
        "from sklearn.model_selection import train_test_split\n",
        "#split data set into train and test sets\n",
        "data_train, data_test, target_train, target_test = train_test_split(data,target, test_size = 0.30, random_state = 10)"
      ],
      "execution_count": 0,
      "outputs": []
    },
    {
      "cell_type": "code",
      "metadata": {
        "id": "leHsbiXV22wc",
        "colab_type": "code",
        "colab": {
          "base_uri": "https://localhost:8080/",
          "height": 34
        },
        "outputId": "3c224156-6b52-4864-8ee0-0d1d3f1d9f3f"
      },
      "source": [
        "from sklearn.naive_bayes import GaussianNB\n",
        "from sklearn.metrics import accuracy_score\n",
        "#create an object of the type GaussianNB\n",
        "gnb = GaussianNB()\n",
        "#train the algorithm on training data and predict using the testing data\n",
        "pred = gnb.fit(data_train, target_train).predict(data_test)\n",
        "#print(pred.tolist())\n",
        "#print the accuracy score of the model\n",
        "print(\"Naive-Bayes accuracy : \",accuracy_score(target_test, pred, normalize = True))"
      ],
      "execution_count": 83,
      "outputs": [
        {
          "output_type": "stream",
          "text": [
            "Naive-Bayes accuracy :  0.5571428571428572\n"
          ],
          "name": "stdout"
        }
      ]
    },
    {
      "cell_type": "code",
      "metadata": {
        "id": "J0-81mMm22oZ",
        "colab_type": "code",
        "colab": {
          "base_uri": "https://localhost:8080/",
          "height": 68
        },
        "outputId": "940aa77f-6d95-4033-eaff-e213ab2ff7e8"
      },
      "source": [
        "from sklearn.svm import LinearSVC\n",
        "from sklearn.metrics import accuracy_score\n",
        "#create an object of type LinearSVC\n",
        "svc_model = LinearSVC(random_state=0)\n",
        "#train the algorithm on training data and predict using the testing data\n",
        "pred = svc_model.fit(data_train, target_train).predict(data_test)\n",
        "#print the accuracy score of the model\n",
        "print(\"LinearSVC accuracy : \",accuracy_score(target_test, pred, normalize = True))"
      ],
      "execution_count": 84,
      "outputs": [
        {
          "output_type": "stream",
          "text": [
            "LinearSVC accuracy :  0.6\n"
          ],
          "name": "stdout"
        },
        {
          "output_type": "stream",
          "text": [
            "/usr/local/lib/python3.6/dist-packages/sklearn/svm/base.py:929: ConvergenceWarning: Liblinear failed to converge, increase the number of iterations.\n",
            "  \"the number of iterations.\", ConvergenceWarning)\n"
          ],
          "name": "stderr"
        }
      ]
    },
    {
      "cell_type": "code",
      "metadata": {
        "id": "OLpKO3vt22jf",
        "colab_type": "code",
        "colab": {
          "base_uri": "https://localhost:8080/",
          "height": 34
        },
        "outputId": "f9d4cfd6-be85-42cf-fbb0-4fb08c56237e"
      },
      "source": [
        "#import necessary modules\n",
        "from sklearn.neighbors import KNeighborsClassifier\n",
        "from sklearn.metrics import accuracy_score\n",
        "#create object of the lassifier\n",
        "neigh = KNeighborsClassifier(n_neighbors=3)\n",
        "#Train the algorithm\n",
        "neigh.fit(data_train, target_train)\n",
        "# predict the response\n",
        "pred = neigh.predict(data_test)\n",
        "# evaluate accuracy\n",
        "print (\"KNeighbors accuracy score : \",accuracy_score(target_test, pred))"
      ],
      "execution_count": 85,
      "outputs": [
        {
          "output_type": "stream",
          "text": [
            "KNeighbors accuracy score :  0.5714285714285714\n"
          ],
          "name": "stdout"
        }
      ]
    },
    {
      "cell_type": "code",
      "metadata": {
        "id": "c4PQdqeq22aQ",
        "colab_type": "code",
        "colab": {
          "base_uri": "https://localhost:8080/",
          "height": 401
        },
        "outputId": "2e4f5a9b-a52f-4e2f-eaea-f58ae7152eb2"
      },
      "source": [
        "from yellowbrick.classifier import ClassificationReport\n",
        "# Instantiate the classification model and visualizer\n",
        "visualizer = ClassificationReport(gnb, classes=[\"REPROVADO\", \"APROVADO\"])\n",
        "visualizer.fit(data_train, target_train) # Fit the training data to the visualizer\n",
        "visualizer.score(data_test, target_test) # Evaluate the model on the test data\n",
        "g = visualizer.poof() # Draw/show/poof the data"
      ],
      "execution_count": 86,
      "outputs": [
        {
          "output_type": "display_data",
          "data": {
            "image/png": "[encoded data removed]",
            "text/plain": [
              "<Figure size 576x396 with 2 Axes>"
            ]
          },
          "metadata": {
            "tags": []
          }
        }
      ]
    },
    {
      "cell_type": "code",
      "metadata": {
        "id": "wykB8e4x21WG",
        "colab_type": "code",
        "colab": {
          "base_uri": "https://localhost:8080/",
          "height": 435
        },
        "outputId": "f6f0899e-6835-4aa4-e91a-afaced55b48d"
      },
      "source": [
        "from yellowbrick.classifier import ClassificationReport\n",
        "# Instantiate the classification model and visualizer\n",
        "visualizer = ClassificationReport(svc_model, classes=[\"REPROVADO\", \"APROVADO\"])\n",
        "visualizer.fit(data_train, target_train) # Fit the training data to the visualizer\n",
        "visualizer.score(data_test, target_test) # Evaluate the model on the test data\n",
        "g = visualizer.poof() # Draw/show/poof the data"
      ],
      "execution_count": 87,
      "outputs": [
        {
          "output_type": "stream",
          "text": [
            "/usr/local/lib/python3.6/dist-packages/sklearn/svm/base.py:929: ConvergenceWarning: Liblinear failed to converge, increase the number of iterations.\n",
            "  \"the number of iterations.\", ConvergenceWarning)\n"
          ],
          "name": "stderr"
        },
        {
          "output_type": "display_data",
          "data": {
            "image/png": "[encoded data removed]",
            "text/plain": [
              "<Figure size 576x396 with 2 Axes>"
            ]
          },
          "metadata": {
            "tags": []
          }
        }
      ]
    },
    {
      "cell_type": "code",
      "metadata": {
        "id": "kmP9kHWJ216p",
        "colab_type": "code",
        "colab": {
          "base_uri": "https://localhost:8080/",
          "height": 401
        },
        "outputId": "fd1d2c72-c570-44c6-c8ab-1ce3ef7be7c4"
      },
      "source": [
        "from yellowbrick.classifier import ClassificationReport\n",
        "# Instantiate the classification model and visualizer\n",
        "visualizer = ClassificationReport(neigh, classes=[\"REPROVADO\",\"APROVADO\"])\n",
        "visualizer.fit(data_train, target_train) # Fit the training data to the visualizer\n",
        "visualizer.score(data_test, target_test) # Evaluate the model on the test data\n",
        "g = visualizer.poof() # Draw/show/poof the data"
      ],
      "execution_count": 88,
      "outputs": [
        {
          "output_type": "display_data",
          "data": {
            "image/png": "[encoded data removed]",
            "text/plain": [
              "<Figure size 576x396 with 2 Axes>"
            ]
          },
          "metadata": {
            "tags": []
          }
        }
      ]
    },
    {
      "cell_type": "markdown",
      "metadata": {
        "id": "unwOVywT-Qg_",
        "colab_type": "text"
      },
      "source": [
        "# Naive Bayes, Regressão Linear e KNN com dias que teve submissão por semana"
      ]
    },
    {
      "cell_type": "code",
      "metadata": {
        "id": "cq3tV_yk-gsC",
        "colab_type": "code",
        "colab": {
          "base_uri": "https://localhost:8080/",
          "height": 80
        },
        "outputId": "c71af8ab-eb24-4fb2-9ad1-4380ce2f5f2f"
      },
      "source": [
        "datasetBayes=table\n",
        "datasetBayes=datasetBayes.drop(columns=[\"tituloProva2\",\"tituloProva1\",\"idAluno\",\"ano\",\"matricula\",\"idTurma\",\"igualACeml45\",\"igualACeml123\",\"qsub4\",\"totalsub\",\"qsubp2\",\"qsubp1\",\"qsub5\",\"qsub3\",\"qsub2\",\"qsub1\",\"mediaProvas\",\"quantidadeProva2\",\"questoesFeitasProva2\",\"notaProva2\",\"quantidadeProva1\",\"questoesFeitasProva1\",\"notaProva1\",\"noite\",\"tarde\",\"manha\",\"madrugada\",\"qsemana1\",\"qsemana2\",\"qsemana3\",\"qsemana4\",\"qsemana5\",\"qsemana6\",\"qsemana7\",\"qsemana8\"])\n",
        "datasetBayes.head(1)"
      ],
      "execution_count": 97,
      "outputs": [
        {
          "output_type": "execute_result",
          "data": {
            "text/html": [
              "<div>\n",
              "<style scoped>\n",
              "    .dataframe tbody tr th:only-of-type {\n",
              "        vertical-align: middle;\n",
              "    }\n",
              "\n",
              "    .dataframe tbody tr th {\n",
              "        vertical-align: top;\n",
              "    }\n",
              "\n",
              "    .dataframe thead th {\n",
              "        text-align: right;\n",
              "    }\n",
              "</style>\n",
              "<table border=\"1\" class=\"dataframe\">\n",
              "  <thead>\n",
              "    <tr style=\"text-align: right;\">\n",
              "      <th></th>\n",
              "      <th>situacao</th>\n",
              "      <th>submeteu1</th>\n",
              "      <th>submeteu2</th>\n",
              "      <th>submeteu3</th>\n",
              "      <th>submeteu4</th>\n",
              "      <th>submeteu5</th>\n",
              "      <th>submeteu6</th>\n",
              "      <th>submeteu7</th>\n",
              "      <th>submeteu8</th>\n",
              "    </tr>\n",
              "  </thead>\n",
              "  <tbody>\n",
              "    <tr>\n",
              "      <th>0</th>\n",
              "      <td>0</td>\n",
              "      <td>0.0</td>\n",
              "      <td>0.0</td>\n",
              "      <td>1.0</td>\n",
              "      <td>0.0</td>\n",
              "      <td>1.0</td>\n",
              "      <td>0.0</td>\n",
              "      <td>2.0</td>\n",
              "      <td>0.0</td>\n",
              "    </tr>\n",
              "  </tbody>\n",
              "</table>\n",
              "</div>"
            ],
            "text/plain": [
              "   situacao  submeteu1  submeteu2  ...  submeteu6  submeteu7  submeteu8\n",
              "0         0        0.0        0.0  ...        0.0        2.0        0.0\n",
              "\n",
              "[1 rows x 9 columns]"
            ]
          },
          "metadata": {
            "tags": []
          },
          "execution_count": 97
        }
      ]
    },
    {
      "cell_type": "code",
      "metadata": {
        "id": "lcVjHpQl-yR3",
        "colab_type": "code",
        "colab": {
          "base_uri": "https://localhost:8080/",
          "height": 204
        },
        "outputId": "81560058-6b8c-4331-b468-c61def9ac028"
      },
      "source": [
        "#import the necessary module\n",
        "from sklearn import preprocessing\n",
        "# create the Labelencoder object\n",
        "le = preprocessing.LabelEncoder()\n",
        "#convert the categorical columns into numeric\n",
        "datasetBayes[\"situacao\"]                       = le.fit_transform(datasetBayes[\"situacao\"])\n",
        "datasetBayes[\"submeteu1\"]                      = le.fit_transform(datasetBayes[\"submeteu1\"])\n",
        "datasetBayes[\"submeteu2\"]                      = le.fit_transform(datasetBayes[\"submeteu2\"])\n",
        "datasetBayes[\"submeteu3\"]                      = le.fit_transform(datasetBayes[\"submeteu3\"])\n",
        "datasetBayes[\"submeteu4\"]                      = le.fit_transform(datasetBayes[\"submeteu4\"])\n",
        "datasetBayes[\"submeteu5\"]                      = le.fit_transform(datasetBayes[\"submeteu5\"])\n",
        "datasetBayes[\"submeteu6\"]                      = le.fit_transform(datasetBayes[\"submeteu6\"])\n",
        "datasetBayes[\"submeteu7\"]                      = le.fit_transform(datasetBayes[\"submeteu7\"])\n",
        "datasetBayes[\"submeteu8\"]                      = le.fit_transform(datasetBayes[\"submeteu8\"])\n",
        "\n",
        "datasetBayes.head()"
      ],
      "execution_count": 98,
      "outputs": [
        {
          "output_type": "execute_result",
          "data": {
            "text/html": [
              "<div>\n",
              "<style scoped>\n",
              "    .dataframe tbody tr th:only-of-type {\n",
              "        vertical-align: middle;\n",
              "    }\n",
              "\n",
              "    .dataframe tbody tr th {\n",
              "        vertical-align: top;\n",
              "    }\n",
              "\n",
              "    .dataframe thead th {\n",
              "        text-align: right;\n",
              "    }\n",
              "</style>\n",
              "<table border=\"1\" class=\"dataframe\">\n",
              "  <thead>\n",
              "    <tr style=\"text-align: right;\">\n",
              "      <th></th>\n",
              "      <th>situacao</th>\n",
              "      <th>submeteu1</th>\n",
              "      <th>submeteu2</th>\n",
              "      <th>submeteu3</th>\n",
              "      <th>submeteu4</th>\n",
              "      <th>submeteu5</th>\n",
              "      <th>submeteu6</th>\n",
              "      <th>submeteu7</th>\n",
              "      <th>submeteu8</th>\n",
              "    </tr>\n",
              "  </thead>\n",
              "  <tbody>\n",
              "    <tr>\n",
              "      <th>0</th>\n",
              "      <td>0</td>\n",
              "      <td>0</td>\n",
              "      <td>0</td>\n",
              "      <td>1</td>\n",
              "      <td>0</td>\n",
              "      <td>1</td>\n",
              "      <td>0</td>\n",
              "      <td>2</td>\n",
              "      <td>0</td>\n",
              "    </tr>\n",
              "    <tr>\n",
              "      <th>1</th>\n",
              "      <td>0</td>\n",
              "      <td>0</td>\n",
              "      <td>0</td>\n",
              "      <td>2</td>\n",
              "      <td>1</td>\n",
              "      <td>1</td>\n",
              "      <td>0</td>\n",
              "      <td>2</td>\n",
              "      <td>2</td>\n",
              "    </tr>\n",
              "    <tr>\n",
              "      <th>2</th>\n",
              "      <td>0</td>\n",
              "      <td>0</td>\n",
              "      <td>0</td>\n",
              "      <td>0</td>\n",
              "      <td>0</td>\n",
              "      <td>0</td>\n",
              "      <td>1</td>\n",
              "      <td>1</td>\n",
              "      <td>0</td>\n",
              "    </tr>\n",
              "    <tr>\n",
              "      <th>3</th>\n",
              "      <td>0</td>\n",
              "      <td>0</td>\n",
              "      <td>0</td>\n",
              "      <td>0</td>\n",
              "      <td>1</td>\n",
              "      <td>0</td>\n",
              "      <td>1</td>\n",
              "      <td>1</td>\n",
              "      <td>2</td>\n",
              "    </tr>\n",
              "    <tr>\n",
              "      <th>4</th>\n",
              "      <td>0</td>\n",
              "      <td>0</td>\n",
              "      <td>0</td>\n",
              "      <td>0</td>\n",
              "      <td>1</td>\n",
              "      <td>0</td>\n",
              "      <td>1</td>\n",
              "      <td>1</td>\n",
              "      <td>2</td>\n",
              "    </tr>\n",
              "  </tbody>\n",
              "</table>\n",
              "</div>"
            ],
            "text/plain": [
              "   situacao  submeteu1  submeteu2  ...  submeteu6  submeteu7  submeteu8\n",
              "0         0          0          0  ...          0          2          0\n",
              "1         0          0          0  ...          0          2          2\n",
              "2         0          0          0  ...          1          1          0\n",
              "3         0          0          0  ...          1          1          2\n",
              "4         0          0          0  ...          1          1          2\n",
              "\n",
              "[5 rows x 9 columns]"
            ]
          },
          "metadata": {
            "tags": []
          },
          "execution_count": 98
        }
      ]
    },
    {
      "cell_type": "code",
      "metadata": {
        "id": "MwfhDutB-4Wa",
        "colab_type": "code",
        "colab": {
          "base_uri": "https://localhost:8080/",
          "height": 111
        },
        "outputId": "1b237129-3e24-414b-c10f-4a06359ca822"
      },
      "source": [
        "data = datasetBayes\n",
        "target = datasetBayes[\"situacao\"]\n",
        "data.drop(columns=[\"situacao\"],inplace=True)\n",
        "data.head(2)"
      ],
      "execution_count": 99,
      "outputs": [
        {
          "output_type": "execute_result",
          "data": {
            "text/html": [
              "<div>\n",
              "<style scoped>\n",
              "    .dataframe tbody tr th:only-of-type {\n",
              "        vertical-align: middle;\n",
              "    }\n",
              "\n",
              "    .dataframe tbody tr th {\n",
              "        vertical-align: top;\n",
              "    }\n",
              "\n",
              "    .dataframe thead th {\n",
              "        text-align: right;\n",
              "    }\n",
              "</style>\n",
              "<table border=\"1\" class=\"dataframe\">\n",
              "  <thead>\n",
              "    <tr style=\"text-align: right;\">\n",
              "      <th></th>\n",
              "      <th>submeteu1</th>\n",
              "      <th>submeteu2</th>\n",
              "      <th>submeteu3</th>\n",
              "      <th>submeteu4</th>\n",
              "      <th>submeteu5</th>\n",
              "      <th>submeteu6</th>\n",
              "      <th>submeteu7</th>\n",
              "      <th>submeteu8</th>\n",
              "    </tr>\n",
              "  </thead>\n",
              "  <tbody>\n",
              "    <tr>\n",
              "      <th>0</th>\n",
              "      <td>0</td>\n",
              "      <td>0</td>\n",
              "      <td>1</td>\n",
              "      <td>0</td>\n",
              "      <td>1</td>\n",
              "      <td>0</td>\n",
              "      <td>2</td>\n",
              "      <td>0</td>\n",
              "    </tr>\n",
              "    <tr>\n",
              "      <th>1</th>\n",
              "      <td>0</td>\n",
              "      <td>0</td>\n",
              "      <td>2</td>\n",
              "      <td>1</td>\n",
              "      <td>1</td>\n",
              "      <td>0</td>\n",
              "      <td>2</td>\n",
              "      <td>2</td>\n",
              "    </tr>\n",
              "  </tbody>\n",
              "</table>\n",
              "</div>"
            ],
            "text/plain": [
              "   submeteu1  submeteu2  submeteu3  ...  submeteu6  submeteu7  submeteu8\n",
              "0          0          0          1  ...          0          2          0\n",
              "1          0          0          2  ...          0          2          2\n",
              "\n",
              "[2 rows x 8 columns]"
            ]
          },
          "metadata": {
            "tags": []
          },
          "execution_count": 99
        }
      ]
    },
    {
      "cell_type": "code",
      "metadata": {
        "id": "5OaFPn3V-4M-",
        "colab_type": "code",
        "colab": {}
      },
      "source": [
        "#import the necessary module\n",
        "from sklearn.model_selection import train_test_split\n",
        "#split data set into train and test sets\n",
        "data_train, data_test, target_train, target_test = train_test_split(data,target, test_size = 0.30, random_state = 10)"
      ],
      "execution_count": 0,
      "outputs": []
    },
    {
      "cell_type": "code",
      "metadata": {
        "id": "bHjQVr6u-30z",
        "colab_type": "code",
        "colab": {
          "base_uri": "https://localhost:8080/",
          "height": 34
        },
        "outputId": "f19cdbc3-f632-4107-a60d-927df7c49d21"
      },
      "source": [
        "from sklearn.naive_bayes import GaussianNB\n",
        "from sklearn.metrics import accuracy_score\n",
        "#create an object of the type GaussianNB\n",
        "gnb = GaussianNB()\n",
        "#train the algorithm on training data and predict using the testing data\n",
        "pred = gnb.fit(data_train, target_train).predict(data_test)\n",
        "#print(pred.tolist())\n",
        "#print the accuracy score of the model\n",
        "print(\"Naive-Bayes accuracy : \",accuracy_score(target_test, pred, normalize = True))"
      ],
      "execution_count": 101,
      "outputs": [
        {
          "output_type": "stream",
          "text": [
            "Naive-Bayes accuracy :  0.5357142857142857\n"
          ],
          "name": "stdout"
        }
      ]
    },
    {
      "cell_type": "code",
      "metadata": {
        "id": "Yqr1SRlq-3vu",
        "colab_type": "code",
        "colab": {
          "base_uri": "https://localhost:8080/",
          "height": 68
        },
        "outputId": "adab0975-1ada-4844-b100-58f71496b553"
      },
      "source": [
        "from sklearn.svm import LinearSVC\n",
        "from sklearn.metrics import accuracy_score\n",
        "#create an object of type LinearSVC\n",
        "svc_model = LinearSVC(random_state=0)\n",
        "#train the algorithm on training data and predict using the testing data\n",
        "pred = svc_model.fit(data_train, target_train).predict(data_test)\n",
        "#print the accuracy score of the model\n",
        "print(\"LinearSVC accuracy : \",accuracy_score(target_test, pred, normalize = True))"
      ],
      "execution_count": 102,
      "outputs": [
        {
          "output_type": "stream",
          "text": [
            "LinearSVC accuracy :  0.6071428571428571\n"
          ],
          "name": "stdout"
        },
        {
          "output_type": "stream",
          "text": [
            "/usr/local/lib/python3.6/dist-packages/sklearn/svm/base.py:929: ConvergenceWarning: Liblinear failed to converge, increase the number of iterations.\n",
            "  \"the number of iterations.\", ConvergenceWarning)\n"
          ],
          "name": "stderr"
        }
      ]
    },
    {
      "cell_type": "code",
      "metadata": {
        "id": "EfnsU27A-3sO",
        "colab_type": "code",
        "colab": {
          "base_uri": "https://localhost:8080/",
          "height": 34
        },
        "outputId": "28f6b4fe-f071-4b6b-b412-57d3832d27af"
      },
      "source": [
        "#import necessary modules\n",
        "from sklearn.neighbors import KNeighborsClassifier\n",
        "from sklearn.metrics import accuracy_score\n",
        "#create object of the lassifier\n",
        "neigh = KNeighborsClassifier(n_neighbors=3)\n",
        "#Train the algorithm\n",
        "neigh.fit(data_train, target_train)\n",
        "# predict the response\n",
        "pred = neigh.predict(data_test)\n",
        "# evaluate accuracy\n",
        "print (\"KNeighbors accuracy score : \",accuracy_score(target_test, pred))"
      ],
      "execution_count": 103,
      "outputs": [
        {
          "output_type": "stream",
          "text": [
            "KNeighbors accuracy score :  0.6357142857142857\n"
          ],
          "name": "stdout"
        }
      ]
    },
    {
      "cell_type": "code",
      "metadata": {
        "id": "c26PhVyS-3nq",
        "colab_type": "code",
        "colab": {
          "base_uri": "https://localhost:8080/",
          "height": 401
        },
        "outputId": "6707fa81-18f6-4f3a-d0c5-a54c0dec5418"
      },
      "source": [
        "from yellowbrick.classifier import ClassificationReport\n",
        "# Instantiate the classification model and visualizer\n",
        "visualizer = ClassificationReport(gnb, classes=[\"REPROVADO\", \"APROVADO\"])\n",
        "visualizer.fit(data_train, target_train) # Fit the training data to the visualizer\n",
        "visualizer.score(data_test, target_test) # Evaluate the model on the test data\n",
        "g = visualizer.poof() # Draw/show/poof the data"
      ],
      "execution_count": 106,
      "outputs": [
        {
          "output_type": "display_data",
          "data": {
            "image/png": "[encoded data removed]",
            "text/plain": [
              "<Figure size 576x396 with 2 Axes>"
            ]
          },
          "metadata": {
            "tags": []
          }
        }
      ]
    },
    {
      "cell_type": "code",
      "metadata": {
        "id": "i5zzXJne-3iz",
        "colab_type": "code",
        "colab": {
          "base_uri": "https://localhost:8080/",
          "height": 401
        },
        "outputId": "bd29f08a-8bd9-42a2-ad0f-13ccd771d7d8"
      },
      "source": [
        "from yellowbrick.classifier import ClassificationReport\n",
        "# Instantiate the classification model and visualizer\n",
        "visualizer = ClassificationReport(gnb, classes=[\"REPROVADO\", \"APROVADO\"])\n",
        "visualizer.fit(data_train, target_train) # Fit the training data to the visualizer\n",
        "visualizer.score(data_test, target_test) # Evaluate the model on the test data\n",
        "g = visualizer.poof() # Draw/show/poof the data"
      ],
      "execution_count": 105,
      "outputs": [
        {
          "output_type": "display_data",
          "data": {
            "image/png": "[encoded data removed]",
            "text/plain": [
              "<Figure size 576x396 with 2 Axes>"
            ]
          },
          "metadata": {
            "tags": []
          }
        }
      ]
    },
    {
      "cell_type": "code",
      "metadata": {
        "id": "bNKUkKG6-3eg",
        "colab_type": "code",
        "colab": {
          "base_uri": "https://localhost:8080/",
          "height": 401
        },
        "outputId": "65a5c50f-40c9-4583-b501-ab8bfcebe81e"
      },
      "source": [
        "from yellowbrick.classifier import ClassificationReport\n",
        "# Instantiate the classification model and visualizer\n",
        "visualizer = ClassificationReport(neigh, classes=[\"REPROVADO\",\"APROVADO\"])\n",
        "visualizer.fit(data_train, target_train) # Fit the training data to the visualizer\n",
        "visualizer.score(data_test, target_test) # Evaluate the model on the test data\n",
        "g = visualizer.poof() # Draw/show/poof the data"
      ],
      "execution_count": 104,
      "outputs": [
        {
          "output_type": "display_data",
          "data": {
            "image/png": "[encoded data removed]",
            "text/plain": [
              "<Figure size 576x396 with 2 Axes>"
            ]
          },
          "metadata": {
            "tags": []
          }
        }
      ]
    },
    {
      "cell_type": "markdown",
      "metadata": {
        "id": "78eXhkQoC0ER",
        "colab_type": "text"
      },
      "source": [
        "# Naive Bayes, Regressão Linear e KNN com dias que teve submissão por semana e turno em que aluno submeteu"
      ]
    },
    {
      "cell_type": "code",
      "metadata": {
        "id": "3Naq657tC4M7",
        "colab_type": "code",
        "colab": {
          "base_uri": "https://localhost:8080/",
          "height": 80
        },
        "outputId": "2ae696f7-bef8-4147-fca1-c50e68bc9eb5"
      },
      "source": [
        "datasetBayes=table\n",
        "datasetBayes=datasetBayes.drop(columns=[\"tituloProva2\",\"tituloProva1\",\"idAluno\",\"ano\",\"matricula\",\"idTurma\",\"igualACeml45\",\"igualACeml123\",\"qsub4\",\"totalsub\",\"qsubp2\",\"qsubp1\",\"qsub5\",\"qsub3\",\"qsub2\",\"qsub1\",\"mediaProvas\",\"quantidadeProva2\",\"questoesFeitasProva2\",\"notaProva2\",\"quantidadeProva1\",\"questoesFeitasProva1\",\"notaProva1\",\"qsemana1\",\"qsemana2\",\"qsemana3\",\"qsemana4\",\"qsemana5\",\"qsemana6\",\"qsemana7\",\"qsemana8\"])\n",
        "datasetBayes.head(1)"
      ],
      "execution_count": 107,
      "outputs": [
        {
          "output_type": "execute_result",
          "data": {
            "text/html": [
              "<div>\n",
              "<style scoped>\n",
              "    .dataframe tbody tr th:only-of-type {\n",
              "        vertical-align: middle;\n",
              "    }\n",
              "\n",
              "    .dataframe tbody tr th {\n",
              "        vertical-align: top;\n",
              "    }\n",
              "\n",
              "    .dataframe thead th {\n",
              "        text-align: right;\n",
              "    }\n",
              "</style>\n",
              "<table border=\"1\" class=\"dataframe\">\n",
              "  <thead>\n",
              "    <tr style=\"text-align: right;\">\n",
              "      <th></th>\n",
              "      <th>situacao</th>\n",
              "      <th>submeteu1</th>\n",
              "      <th>submeteu2</th>\n",
              "      <th>submeteu3</th>\n",
              "      <th>submeteu4</th>\n",
              "      <th>submeteu5</th>\n",
              "      <th>submeteu6</th>\n",
              "      <th>submeteu7</th>\n",
              "      <th>submeteu8</th>\n",
              "      <th>madrugada</th>\n",
              "      <th>manha</th>\n",
              "      <th>tarde</th>\n",
              "      <th>noite</th>\n",
              "    </tr>\n",
              "  </thead>\n",
              "  <tbody>\n",
              "    <tr>\n",
              "      <th>0</th>\n",
              "      <td>0</td>\n",
              "      <td>0.0</td>\n",
              "      <td>0.0</td>\n",
              "      <td>1.0</td>\n",
              "      <td>0.0</td>\n",
              "      <td>1.0</td>\n",
              "      <td>0.0</td>\n",
              "      <td>2.0</td>\n",
              "      <td>0.0</td>\n",
              "      <td>1.0</td>\n",
              "      <td>0.0</td>\n",
              "      <td>32.0</td>\n",
              "      <td>17.0</td>\n",
              "    </tr>\n",
              "  </tbody>\n",
              "</table>\n",
              "</div>"
            ],
            "text/plain": [
              "   situacao  submeteu1  submeteu2  submeteu3  ...  madrugada  manha  tarde  noite\n",
              "0         0        0.0        0.0        1.0  ...        1.0    0.0   32.0   17.0\n",
              "\n",
              "[1 rows x 13 columns]"
            ]
          },
          "metadata": {
            "tags": []
          },
          "execution_count": 107
        }
      ]
    },
    {
      "cell_type": "code",
      "metadata": {
        "id": "aVOIzimpDYQD",
        "colab_type": "code",
        "colab": {
          "base_uri": "https://localhost:8080/",
          "height": 204
        },
        "outputId": "9a8f92e1-3904-4667-f85d-79e2e7a2b29e"
      },
      "source": [
        "#import the necessary module\n",
        "from sklearn import preprocessing\n",
        "# create the Labelencoder object\n",
        "le = preprocessing.LabelEncoder()\n",
        "#convert the categorical columns into numeric\n",
        "datasetBayes[\"situacao\"]                       = le.fit_transform(datasetBayes[\"situacao\"])\n",
        "datasetBayes[\"submeteu1\"]                      = le.fit_transform(datasetBayes[\"submeteu1\"])\n",
        "datasetBayes[\"submeteu2\"]                      = le.fit_transform(datasetBayes[\"submeteu2\"])\n",
        "datasetBayes[\"submeteu3\"]                      = le.fit_transform(datasetBayes[\"submeteu3\"])\n",
        "datasetBayes[\"submeteu4\"]                      = le.fit_transform(datasetBayes[\"submeteu4\"])\n",
        "datasetBayes[\"submeteu5\"]                      = le.fit_transform(datasetBayes[\"submeteu5\"])\n",
        "datasetBayes[\"submeteu6\"]                      = le.fit_transform(datasetBayes[\"submeteu6\"])\n",
        "datasetBayes[\"submeteu7\"]                      = le.fit_transform(datasetBayes[\"submeteu7\"])\n",
        "datasetBayes[\"submeteu8\"]                      = le.fit_transform(datasetBayes[\"submeteu8\"])\n",
        "datasetBayes[\"madrugada\t\"]                     = le.fit_transform(datasetBayes[\"madrugada\"])\n",
        "datasetBayes[\"manha\"]                          = le.fit_transform(datasetBayes[\"manha\"])\n",
        "datasetBayes[\"tarde\"]                          = le.fit_transform(datasetBayes[\"tarde\"])\n",
        "datasetBayes[\"noite\"]                          = le.fit_transform(datasetBayes[\"noite\"])\n",
        "\n",
        "datasetBayes.head()"
      ],
      "execution_count": 108,
      "outputs": [
        {
          "output_type": "execute_result",
          "data": {
            "text/html": [
              "<div>\n",
              "<style scoped>\n",
              "    .dataframe tbody tr th:only-of-type {\n",
              "        vertical-align: middle;\n",
              "    }\n",
              "\n",
              "    .dataframe tbody tr th {\n",
              "        vertical-align: top;\n",
              "    }\n",
              "\n",
              "    .dataframe thead th {\n",
              "        text-align: right;\n",
              "    }\n",
              "</style>\n",
              "<table border=\"1\" class=\"dataframe\">\n",
              "  <thead>\n",
              "    <tr style=\"text-align: right;\">\n",
              "      <th></th>\n",
              "      <th>situacao</th>\n",
              "      <th>submeteu1</th>\n",
              "      <th>submeteu2</th>\n",
              "      <th>submeteu3</th>\n",
              "      <th>submeteu4</th>\n",
              "      <th>submeteu5</th>\n",
              "      <th>submeteu6</th>\n",
              "      <th>submeteu7</th>\n",
              "      <th>submeteu8</th>\n",
              "      <th>madrugada</th>\n",
              "      <th>manha</th>\n",
              "      <th>tarde</th>\n",
              "      <th>noite</th>\n",
              "      <th>madrugada</th>\n",
              "    </tr>\n",
              "  </thead>\n",
              "  <tbody>\n",
              "    <tr>\n",
              "      <th>0</th>\n",
              "      <td>0</td>\n",
              "      <td>0</td>\n",
              "      <td>0</td>\n",
              "      <td>1</td>\n",
              "      <td>0</td>\n",
              "      <td>1</td>\n",
              "      <td>0</td>\n",
              "      <td>2</td>\n",
              "      <td>0</td>\n",
              "      <td>1.0</td>\n",
              "      <td>0</td>\n",
              "      <td>31</td>\n",
              "      <td>17</td>\n",
              "      <td>1</td>\n",
              "    </tr>\n",
              "    <tr>\n",
              "      <th>1</th>\n",
              "      <td>0</td>\n",
              "      <td>0</td>\n",
              "      <td>0</td>\n",
              "      <td>2</td>\n",
              "      <td>1</td>\n",
              "      <td>1</td>\n",
              "      <td>0</td>\n",
              "      <td>2</td>\n",
              "      <td>2</td>\n",
              "      <td>12.0</td>\n",
              "      <td>0</td>\n",
              "      <td>15</td>\n",
              "      <td>5</td>\n",
              "      <td>12</td>\n",
              "    </tr>\n",
              "    <tr>\n",
              "      <th>2</th>\n",
              "      <td>0</td>\n",
              "      <td>0</td>\n",
              "      <td>0</td>\n",
              "      <td>0</td>\n",
              "      <td>0</td>\n",
              "      <td>0</td>\n",
              "      <td>1</td>\n",
              "      <td>1</td>\n",
              "      <td>0</td>\n",
              "      <td>0.0</td>\n",
              "      <td>0</td>\n",
              "      <td>2</td>\n",
              "      <td>3</td>\n",
              "      <td>0</td>\n",
              "    </tr>\n",
              "    <tr>\n",
              "      <th>3</th>\n",
              "      <td>0</td>\n",
              "      <td>0</td>\n",
              "      <td>0</td>\n",
              "      <td>0</td>\n",
              "      <td>1</td>\n",
              "      <td>0</td>\n",
              "      <td>1</td>\n",
              "      <td>1</td>\n",
              "      <td>2</td>\n",
              "      <td>0.0</td>\n",
              "      <td>0</td>\n",
              "      <td>17</td>\n",
              "      <td>0</td>\n",
              "      <td>0</td>\n",
              "    </tr>\n",
              "    <tr>\n",
              "      <th>4</th>\n",
              "      <td>0</td>\n",
              "      <td>0</td>\n",
              "      <td>0</td>\n",
              "      <td>0</td>\n",
              "      <td>1</td>\n",
              "      <td>0</td>\n",
              "      <td>1</td>\n",
              "      <td>1</td>\n",
              "      <td>2</td>\n",
              "      <td>1.0</td>\n",
              "      <td>0</td>\n",
              "      <td>15</td>\n",
              "      <td>3</td>\n",
              "      <td>1</td>\n",
              "    </tr>\n",
              "  </tbody>\n",
              "</table>\n",
              "</div>"
            ],
            "text/plain": [
              "   situacao  submeteu1  submeteu2  submeteu3  ...  manha  tarde  noite  madrugada\\t\n",
              "0         0          0          0          1  ...      0     31     17            1\n",
              "1         0          0          0          2  ...      0     15      5           12\n",
              "2         0          0          0          0  ...      0      2      3            0\n",
              "3         0          0          0          0  ...      0     17      0            0\n",
              "4         0          0          0          0  ...      0     15      3            1\n",
              "\n",
              "[5 rows x 14 columns]"
            ]
          },
          "metadata": {
            "tags": []
          },
          "execution_count": 108
        }
      ]
    },
    {
      "cell_type": "code",
      "metadata": {
        "id": "avR-VOwCDYLP",
        "colab_type": "code",
        "colab": {
          "base_uri": "https://localhost:8080/",
          "height": 111
        },
        "outputId": "cf3123a9-8cd6-4099-8b1e-323aaaf16032"
      },
      "source": [
        "data = datasetBayes\n",
        "target = datasetBayes[\"situacao\"]\n",
        "data.drop(columns=[\"situacao\"],inplace=True)\n",
        "data.head(2)"
      ],
      "execution_count": 109,
      "outputs": [
        {
          "output_type": "execute_result",
          "data": {
            "text/html": [
              "<div>\n",
              "<style scoped>\n",
              "    .dataframe tbody tr th:only-of-type {\n",
              "        vertical-align: middle;\n",
              "    }\n",
              "\n",
              "    .dataframe tbody tr th {\n",
              "        vertical-align: top;\n",
              "    }\n",
              "\n",
              "    .dataframe thead th {\n",
              "        text-align: right;\n",
              "    }\n",
              "</style>\n",
              "<table border=\"1\" class=\"dataframe\">\n",
              "  <thead>\n",
              "    <tr style=\"text-align: right;\">\n",
              "      <th></th>\n",
              "      <th>submeteu1</th>\n",
              "      <th>submeteu2</th>\n",
              "      <th>submeteu3</th>\n",
              "      <th>submeteu4</th>\n",
              "      <th>submeteu5</th>\n",
              "      <th>submeteu6</th>\n",
              "      <th>submeteu7</th>\n",
              "      <th>submeteu8</th>\n",
              "      <th>madrugada</th>\n",
              "      <th>manha</th>\n",
              "      <th>tarde</th>\n",
              "      <th>noite</th>\n",
              "      <th>madrugada</th>\n",
              "    </tr>\n",
              "  </thead>\n",
              "  <tbody>\n",
              "    <tr>\n",
              "      <th>0</th>\n",
              "      <td>0</td>\n",
              "      <td>0</td>\n",
              "      <td>1</td>\n",
              "      <td>0</td>\n",
              "      <td>1</td>\n",
              "      <td>0</td>\n",
              "      <td>2</td>\n",
              "      <td>0</td>\n",
              "      <td>1.0</td>\n",
              "      <td>0</td>\n",
              "      <td>31</td>\n",
              "      <td>17</td>\n",
              "      <td>1</td>\n",
              "    </tr>\n",
              "    <tr>\n",
              "      <th>1</th>\n",
              "      <td>0</td>\n",
              "      <td>0</td>\n",
              "      <td>2</td>\n",
              "      <td>1</td>\n",
              "      <td>1</td>\n",
              "      <td>0</td>\n",
              "      <td>2</td>\n",
              "      <td>2</td>\n",
              "      <td>12.0</td>\n",
              "      <td>0</td>\n",
              "      <td>15</td>\n",
              "      <td>5</td>\n",
              "      <td>12</td>\n",
              "    </tr>\n",
              "  </tbody>\n",
              "</table>\n",
              "</div>"
            ],
            "text/plain": [
              "   submeteu1  submeteu2  submeteu3  submeteu4  ...  manha  tarde  noite  madrugada\\t\n",
              "0          0          0          1          0  ...      0     31     17            1\n",
              "1          0          0          2          1  ...      0     15      5           12\n",
              "\n",
              "[2 rows x 13 columns]"
            ]
          },
          "metadata": {
            "tags": []
          },
          "execution_count": 109
        }
      ]
    },
    {
      "cell_type": "code",
      "metadata": {
        "id": "tm8xRU3lDYHE",
        "colab_type": "code",
        "colab": {}
      },
      "source": [
        "#import the necessary module\n",
        "from sklearn.model_selection import train_test_split\n",
        "#split data set into train and test sets\n",
        "data_train, data_test, target_train, target_test = train_test_split(data,target, test_size = 0.30, random_state = 10)"
      ],
      "execution_count": 0,
      "outputs": []
    },
    {
      "cell_type": "code",
      "metadata": {
        "id": "cImCgUdnDYCj",
        "colab_type": "code",
        "colab": {
          "base_uri": "https://localhost:8080/",
          "height": 34
        },
        "outputId": "9b6e2275-35c0-441f-d3ad-e6d8efe32d54"
      },
      "source": [
        "from sklearn.naive_bayes import GaussianNB\n",
        "from sklearn.metrics import accuracy_score\n",
        "#create an object of the type GaussianNB\n",
        "gnb = GaussianNB()\n",
        "#train the algorithm on training data and predict using the testing data\n",
        "pred = gnb.fit(data_train, target_train).predict(data_test)\n",
        "#print(pred.tolist())\n",
        "#print the accuracy score of the model\n",
        "print(\"Naive-Bayes accuracy : \",accuracy_score(target_test, pred, normalize = True))"
      ],
      "execution_count": 111,
      "outputs": [
        {
          "output_type": "stream",
          "text": [
            "Naive-Bayes accuracy :  0.5357142857142857\n"
          ],
          "name": "stdout"
        }
      ]
    },
    {
      "cell_type": "code",
      "metadata": {
        "id": "koaBtZdKDX8j",
        "colab_type": "code",
        "colab": {
          "base_uri": "https://localhost:8080/",
          "height": 68
        },
        "outputId": "b7c4172b-6137-4631-82ac-2028c966a05a"
      },
      "source": [
        "from sklearn.svm import LinearSVC\n",
        "from sklearn.metrics import accuracy_score\n",
        "#create an object of type LinearSVC\n",
        "svc_model = LinearSVC(random_state=0)\n",
        "#train the algorithm on training data and predict using the testing data\n",
        "pred = svc_model.fit(data_train, target_train).predict(data_test)\n",
        "#print the accuracy score of the model\n",
        "print(\"LinearSVC accuracy : \",accuracy_score(target_test, pred, normalize = True))"
      ],
      "execution_count": 112,
      "outputs": [
        {
          "output_type": "stream",
          "text": [
            "LinearSVC accuracy :  0.6785714285714286\n"
          ],
          "name": "stdout"
        },
        {
          "output_type": "stream",
          "text": [
            "/usr/local/lib/python3.6/dist-packages/sklearn/svm/base.py:929: ConvergenceWarning: Liblinear failed to converge, increase the number of iterations.\n",
            "  \"the number of iterations.\", ConvergenceWarning)\n"
          ],
          "name": "stderr"
        }
      ]
    },
    {
      "cell_type": "code",
      "metadata": {
        "id": "7k44UkqNDX5E",
        "colab_type": "code",
        "colab": {
          "base_uri": "https://localhost:8080/",
          "height": 34
        },
        "outputId": "30fbd160-c1b9-481d-cc19-a1265e78887b"
      },
      "source": [
        "#import necessary modules\n",
        "from sklearn.neighbors import KNeighborsClassifier\n",
        "from sklearn.metrics import accuracy_score\n",
        "#create object of the lassifier\n",
        "neigh = KNeighborsClassifier(n_neighbors=3)\n",
        "#Train the algorithm\n",
        "neigh.fit(data_train, target_train)\n",
        "# predict the response\n",
        "pred = neigh.predict(data_test)\n",
        "# evaluate accuracy\n",
        "print (\"KNeighbors accuracy score : \",accuracy_score(target_test, pred))"
      ],
      "execution_count": 113,
      "outputs": [
        {
          "output_type": "stream",
          "text": [
            "KNeighbors accuracy score :  0.6428571428571429\n"
          ],
          "name": "stdout"
        }
      ]
    },
    {
      "cell_type": "code",
      "metadata": {
        "id": "BmMg9bLiDXzf",
        "colab_type": "code",
        "colab": {
          "base_uri": "https://localhost:8080/",
          "height": 401
        },
        "outputId": "8e9e0f0e-0705-4f6a-fdcb-8744e43567cf"
      },
      "source": [
        "from yellowbrick.classifier import ClassificationReport\n",
        "# Instantiate the classification model and visualizer\n",
        "visualizer = ClassificationReport(gnb, classes=[\"REPROVADO\", \"APROVADO\"])\n",
        "visualizer.fit(data_train, target_train) # Fit the training data to the visualizer\n",
        "visualizer.score(data_test, target_test) # Evaluate the model on the test data\n",
        "g = visualizer.poof() # Draw/show/poof the data"
      ],
      "execution_count": 114,
      "outputs": [
        {
          "output_type": "display_data",
          "data": {
            "image/png": "[encoded data removed]",
            "text/plain": [
              "<Figure size 576x396 with 2 Axes>"
            ]
          },
          "metadata": {
            "tags": []
          }
        }
      ]
    },
    {
      "cell_type": "code",
      "metadata": {
        "id": "ZXnAMY26DXsx",
        "colab_type": "code",
        "colab": {
          "base_uri": "https://localhost:8080/",
          "height": 435
        },
        "outputId": "3ff696d9-18ca-4053-cdec-440d4b6c4561"
      },
      "source": [
        "from yellowbrick.classifier import ClassificationReport\n",
        "# Instantiate the classification model and visualizer\n",
        "visualizer = ClassificationReport(svc_model, classes=[\"REPROVADO\", \"APROVADO\"])\n",
        "visualizer.fit(data_train, target_train) # Fit the training data to the visualizer\n",
        "visualizer.score(data_test, target_test) # Evaluate the model on the test data\n",
        "g = visualizer.poof() # Draw/show/poof the data"
      ],
      "execution_count": 116,
      "outputs": [
        {
          "output_type": "stream",
          "text": [
            "/usr/local/lib/python3.6/dist-packages/sklearn/svm/base.py:929: ConvergenceWarning: Liblinear failed to converge, increase the number of iterations.\n",
            "  \"the number of iterations.\", ConvergenceWarning)\n"
          ],
          "name": "stderr"
        },
        {
          "output_type": "display_data",
          "data": {
            "image/png": "[encoded data removed]",
            "text/plain": [
              "<Figure size 576x396 with 2 Axes>"
            ]
          },
          "metadata": {
            "tags": []
          }
        }
      ]
    },
    {
      "cell_type": "code",
      "metadata": {
        "id": "rcvW2L5iDXfu",
        "colab_type": "code",
        "colab": {
          "base_uri": "https://localhost:8080/",
          "height": 401
        },
        "outputId": "84d67b61-2db9-42f8-b8d3-d090e2b51ffb"
      },
      "source": [
        "from yellowbrick.classifier import ClassificationReport\n",
        "# Instantiate the classification model and visualizer\n",
        "visualizer = ClassificationReport(neigh, classes=[\"REPROVADO\",\"APROVADO\"])\n",
        "visualizer.fit(data_train, target_train) # Fit the training data to the visualizer\n",
        "visualizer.score(data_test, target_test) # Evaluate the model on the test data\n",
        "g = visualizer.poof() # Draw/show/poof the data"
      ],
      "execution_count": 115,
      "outputs": [
        {
          "output_type": "display_data",
          "data": {
            "image/png": "[encoded data removed]",
            "text/plain": [
              "<Figure size 576x396 with 2 Axes>"
            ]
          },
          "metadata": {
            "tags": []
          }
        }
      ]
    },
    {
      "cell_type": "markdown",
      "metadata": {
        "id": "yzgJoe10h8YH",
        "colab_type": "text"
      },
      "source": [
        "# Todos os campos pra serem treinados"
      ]
    },
    {
      "cell_type": "code",
      "metadata": {
        "id": "fOCQiCmYh6z8",
        "colab_type": "code",
        "colab": {}
      },
      "source": [
        "#import the necessary module\n",
        "from sklearn import preprocessing\n",
        "# create the Labelencoder object\n",
        "le = preprocessing.LabelEncoder()\n",
        "#convert the categorical columns into numeric\n",
        "datasetBayes[\"notaProva1\"]                     = le.fit_transform(datasetBayes[\"notaProva1\"])\n",
        "datasetBayes[\"questoesFeitasProva1\"]           = le.fit_transform(datasetBayes[\"questoesFeitasProva1\"])\n",
        "datasetBayes[\"quantidadeProva1\"]               = le.fit_transform(datasetBayes[\"quantidadeProva1\"])\n",
        "datasetBayes[\"notaProva2\"]                     = le.fit_transform(datasetBayes[\"notaProva2\"])\n",
        "datasetBayes[\"questoesFeitasProva2\"]           = le.fit_transform(datasetBayes[\"questoesFeitasProva2\"])\n",
        "datasetBayes[\"quantidadeProva2\"]               = le.fit_transform(datasetBayes[\"quantidadeProva2\"])\n",
        "datasetBayes[\"mediaProvas\"]                    = le.fit_transform(datasetBayes[\"mediaProvas\"])\n",
        "datasetBayes[\"situacao\"]                       = le.fit_transform(datasetBayes[\"situacao\"])\n",
        "datasetBayes[\"qsub1\"]                          = le.fit_transform(datasetBayes[\"qsub1\"])\n",
        "datasetBayes[\"qsub2\"]                          = le.fit_transform(datasetBayes[\"qsub2\"])\n",
        "datasetBayes[\"qsub3\"]                          = le.fit_transform(datasetBayes[\"qsub3\"])\n",
        "datasetBayes[\"qsub4\"]                          = le.fit_transform(datasetBayes[\"qsub4\"])\n",
        "datasetBayes[\"qsub5\"]                          = le.fit_transform(datasetBayes[\"qsub5\"])\n",
        "datasetBayes[\"qsubp1\"]                         = le.fit_transform(datasetBayes[\"qsubp1\"])\n",
        "datasetBayes[\"qsubp2\"]                         = le.fit_transform(datasetBayes[\"qsubp2\"])\n",
        "datasetBayes[\"totalsub\"]                       = le.fit_transform(datasetBayes[\"totalsub\"])\n",
        "datasetBayes[\"igualACeml123\"]                  = le.fit_transform(datasetBayes[\"igualACeml123\"])\n",
        "datasetBayes[\"igualACeml45\"]                   = le.fit_transform(datasetBayes[\"igualACeml45\"])\n",
        "datasetBayes[\"qsemana1\"]                       = le.fit_transform(datasetBayes[\"qsemana1\"])\n",
        "datasetBayes[\"qsemana2\"]                       = le.fit_transform(datasetBayes[\"qsemana2\"])\n",
        "datasetBayes[\"qsemana3\"]                       = le.fit_transform(datasetBayes[\"qsemana3\"])\n",
        "datasetBayes[\"qsemana4\"]                       = le.fit_transform(datasetBayes[\"qsemana4\"])\n",
        "datasetBayes[\"qsemana5\"]                       = le.fit_transform(datasetBayes[\"qsemana5\"])\n",
        "datasetBayes[\"qsemana6\"]                       = le.fit_transform(datasetBayes[\"qsemana6\"])\n",
        "datasetBayes[\"qsemana7\"]                       = le.fit_transform(datasetBayes[\"qsemana7\"])\n",
        "datasetBayes[\"qsemana8\"]                       = le.fit_transform(datasetBayes[\"qsemana8\"])\n",
        "datasetBayes[\"submeteu1\"]                      = le.fit_transform(datasetBayes[\"submeteu1\"])\n",
        "datasetBayes[\"submeteu2\"]                      = le.fit_transform(datasetBayes[\"submeteu2\"])\n",
        "datasetBayes[\"submeteu3\"]                      = le.fit_transform(datasetBayes[\"submeteu3\"])\n",
        "datasetBayes[\"submeteu4\"]                      = le.fit_transform(datasetBayes[\"submeteu4\"])\n",
        "datasetBayes[\"submeteu5\"]                      = le.fit_transform(datasetBayes[\"submeteu5\"])\n",
        "datasetBayes[\"submeteu6\"]                      = le.fit_transform(datasetBayes[\"submeteu6\"])\n",
        "datasetBayes[\"submeteu7\"]                      = le.fit_transform(datasetBayes[\"submeteu7\"])\n",
        "datasetBayes[\"submeteu8\"]                      = le.fit_transform(datasetBayes[\"submeteu8\"])\n",
        "datasetBayes[\"madrugada\t\"]                     = le.fit_transform(datasetBayes[\"madrugada\"])\n",
        "datasetBayes[\"manha\"]                          = le.fit_transform(datasetBayes[\"manha\"])\n",
        "datasetBayes[\"tarde\"]                          = le.fit_transform(datasetBayes[\"tarde\"])\n",
        "datasetBayes[\"noite\"]                          = le.fit_transform(datasetBayes[\"noite\"])\n",
        "\n",
        "datasetBayes.head()"
      ],
      "execution_count": 0,
      "outputs": []
    }
  ]
}