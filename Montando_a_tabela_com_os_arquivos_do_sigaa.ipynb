{
  "nbformat": 4,
  "nbformat_minor": 0,
  "metadata": {
    "colab": {
      "name": "Montando a tabela com os arquivos do sigaa.ipynb",
      "provenance": [],
      "collapsed_sections": [
        "KjgNrDW4NrVx",
        "46lDLcmZqF4a",
        "Rwb7LC2HC9qP"
      ],
      "include_colab_link": true
    },
    "kernelspec": {
      "name": "python3",
      "display_name": "Python 3"
    }
  },
  "cells": [
    {
      "cell_type": "markdown",
      "metadata": {
        "id": "view-in-github",
        "colab_type": "text"
      },
      "source": [
        "<a href=\"https://colab.research.google.com/github/vilsonrodrigues/DataScienceEduc/blob/master/Montando_a_tabela_com_os_arquivos_do_sigaa.ipynb\" target=\"_parent\"><img src=\"https://colab.research.google.com/assets/colab-badge.svg\" alt=\"Open In Colab\"/></a>"
      ]
    },
    {
      "cell_type": "markdown",
      "metadata": {
        "id": "0WR_Nm3Y_AL1",
        "colab_type": "text"
      },
      "source": [
        "Arquivos vindos do sigaa da ufrn para transformar em um arquivo csv com os seguintes dados : matricula, situação,ano e turma"
      ]
    },
    {
      "cell_type": "markdown",
      "metadata": {
        "id": "JPFTddWpDMFW",
        "colab_type": "text"
      },
      "source": [
        "# Pré-processamento"
      ]
    },
    {
      "cell_type": "markdown",
      "metadata": {
        "id": "rx9Nf_vG7ZFu",
        "colab_type": "text"
      },
      "source": [
        "Importando bibliotecas"
      ]
    },
    {
      "cell_type": "code",
      "metadata": {
        "id": "fk7U05-uf72Q",
        "colab_type": "code",
        "colab": {}
      },
      "source": [
        "import pandas as pd\n",
        "import numpy as np"
      ],
      "execution_count": 0,
      "outputs": []
    },
    {
      "cell_type": "markdown",
      "metadata": {
        "id": "akV3jkQN7e0J",
        "colab_type": "text"
      },
      "source": [
        "Lendo as url's das notas"
      ]
    },
    {
      "cell_type": "code",
      "metadata": {
        "id": "FkAvW9zOgFJI",
        "colab_type": "code",
        "colab": {}
      },
      "source": [
        "notas_url = [\"https://raw.githubusercontent.com/repitta/CienciaDeDadosEducacionais/master/dadosUFRN/notas_discentes_2017.1.csv\",\n",
        "             \"https://raw.githubusercontent.com/repitta/CienciaDeDadosEducacionais/master/dadosUFRN/notas_discentes_2017.2.csv\",\n",
        "             \"https://raw.githubusercontent.com/repitta/CienciaDeDadosEducacionais/master/dadosUFRN/notas_discentes_2018.1.csv\",\n",
        "             \"https://raw.githubusercontent.com/repitta/CienciaDeDadosEducacionais/master/dadosUFRN/notas_discentes_2018.2.csv\",\n",
        "             \"https://raw.githubusercontent.com/repitta/CienciaDeDadosEducacionais/master/dadosUFRN/notas_discentes_2019.1.csv\",\n",
        "             \"https://raw.githubusercontent.com/repitta/CienciaDeDadosEducacionais/master/dadosUFRN/notas_discentes_2019.2.csv\"\n",
        "            ]\n",
        "carga_horaria = \"http://dados.ufrn.br/dataset/3fea67e8-6916-4ed0-aaa6-9a8ca06a9bdc/resource/9a3521d2-4bc5-4fda-93f0-f701c8a20727/download/componentes-curriculares-presenciais.csv\""
      ],
      "execution_count": 0,
      "outputs": []
    },
    {
      "cell_type": "markdown",
      "metadata": {
        "id": "sHOn-kE57l7c",
        "colab_type": "text"
      },
      "source": [
        "Lendo como CSV"
      ]
    },
    {
      "cell_type": "code",
      "metadata": {
        "id": "cMHVqrmxlsyy",
        "colab_type": "code",
        "colab": {}
      },
      "source": [
        "notas2017_1 = pd.read_csv(notas_url[0], sep=';', encoding = \"ISO-8859-1\" )\n",
        "notas2017_2 = pd.read_csv(notas_url[1], sep=';', encoding = \"ISO-8859-1\" )\n",
        "notas2018_1 = pd.read_csv(notas_url[2], sep=';', encoding = \"ISO-8859-1\" )\n",
        "notas2018_2 = pd.read_csv(notas_url[3], sep=';', encoding = \"ISO-8859-1\" )\n",
        "notas2019_1 = pd.read_csv(notas_url[4], sep=',', encoding = \"ISO-8859-1\" )\n",
        "notas2019_2 = pd.read_csv(notas_url[5], sep=',', encoding = \"ISO-8859-1\" )\n",
        "\n",
        "carga = pd.read_csv(carga_horaria,sep=\";\")\n",
        "carga = carga[[\"codigo\",\"ch_total\"]]"
      ],
      "execution_count": 0,
      "outputs": []
    },
    {
      "cell_type": "code",
      "metadata": {
        "id": "SsPzYrQW2hXy",
        "colab_type": "code",
        "outputId": "afdefc01-597a-4d24-88b6-2294c08b591f",
        "colab": {
          "base_uri": "https://localhost:8080/",
          "height": 252
        }
      },
      "source": [
        "notas2017_1.info()\n",
        "#carga.info()"
      ],
      "execution_count": 4,
      "outputs": [
        {
          "output_type": "stream",
          "text": [
            "<class 'pandas.core.frame.DataFrame'>\n",
            "RangeIndex: 23159 entries, 0 to 23158\n",
            "Data columns (total 9 columns):\n",
            "periodo      23159 non-null int64\n",
            "codigo       23159 non-null object\n",
            "nome         23159 non-null object\n",
            "turma        23159 non-null object\n",
            "siape        23159 non-null object\n",
            "horario      23159 non-null object\n",
            "matricula    23159 non-null int64\n",
            "nota         23159 non-null object\n",
            "situacao     23159 non-null object\n",
            "dtypes: int64(2), object(7)\n",
            "memory usage: 1.6+ MB\n"
          ],
          "name": "stdout"
        }
      ]
    },
    {
      "cell_type": "code",
      "metadata": {
        "id": "1eJhWhZ56Fdb",
        "colab_type": "code",
        "outputId": "3f3b7289-c4cb-4067-a235-8f506edbd387",
        "colab": {
          "base_uri": "https://localhost:8080/",
          "height": 101
        }
      },
      "source": [
        "notas2017_1[\"situacao\"].unique()"
      ],
      "execution_count": 5,
      "outputs": [
        {
          "output_type": "execute_result",
          "data": {
            "text/plain": [
              "array(['EXCLUIDA', 'DESISTENCIA', 'CANCELADO', 'APROVADO', 'REPROVADO',\n",
              "       'APROVADO POR NOTA', 'TRANCADO',\n",
              "       'REPROVADO POR MÉDIA E POR FALTAS', 'INDEFERIDO',\n",
              "       'REPROVADO POR NOTA', 'REPROVADO POR FALTAS',\n",
              "       'REPROVADO POR NOTA E FALTA', 'EM ESPERA'], dtype=object)"
            ]
          },
          "metadata": {
            "tags": []
          },
          "execution_count": 5
        }
      ]
    },
    {
      "cell_type": "markdown",
      "metadata": {
        "id": "Kd-L2Uga8_4G",
        "colab_type": "text"
      },
      "source": [
        "Função para converter para string"
      ]
    },
    {
      "cell_type": "code",
      "metadata": {
        "id": "Kzt_95jc0d2A",
        "colab_type": "code",
        "colab": {}
      },
      "source": [
        "def converteParaString(table):\n",
        "  table[\"codigo\"]     = table[\"codigo\"].astype(str)\n",
        "  table[\"disciplina\"] = table[\"disciplina\"].astype(str)\n",
        "  table[\"turma\"]      = table[\"turma\"].astype(str)\n",
        "  table[\"horario\"]    = table[\"horario\"].astype(str)\n",
        "  #table[\"matricula\"]  = table[\"matricula\"].astype(str)\n",
        "  table[\"situacao\"]   = table[\"situacao\"].astype(str)\n",
        "  return table"
      ],
      "execution_count": 0,
      "outputs": []
    },
    {
      "cell_type": "markdown",
      "metadata": {
        "id": "XyAtMiOwEhWb",
        "colab_type": "text"
      },
      "source": [
        "Função para converter todos os reprovados e aprovados diferentes para Reprovado e Aprovado"
      ]
    },
    {
      "cell_type": "code",
      "metadata": {
        "id": "FF1Tk5xPBcCi",
        "colab_type": "code",
        "colab": {}
      },
      "source": [
        "def fazerReplace(table):\n",
        "  table.loc[table[\"situacao\"].str.contains(\"REPROVADO\"),\"situacao\"] = \"REPROVADO\"\n",
        "  table.loc[table[\"situacao\"].str.contains(\"APROVADO\"),\"situacao\"] = \"APROVADO\"\n",
        "  return table"
      ],
      "execution_count": 0,
      "outputs": []
    },
    {
      "cell_type": "markdown",
      "metadata": {
        "id": "aWoRez4VePUA",
        "colab_type": "text"
      },
      "source": [
        "Função filtro para pegar apenas as situações onde o aluno conseguiu se matricular na disciplina"
      ]
    },
    {
      "cell_type": "code",
      "metadata": {
        "id": "jljZPRBfU45X",
        "colab_type": "code",
        "colab": {}
      },
      "source": [
        "def filtroSituacoesValidas(table):\n",
        "  table = table.loc[ (table[\"situacao\"].str.contains(\"APROVADO\")) |\n",
        "                     (table[\"situacao\"].str.contains(\"REPROVADO\")) \n",
        "                   ] \n",
        "  #tem disciplina que só contam para a horas complementares .. não tem nota\n",
        "  table = table.loc[ ~(table[\"nota\"].str.contains(\"-\")) ]\n",
        "  table[\"nota\"]   = table[\"nota\"].astype(float)\n",
        "  \n",
        "  return table"
      ],
      "execution_count": 0,
      "outputs": []
    },
    {
      "cell_type": "markdown",
      "metadata": {
        "id": "1jMnnSQlGfPI",
        "colab_type": "text"
      },
      "source": [
        "Função para montar a tabela com os atecedentes dos alunos"
      ]
    },
    {
      "cell_type": "code",
      "metadata": {
        "id": "OLiMXzpAPdd8",
        "colab_type": "code",
        "colab": {}
      },
      "source": [
        "def criaDataFrameAntecedentes(table):\n",
        "  table = table.merge(carga,on=\"codigo\")\n",
        "  \n",
        "  df = pd.DataFrame()\n",
        "  final = pd.DataFrame()\n",
        "\n",
        "  df = table.groupby(\"matricula\")[\"nota\"].mean()\n",
        "  df = df.reset_index()\n",
        "  df.rename(columns={\"nota\":\"media\"},inplace=True)\n",
        "  final = df\n",
        "\n",
        "  df = table.groupby(\"matricula\")[\"nota\"].min()\n",
        "  df = df.reset_index()\n",
        "  df.rename(columns={\"nota\":\"min\"},inplace=True)\n",
        "  final = final.merge(df,on=\"matricula\")\n",
        "\n",
        "  df = table.groupby(\"matricula\")[\"nota\"].max()\n",
        "  df = df.reset_index()\n",
        "  df.rename(columns={\"nota\":\"max\"},inplace=True)\n",
        "  final = final.merge(df,on=\"matricula\")\n",
        "\n",
        "  df = table.groupby(\"matricula\")[\"codigo\"].count()\n",
        "  df = df.reset_index()\n",
        "  df.rename(columns={\"codigo\":\"QuantDisciCursadas\"},inplace=True)\n",
        "  final = final.merge(df,on=\"matricula\")\n",
        "\n",
        "  df = table.groupby([\"matricula\",\"situacao\"])[\"codigo\"].count()\n",
        "  df = df.reset_index()\n",
        "  df.rename(columns={\"codigo\":\"quanSituacao\"},inplace=True)\n",
        "\n",
        "  aprovado = df.loc[df[\"situacao\"] == \"APROVADO\",:]\n",
        "  aprovado.rename(columns={\"quanSituacao\":\"quantAprovado\"},inplace=True)\n",
        "  final = final.merge(aprovado,on=\"matricula\")\n",
        "\n",
        "  reprovado = df.loc[df[\"situacao\"] == \"REPROVADO\",:]\n",
        "  reprovado.rename(columns={\"quanSituacao\":\"quantReprovado\"},inplace=True)\n",
        "  final = final.merge(reprovado,on=\"matricula\")\n",
        "  final = final.drop([\"situacao_x\",\"situacao_y\"],axis=1)\n",
        "\n",
        "  df = table.groupby(\"matricula\")[\"ch_total\"].sum()\n",
        "  df = df.reset_index()\n",
        "  df.rename(columns={\"ch_total\":\"carga_total\"},inplace=True)\n",
        "  final = final.merge(df,on=\"matricula\")\n",
        "\n",
        "  return final"
      ],
      "execution_count": 0,
      "outputs": []
    },
    {
      "cell_type": "markdown",
      "metadata": {
        "id": "ykzfkdBb8Eh2",
        "colab_type": "text"
      },
      "source": [
        "Função para adicionar os anos a cada semestre"
      ]
    },
    {
      "cell_type": "code",
      "metadata": {
        "id": "pj_5sD_Q17ms",
        "colab_type": "code",
        "colab": {}
      },
      "source": [
        "def concatena(table,i,ano):\n",
        "  if i%2==0:\n",
        "    ano += 1\n",
        "  table = fazerReplace(table)  \n",
        "  table[\"ano\"] = str(ano)+\".\"+str(table[\"periodo\"].iloc[0])\n",
        "  table.rename(columns={\"nome\":\"disciplina\"},inplace=True)\n",
        "  table.drop(columns=[\"periodo\",\"siape\"], inplace=True)\n",
        "  table = filtroSituacoesValidas(table)\n",
        "  table = converteParaString(table)\n",
        "  notas = table\n",
        "  table = criaDataFrameAntecedentes(table)\n",
        "  i+=1\n",
        "  return (table,i,ano,notas)"
      ],
      "execution_count": 0,
      "outputs": []
    },
    {
      "cell_type": "markdown",
      "metadata": {
        "id": "FJESV_njHIVD",
        "colab_type": "text"
      },
      "source": [
        "Criando 6 novos dataframes"
      ]
    },
    {
      "cell_type": "code",
      "metadata": {
        "id": "kIXH4FNAHIC7",
        "colab_type": "code",
        "colab": {}
      },
      "source": [
        "antecendentes2017_1 = pd.DataFrame()\n",
        "antecendentes2017_2 = pd.DataFrame()\n",
        "antecendentes2018_1 = pd.DataFrame()\n",
        "antecendentes2018_2 = pd.DataFrame()\n",
        "antecendentes2019_1 = pd.DataFrame()\n",
        "antecendentes2019_2 = pd.DataFrame()"
      ],
      "execution_count": 0,
      "outputs": []
    },
    {
      "cell_type": "markdown",
      "metadata": {
        "id": "ohSi-gHOMTUz",
        "colab_type": "text"
      },
      "source": [
        "Chamada da função de inserir o ano + período, nela também é chamada a de filtro de situação e a de conversão para string"
      ]
    },
    {
      "cell_type": "code",
      "metadata": {
        "id": "Qpkoncd7P3OZ",
        "colab_type": "code",
        "colab": {
          "base_uri": "https://localhost:8080/",
          "height": 101
        },
        "outputId": "c22758a6-7b88-47fa-a135-5eb37faace0e"
      },
      "source": [
        "ano = 2016\n",
        "i = 2\n",
        "(antecendentes2017_1,i,ano,notas2017_1) = concatena(notas2017_1,i,ano)\n",
        "(antecendentes2017_2,i,ano,notas2017_2) = concatena(notas2017_2,i,ano)\n",
        "(antecendentes2018_1,i,ano,notas2018_1) = concatena(notas2018_1,i,ano)\n",
        "(antecendentes2018_2,i,ano,notas2018_2) = concatena(notas2018_2,i,ano)\n",
        "(antecendentes2019_1,i,ano,notas2019_1) = concatena(notas2019_1,i,ano)\n",
        "#(atecendentes2019_2,i,ano,notas2019_2) = concatena(notas2019_2,i,ano)"
      ],
      "execution_count": 12,
      "outputs": [
        {
          "output_type": "stream",
          "text": [
            "/usr/local/lib/python3.6/dist-packages/pandas/core/frame.py:4025: SettingWithCopyWarning: \n",
            "A value is trying to be set on a copy of a slice from a DataFrame\n",
            "\n",
            "See the caveats in the documentation: http://pandas.pydata.org/pandas-docs/stable/indexing.html#indexing-view-versus-copy\n",
            "  return super(DataFrame, self).rename(**kwargs)\n"
          ],
          "name": "stderr"
        }
      ]
    },
    {
      "cell_type": "code",
      "metadata": {
        "id": "uujdJpUERNIq",
        "colab_type": "code",
        "outputId": "9882f625-e3d6-4ee3-c498-652e1db7b2b5",
        "colab": {
          "base_uri": "https://localhost:8080/",
          "height": 195
        }
      },
      "source": [
        "antecendentes2019_1.head()"
      ],
      "execution_count": 15,
      "outputs": [
        {
          "output_type": "execute_result",
          "data": {
            "text/html": [
              "<div>\n",
              "<style scoped>\n",
              "    .dataframe tbody tr th:only-of-type {\n",
              "        vertical-align: middle;\n",
              "    }\n",
              "\n",
              "    .dataframe tbody tr th {\n",
              "        vertical-align: top;\n",
              "    }\n",
              "\n",
              "    .dataframe thead th {\n",
              "        text-align: right;\n",
              "    }\n",
              "</style>\n",
              "<table border=\"1\" class=\"dataframe\">\n",
              "  <thead>\n",
              "    <tr style=\"text-align: right;\">\n",
              "      <th></th>\n",
              "      <th>matricula</th>\n",
              "      <th>media</th>\n",
              "      <th>min</th>\n",
              "      <th>max</th>\n",
              "      <th>QuantDisciCursadas</th>\n",
              "      <th>quantAprovado</th>\n",
              "      <th>quantReprovado</th>\n",
              "      <th>carga_total</th>\n",
              "    </tr>\n",
              "  </thead>\n",
              "  <tbody>\n",
              "    <tr>\n",
              "      <th>0</th>\n",
              "      <td>2010038789</td>\n",
              "      <td>4.300000</td>\n",
              "      <td>0.5</td>\n",
              "      <td>6.0</td>\n",
              "      <td>6</td>\n",
              "      <td>4</td>\n",
              "      <td>2</td>\n",
              "      <td>330</td>\n",
              "    </tr>\n",
              "    <tr>\n",
              "      <th>1</th>\n",
              "      <td>2010043367</td>\n",
              "      <td>3.500000</td>\n",
              "      <td>2.2</td>\n",
              "      <td>5.0</td>\n",
              "      <td>3</td>\n",
              "      <td>1</td>\n",
              "      <td>2</td>\n",
              "      <td>180</td>\n",
              "    </tr>\n",
              "    <tr>\n",
              "      <th>2</th>\n",
              "      <td>2012008050</td>\n",
              "      <td>4.971429</td>\n",
              "      <td>0.1</td>\n",
              "      <td>9.5</td>\n",
              "      <td>7</td>\n",
              "      <td>5</td>\n",
              "      <td>2</td>\n",
              "      <td>405</td>\n",
              "    </tr>\n",
              "    <tr>\n",
              "      <th>3</th>\n",
              "      <td>2012919877</td>\n",
              "      <td>4.975000</td>\n",
              "      <td>2.9</td>\n",
              "      <td>8.2</td>\n",
              "      <td>4</td>\n",
              "      <td>2</td>\n",
              "      <td>2</td>\n",
              "      <td>240</td>\n",
              "    </tr>\n",
              "    <tr>\n",
              "      <th>4</th>\n",
              "      <td>2012921113</td>\n",
              "      <td>5.600000</td>\n",
              "      <td>5.0</td>\n",
              "      <td>6.2</td>\n",
              "      <td>4</td>\n",
              "      <td>3</td>\n",
              "      <td>1</td>\n",
              "      <td>240</td>\n",
              "    </tr>\n",
              "  </tbody>\n",
              "</table>\n",
              "</div>"
            ],
            "text/plain": [
              "    matricula     media  min  ...  quantAprovado  quantReprovado  carga_total\n",
              "0  2010038789  4.300000  0.5  ...              4               2          330\n",
              "1  2010043367  3.500000  2.2  ...              1               2          180\n",
              "2  2012008050  4.971429  0.1  ...              5               2          405\n",
              "3  2012919877  4.975000  2.9  ...              2               2          240\n",
              "4  2012921113  5.600000  5.0  ...              3               1          240\n",
              "\n",
              "[5 rows x 8 columns]"
            ]
          },
          "metadata": {
            "tags": []
          },
          "execution_count": 15
        }
      ]
    },
    {
      "cell_type": "code",
      "metadata": {
        "id": "TaejqyTyP76u",
        "colab_type": "code",
        "colab": {
          "base_uri": "https://localhost:8080/",
          "height": 34
        },
        "outputId": "71d51922-f4c1-4a46-a89a-f22c27ff89d2"
      },
      "source": [
        "notas2017_1[\"situacao\"].unique()"
      ],
      "execution_count": 16,
      "outputs": [
        {
          "output_type": "execute_result",
          "data": {
            "text/plain": [
              "array(['APROVADO', 'REPROVADO'], dtype=object)"
            ]
          },
          "metadata": {
            "tags": []
          },
          "execution_count": 16
        }
      ]
    },
    {
      "cell_type": "markdown",
      "metadata": {
        "id": "WIzyiplZOsVu",
        "colab_type": "text"
      },
      "source": [
        "# Projeto Perseu - análise de solicitação de matricula"
      ]
    },
    {
      "cell_type": "markdown",
      "metadata": {
        "id": "ZyPzWHTDOxwH",
        "colab_type": "text"
      },
      "source": [
        "Media de todas as disciplinas\n",
        "\n",
        "Maior nota\n",
        "\n",
        "Menor nota\n",
        "\n",
        "Quantidade de disciplinas\n",
        "\n",
        "Carga horaria total\n",
        "\n",
        "Quantidade de aprovação e reprovação"
      ]
    },
    {
      "cell_type": "markdown",
      "metadata": {
        "id": "jN9yvF4aSHyi",
        "colab_type": "text"
      },
      "source": [
        "Função para concatenar o antecedente com a situação em matéria posterior"
      ]
    },
    {
      "cell_type": "code",
      "metadata": {
        "id": "usk3RpBuI5bt",
        "colab_type": "code",
        "colab": {}
      },
      "source": [
        "def concatenaAntecessoresComResultadoPosterior(table,situacaoPosterior,final):\n",
        "  disc =  situacaoPosterior[[\"codigo\", \"matricula\",\"situacao\"]]\n",
        "  table = pd.merge(table,disc,on=\"matricula\")\n",
        "  if(final.empty):\n",
        "    final = table\n",
        "  else:\n",
        "    final = pd.concat([final,table],ignore_index=True,axis=0)\n",
        "  return final"
      ],
      "execution_count": 0,
      "outputs": []
    },
    {
      "cell_type": "markdown",
      "metadata": {
        "id": "XHcZN9QWSTLe",
        "colab_type": "text"
      },
      "source": [
        "Chamada das funções onde armazena em dfFinal"
      ]
    },
    {
      "cell_type": "code",
      "metadata": {
        "id": "YemZcNAoKByM",
        "colab_type": "code",
        "colab": {}
      },
      "source": [
        "dfFinal = pd.DataFrame()\n",
        "dfFinal = concatenaAntecessoresComResultadoPosterior(antecendentes2017_1,notas2017_2,dfFinal)\n",
        "dfFinal = concatenaAntecessoresComResultadoPosterior(antecendentes2017_2,notas2018_1,dfFinal)\n",
        "dfFinal = concatenaAntecessoresComResultadoPosterior(antecendentes2018_1,notas2018_2,dfFinal)\n",
        "dfFinal = concatenaAntecessoresComResultadoPosterior(antecendentes2018_2,notas2018_1,dfFinal)"
      ],
      "execution_count": 0,
      "outputs": []
    },
    {
      "cell_type": "code",
      "metadata": {
        "id": "7-Dro0VPNVm-",
        "colab_type": "code",
        "colab": {
          "base_uri": "https://localhost:8080/",
          "height": 269
        },
        "outputId": "d821a74c-38c8-4ea5-b922-ce58e5ad7eb7"
      },
      "source": [
        "dfFinal.info()"
      ],
      "execution_count": 47,
      "outputs": [
        {
          "output_type": "stream",
          "text": [
            "<class 'pandas.core.frame.DataFrame'>\n",
            "RangeIndex: 27052 entries, 0 to 27051\n",
            "Data columns (total 10 columns):\n",
            "matricula             27052 non-null int64\n",
            "media                 27052 non-null float64\n",
            "min                   27052 non-null float64\n",
            "max                   27052 non-null float64\n",
            "QuantDisciCursadas    27052 non-null int64\n",
            "quantAprovado         27052 non-null int64\n",
            "quantReprovado        27052 non-null int64\n",
            "carga_total           27052 non-null int64\n",
            "codigo                27052 non-null object\n",
            "situacao              27052 non-null object\n",
            "dtypes: float64(3), int64(5), object(2)\n",
            "memory usage: 2.1+ MB\n"
          ],
          "name": "stdout"
        }
      ]
    },
    {
      "cell_type": "markdown",
      "metadata": {
        "id": "IzwPDQqoSZ_A",
        "colab_type": "text"
      },
      "source": [
        ""
      ]
    },
    {
      "cell_type": "code",
      "metadata": {
        "id": "-tK2FUDTSZ0g",
        "colab_type": "code",
        "colab": {
          "base_uri": "https://localhost:8080/",
          "height": 34
        },
        "outputId": "2af26484-bf6b-4d59-bc7c-bef40372fa01"
      },
      "source": [
        "len(dfFinal[\"codigo\"].unique())"
      ],
      "execution_count": 51,
      "outputs": [
        {
          "output_type": "execute_result",
          "data": {
            "text/plain": [
              "454"
            ]
          },
          "metadata": {
            "tags": []
          },
          "execution_count": 51
        }
      ]
    },
    {
      "cell_type": "code",
      "metadata": {
        "id": "ZSJ0R74WVn9A",
        "colab_type": "code",
        "colab": {
          "base_uri": "https://localhost:8080/",
          "height": 269
        },
        "outputId": "8e6b6ddb-d4af-4f6d-cf2b-d594df922aa6"
      },
      "source": [
        "disciplinasECT = dfFinal.loc[dfFinal[\"codigo\"].str.contains(\"ECT22\") | dfFinal[\"codigo\"].str.contains(\"ECT23\") | dfFinal[\"codigo\"].str.contains(\"ECT24\"),:]\n",
        "disciplinasECT.info()"
      ],
      "execution_count": 68,
      "outputs": [
        {
          "output_type": "stream",
          "text": [
            "<class 'pandas.core.frame.DataFrame'>\n",
            "Int64Index: 16111 entries, 1 to 26891\n",
            "Data columns (total 10 columns):\n",
            "matricula             16111 non-null int64\n",
            "media                 16111 non-null float64\n",
            "min                   16111 non-null float64\n",
            "max                   16111 non-null float64\n",
            "QuantDisciCursadas    16111 non-null int64\n",
            "quantAprovado         16111 non-null int64\n",
            "quantReprovado        16111 non-null int64\n",
            "carga_total           16111 non-null int64\n",
            "codigo                16111 non-null object\n",
            "situacao              16111 non-null object\n",
            "dtypes: float64(3), int64(5), object(2)\n",
            "memory usage: 1.4+ MB\n"
          ],
          "name": "stdout"
        }
      ]
    },
    {
      "cell_type": "code",
      "metadata": {
        "id": "hUUUrTxqWMIe",
        "colab_type": "code",
        "colab": {
          "base_uri": "https://localhost:8080/",
          "height": 101
        },
        "outputId": "1c4db375-ebf0-428a-fcb9-17aba272a5d8"
      },
      "source": [
        "disciplinasECT[\"codigo\"].unique()\n",
        "\n",
        "quantidade = disciplinasECT.groupby([\"codigo\"])[\"matricula\"].count().reset_index().sort_values(by=[\"matricula\"])\n",
        "quantidade.rename(columns={\"matricula\":\"quantidadeDeAlunosQueCursaram\"},inplace=True)\n",
        "quantidade.sort_values(by=[\"codigo\"])\n",
        "quantidade[\"codigo\"].unique()"
      ],
      "execution_count": 76,
      "outputs": [
        {
          "output_type": "execute_result",
          "data": {
            "text/plain": [
              "array(['ECT2415', 'ECT2403', 'ECT2402', 'ECT2307', 'ECT2413', 'ECT2414',\n",
              "       'ECT2416', 'ECT2411', 'ECT2304', 'ECT2412', 'ECT2401', 'ECT2207',\n",
              "       'ECT2306', 'ECT2201', 'ECT2301', 'ECT2303', 'ECT2305', 'ECT2204',\n",
              "       'ECT2202', 'ECT2206', 'ECT2302', 'ECT2203', 'ECT2205'],\n",
              "      dtype=object)"
            ]
          },
          "metadata": {
            "tags": []
          },
          "execution_count": 76
        }
      ]
    },
    {
      "cell_type": "code",
      "metadata": {
        "id": "vSmR3jEFSuwF",
        "colab_type": "code",
        "colab": {}
      },
      "source": [
        "quantidade = dfFinal.groupby([\"codigo\",\"\"])[\"matricula\"].count().reset_index().sort_values(by=[\"matricula\"])\n",
        "quantidade.rename(columns={\"matricula\":\"quantidadeDeAlunosQueCursaram\"},inplace=True)\n",
        "quantidade.tail(24)"
      ],
      "execution_count": 0,
      "outputs": []
    },
    {
      "cell_type": "code",
      "metadata": {
        "id": "HDHRRqCDZRV9",
        "colab_type": "code",
        "colab": {}
      },
      "source": [
        "for i in quantidade[\"codigo\"].unique():\n",
        "  df = dfFinal.loc[dfFinal[\"codigo\"]==i,:]\n",
        "  df = df.drop([\"Unnamed: 0\"], axis=1)\n",
        "  df.to_csv(\"df\"+str(i)+\".csv\")\n",
        "  "
      ],
      "execution_count": 0,
      "outputs": []
    },
    {
      "cell_type": "code",
      "metadata": {
        "id": "WrEtG_g1Z3fy",
        "colab_type": "code",
        "colab": {
          "base_uri": "https://localhost:8080/",
          "height": 195
        },
        "outputId": "17a33d10-60f9-4b2e-a7d9-7f0cdbd2abc0"
      },
      "source": [
        "df = pd.read_csv(\"dfECT2207.csv\")\n",
        "\n",
        "df.head()"
      ],
      "execution_count": 80,
      "outputs": [
        {
          "output_type": "execute_result",
          "data": {
            "text/html": [
              "<div>\n",
              "<style scoped>\n",
              "    .dataframe tbody tr th:only-of-type {\n",
              "        vertical-align: middle;\n",
              "    }\n",
              "\n",
              "    .dataframe tbody tr th {\n",
              "        vertical-align: top;\n",
              "    }\n",
              "\n",
              "    .dataframe thead th {\n",
              "        text-align: right;\n",
              "    }\n",
              "</style>\n",
              "<table border=\"1\" class=\"dataframe\">\n",
              "  <thead>\n",
              "    <tr style=\"text-align: right;\">\n",
              "      <th></th>\n",
              "      <th>Unnamed: 0</th>\n",
              "      <th>matricula</th>\n",
              "      <th>media</th>\n",
              "      <th>min</th>\n",
              "      <th>max</th>\n",
              "      <th>QuantDisciCursadas</th>\n",
              "      <th>quantAprovado</th>\n",
              "      <th>quantReprovado</th>\n",
              "      <th>carga_total</th>\n",
              "      <th>codigo</th>\n",
              "      <th>situacao</th>\n",
              "    </tr>\n",
              "  </thead>\n",
              "  <tbody>\n",
              "    <tr>\n",
              "      <th>0</th>\n",
              "      <td>154</td>\n",
              "      <td>2012008050</td>\n",
              "      <td>4.933333</td>\n",
              "      <td>3.7</td>\n",
              "      <td>5.7</td>\n",
              "      <td>3</td>\n",
              "      <td>2</td>\n",
              "      <td>1</td>\n",
              "      <td>180</td>\n",
              "      <td>ECT2207</td>\n",
              "      <td>REPROVADO</td>\n",
              "    </tr>\n",
              "    <tr>\n",
              "      <th>1</th>\n",
              "      <td>426</td>\n",
              "      <td>2012927879</td>\n",
              "      <td>2.340000</td>\n",
              "      <td>0.0</td>\n",
              "      <td>6.7</td>\n",
              "      <td>5</td>\n",
              "      <td>2</td>\n",
              "      <td>3</td>\n",
              "      <td>315</td>\n",
              "      <td>ECT2207</td>\n",
              "      <td>APROVADO</td>\n",
              "    </tr>\n",
              "    <tr>\n",
              "      <th>2</th>\n",
              "      <td>557</td>\n",
              "      <td>2013019371</td>\n",
              "      <td>6.100000</td>\n",
              "      <td>2.8</td>\n",
              "      <td>9.3</td>\n",
              "      <td>4</td>\n",
              "      <td>2</td>\n",
              "      <td>2</td>\n",
              "      <td>135</td>\n",
              "      <td>ECT2207</td>\n",
              "      <td>REPROVADO</td>\n",
              "    </tr>\n",
              "    <tr>\n",
              "      <th>3</th>\n",
              "      <td>673</td>\n",
              "      <td>2013022500</td>\n",
              "      <td>3.200000</td>\n",
              "      <td>1.4</td>\n",
              "      <td>5.3</td>\n",
              "      <td>4</td>\n",
              "      <td>1</td>\n",
              "      <td>3</td>\n",
              "      <td>300</td>\n",
              "      <td>ECT2207</td>\n",
              "      <td>REPROVADO</td>\n",
              "    </tr>\n",
              "    <tr>\n",
              "      <th>4</th>\n",
              "      <td>1080</td>\n",
              "      <td>2013090831</td>\n",
              "      <td>3.083333</td>\n",
              "      <td>0.0</td>\n",
              "      <td>7.5</td>\n",
              "      <td>6</td>\n",
              "      <td>2</td>\n",
              "      <td>4</td>\n",
              "      <td>420</td>\n",
              "      <td>ECT2207</td>\n",
              "      <td>APROVADO</td>\n",
              "    </tr>\n",
              "  </tbody>\n",
              "</table>\n",
              "</div>"
            ],
            "text/plain": [
              "   Unnamed: 0   matricula     media  ...  carga_total   codigo   situacao\n",
              "0         154  2012008050  4.933333  ...          180  ECT2207  REPROVADO\n",
              "1         426  2012927879  2.340000  ...          315  ECT2207   APROVADO\n",
              "2         557  2013019371  6.100000  ...          135  ECT2207  REPROVADO\n",
              "3         673  2013022500  3.200000  ...          300  ECT2207  REPROVADO\n",
              "4        1080  2013090831  3.083333  ...          420  ECT2207   APROVADO\n",
              "\n",
              "[5 rows x 11 columns]"
            ]
          },
          "metadata": {
            "tags": []
          },
          "execution_count": 80
        }
      ]
    },
    {
      "cell_type": "markdown",
      "metadata": {
        "id": "KjgNrDW4NrVx",
        "colab_type": "text"
      },
      "source": [
        "# Trecho para pegar as notas do segundo e do primeiro semestre - falta fazer"
      ]
    },
    {
      "cell_type": "markdown",
      "metadata": {
        "id": "MCIaapc0AoeZ",
        "colab_type": "text"
      },
      "source": [
        "Listas com as matérias que eu quero pegar"
      ]
    },
    {
      "cell_type": "code",
      "metadata": {
        "id": "4YK9dZrQsx-8",
        "colab_type": "code",
        "colab": {}
      },
      "source": [
        "semestre1 = [\"ECT2101\",\"ECT2102\",\"ECT2103\",\"ECT2104\",\"ECT2105\",\"ECT2106\"]\n",
        "semestre2 = [\"ECT2201\",\"ECT2202\",\"ECT2203\",\"ECT2204\",\"ECT2205\",\"ECT2206\",\"ECT2207\"]"
      ],
      "execution_count": 0,
      "outputs": []
    },
    {
      "cell_type": "code",
      "metadata": {
        "id": "EEb5c3Fd4jGb",
        "colab_type": "code",
        "colab": {}
      },
      "source": [
        "def selecionaDiscDoPrimeiroSemestreEumaDoSegundo(table,semestre1,semestre2,NotasSemestre1e2):\n",
        "  tabelaConcatenada = pd.DataFrame()\n",
        "  semestre1.append(semestre2[0])\n",
        "  for i in range(len(semestre1)):\n",
        "    tabelaDaVez = table[table[\"codigo\"] == semestre1[i]]\n",
        "    tabelaConcatenada = pd.concat([tabelaConcatenada,tabelaDaVez],ignore_index=True)\n",
        "  semestre1.pop(-1)  \n",
        "  semestre2.pop(0)\n",
        "  return (tabelaConcatenada,semestre1,semestre2)    "
      ],
      "execution_count": 0,
      "outputs": []
    },
    {
      "cell_type": "code",
      "metadata": {
        "id": "Cdw6rbsg-LYs",
        "colab_type": "code",
        "colab": {}
      },
      "source": [
        "NotasSemestre1e2 = pd.DataFrame()\n",
        "(NotasSemestre1e2,semestre1,semestre2) = selecionaDiscDoPrimeiroSemestreEumaDoSegundo(notas2017_1,semestre1,semestre2,NotasSemestre1e2)\n",
        "(NotasSemestre1e2,semestre1,semestre2) = selecionaDiscDoPrimeiroSemestreEumaDoSegundo(notas2017_2,semestre1,semestre2,NotasSemestre1e2)\n",
        "(NotasSemestre1e2,semestre1,semestre2) = selecionaDiscDoPrimeiroSemestreEumaDoSegundo(notas2018_1,semestre1,semestre2,NotasSemestre1e2)\n",
        "(NotasSemestre1e2,semestre1,semestre2) = selecionaDiscDoPrimeiroSemestreEumaDoSegundo(notas2018_2,semestre1,semestre2,NotasSemestre1e2)\n",
        "(NotasSemestre1e2,semestre1,semestre2) = selecionaDiscDoPrimeiroSemestreEumaDoSegundo(notas2019_1,semestre1,semestre2,NotasSemestre1e2)\n",
        "(NotasSemestre1e2,semestre1,semestre2) = selecionaDiscDoPrimeiroSemestreEumaDoSegundo(notas2019_2,semestre1,semestre2,NotasSemestre1e2)"
      ],
      "execution_count": 0,
      "outputs": []
    },
    {
      "cell_type": "code",
      "metadata": {
        "id": "brND_l5iBp0t",
        "colab_type": "code",
        "colab": {}
      },
      "source": [
        "NotasSemestre1e2"
      ],
      "execution_count": 0,
      "outputs": []
    },
    {
      "cell_type": "code",
      "metadata": {
        "id": "BHtV6IqVuv15",
        "colab_type": "code",
        "outputId": "c95376ae-5c25-4176-a3e8-7c095d0b18a8",
        "colab": {
          "base_uri": "https://localhost:8080/",
          "height": 34
        }
      },
      "source": [
        "semestre1.append(semestre2[0])\n",
        "semestre1.pop(-1)\n",
        "semestre1"
      ],
      "execution_count": 0,
      "outputs": [
        {
          "output_type": "execute_result",
          "data": {
            "text/plain": [
              "['ECT2101', 'ECT2102', 'ECT2103', 'ECT2104', 'ECT2105', 'ECT2106']"
            ]
          },
          "metadata": {
            "tags": []
          },
          "execution_count": 46
        }
      ]
    },
    {
      "cell_type": "code",
      "metadata": {
        "id": "fRamWoGhQAoM",
        "colab_type": "code",
        "colab": {}
      },
      "source": [
        "tab = tab[tab[\"nota\"] != '-']"
      ],
      "execution_count": 0,
      "outputs": []
    },
    {
      "cell_type": "code",
      "metadata": {
        "id": "gGDowg3YQ5Vz",
        "colab_type": "code",
        "colab": {}
      },
      "source": [
        "disciplinas = merge_notas2017[\"disciplina\"].unique()"
      ],
      "execution_count": 0,
      "outputs": []
    },
    {
      "cell_type": "code",
      "metadata": {
        "id": "XZlPMXtWu2MY",
        "colab_type": "code",
        "colab": {}
      },
      "source": [
        "def tabelaParaCadaMateriaDoSegundoSemestre(table,semestre1,semestre2):\n",
        "  tam = len(semestre2)\n",
        "  for i in range(tam):\n",
        "    semestre1.append(semestre2[i])\n",
        "    "
      ],
      "execution_count": 0,
      "outputs": []
    },
    {
      "cell_type": "code",
      "metadata": {
        "id": "vO59w4KQRZgY",
        "colab_type": "code",
        "colab": {}
      },
      "source": [
        "table[\"matricula\"] = 0\n"
      ],
      "execution_count": 0,
      "outputs": []
    },
    {
      "cell_type": "code",
      "metadata": {
        "id": "13Mnzr7FQtyj",
        "colab_type": "code",
        "colab": {}
      },
      "source": [
        "def criaColunasAnoNotaSituacaoPorDisciplina(table):\n",
        "  tam = len(disciplinas)\n",
        "  for i in range(tam):\n",
        "    table[\"semana \"+str(i)] = 0\n",
        "    table[disciplina[i] + \" ano \"] = 0\n",
        "    table[disciplina[i] + \" nota \"] = 0\n",
        "    table[disciplina[i] + \" situacao \"] = 0\n",
        "  return table"
      ],
      "execution_count": 0,
      "outputs": []
    },
    {
      "cell_type": "code",
      "metadata": {
        "id": "XgsGs-dWam57",
        "colab_type": "code",
        "colab": {}
      },
      "source": [
        "table = criaColunasAnoNotaSituacaoPorDisciplina(notas2017_1)\n",
        "table"
      ],
      "execution_count": 0,
      "outputs": []
    },
    {
      "cell_type": "markdown",
      "metadata": {
        "id": "46lDLcmZqF4a",
        "colab_type": "text"
      },
      "source": [
        "#Parte 2"
      ]
    },
    {
      "cell_type": "code",
      "metadata": {
        "id": "fQK2WgfanqYS",
        "colab_type": "code",
        "colab": {}
      },
      "source": [
        "#gerar os arquivos com as notas de cada disciplina\n",
        "cod_dis = [\"ECT2101\",\"ECT2102\", \"ECT2103\",\"ECT2104\", \"ECT2105\",\"ECT2106\"]\n",
        "\n",
        "#Para os semestres 2017.1 e 2017.2\n",
        "for cod in cod_dis :\n",
        "  csv20171 = classes[0][classes[0]['codigo']==cod]\n",
        "  csv20171.to_csv(r'20171'+cod+'.csv')\n",
        "\n",
        "csv20172 = classes[1][classes[1]['codigo']==\"ECT2201\"]\n",
        "csv20172.to_csv(r'20172ECT2201.csv')"
      ],
      "execution_count": 0,
      "outputs": []
    },
    {
      "cell_type": "code",
      "metadata": {
        "id": "IjMa_90Hnxcc",
        "colab_type": "code",
        "colab": {}
      },
      "source": [
        "# aqui tu vai colocar o nome de todos os aquivos \n",
        "notas_url_2017 = [\"20171ECT2101.csv\",\"20171ECT2102.csv\",\"20171ECT2103.csv\",\"20171ECT2104.csv\",\"20171ECT2105.csv\",\"20171ECT2106.csv\",\n",
        "                  \"20172ECT2201.csv\",\"20172ECT2202.csv\",\"20172ECT2203.csv\",\"20172ECT2204.csv\",\"20172ECT2205.csv\",\"20172ECT2206.csv\",\"20172ECT2207.csv\"]\n"
      ],
      "execution_count": 0,
      "outputs": []
    },
    {
      "cell_type": "code",
      "metadata": {
        "id": "02DLD6ktoj0M",
        "colab_type": "code",
        "colab": {}
      },
      "source": [
        "# Notas since 2017.1 until 2017.2\n",
        "notas_1 = pd.read_csv(notas_url_2017[0] )\n",
        "notas_2 = pd.read_csv(notas_url_2017[1] )\n",
        "notas_3 = pd.read_csv(notas_url_2017[2] )\n",
        "notas_4 = pd.read_csv(notas_url_2017[3] )\n",
        "\n",
        "notas2017 = [notas_1,notas_2,notas_3,notas_4]"
      ],
      "execution_count": 0,
      "outputs": []
    },
    {
      "cell_type": "code",
      "metadata": {
        "id": "GdZZuiqWopUb",
        "colab_type": "code",
        "colab": {}
      },
      "source": [
        "# Concatenating all notas\n",
        "merge_notas2017 = notas2017[0]\n",
        "for i in range(1,13):\n",
        "  merge_notas2017 = pd.concat([merge_notas2017, notas2017[i]], ignore_index=True)\n",
        "merge_notas2017"
      ],
      "execution_count": 0,
      "outputs": []
    },
    {
      "cell_type": "code",
      "metadata": {
        "id": "a9F2k57lo2OC",
        "colab_type": "code",
        "colab": {}
      },
      "source": [
        "disciplinas = merge_notas2017[\"disciplina\"].unique()\n",
        "colunas      = [\"matricula\"]\n",
        "tabela2017   = pd.DataFrame(columns=colunas)\n",
        "\n",
        "for i in disciplinas:\n",
        "  notasTurma = merge_notas2017.loc[merge_notas2017[\"disciplina\"].str.contains(i, regex=False),[\"matricula\",\"disciplina\",\"ano\",\"nota\",\"situacao\"]]\n",
        "  notasTurma = notasTurma.sort_values(\"matricula\")\n",
        "  tabela2017 = pd.merge(notasTurma,tabela2017,on=['matricula'], how=\"outer\") \n",
        "\n",
        "\n",
        "tabela2017.columns = ['matricula', \n",
        "                 disciplinas[12],disciplinas[12]+\" ano \",disciplinas[12]+\" nota \",disciplinas[12]+\" situacao \",\n",
        "                 disciplinas[11],disciplinas[11]+\" ano \",disciplinas[11]+\" nota \",disciplinas[11]+\" situacao \",\n",
        "                 disciplinas[10],disciplinas[10]+\" ano \",disciplinas[10]+\" nota \",disciplinas[10]+\" situacao \",\n",
        "                 disciplinas[9], disciplinas[9] +\" ano \",disciplinas[9] +\" nota \",disciplinas[9] +\" situacao \",\n",
        "                 disciplinas[8], disciplinas[8] +\" ano \",disciplinas[8] +\" nota \",disciplinas[8] +\" situacao \",     \n",
        "                 disciplinas[7], disciplinas[7] +\" ano \",disciplinas[7] +\" nota \",disciplinas[7] +\" situacao \",     \n",
        "                 disciplinas[6], disciplinas[6] +\" ano \",disciplinas[6] +\" nota \",disciplinas[6] +\" situacao \",\n",
        "                 disciplinas[5], disciplinas[5] +\" ano \",disciplinas[5] +\" nota \",disciplinas[5] +\" situacao \", \n",
        "                 disciplinas[4] ,disciplinas[4] +\" ano \",disciplinas[4] +\" nota \",disciplinas[4] +\" situacao \",\n",
        "                 disciplinas[3], disciplinas[3] +\" ano \",disciplinas[3] +\" nota \",disciplinas[3] +\" situacao \",\n",
        "                 disciplinas[2], disciplinas[2] +\" ano \",disciplinas[2] +\" nota \",disciplinas[2] +\" situacao \",\n",
        "                 disciplinas[1], disciplinas[1] +\" ano \",disciplinas[1] +\" nota \",disciplinas[1] +\" situacao \",\n",
        "                 disciplinas[0], disciplinas[0] +\" ano \",disciplinas[0] +\" nota \",disciplinas[0] +\" situacao \"]\n",
        "\n",
        "\n",
        "tabela2017 = tabela2017.drop_duplicates()\n",
        "tabela2017 = tabela2017.sort_values('matricula')\n",
        "tabela2017.head(2)"
      ],
      "execution_count": 0,
      "outputs": []
    },
    {
      "cell_type": "code",
      "metadata": {
        "id": "wRUS2mtNo6hj",
        "colab_type": "code",
        "colab": {}
      },
      "source": [
        "tabela2017 = tabela2017.replace(np.nan, \"-\")"
      ],
      "execution_count": 0,
      "outputs": []
    },
    {
      "cell_type": "markdown",
      "metadata": {
        "id": "Rwb7LC2HC9qP",
        "colab_type": "text"
      },
      "source": [
        "# Implementação de funções pegar as matérias do segundo semestre com base nas do primeiro"
      ]
    },
    {
      "cell_type": "code",
      "metadata": {
        "id": "bam8TsU1CZBi",
        "colab_type": "code",
        "colab": {}
      },
      "source": [
        "codigos = [\"ECT2201\",\"ECT2202\",\"ECT2203\",\"ECT2204\",\"ECT2205\",\"ECT2206\",\"ECT2207\"]"
      ],
      "execution_count": 0,
      "outputs": []
    },
    {
      "cell_type": "code",
      "metadata": {
        "id": "kn6hKWgIqM02",
        "colab_type": "code",
        "colab": {}
      },
      "source": [
        "disciplinas = [\"\"]"
      ],
      "execution_count": 0,
      "outputs": []
    },
    {
      "cell_type": "code",
      "metadata": {
        "id": "CRa-Mw3lB-nK",
        "colab_type": "code",
        "colab": {}
      },
      "source": [
        "'''for i in range(tam):\n",
        "  csv = classes[i][classes[i][\"codigo\"]==\"ECT2203\"]\n",
        "  csv.to_csv(r'lop'+str(i+1)+'.csv')"
      ],
      "execution_count": 0,
      "outputs": []
    },
    {
      "cell_type": "code",
      "metadata": {
        "colab_type": "code",
        "id": "jzoiKBOgE2El",
        "colab": {}
      },
      "source": [
        "# aqui tu vai colocar o nome de todos os aquivos que tu gerou\n",
        "notas_Lop = [\"lop1.csv\",\"lop2.csv\",\"lop3.csv\",\"lop4.csv\", \"lop5.csv\"]"
      ],
      "execution_count": 0,
      "outputs": []
    },
    {
      "cell_type": "code",
      "metadata": {
        "colab_type": "code",
        "id": "yYOeuuwFE2E1",
        "colab": {}
      },
      "source": [
        "# Notas since 2017.1 until 2017.2\n",
        "notas_1 = pd.read_csv(notas_Lop [0] )\n",
        "notas_2 = pd.read_csv(notas_Lop [1] )\n",
        "notas_3 = pd.read_csv(notas_Lop [2] )\n",
        "notas_4 = pd.read_csv(notas_Lop [3] )\n",
        "notas_5 = pd.read_csv(notas_Lop [4] )\n",
        "notas_6 = pd.read_csv(notas_Lop [5] )\n",
        "\n",
        "\n",
        "# Setting priginal data into one vector due to easier manipulation, aqui tu vai adicionar todas a variaveis\n",
        "notas =[notas_1, notas_2,notas_3, notas_4,notas_5 ]\n"
      ],
      "execution_count": 0,
      "outputs": []
    },
    {
      "cell_type": "code",
      "metadata": {
        "id": "F1QclJQB22ec",
        "colab_type": "code",
        "colab": {}
      },
      "source": [
        "for i in range(5):\n",
        "  arq =pd.DataFrame()\n",
        "  for c in notas[i][\"turma\"].unique():\n",
        "    a =  notas[i].loc[notas[i][\"turma\"]== c][[\"matricula\",\"situacao\",\"ano\",\"turma\"]]\n",
        "    arq = arq.append(a, sort=False, ignore_index=True)\n",
        "    csv_situacao = arq\n",
        "   \n",
        "  csv_situacao.to_csv(r'lopSituacao'+str(i+1)+'.csv')"
      ],
      "execution_count": 0,
      "outputs": []
    }
  ]
}