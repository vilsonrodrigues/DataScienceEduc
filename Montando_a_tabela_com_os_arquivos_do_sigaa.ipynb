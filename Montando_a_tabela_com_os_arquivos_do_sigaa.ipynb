{
  "nbformat": 4,
  "nbformat_minor": 0,
  "metadata": {
    "colab": {
      "name": "Montando a tabela com os arquivos do sigaa.ipynb",
      "provenance": [],
      "collapsed_sections": [],
      "include_colab_link": true
    },
    "kernelspec": {
      "name": "python3",
      "display_name": "Python 3"
    }
  },
  "cells": [
    {
      "cell_type": "markdown",
      "metadata": {
        "id": "view-in-github",
        "colab_type": "text"
      },
      "source": [
        "<a href=\"https://colab.research.google.com/github/vilsonrodrigues/DataScienceEduc/blob/master/Montando_a_tabela_com_os_arquivos_do_sigaa.ipynb\" target=\"_parent\"><img src=\"https://colab.research.google.com/assets/colab-badge.svg\" alt=\"Open In Colab\"/></a>"
      ]
    },
    {
      "cell_type": "markdown",
      "metadata": {
        "id": "0WR_Nm3Y_AL1",
        "colab_type": "text"
      },
      "source": [
        "Arquivos vindos do sigaa da ufrn para transformar em um arquivo csv com os seguintes dados : matricula, situação,ano e turma"
      ]
    },
    {
      "cell_type": "markdown",
      "metadata": {
        "id": "JPFTddWpDMFW",
        "colab_type": "text"
      },
      "source": [
        "# Pré-processamento"
      ]
    },
    {
      "cell_type": "markdown",
      "metadata": {
        "id": "rx9Nf_vG7ZFu",
        "colab_type": "text"
      },
      "source": [
        "Importando bibliotecas"
      ]
    },
    {
      "cell_type": "code",
      "metadata": {
        "id": "fk7U05-uf72Q",
        "colab_type": "code",
        "colab": {}
      },
      "source": [
        "import pandas as pd\n",
        "import numpy as np"
      ],
      "execution_count": 0,
      "outputs": []
    },
    {
      "cell_type": "markdown",
      "metadata": {
        "id": "akV3jkQN7e0J",
        "colab_type": "text"
      },
      "source": [
        "Lendo as url's das notas"
      ]
    },
    {
      "cell_type": "code",
      "metadata": {
        "id": "FkAvW9zOgFJI",
        "colab_type": "code",
        "colab": {}
      },
      "source": [
        "notas_url = [\"https://github.com/repitta/CienciaDeDadosEducacionais/raw/master/dadosUFRN/notas_discentes_2017.2.csv\",\n",
        "            \"https://github.com/repitta/CienciaDeDadosEducacionais/raw/master/dadosUFRN/notas_discentes_2018.1.csv\",\n",
        "            \"https://github.com/repitta/CienciaDeDadosEducacionais/raw/master/dadosUFRN/notas_discentes_2018.2.csv\",\n",
        "            \"https://github.com/repitta/CienciaDeDadosEducacionais/raw/master/dadosUFRN/notas_discentes_2019.1.csv\",\n",
        "            \"https://github.com/repitta/CienciaDeDadosEducacionais/raw/master/dadosUFRN/notas_discentes_2019.2.csv\"\n",
        "            ]"
      ],
      "execution_count": 0,
      "outputs": []
    },
    {
      "cell_type": "markdown",
      "metadata": {
        "id": "sHOn-kE57l7c",
        "colab_type": "text"
      },
      "source": [
        "Lendo como CSV"
      ]
    },
    {
      "cell_type": "code",
      "metadata": {
        "id": "cMHVqrmxlsyy",
        "colab_type": "code",
        "colab": {}
      },
      "source": [
        "notas2017_2 = pd.read_csv(notas_url[0], sep=';', encoding = \"ISO-8859-1\" )\n",
        "notas2018_1 = pd.read_csv(notas_url[1], sep=';', encoding = \"ISO-8859-1\" )\n",
        "notas2018_2 = pd.read_csv(notas_url[2], sep=';', encoding = \"ISO-8859-1\" )\n",
        "notas2019_1 = pd.read_csv(notas_url[3], sep=',', encoding = \"ISO-8859-1\" )\n",
        "notas2019_2 = pd.read_csv(notas_url[4], sep=',', encoding = \"ISO-8859-1\" )"
      ],
      "execution_count": 0,
      "outputs": []
    },
    {
      "cell_type": "markdown",
      "metadata": {
        "id": "GLxD6PDq7_Zp",
        "colab_type": "text"
      },
      "source": [
        "Colocando os arquivos dentro de uma lista"
      ]
    },
    {
      "cell_type": "code",
      "metadata": {
        "id": "V6cen5FlmkGb",
        "colab_type": "code",
        "colab": {}
      },
      "source": [
        "classes =[notas2017_2,notas2018_1, notas2018_2, notas2019_1, notas2019_2\n",
        "         ]"
      ],
      "execution_count": 0,
      "outputs": []
    },
    {
      "cell_type": "markdown",
      "metadata": {
        "id": "URJ4ajU98qfz",
        "colab_type": "text"
      },
      "source": [
        "Tamanho da lista de classes"
      ]
    },
    {
      "cell_type": "code",
      "metadata": {
        "id": "T3fiW8Kn8qCR",
        "colab_type": "code",
        "colab": {}
      },
      "source": [
        "tam = len(classes)"
      ],
      "execution_count": 0,
      "outputs": []
    },
    {
      "cell_type": "markdown",
      "metadata": {
        "id": "ykzfkdBb8Eh2",
        "colab_type": "text"
      },
      "source": [
        "Adicionando os anos a cada semestre"
      ]
    },
    {
      "cell_type": "code",
      "metadata": {
        "id": "v4hl01kAy57J",
        "colab_type": "code",
        "colab": {}
      },
      "source": [
        "year = 2017\n",
        "for i in range(tam):\n",
        "  classes[i][\"ano\"] = year\n",
        "  if i%2==0:\n",
        "    year += 1\n",
        "  classes[i].rename(columns={\"nome\": \"disciplina\"}, inplace=True)"
      ],
      "execution_count": 0,
      "outputs": []
    },
    {
      "cell_type": "markdown",
      "metadata": {
        "id": "Kd-L2Uga8_4G",
        "colab_type": "text"
      },
      "source": [
        "Conversão dos tipos"
      ]
    },
    {
      "cell_type": "code",
      "metadata": {
        "id": "haEZ1RyAm-Wx",
        "colab_type": "code",
        "colab": {}
      },
      "source": [
        "for i in range(tam):\n",
        "  classes[i][\"periodo\"]    = classes[i][\"periodo\"].astype(str)\n",
        "  classes[i][\"codigo\"]     = classes[i][\"codigo\"].astype(str)\n",
        "  classes[i][\"disciplina\"] = classes[i][\"disciplina\"].astype(str)\n",
        "  classes[i][\"turma\"]      = classes[i][\"turma\"].astype(str)\n",
        "  classes[i][\"siape\"]      = classes[i][\"siape\"].astype(str)\n",
        "  classes[i][\"horario\"]    = classes[i][\"horario\"].astype(str)\n",
        "  classes[i][\"matricula\"]  = classes[i][\"matricula\"].astype(int)\n",
        "  classes[i][\"situacao\"]   = classes[i][\"situacao\"].astype(str)\n",
        "  classes[i][\"ano\"]        = classes[i][\"ano\"].astype(str)"
      ],
      "execution_count": 0,
      "outputs": []
    },
    {
      "cell_type": "markdown",
      "metadata": {
        "id": "KeZ-Dboe9wr7",
        "colab_type": "text"
      },
      "source": [
        "Filtro para pegar apenas os alunos que conseguiram se matricular na disciplina\n",
        "\n",
        "Concatena o período com o ano \n",
        "\n",
        "passa o ano para float"
      ]
    },
    {
      "cell_type": "code",
      "metadata": {
        "id": "VYKMz4LV9wPz",
        "colab_type": "code",
        "colab": {}
      },
      "source": [
        "for i in range(tam):\n",
        "  classes[i] = classes[i][ (classes[i][\"situacao\"] != \"EXCLUIDA\") & \n",
        "                           (classes[i][\"situacao\"] != \"INDEFERIDO\") & \n",
        "                           (classes[i][\"situacao\"] != \"CANCELADO\") & \n",
        "                           (classes[i][\"situacao\"] != \"DESISTENCIA\") & \n",
        "                           (classes[i][\"situacao\"] != \"TRANCADO\")\n",
        "                         ]\n",
        "  \n",
        "  classes[i][\"ano\"] = classes[i][\"ano\"] + \".\" + classes[i][\"periodo\"]\n",
        "  classes[i][\"ano\"] = classes[i][\"ano\"].astype(float)"
      ],
      "execution_count": 0,
      "outputs": []
    },
    {
      "cell_type": "markdown",
      "metadata": {
        "id": "Rwb7LC2HC9qP",
        "colab_type": "text"
      },
      "source": [
        "# Implementação de funções pegar as matérias do segundo semestre com base nas do primeiro"
      ]
    },
    {
      "cell_type": "code",
      "metadata": {
        "id": "bam8TsU1CZBi",
        "colab_type": "code",
        "colab": {}
      },
      "source": [
        "codigos = [\"ECT2201\",\"ECT2202\",\"ECT2203\",\"ECT2204\",\"ECT2205\",\"ECT2206\",\"ECT2207\"]"
      ],
      "execution_count": 0,
      "outputs": []
    },
    {
      "cell_type": "code",
      "metadata": {
        "id": "kn6hKWgIqM02",
        "colab_type": "code",
        "colab": {}
      },
      "source": [
        "disciplinas = [\"\"]"
      ],
      "execution_count": 0,
      "outputs": []
    },
    {
      "cell_type": "code",
      "metadata": {
        "id": "lPzzk1XpqI7V",
        "colab_type": "code",
        "outputId": "6567ec51-cf0d-41e2-f6a9-bf32874b258a",
        "colab": {
          "base_uri": "https://localhost:8080/",
          "height": 34
        }
      },
      "source": [
        "disciplinas[0]"
      ],
      "execution_count": 0,
      "outputs": [
        {
          "output_type": "execute_result",
          "data": {
            "text/plain": [
              "'ECT2201'"
            ]
          },
          "metadata": {
            "tags": []
          },
          "execution_count": 2
        }
      ]
    },
    {
      "cell_type": "code",
      "metadata": {
        "id": "CRa-Mw3lB-nK",
        "colab_type": "code",
        "colab": {}
      },
      "source": [
        "for i in range(tam):\n",
        "  csv = classes[i][classes[i][\"codigo\"]==\"ECT2203\"]\n",
        "  csv.to_csv(r'lop'+str(i+1)+'.csv')"
      ],
      "execution_count": 0,
      "outputs": []
    },
    {
      "cell_type": "code",
      "metadata": {
        "colab_type": "code",
        "id": "jzoiKBOgE2El",
        "colab": {}
      },
      "source": [
        "# aqui tu vai colocar o nome de todos os aquivos que tu gerou\n",
        "notas_Lop = [\"lop1.csv\",\"lop2.csv\",\"lop3.csv\",\"lop4.csv\", \"lop5.csv\"]"
      ],
      "execution_count": 0,
      "outputs": []
    },
    {
      "cell_type": "code",
      "metadata": {
        "colab_type": "code",
        "id": "yYOeuuwFE2E1",
        "colab": {}
      },
      "source": [
        "# Notas since 2017.1 until 2017.2\n",
        "notas_1 = pd.read_csv(notas_Lop [0] )\n",
        "notas_2 = pd.read_csv(notas_Lop [1] )\n",
        "notas_3 = pd.read_csv(notas_Lop [2] )\n",
        "notas_4 = pd.read_csv(notas_Lop [3] )\n",
        "notas_5 = pd.read_csv(notas_Lop [4] )\n",
        "\n",
        "\n",
        "# Setting priginal data into one vector due to easier manipulation, aqui tu vai adicionar todas a variaveis\n",
        "notas =[notas_1, notas_2,notas_3, notas_4,notas_5 ]\n"
      ],
      "execution_count": 0,
      "outputs": []
    },
    {
      "cell_type": "code",
      "metadata": {
        "id": "F1QclJQB22ec",
        "colab_type": "code",
        "colab": {}
      },
      "source": [
        "for i in range(5):\n",
        "  arq =pd.DataFrame()\n",
        "  for c in notas[i][\"turma\"].unique():\n",
        "    a =  notas[i].loc[notas[i][\"turma\"]== c][[\"matricula\",\"situacao\",\"ano\",\"turma\"]]\n",
        "    arq = arq.append(a, sort=False, ignore_index=True)\n",
        "    csv_situacao = arq\n",
        "   \n",
        "  csv_situacao.to_csv(r'lopSituacao'+str(i+1)+'.csv')"
      ],
      "execution_count": 0,
      "outputs": []
    }
  ]
}